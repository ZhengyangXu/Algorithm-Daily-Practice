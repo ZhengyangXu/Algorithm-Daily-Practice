{
 "metadata": {
  "language_info": {
   "codemirror_mode": {
    "name": "ipython",
    "version": 3
   },
   "file_extension": ".py",
   "mimetype": "text/x-python",
   "name": "python",
   "nbconvert_exporter": "python",
   "pygments_lexer": "ipython3",
   "version": "3.7.7-final"
  },
  "orig_nbformat": 2,
  "kernelspec": {
   "name": "python3",
   "display_name": "Python 3"
  }
 },
 "nbformat": 4,
 "nbformat_minor": 2,
 "cells": [
  {
   "cell_type": "code",
   "execution_count": 1,
   "metadata": {},
   "outputs": [],
   "source": [
    "#\n",
    "# @lc app=leetcode.cn id=391 lang=python3\n",
    "#\n",
    "# [391] 完美矩形\n",
    "#\n",
    "# https://leetcode-cn.com/problems/perfect-rectangle/description/\n",
    "#\n",
    "# algorithms\n",
    "# Hard (28.94%)\n",
    "# Likes:    59\n",
    "# Dislikes: 0\n",
    "# Total Accepted:    2.2K\n",
    "# Total Submissions: 7.6K\n",
    "# Testcase Example:  '[[1,1,3,3],[3,1,4,2],[3,2,4,4],[1,3,2,4],[2,3,3,4]]'\n",
    "#\n",
    "# 我们有 N 个与坐标轴对齐的矩形, 其中 N > 0, 判断它们是否能精确地覆盖一个矩形区域。\n",
    "# \n",
    "# 每个矩形用左下角的点和右上角的点的坐标来表示。例如， 一个单位正方形可以表示为 [1,1,2,2]。 ( 左下角的点的坐标为 (1, 1)\n",
    "# 以及右上角的点的坐标为 (2, 2) )。\n",
    "# \n",
    "# \n",
    "# \n",
    "# 示例 1:\n",
    "# \n",
    "# rectangles = [\n",
    "# ⁠ [1,1,3,3],\n",
    "# ⁠ [3,1,4,2],\n",
    "# ⁠ [3,2,4,4],\n",
    "# ⁠ [1,3,2,4],\n",
    "# ⁠ [2,3,3,4]\n",
    "# ]\n",
    "# \n",
    "# 返回 true。5个矩形一起可以精确地覆盖一个矩形区域。\n",
    "# \n",
    "# \n",
    "# \n",
    "# \n",
    "# \n",
    "# \n",
    "# 示例 2:\n",
    "# \n",
    "# rectangles = [\n",
    "# ⁠ [1,1,2,3],\n",
    "# ⁠ [1,3,2,4],\n",
    "# ⁠ [3,1,4,2],\n",
    "# ⁠ [3,2,4,4]\n",
    "# ]\n",
    "# \n",
    "# 返回 false。两个矩形之间有间隔，无法覆盖成一个矩形。\n",
    "# \n",
    "# \n",
    "# \n",
    "# \n",
    "# \n",
    "# \n",
    "# 示例 3:\n",
    "# \n",
    "# rectangles = [\n",
    "# ⁠ [1,1,3,3],\n",
    "# ⁠ [3,1,4,2],\n",
    "# ⁠ [1,3,2,4],\n",
    "# ⁠ [3,2,4,4]\n",
    "# ]\n",
    "# \n",
    "# 返回 false。图形顶端留有间隔，无法覆盖成一个矩形。\n",
    "# \n",
    "# \n",
    "# \n",
    "# \n",
    "# \n",
    "# \n",
    "# 示例 4:\n",
    "# \n",
    "# rectangles = [\n",
    "# ⁠ [1,1,3,3],\n",
    "# ⁠ [3,1,4,2],\n",
    "# ⁠ [1,3,2,4],\n",
    "# ⁠ [2,2,4,4]\n",
    "# ]\n",
    "# \n",
    "# 返回 false。因为中间有相交区域，虽然形成了矩形，但不是精确覆盖。\n",
    "# \n",
    "# \n",
    "#\n",
    "\n",
    "# @lc code=start\n",
    "def isRectangleCover(rectangles):\n",
    "    X1,Y1,X2,Y2 = float('inf'),float('inf'),-float('inf'),-float('inf')\n",
    "\n",
    "    true_area = 0\n",
    "    points = set()\n",
    "    for x1,y1,x2,y2 in rectangles:\n",
    "        X1,Y1 = min(x1,X1),min(y1,Y1)\n",
    "        X2,Y2 = max(x2,X2),min(y2,Y2)\n",
    "\n",
    "        true_area += (x2-x1) * (y2 - y1)\n",
    "        for p in [(x1,y1),(x2,y2),(x1,y2),(x2,y1)]:\n",
    "            if p not in points:\n",
    "                points.add(p)\n",
    "            else:\n",
    "                points.remove(p)\n",
    "\n",
    "    exptected_area = (X2-X1) * (Y2 - Y1)\n",
    "    if true_area != exptected_area:\n",
    "        return False  \n",
    "    if len(points) != 4:\n",
    "        return False  \n",
    "    \n",
    "    for point in points:\n",
    "        if point not in [(X1,Y1),(X2,Y2),(X1,Y2),(X2,Y1)]:\n",
    "            return False  \n",
    "    \n",
    "    return True \n",
    "    \n"
   ]
  },
  {
   "cell_type": "code",
   "execution_count": 3,
   "metadata": {},
   "outputs": [],
   "source": [
    "rectangles = [[1,1,2,3],[1,3,2,4],[3,1,4,2],[3,2,4,4]]"
   ]
  },
  {
   "cell_type": "code",
   "execution_count": 4,
   "metadata": {},
   "outputs": [
    {
     "output_type": "execute_result",
     "data": {
      "text/plain": [
       "False"
      ]
     },
     "metadata": {},
     "execution_count": 4
    }
   ],
   "source": [
    "isRectangleCover(rectangles)"
   ]
  },
  {
   "cell_type": "code",
   "execution_count": 112,
   "metadata": {},
   "outputs": [],
   "source": [
    "\n",
    "\n",
    "def isCousins(root, x):\n",
    "    if not root:\n",
    "        return False \n",
    "    d,p = -1,-1\n",
    "    def dfs(root,depth,parent,target):\n",
    "        if not root:\n",
    "            return False \n",
    "        \n",
    "\n",
    "\n",
    "        if root.val == target:\n",
    "            print(depth,parent)\n",
    "            d,p = depth,parent\n",
    "                    \n",
    "        dfs(root.left,depth+1,root.val,target)\n",
    "        dfs(root.right,depth+1,root.val,target)\n",
    "        return (depth,parent)\n",
    "                \n",
    "\n",
    "        \n",
    "    \n",
    "    \n",
    "    \n",
    "    return dfs(root,0,0,x)\n",
    "   \n",
    "\n",
    "        \n",
    "     "
   ]
  },
  {
   "cell_type": "code",
   "execution_count": 113,
   "metadata": {},
   "outputs": [],
   "source": [
    "node1 = TreeNode(1)\n",
    "node2 = TreeNode(2)\n",
    "node3 = TreeNode(3)\n",
    "node4 = TreeNode(4)\n",
    "node5 = TreeNode(5)\n",
    "node6 = TreeNode(6)\n",
    "node7 = TreeNode(7)\n",
    "\n",
    "node1.left = node2 \n",
    "node1.right = node3  \n",
    "node2.right = node4 \n",
    "node3.right = node5"
   ]
  },
  {
   "cell_type": "code",
   "execution_count": 114,
   "metadata": {},
   "outputs": [
    {
     "output_type": "stream",
     "name": "stdout",
     "text": [
      "2 3\n"
     ]
    },
    {
     "output_type": "execute_result",
     "data": {
      "text/plain": [
       "(0, 0)"
      ]
     },
     "metadata": {},
     "execution_count": 114
    }
   ],
   "source": [
    "isCousins(node1,5)"
   ]
  },
  {
   "cell_type": "code",
   "execution_count": 94,
   "metadata": {},
   "outputs": [],
   "source": [
    "class TreeNode:\n",
    "    def __init__(self, val=0, left=None, right=None):\n",
    "        self.val = val\n",
    "        self.left = left\n",
    "        self.right = right\n"
   ]
  },
  {
   "cell_type": "code",
   "execution_count": 115,
   "metadata": {},
   "outputs": [],
   "source": [
    "dic = {8:(1,3),6:(1,5)}"
   ]
  },
  {
   "cell_type": "code",
   "execution_count": 122,
   "metadata": {},
   "outputs": [
    {
     "output_type": "execute_result",
     "data": {
      "text/plain": [
       "[(1, 3), (1, 5)]"
      ]
     },
     "metadata": {},
     "execution_count": 122
    }
   ],
   "source": [
    "list(dic.values())"
   ]
  },
  {
   "cell_type": "code",
   "execution_count": null,
   "metadata": {},
   "outputs": [],
   "source": []
  }
 ]
}