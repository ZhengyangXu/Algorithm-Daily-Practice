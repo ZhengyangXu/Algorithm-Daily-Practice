{
 "cells": [
  {
   "cell_type": "markdown",
   "metadata": {},
   "source": [
    " ###### [98] 验证二叉搜索树"
   ]
  },
  {
   "cell_type": "code",
   "execution_count": 3,
   "metadata": {},
   "outputs": [],
   "source": [
    "class TreeNode:\n",
    "    def __init__(self, val=0, left=None, right=None):\n",
    "        self.val = val\n",
    "        self.left = left\n",
    "        self.right = right\n"
   ]
  },
  {
   "cell_type": "code",
   "execution_count": 10,
   "metadata": {},
   "outputs": [],
   "source": [
    "def isValidBST(root):\n",
    "    def isValid(root, lower=-float('inf'), upper=float('inf')):\n",
    "        if not root:\n",
    "            return True\n",
    "\n",
    "        if root.val <= lower or root.val >= upper:\n",
    "            print(\"root为%s,lower为%s,upper为%s\" % (root.val,lower,upper))\n",
    "            return False\n",
    "\n",
    "        if not isValid(root.left, lower, root.val):\n",
    "            print(\"root为%s,lower为%s,upper为%s\" % (root.val,lower,upper))\n",
    "            return False\n",
    "\n",
    "        if not isValid(root.right, root.val, upper):\n",
    "            print(\"root为%s,lower为%s,upper为%s\" % (root.val, lower, upper))\n",
    "            return False\n",
    "\n",
    "        return True\n",
    "\n",
    "    return isValid(root)"
   ]
  },
  {
   "cell_type": "code",
   "execution_count": 4,
   "metadata": {},
   "outputs": [],
   "source": [
    "node6 = TreeNode(6)\n",
    "node3 = TreeNode(3)\n",
    "node7 = TreeNode(7)\n",
    "node2 = TreeNode(2)\n",
    "node4 = TreeNode(4)\n",
    "node1 = TreeNode(1)\n",
    "node9 = TreeNode(9)"
   ]
  },
  {
   "cell_type": "code",
   "execution_count": 6,
   "metadata": {},
   "outputs": [],
   "source": [
    "node6.left=node3 \n",
    "node6.right=node7\n",
    "node3.left=node2\n",
    "node3.right=node4\n",
    "node2.left=node1 \n",
    "node2.right=node9"
   ]
  },
  {
   "cell_type": "code",
   "execution_count": 11,
   "metadata": {},
   "outputs": [
    {
     "name": "stdout",
     "output_type": "stream",
     "text": [
      "root为9,lower为2,upper为3\n",
      "root为2,lower为-inf,upper为3\n",
      "root为3,lower为-inf,upper为6\n",
      "root为6,lower为-inf,upper为inf\n"
     ]
    },
    {
     "data": {
      "text/plain": [
       "False"
      ]
     },
     "execution_count": 11,
     "metadata": {},
     "output_type": "execute_result"
    }
   ],
   "source": [
    "isValidBST(node6)"
   ]
  },
  {
   "cell_type": "code",
   "execution_count": null,
   "metadata": {},
   "outputs": [],
   "source": []
  },
  {
   "cell_type": "code",
   "execution_count": 6,
   "metadata": {},
   "outputs": [],
   "source": [
    "def recoverTree(root):\n",
    "    prev = TreeNode(-float('inf'))\n",
    "    stack = []\n",
    "    cnt = 0\n",
    "    while root or stack:\n",
    "        while root:\n",
    "            stack.append(root)\n",
    "            root = root.left\n",
    "        root = stack.pop()\n",
    "\n",
    "        if cnt == 0 and root.val < prev.val:\n",
    "            first = prev\n",
    "            cnt += 1\n",
    "            print((\"cnt == 0, root = %s, prev = %s\") % (root.val, prev.val))\n",
    "        if cnt == 1 and root.val < prev.val:\n",
    "            print((\"cnt == 1, root = %s, prev = %s\") % (root.val, prev.val ))\n",
    "            second = root\n",
    "\n",
    "        prev = root\n",
    "\n",
    "        root = root.right\n",
    "    first.val, second.val = second.val, first.val"
   ]
  },
  {
   "cell_type": "code",
   "execution_count": 7,
   "metadata": {},
   "outputs": [],
   "source": [
    "node3= TreeNode(3)\n",
    "node2 = TreeNode(2)\n",
    "node1 = TreeNode(1)\n",
    "node1.left = node3 \n",
    "node3.right = node2 "
   ]
  },
  {
   "cell_type": "code",
   "execution_count": 8,
   "metadata": {},
   "outputs": [
    {
     "name": "stdout",
     "output_type": "stream",
     "text": [
      "cnt == 0, root = 2, prev = 3\n",
      "cnt == 1, root = 2, prev = 3\n",
      "cnt == 1, root = 1, prev = 2\n"
     ]
    }
   ],
   "source": [
    "recoverTree(node1)"
   ]
  },
  {
   "cell_type": "markdown",
   "metadata": {},
   "source": [
    "###### [417] 太平洋大西洋水流问题"
   ]
  },
  {
   "cell_type": "code",
   "execution_count": 20,
   "metadata": {},
   "outputs": [],
   "source": [
    "def pacificAtlantic(heights):\n",
    "    ##深度优先\n",
    "    m,n = len(heights),len(heights[0])\n",
    "    \n",
    "    \n",
    "    def dfs(x,y,visited):\n",
    "        if (x,y) in visited:\n",
    "            return \n",
    "        visited.add((x,y)) \n",
    "        for i,j in [(x+1,y),(x-1,y),(x,y+1),(x,y-1)]:\n",
    "            if 0 <= i < m and 0 <= j < n and heights[i][j] >= heights[x][y]:\n",
    "                dfs(i,j,visited)\n",
    "        return visited \n",
    "                \n",
    "    pacific = [(0,i) for i in range(n)] + [(i,0) for i in range(1,m)]\n",
    "    atlantic = [(m-1,j) for j in range(n)] + [(j,n-1) for j in range(m-1)]\n",
    "    \n",
    "    return list(map(list,dfs(pacific) & dfs(atlantic)))"
   ]
  },
  {
   "cell_type": "code",
   "execution_count": 10,
   "metadata": {},
   "outputs": [],
   "source": [
    "heights = [[1, 2, 2, 3, 5], [3, 2, 3, 4, 4], [2, 4, 5, 3, 1], [6, 7, 1, 4, 5],\n",
    "           [5, 1, 1, 2, 4]]\n"
   ]
  },
  {
   "cell_type": "code",
   "execution_count": 11,
   "metadata": {},
   "outputs": [],
   "source": [
    "m, n = len(heights), len(heights[0])\n"
   ]
  },
  {
   "cell_type": "code",
   "execution_count": 12,
   "metadata": {},
   "outputs": [],
   "source": [
    "pacific = [(0,i) for i in range(n)] + [(i,0) for i in range(1,m)]\n",
    "atlantic = [(m-1,j) for j in range(n)] + [(j,n-1) for j in range(m-1)]"
   ]
  },
  {
   "cell_type": "code",
   "execution_count": 13,
   "metadata": {},
   "outputs": [
    {
     "data": {
      "text/plain": [
       "[(0, 0), (0, 1), (0, 2), (0, 3), (0, 4), (1, 0), (2, 0), (3, 0), (4, 0)]"
      ]
     },
     "execution_count": 13,
     "metadata": {},
     "output_type": "execute_result"
    }
   ],
   "source": [
    "pacific"
   ]
  },
  {
   "cell_type": "code",
   "execution_count": 14,
   "metadata": {},
   "outputs": [
    {
     "data": {
      "text/plain": [
       "[(4, 0), (4, 1), (4, 2), (4, 3), (4, 4), (0, 4), (1, 4), (2, 4), (3, 4)]"
      ]
     },
     "execution_count": 14,
     "metadata": {},
     "output_type": "execute_result"
    }
   ],
   "source": [
    "atlantic"
   ]
  },
  {
   "cell_type": "code",
   "execution_count": 18,
   "metadata": {},
   "outputs": [],
   "source": [
    "def dfs(x,y,visited):\n",
    "    if (x,y) in visited:\n",
    "        return \n",
    "    visited.add((x,y)) \n",
    "    for i,j in [(x+1,y),(x-1,y),(x,y+1),(x,y-1)]:\n",
    "        if 0 <= i < m and 0 <= j < n and heights[i][j] >= heights[x][y]:\n",
    "            dfs(i,j,visited)\n",
    "    return visited "
   ]
  },
  {
   "cell_type": "code",
   "execution_count": 22,
   "metadata": {},
   "outputs": [],
   "source": [
    "\n",
    "pvisited = set() \n",
    "avisited= set() "
   ]
  },
  {
   "cell_type": "code",
   "execution_count": 23,
   "metadata": {},
   "outputs": [],
   "source": [
    "for x,y in pacific:\n",
    "    dfs(x,y,pvisited)"
   ]
  },
  {
   "cell_type": "code",
   "execution_count": 27,
   "metadata": {},
   "outputs": [],
   "source": [
    "for x,y in atlantic:\n",
    "    dfs(x,y,avisited)"
   ]
  },
  {
   "cell_type": "code",
   "execution_count": 28,
   "metadata": {},
   "outputs": [
    {
     "data": {
      "text/plain": [
       "{(0, 4),\n",
       " (1, 3),\n",
       " (1, 4),\n",
       " (2, 2),\n",
       " (2, 3),\n",
       " (2, 4),\n",
       " (3, 0),\n",
       " (3, 1),\n",
       " (3, 2),\n",
       " (3, 3),\n",
       " (3, 4),\n",
       " (4, 0),\n",
       " (4, 1),\n",
       " (4, 2),\n",
       " (4, 3),\n",
       " (4, 4)}"
      ]
     },
     "execution_count": 28,
     "metadata": {},
     "output_type": "execute_result"
    }
   ],
   "source": [
    "avisited"
   ]
  },
  {
   "cell_type": "code",
   "execution_count": 29,
   "metadata": {},
   "outputs": [
    {
     "data": {
      "text/plain": [
       "{(0, 4), (1, 3), (1, 4), (2, 2), (3, 0), (3, 1), (4, 0)}"
      ]
     },
     "execution_count": 29,
     "metadata": {},
     "output_type": "execute_result"
    }
   ],
   "source": [
    "pvisited & avisited"
   ]
  },
  {
   "cell_type": "code",
   "execution_count": 31,
   "metadata": {},
   "outputs": [
    {
     "data": {
      "text/plain": [
       "False"
      ]
     },
     "execution_count": 31,
     "metadata": {},
     "output_type": "execute_result"
    }
   ],
   "source": [
    "True ^ True "
   ]
  },
  {
   "cell_type": "code",
   "execution_count": 33,
   "metadata": {},
   "outputs": [
    {
     "data": {
      "text/plain": [
       "True"
      ]
     },
     "execution_count": 33,
     "metadata": {},
     "output_type": "execute_result"
    }
   ],
   "source": [
    "not True or not False"
   ]
  },
  {
   "cell_type": "code",
   "execution_count": 38,
   "metadata": {},
   "outputs": [
    {
     "data": {
      "text/plain": [
       "True"
      ]
     },
     "execution_count": 38,
     "metadata": {},
     "output_type": "execute_result"
    }
   ],
   "source": [
    "any([None,4,None])"
   ]
  },
  {
   "cell_type": "code",
   "execution_count": 41,
   "metadata": {},
   "outputs": [],
   "source": [
    "tmp = [4,5,6]"
   ]
  },
  {
   "cell_type": "code",
   "execution_count": 42,
   "metadata": {},
   "outputs": [],
   "source": [
    "tmp.reverse()"
   ]
  },
  {
   "cell_type": "code",
   "execution_count": 43,
   "metadata": {},
   "outputs": [
    {
     "data": {
      "text/plain": [
       "[6, 5, 4]"
      ]
     },
     "execution_count": 43,
     "metadata": {},
     "output_type": "execute_result"
    }
   ],
   "source": [
    "tmp"
   ]
  },
  {
   "cell_type": "code",
   "execution_count": 3,
   "metadata": {},
   "outputs": [
    {
     "data": {
      "text/plain": [
       "True"
      ]
     },
     "execution_count": 3,
     "metadata": {},
     "output_type": "execute_result"
    }
   ],
   "source": [
    "all([[1,1],[1,1]])\n"
   ]
  },
  {
   "cell_type": "code",
   "execution_count": 8,
   "metadata": {},
   "outputs": [],
   "source": [
    "a = [[1, 1, 1, 1, 0, 0, 0, 0], [1, 1, 1, 1, 0, 0, 0, 0],\n",
    "     [1, 1, 1, 1, 1, 1, 1, 1], [1, 1, 1, 1, 1, 1, 1, 1],\n",
    "     [1, 1, 1, 1, 0, 0, 0, 0], [1, 1, 1, 1, 0, 0, 0, 0],\n",
    "     [1, 1, 1, 1, 0, 0, 0, 0], [1, 1, 1, 1, 0, 0, 0, 0]]\n"
   ]
  },
  {
   "cell_type": "code",
   "execution_count": 10,
   "metadata": {},
   "outputs": [],
   "source": [
    "def allSame(grid):\n",
    "    if not grid:\n",
    "        return True \n",
    "    \n",
    "    for row in grid:\n",
    "        if sum(row) != 0 or sum(row) != len(row):\n",
    "            return False  \n",
    "    \n",
    "    return True  "
   ]
  },
  {
   "cell_type": "code",
   "execution_count": 22,
   "metadata": {},
   "outputs": [
    {
     "data": {
      "text/plain": [
       "False"
      ]
     },
     "execution_count": 22,
     "metadata": {},
     "output_type": "execute_result"
    }
   ],
   "source": [
    "all([1,1,1,0,1])"
   ]
  },
  {
   "cell_type": "code",
   "execution_count": 3,
   "metadata": {},
   "outputs": [],
   "source": [
    "import bisect"
   ]
  },
  {
   "cell_type": "code",
   "execution_count": null,
   "metadata": {},
   "outputs": [],
   "source": []
  },
  {
   "cell_type": "code",
   "execution_count": null,
   "metadata": {},
   "outputs": [],
   "source": []
  }
 ],
 "metadata": {
  "interpreter": {
   "hash": "4e7b57834160666cfe8f3e3be875d566579b1d9d382eb6c118a1755bbf8d392e"
  },
  "kernelspec": {
   "display_name": "Python 3.9.7 ('base')",
   "language": "python",
   "name": "python3"
  },
  "language_info": {
   "codemirror_mode": {
    "name": "ipython",
    "version": 3
   },
   "file_extension": ".py",
   "mimetype": "text/x-python",
   "name": "python",
   "nbconvert_exporter": "python",
   "pygments_lexer": "ipython3",
   "version": "3.9.7"
  },
  "orig_nbformat": 4
 },
 "nbformat": 4,
 "nbformat_minor": 2
}
