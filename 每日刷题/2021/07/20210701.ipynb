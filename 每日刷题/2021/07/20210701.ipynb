{
 "metadata": {
  "language_info": {
   "codemirror_mode": {
    "name": "ipython",
    "version": 3
   },
   "file_extension": ".py",
   "mimetype": "text/x-python",
   "name": "python",
   "nbconvert_exporter": "python",
   "pygments_lexer": "ipython3",
   "version": "3.7.7"
  },
  "orig_nbformat": 4,
  "kernelspec": {
   "name": "python3",
   "display_name": "Python 3.7.7 64-bit ('ML': conda)"
  },
  "interpreter": {
   "hash": "48c07bd38cf2d9a9de910d4b2d05fa3599e598780a3671a83bc7380a09869906"
  }
 },
 "nbformat": 4,
 "nbformat_minor": 2,
 "cells": [
  {
   "source": [
    "## 面经约瑟夫环"
   ],
   "cell_type": "markdown",
   "metadata": {}
  },
  {
   "cell_type": "code",
   "execution_count": 1,
   "metadata": {},
   "outputs": [],
   "source": [
    "def joshPh(n,m):\n",
    "    if n == 1:\n",
    "        return n \n",
    "    return (joshPh(n-1,m)+m-1)%n+1"
   ]
  },
  {
   "cell_type": "code",
   "execution_count": 4,
   "metadata": {},
   "outputs": [
    {
     "output_type": "execute_result",
     "data": {
      "text/plain": [
       "2"
      ]
     },
     "metadata": {},
     "execution_count": 4
    }
   ],
   "source": [
    "joshPh(3,3)"
   ]
  },
  {
   "source": [
    "## 剑指 Offer 37. 序列化二叉树"
   ],
   "cell_type": "markdown",
   "metadata": {}
  },
  {
   "cell_type": "code",
   "execution_count": null,
   "metadata": {},
   "outputs": [],
   "source": []
  },
  {
   "source": [
    "## LCP 07. 传递信息\n",
    "小朋友 A 在和 ta 的小伙伴们玩传信息游戏，游戏规则如下：\n",
    "\n",
    "有 n 名玩家，所有玩家编号分别为 0 ～ n-1，其中小朋友 A 的编号为 0\n",
    "每个玩家都有固定的若干个可传信息的其他玩家（也可能没有）。传信息的关系是单向的（比如 A 可以向 B 传信息，但 B 不能向 A 传信息）。\n",
    "每轮信息必须需要传递给另一个人，且信息可重复经过同一个人\n",
    "给定总玩家数 n，以及按 [玩家编号,对应可传递玩家编号] 关系组成的二维数组 relation。返回信息从小 A (编号 0 ) 经过 k 轮传递到编号为 n-1 的小伙伴处的方案数；若不能到达，返回 0。\n",
    "\n",
    "示例 1：\n",
    "`\n",
    "输入：n = 5, relation = [[0,2],[2,1],[3,4],[2,3],[1,4],[2,0],[0,4]], k = 3\n",
    "`\n",
    "\n",
    "输出：3\n",
    "\n",
    "解释：信息从小 A 编号 0 处开始，经 3 轮传递，到达编号 4。共有 3 种方案，分别是 0->2->0->4， 0->2->1->4， 0->2->3->4。\n",
    "\n",
    "示例 2：\n",
    "\n",
    "输入：n = 3, relation = [[0,2],[2,1]], k = 2\n",
    "\n",
    "输出：0\n",
    "\n",
    "解释：信息不能从小 A 处经过 2 轮传递到编号 2\n",
    "\n",
    "限制：\n",
    "\n",
    "2 <= n <= 10\n",
    "1 <= k <= 5\n",
    "1 <= relation.length <= 90, 且 relation[i].length == 2\n",
    "0 <= relation[i][0],relation[i][1] < n 且 relation[i][0] != relation[i][1]"
   ],
   "cell_type": "markdown",
   "metadata": {}
  },
  {
   "cell_type": "code",
   "execution_count": 1,
   "metadata": {},
   "outputs": [],
   "source": [
    "from collections import defaultdict"
   ]
  },
  {
   "cell_type": "code",
   "execution_count": 2,
   "metadata": {},
   "outputs": [],
   "source": [
    "def numWays(n,relation,k):\n",
    "    if not relation:\n",
    "        return 0 \n",
    "    relations = defaultdict(list)\n",
    "    for i,j in relation:\n",
    "        relations[i].append(j)\n",
    "    print(relations)\n",
    "    ways = 0 \n",
    "    def dfs(index,cost):\n",
    "        nonlocal ways\n",
    "        if cost == k:\n",
    "            if index == n-1:\n",
    "                ways += 1 \n",
    "            return \n",
    "        for i in relations[index]:\n",
    "            dfs(i,cost+1)\n",
    "        return ways \n",
    "    dfs(0,0)\n",
    "    return ways  "
   ]
  },
  {
   "cell_type": "code",
   "execution_count": 3,
   "metadata": {},
   "outputs": [],
   "source": [
    "n = 5\n",
    "relation = [[0,2],[2,1],[3,4],[2,3],[1,4],[2,0],[0,4]]\n",
    "k = 3"
   ]
  },
  {
   "cell_type": "code",
   "execution_count": 4,
   "metadata": {},
   "outputs": [
    {
     "output_type": "stream",
     "name": "stdout",
     "text": [
      "defaultdict(<class 'list'>, {0: [2, 4], 2: [1, 3, 0], 3: [4], 1: [4]})\n"
     ]
    },
    {
     "output_type": "execute_result",
     "data": {
      "text/plain": [
       "3"
      ]
     },
     "metadata": {},
     "execution_count": 4
    }
   ],
   "source": [
    "numWays(n,relation,k)"
   ]
  },
  {
   "cell_type": "code",
   "execution_count": 11,
   "metadata": {},
   "outputs": [],
   "source": [
    "def numWays2(n,relation,k):\n",
    "    relations = defaultdict(list)\n",
    "    for i,j in relation:\n",
    "        relations[i].append(j)\n",
    "    print(relations)\n",
    "    queue = [0]\n",
    "    cost = 0 \n",
    "\n",
    "    while queue and cost < k:\n",
    "        cost += 1 \n",
    "        size = len(queue)\n",
    "        for i in range(size):\n",
    "            node = queue.pop(0)\n",
    "            for nextnode in relations[node]:\n",
    "                queue.append(nextnode)\n",
    "    numways = 0 \n",
    "    if cost == k:\n",
    "        while queue:\n",
    "            if queue.pop() == n-1:\n",
    "                numways += 1 \n",
    "    return numways \n",
    "                \n",
    "\n",
    "    "
   ]
  },
  {
   "cell_type": "code",
   "execution_count": 12,
   "metadata": {},
   "outputs": [
    {
     "output_type": "stream",
     "name": "stdout",
     "text": [
      "defaultdict(<class 'list'>, {0: [2, 4], 2: [1, 3, 0], 3: [4], 1: [4]})\n"
     ]
    },
    {
     "output_type": "execute_result",
     "data": {
      "text/plain": [
       "3"
      ]
     },
     "metadata": {},
     "execution_count": 12
    }
   ],
   "source": [
    "numWays2(n,relation,k)"
   ]
  },
  {
   "cell_type": "code",
   "execution_count": 1,
   "metadata": {},
   "outputs": [],
   "source": [
    "# [168] Excel表列名称\n",
    "#\n",
    "# https://leetcode-cn.com/problems/excel-sheet-column-title/description/\n",
    "#\n",
    "# algorithms\n",
    "# Easy (40.78%)\n",
    "# Likes:    409\n",
    "# Dislikes: 0\n",
    "# Total Accepted:    67.9K\n",
    "# Total Submissions: 161.4K\n",
    "# Testcase Example:  '1'\n",
    "# 给你一个整数 columnNumber ，返回它在 Excel 表中相对应的列名称。\n",
    "# 例如：\n",
    "# A -> 1\n",
    "# B -> 2\n",
    "# C -> 3\n",
    "# ...\n",
    "# Z -> 26\n",
    "# AA -> 27\n",
    "# AB -> 28\n",
    "# ...\n",
    "# 示例 1：\n",
    "# 输入：columnNumber = 1\n",
    "# 输出：\"A\"\n",
    "# 示例 2：\n",
    "# 输入：columnNumber = 28\n",
    "# 输出：\"AB\"\n",
    "# 示例 3：\n",
    "# 输入：columnNumber = 701\n",
    "# 输出：\"ZY\"\n",
    "# 示例 4：\n",
    "# 输入：columnNumber = 2147483647\n",
    "# 输出：\"FXSHRXW\""
   ]
  },
  {
   "cell_type": "code",
   "execution_count": 6,
   "metadata": {},
   "outputs": [],
   "source": [
    "def convertToTitle(columnNumber):\n",
    "    ans = ''\n",
    "\n",
    "    while columnNumber:\n",
    "        columnNumber -= 1 \n",
    "        ans += chr((columnNumber % 26 ) + ord('A'))\n",
    "        columnNumber //= 26 \n",
    "    return ans[::-1]"
   ]
  },
  {
   "cell_type": "code",
   "execution_count": 7,
   "metadata": {},
   "outputs": [
    {
     "output_type": "execute_result",
     "data": {
      "text/plain": [
       "'FXSHRXW'"
      ]
     },
     "metadata": {},
     "execution_count": 7
    }
   ],
   "source": [
    "convertToTitle(2147483647)"
   ]
  },
  {
   "cell_type": "code",
   "execution_count": 16,
   "metadata": {},
   "outputs": [
    {
     "output_type": "execute_result",
     "data": {
      "text/plain": [
       "['e', 'r', 't']"
      ]
     },
     "metadata": {},
     "execution_count": 16
    }
   ],
   "source": [
    "from collections import Counter\n",
    "s = \"eert\"\n",
    "        \n",
    "count = Counter(s) \n",
    "\n",
    "sorted(count.keys(),key=lambda x:-count[x])        \n"
   ]
  },
  {
   "cell_type": "code",
   "execution_count": 13,
   "metadata": {},
   "outputs": [
    {
     "output_type": "execute_result",
     "data": {
      "text/plain": [
       "Counter({'e': 2, 'r': 1, 't': 1})"
      ]
     },
     "metadata": {},
     "execution_count": 13
    }
   ],
   "source": [
    "count "
   ]
  },
  {
   "cell_type": "code",
   "execution_count": 14,
   "metadata": {},
   "outputs": [
    {
     "output_type": "execute_result",
     "data": {
      "text/plain": [
       "['e', 'e', 'r', 't']"
      ]
     },
     "metadata": {},
     "execution_count": 14
    }
   ],
   "source": [
    "ans"
   ]
  },
  {
   "cell_type": "code",
   "execution_count": 21,
   "metadata": {},
   "outputs": [],
   "source": [
    "dic = {5:8}"
   ]
  },
  {
   "cell_type": "code",
   "execution_count": 62,
   "metadata": {},
   "outputs": [],
   "source": [
    "nums = [1,2,2,4]"
   ]
  },
  {
   "cell_type": "code",
   "execution_count": 63,
   "metadata": {},
   "outputs": [],
   "source": [
    "\n",
    "nums\n",
    "nums.sort()\n",
    "n = len(nums)\n",
    "\n"
   ]
  },
  {
   "cell_type": "code",
   "execution_count": 66,
   "metadata": {},
   "outputs": [],
   "source": [
    "def findErrorNums(nums):\n",
    "    \n",
    "    nums.sort()\n",
    "    n = len(nums)\n",
    "    temp = [0] * n \n",
    "    for i in range(n):\n",
    "        if temp[i] != nums[i]:\n",
    "            temp[nums[i] - 1] = nums[i]\n",
    "            continue\n",
    "        repeate = temp[i]\n",
    "        \n",
    "    for i in range(len(temp)):\n",
    "        if temp[i] == 0:\n",
    "            miss = i + 1 \n",
    "    return [repeate,miss]\n",
    "                \n"
   ]
  },
  {
   "cell_type": "code",
   "execution_count": 67,
   "metadata": {},
   "outputs": [
    {
     "output_type": "error",
     "ename": "UnboundLocalError",
     "evalue": "local variable 'repeate' referenced before assignment",
     "traceback": [
      "\u001b[1;31m---------------------------------------------------------------------------\u001b[0m",
      "\u001b[1;31mUnboundLocalError\u001b[0m                         Traceback (most recent call last)",
      "\u001b[1;32m<ipython-input-67-9474ecddae8b>\u001b[0m in \u001b[0;36m<module>\u001b[1;34m\u001b[0m\n\u001b[1;32m----> 1\u001b[1;33m \u001b[0mfindErrorNums\u001b[0m\u001b[1;33m(\u001b[0m\u001b[1;33m[\u001b[0m\u001b[1;36m1\u001b[0m\u001b[1;33m,\u001b[0m\u001b[1;36m2\u001b[0m\u001b[1;33m,\u001b[0m\u001b[1;36m2\u001b[0m\u001b[1;33m,\u001b[0m\u001b[1;36m4\u001b[0m\u001b[1;33m]\u001b[0m\u001b[1;33m)\u001b[0m\u001b[1;33m\u001b[0m\u001b[1;33m\u001b[0m\u001b[0m\n\u001b[0m",
      "\u001b[1;32m<ipython-input-66-d4ebce1a1768>\u001b[0m in \u001b[0;36mfindErrorNums\u001b[1;34m(nums)\u001b[0m\n\u001b[0;32m     13\u001b[0m         \u001b[1;32mif\u001b[0m \u001b[0mtemp\u001b[0m\u001b[1;33m[\u001b[0m\u001b[0mi\u001b[0m\u001b[1;33m]\u001b[0m \u001b[1;33m==\u001b[0m \u001b[1;36m0\u001b[0m\u001b[1;33m:\u001b[0m\u001b[1;33m\u001b[0m\u001b[1;33m\u001b[0m\u001b[0m\n\u001b[0;32m     14\u001b[0m             \u001b[0mmiss\u001b[0m \u001b[1;33m=\u001b[0m \u001b[0mi\u001b[0m \u001b[1;33m+\u001b[0m \u001b[1;36m1\u001b[0m\u001b[1;33m\u001b[0m\u001b[1;33m\u001b[0m\u001b[0m\n\u001b[1;32m---> 15\u001b[1;33m     \u001b[1;32mreturn\u001b[0m \u001b[1;33m[\u001b[0m\u001b[0mrepeate\u001b[0m\u001b[1;33m,\u001b[0m\u001b[0mmiss\u001b[0m\u001b[1;33m]\u001b[0m\u001b[1;33m\u001b[0m\u001b[1;33m\u001b[0m\u001b[0m\n\u001b[0m\u001b[0;32m     16\u001b[0m \u001b[1;33m\u001b[0m\u001b[0m\n",
      "\u001b[1;31mUnboundLocalError\u001b[0m: local variable 'repeate' referenced before assignment"
     ]
    }
   ],
   "source": [
    "findErrorNums([1,2,2,4])"
   ]
  },
  {
   "cell_type": "code",
   "execution_count": 72,
   "metadata": {},
   "outputs": [
    {
     "output_type": "error",
     "ename": "NameError",
     "evalue": "name 'isUpperCase' is not defined",
     "traceback": [
      "\u001b[1;31m---------------------------------------------------------------------------\u001b[0m",
      "\u001b[1;31mNameError\u001b[0m                                 Traceback (most recent call last)",
      "\u001b[1;32m<ipython-input-72-0d7aa0d4f263>\u001b[0m in \u001b[0;36m<module>\u001b[1;34m\u001b[0m\n\u001b[1;32m----> 1\u001b[1;33m \u001b[0mhelp\u001b[0m\u001b[1;33m(\u001b[0m\u001b[0misUpperCase\u001b[0m\u001b[1;33m(\u001b[0m\u001b[1;33m)\u001b[0m\u001b[1;33m)\u001b[0m\u001b[1;33m\u001b[0m\u001b[1;33m\u001b[0m\u001b[0m\n\u001b[0m",
      "\u001b[1;31mNameError\u001b[0m: name 'isUpperCase' is not defined"
     ]
    }
   ],
   "source": [
    "help(isUpperCase())"
   ]
  },
  {
   "cell_type": "code",
   "execution_count": 73,
   "metadata": {},
   "outputs": [],
   "source": [
    "s = {}"
   ]
  },
  {
   "cell_type": "code",
   "execution_count": 74,
   "metadata": {},
   "outputs": [],
   "source": [
    "s[1] = 0"
   ]
  },
  {
   "cell_type": "code",
   "execution_count": 75,
   "metadata": {},
   "outputs": [
    {
     "output_type": "execute_result",
     "data": {
      "text/plain": [
       "{1: 0}"
      ]
     },
     "metadata": {},
     "execution_count": 75
    }
   ],
   "source": [
    "s"
   ]
  },
  {
   "cell_type": "code",
   "execution_count": null,
   "metadata": {},
   "outputs": [],
   "source": []
  }
 ]
}