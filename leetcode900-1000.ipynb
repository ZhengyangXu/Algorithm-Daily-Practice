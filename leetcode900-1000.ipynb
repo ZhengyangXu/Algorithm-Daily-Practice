{
 "metadata": {
  "language_info": {
   "codemirror_mode": {
    "name": "ipython",
    "version": 3
   },
   "file_extension": ".py",
   "mimetype": "text/x-python",
   "name": "python",
   "nbconvert_exporter": "python",
   "pygments_lexer": "ipython3",
   "version": "3.7.7-final"
  },
  "orig_nbformat": 2,
  "kernelspec": {
   "name": "python3",
   "display_name": "Python 3"
  }
 },
 "nbformat": 4,
 "nbformat_minor": 2,
 "cells": [
  {
   "cell_type": "code",
   "execution_count": 13,
   "metadata": {},
   "outputs": [],
   "source": [
    "#\n",
    "# @lc app=leetcode.cn id=993 lang=python3\n",
    "#\n",
    "# [993] 二叉树的堂兄弟节点\n",
    "#\n",
    "# https://leetcode-cn.com/problems/cousins-in-binary-tree/description/\n",
    "#\n",
    "# algorithms\n",
    "# Easy (51.99%)\n",
    "# Likes:    108\n",
    "# Dislikes: 0\n",
    "# Total Accepted:    14.3K\n",
    "# Total Submissions: 27.6K\n",
    "# Testcase Example:  '[1,2,3,4]\\n4\\n3'\n",
    "#\n",
    "# 在二叉树中，根节点位于深度 0 处，每个深度为 k 的节点的子节点位于深度 k+1 处。\n",
    "# \n",
    "# 如果二叉树的两个节点深度相同，但父节点不同，则它们是一对堂兄弟节点。\n",
    "# \n",
    "# 我们给出了具有唯一值的二叉树的根节点 root，以及树中两个不同节点的值 x 和 y。\n",
    "# \n",
    "# 只有与值 x 和 y 对应的节点是堂兄弟节点时，才返回 true。否则，返回 false。\n",
    "# \n",
    "# \n",
    "# \n",
    "# 示例 1：\n",
    "# \n",
    "# \n",
    "# 输入：root = [1,2,3,4], x = 4, y = 3\n",
    "# 输出：false\n",
    "# \n",
    "# \n",
    "# 示例 2：\n",
    "# \n",
    "# \n",
    "# 输入：root = [1,2,3,null,4,null,5], x = 5, y = 4\n",
    "# 输出：true\n",
    "# \n",
    "# \n",
    "# 示例 3：\n",
    "# \n",
    "# \n",
    "# \n",
    "# 输入：root = [1,2,3,null,4], x = 2, y = 3\n",
    "# 输出：false\n",
    "# \n",
    "# \n",
    "# \n",
    "# 提示：\n",
    "# \n",
    "# \n",
    "# 二叉树的节点数介于 2 到 100 之间。\n",
    "# 每个节点的值都是唯一的、范围为 1 到 100 的整数。\n",
    "# \n",
    "# \n",
    "# \n",
    "# \n",
    "#\n",
    "\n",
    "# @lc code=start\n",
    "# Definition for a binary tree node.\n",
    "class TreeNode:\n",
    "    def __init__(self, val=0, left=None, right=None):\n",
    "        self.val = val\n",
    "        self.left = left\n",
    "        self.right = right\n",
    "\n",
    "def isCousins(root, x, y):\n",
    "    if not root:\n",
    "        return False\n",
    "\n",
    "    cur = [(root,-1)]\n",
    "\n",
    "    while cur:\n",
    "\n",
    "        temp = {}\n",
    "        next = []\n",
    "        for node in cur:\n",
    "            cur_node,parent = node\n",
    "            if cur_node.left:\n",
    "                next.append((cur_node.left,cur_node.val))\n",
    "            if cur_node.right:\n",
    "                next.append((cur_node.right,cur_node.val))\n",
    "            temp[cur_node.val] = parent \n",
    "        \n",
    "        if x in temp and y in temp and temp[x] != temp[y]:\n",
    "            return True \n",
    "\n",
    "        cur = next \n",
    "    return False \n",
    "                \n",
    "\n",
    "                "
   ]
  },
  {
   "cell_type": "code",
   "execution_count": 14,
   "metadata": {},
   "outputs": [],
   "source": [
    "node1 = TreeNode(1)\n",
    "node2 = TreeNode(2)\n",
    "node3 = TreeNode(3)\n",
    "node4 = TreeNode(4)\n",
    "node5 = TreeNode(5)\n",
    "node1.left = node2 \n",
    "node1.right = node3 \n",
    "node2.right = node4 \n",
    "node3.right = node5 "
   ]
  },
  {
   "cell_type": "code",
   "execution_count": 15,
   "metadata": {},
   "outputs": [
    {
     "output_type": "execute_result",
     "data": {
      "text/plain": [
       "True"
      ]
     },
     "metadata": {},
     "execution_count": 15
    }
   ],
   "source": [
    "isCousins(node1,5,4)"
   ]
  },
  {
   "cell_type": "code",
   "execution_count": 17,
   "metadata": {},
   "outputs": [],
   "source": [
    "import os "
   ]
  },
  {
   "cell_type": "code",
   "execution_count": 24,
   "metadata": {},
   "outputs": [],
   "source": [
    "file = os.listdir(\"G:\\code\\study resource\\daily update\\算法\\LeetCode-Solutions-in-Good-Style\")"
   ]
  },
  {
   "cell_type": "code",
   "execution_count": 25,
   "metadata": {},
   "outputs": [
    {
     "output_type": "execute_result",
     "data": {
      "text/plain": [
       "['.git',\n",
       " '.gitignore',\n",
       " '.notebook',\n",
       " 'array',\n",
       " 'backtracking',\n",
       " 'binary-indexed-tree',\n",
       " 'binary-search',\n",
       " 'binary-search-tree',\n",
       " 'bit-manipulation',\n",
       " 'breadth-first-search',\n",
       " 'bucket-sort',\n",
       " 'contest',\n",
       " 'divide-and-conquer',\n",
       " 'drawio_assets',\n",
       " 'dynamic-programming',\n",
       " 'graph',\n",
       " 'greedy',\n",
       " 'hash-table',\n",
       " 'heap',\n",
       " 'lcci',\n",
       " 'lcof',\n",
       " 'LICENSE',\n",
       " 'line-sweep',\n",
       " 'linked-list',\n",
       " 'loop-invariant',\n",
       " 'math',\n",
       " 'monotonous-stack',\n",
       " 'queue',\n",
       " 'README.md',\n",
       " 'recursion',\n",
       " 'segment-tree',\n",
       " 'sliding-window',\n",
       " 'sorting',\n",
       " 'stack',\n",
       " 'string',\n",
       " 'topological-sort',\n",
       " 'tree',\n",
       " 'trie',\n",
       " 'two-pointers',\n",
       " 'union-find']"
      ]
     },
     "metadata": {},
     "execution_count": 25
    }
   ],
   "source": [
    "file"
   ]
  },
  {
   "cell_type": "code",
   "execution_count": 38,
   "metadata": {},
   "outputs": [
    {
     "output_type": "error",
     "ename": "FileNotFoundError",
     "evalue": "[WinError 2] 系统找不到指定的文件。: '分类'",
     "traceback": [
      "\u001b[1;31m---------------------------------------------------------------------------\u001b[0m",
      "\u001b[1;31mFileNotFoundError\u001b[0m                         Traceback (most recent call last)",
      "\u001b[1;32m<ipython-input-38-df70d7183045>\u001b[0m in \u001b[0;36m<module>\u001b[1;34m\u001b[0m\n\u001b[1;32m----> 1\u001b[1;33m \u001b[0mos\u001b[0m\u001b[1;33m.\u001b[0m\u001b[0mchdir\u001b[0m\u001b[1;33m(\u001b[0m\u001b[1;34m'分类'\u001b[0m\u001b[1;33m)\u001b[0m\u001b[1;33m\u001b[0m\u001b[1;33m\u001b[0m\u001b[0m\n\u001b[0m",
      "\u001b[1;31mFileNotFoundError\u001b[0m: [WinError 2] 系统找不到指定的文件。: '分类'"
     ]
    }
   ],
   "source": [
    "os.chdir('分类')"
   ]
  },
  {
   "cell_type": "code",
   "execution_count": 84,
   "metadata": {},
   "outputs": [],
   "source": [
    "cwd = 'g:\\code\\daily exercise\\AlgorithmDailyPractice\\分类'"
   ]
  },
  {
   "cell_type": "code",
   "execution_count": 100,
   "metadata": {},
   "outputs": [
    {
     "output_type": "stream",
     "name": "stdout",
     "text": [
      "array\ng:\\code\\daily exercise\\AlgorithmDailyPractice\\分类\\array\nbacktracking\ng:\\code\\daily exercise\\AlgorithmDailyPractice\\分类\\backtracking\nbinary-indexed-tree\ng:\\code\\daily exercise\\AlgorithmDailyPractice\\分类\\binary-indexed-tree\nbinary-search\ng:\\code\\daily exercise\\AlgorithmDailyPractice\\分类\\binary-search\nbinary-search-tree\ng:\\code\\daily exercise\\AlgorithmDailyPractice\\分类\\binary-search-tree\nbit-manipulation\ng:\\code\\daily exercise\\AlgorithmDailyPractice\\分类\\bit-manipulation\nbreadth-first-search\ng:\\code\\daily exercise\\AlgorithmDailyPractice\\分类\\breadth-first-search\nbucket-sort\ng:\\code\\daily exercise\\AlgorithmDailyPractice\\分类\\bucket-sort\ncontest\ng:\\code\\daily exercise\\AlgorithmDailyPractice\\分类\\contest\ndivide-and-conquer\ng:\\code\\daily exercise\\AlgorithmDailyPractice\\分类\\divide-and-conquer\ndrawio_assets\ng:\\code\\daily exercise\\AlgorithmDailyPractice\\分类\\drawio_assets\ndynamic-programming\ng:\\code\\daily exercise\\AlgorithmDailyPractice\\分类\\dynamic-programming\ngraph\ng:\\code\\daily exercise\\AlgorithmDailyPractice\\分类\\graph\ngreedy\ng:\\code\\daily exercise\\AlgorithmDailyPractice\\分类\\greedy\nhash-table\ng:\\code\\daily exercise\\AlgorithmDailyPractice\\分类\\hash-table\nheap\ng:\\code\\daily exercise\\AlgorithmDailyPractice\\分类\\heap\nlcci\ng:\\code\\daily exercise\\AlgorithmDailyPractice\\分类\\lcci\nlcof\ng:\\code\\daily exercise\\AlgorithmDailyPractice\\分类\\lcof\nLICENSE\ng:\\code\\daily exercise\\AlgorithmDailyPractice\\分类\\LICENSE\nline-sweep\ng:\\code\\daily exercise\\AlgorithmDailyPractice\\分类\\line-sweep\nlinked-list\ng:\\code\\daily exercise\\AlgorithmDailyPractice\\分类\\linked-list\nloop-invariant\ng:\\code\\daily exercise\\AlgorithmDailyPractice\\分类\\loop-invariant\nmath\ng:\\code\\daily exercise\\AlgorithmDailyPractice\\分类\\math\nmonotonous-stack\ng:\\code\\daily exercise\\AlgorithmDailyPractice\\分类\\monotonous-stack\nqueue\ng:\\code\\daily exercise\\AlgorithmDailyPractice\\分类\\queue\nREADME.md\ng:\\code\\daily exercise\\AlgorithmDailyPractice\\分类\\README.md\nrecursion\ng:\\code\\daily exercise\\AlgorithmDailyPractice\\分类\\recursion\nsegment-tree\ng:\\code\\daily exercise\\AlgorithmDailyPractice\\分类\\segment-tree\nsliding-window\ng:\\code\\daily exercise\\AlgorithmDailyPractice\\分类\\sliding-window\nsorting\ng:\\code\\daily exercise\\AlgorithmDailyPractice\\分类\\sorting\nstack\ng:\\code\\daily exercise\\AlgorithmDailyPractice\\分类\\stack\nstring\ng:\\code\\daily exercise\\AlgorithmDailyPractice\\分类\\string\ntopological-sort\ng:\\code\\daily exercise\\AlgorithmDailyPractice\\分类\\topological-sort\ntree\ng:\\code\\daily exercise\\AlgorithmDailyPractice\\分类\\tree\ntrie\ng:\\code\\daily exercise\\AlgorithmDailyPractice\\分类\\trie\ntwo-pointers\ng:\\code\\daily exercise\\AlgorithmDailyPractice\\分类\\two-pointers\nunion-find\ng:\\code\\daily exercise\\AlgorithmDailyPractice\\分类\\union-find\n"
     ]
    }
   ],
   "source": [
    "for f in xx:\n",
    "    os.chdir(cwd+\"\\\\\"+f)\n",
    "    print(f)\n",
    "    file = open(\"{}.ipynb\".format(f),'w')\n",
    "    # file.closed()\n",
    "    print(os.getcwd())\n",
    "    os.chdir(cwd)"
   ]
  },
  {
   "cell_type": "code",
   "execution_count": null,
   "metadata": {},
   "outputs": [],
   "source": []
  }
 ]
}