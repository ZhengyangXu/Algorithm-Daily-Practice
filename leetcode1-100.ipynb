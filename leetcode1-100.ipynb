{
 "metadata": {
  "language_info": {
   "codemirror_mode": {
    "name": "ipython",
    "version": 3
   },
   "file_extension": ".py",
   "mimetype": "text/x-python",
   "name": "python",
   "nbconvert_exporter": "python",
   "pygments_lexer": "ipython3",
   "version": "3.7.7-final"
  },
  "orig_nbformat": 2,
  "kernelspec": {
   "name": "python3",
   "display_name": "Python 3"
  }
 },
 "nbformat": 4,
 "nbformat_minor": 2,
 "cells": [
  {
   "cell_type": "code",
   "execution_count": 19,
   "metadata": {},
   "outputs": [],
   "source": [
    "#\n",
    "# @lc app=leetcode.cn id=32 lang=python3\n",
    "#\n",
    "# [32] 最长有效括号\n",
    "#\n",
    "# https://leetcode-cn.com/problems/longest-valid-parentheses/description/\n",
    "#\n",
    "# algorithms\n",
    "# Hard (33.99%)\n",
    "# Likes:    1047\n",
    "# Dislikes: 0\n",
    "# Total Accepted:    109.3K\n",
    "# Total Submissions: 321.6K\n",
    "# Testcase Example:  '\"(()\"'\n",
    "#\n",
    "# 给定一个只包含 '(' 和 ')' 的字符串，找出最长的包含有效括号的子串的长度。\n",
    "# \n",
    "# 示例 1:\n",
    "# \n",
    "# 输入: \"(()\"\n",
    "# 输出: 2\n",
    "# 解释: 最长有效括号子串为 \"()\"\n",
    "# \n",
    "# \n",
    "# 示例 2:\n",
    "# \n",
    "# 输入: \")()())\"\n",
    "# 输出: 4\n",
    "# 解释: 最长有效括号子串为 \"()()\"\n",
    "# \n",
    "# \n",
    "#\n",
    "\n",
    "# @lc code=start\n",
    "\n",
    "def longestValidParentheses1(s):\n",
    "    if not s:\n",
    "        return 0 \n",
    "    \n",
    "    dp = [0]*len(s)\n",
    "    ans = 0\n",
    "    for i in range(len(s)):\n",
    "        if s[i] == \")\":\n",
    "            if s[i-1] == \"(\":\n",
    "                dp[i] = dp[i-2] + 2 if i >= 2 else 2 \n",
    "            else:\n",
    "                if i - dp[i-1] > 0 and s[i-dp[i-1]-1] == \"(\":\n",
    "                    dp[i] = dp[i-1] + dp[i-dp[i-1]-2] + 2 if i - dp[i-1] - 2 >= 0 else dp[i-1] + 2 \n",
    "        ans = max(ans,dp[i])\n",
    "    return ans \n",
    "\n",
    "def longestValidParentheses2(s):\n",
    "    if not s:\n",
    "        return 0 \n",
    "    stack = [-1]\n",
    "    ans = 0\n",
    "    for i in range(len(s)):\n",
    "        if s[i] == \"(\":\n",
    "            stack.append(i)\n",
    "        else:\n",
    "            stack.pop()\n",
    "            if stack:\n",
    "                ans = max(ans,i-stack[-1])\n",
    "            else:\n",
    "                stack.append(i)\n",
    "    return ans "
   ]
  },
  {
   "cell_type": "code",
   "execution_count": 20,
   "metadata": {},
   "outputs": [
    {
     "output_type": "execute_result",
     "data": {
      "text/plain": [
       "4"
      ]
     },
     "metadata": {},
     "execution_count": 20
    }
   ],
   "source": [
    "longestValidParentheses2(\")()())\")"
   ]
  },
  {
   "cell_type": "code",
   "execution_count": 23,
   "metadata": {},
   "outputs": [],
   "source": [
    "def longestValidParentheses3(s):\n",
    "    if not s:\n",
    "        return 0 \n",
    "    left = right = ans = 0 \n",
    "    for i in range(len(s)):\n",
    "        if s[i] == \"(\":\n",
    "            left += 1 \n",
    "        else:\n",
    "            right += 1 \n",
    "        if left == right:\n",
    "            ans = max(ans,left*2)\n",
    "        if right > left:\n",
    "            left = right = 0 \n",
    "    left=right=0 \n",
    "    for i in range(len(s)-1,-1,-1):\n",
    "        if s[i] == \"(\":\n",
    "            left += 1 \n",
    "        else:\n",
    "            right += 1 \n",
    "        if left == right:\n",
    "            ans = max(ans,2*left)\n",
    "        if left > right:\n",
    "            left=right=0\n",
    "    return ans "
   ]
  },
  {
   "cell_type": "code",
   "execution_count": 24,
   "metadata": {},
   "outputs": [
    {
     "output_type": "execute_result",
     "data": {
      "text/plain": [
       "4"
      ]
     },
     "metadata": {},
     "execution_count": 24
    }
   ],
   "source": [
    "longestValidParentheses3(\")()())\")"
   ]
  },
  {
   "cell_type": "code",
   "execution_count": null,
   "metadata": {},
   "outputs": [],
   "source": [
    "#\n",
    "# @lc app=leetcode.cn id=34 lang=python3\n",
    "#\n",
    "# [34] 在排序数组中查找元素的第一个和最后一个位置\n",
    "#\n",
    "# https://leetcode-cn.com/problems/find-first-and-last-position-of-element-in-sorted-array/description/\n",
    "#\n",
    "# algorithms\n",
    "# Medium (39.96%)\n",
    "# Likes:    522\n",
    "# Dislikes: 0\n",
    "# Total Accepted:    114.4K\n",
    "# Total Submissions: 285.9K\n",
    "# Testcase Example:  '[5,7,7,8,8,10]\\n8'\n",
    "#\n",
    "# 给定一个按照升序排列的整数数组 nums，和一个目标值 target。找出给定目标值在数组中的开始位置和结束位置。\n",
    "# \n",
    "# 你的算法时间复杂度必须是 O(log n) 级别。\n",
    "# \n",
    "# 如果数组中不存在目标值，返回 [-1, -1]。\n",
    "# \n",
    "# 示例 1:\n",
    "# \n",
    "# 输入: nums = [5,7,7,8,8,10], target = 8\n",
    "# 输出: [3,4]\n",
    "# \n",
    "# 示例 2:\n",
    "# \n",
    "# 输入: nums = [5,7,7,8,8,10], target = 6\n",
    "# 输出: [-1,-1]\n",
    "# \n",
    "#\n",
    " def searchRange(nums, target):"
   ]
  }
 ]
}