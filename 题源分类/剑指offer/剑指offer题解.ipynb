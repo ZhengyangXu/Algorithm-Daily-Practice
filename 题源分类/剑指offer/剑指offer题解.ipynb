{
 "metadata": {
  "language_info": {
   "codemirror_mode": {
    "name": "ipython",
    "version": 3
   },
   "file_extension": ".py",
   "mimetype": "text/x-python",
   "name": "python",
   "nbconvert_exporter": "python",
   "pygments_lexer": "ipython3",
   "version": "3.7.7"
  },
  "orig_nbformat": 4,
  "kernelspec": {
   "name": "python3",
   "display_name": "Python 3.7.7 64-bit ('ML': conda)"
  },
  "interpreter": {
   "hash": "48c07bd38cf2d9a9de910d4b2d05fa3599e598780a3671a83bc7380a09869906"
  }
 },
 "nbformat": 4,
 "nbformat_minor": 2,
 "cells": [
  {
   "source": [
    "## 剑指 Offer 38. 字符串的排列"
   ],
   "cell_type": "markdown",
   "metadata": {}
  },
  {
   "source": [
    "## 剑指 Offer 53 - I. 在排序数组中查找数字 I\n",
    "统计一个数字在排序数组中出现的次数。\n",
    "\n",
    " \n",
    "\n",
    "示例 1:\n",
    "\n",
    "输入: nums = [5,7,7,8,8,10], target = 8\n",
    "输出: 2\n",
    "示例 2:\n",
    "\n",
    "输入: nums = [5,7,7,8,8,10], target = 6\n",
    "输出: 0\n",
    " \n",
    "\n",
    "限制：\n",
    "\n",
    "0 <= 数组长度 <= 50000\n",
    "\n",
    " \n",
    "\n",
    "注意：本题与主站 34 题相同（仅返回值不同）：https://leetcode-cn.com/problems/find-first-and-last-position-of-element-in-sorted-array/"
   ],
   "cell_type": "markdown",
   "metadata": {}
  },
  {
   "cell_type": "code",
   "execution_count": 8,
   "metadata": {},
   "outputs": [],
   "source": [
    "def search(nums,target):\n",
    "    if not nums:\n",
    "        return 0 \n",
    "    n = len(nums)\n",
    "    l,r = 0,n-1 \n",
    "    while l < r:\n",
    "        m = l + (r-l + 1)//2 \n",
    "        if nums[m] <= target:\n",
    "            l = m\n",
    "        else:\n",
    "            r = m - 1\n",
    "    ans = 0    \n",
    "    while r >= 0 and nums[r] == target:\n",
    "        ans += 1\n",
    "        r -= 1  \n",
    "    return ans \n",
    "\n"
   ]
  },
  {
   "cell_type": "code",
   "execution_count": 17,
   "metadata": {},
   "outputs": [],
   "source": [
    "nums = 5,7,7,8,8,10\n",
    "target = 8"
   ]
  },
  {
   "cell_type": "code",
   "execution_count": 18,
   "metadata": {},
   "outputs": [
    {
     "output_type": "execute_result",
     "data": {
      "text/plain": [
       "2"
      ]
     },
     "metadata": {},
     "execution_count": 18
    }
   ],
   "source": [
    "search(nums,target)"
   ]
  },
  {
   "cell_type": "code",
   "execution_count": 19,
   "metadata": {},
   "outputs": [],
   "source": [
    "def search2(nums,target):\n",
    "    if not nums:\n",
    "        return 0 \n",
    "    l,r = 0,len(nums)-1 \n",
    "    while l < r:\n",
    "        m = l + (r-l)//2 \n",
    "        if nums[m] <= target:\n",
    "            l = m + 1 \n",
    "        else:\n",
    "            r = m \n",
    "    ans = 0\n",
    "    while r - 1>= 0 and nums[r-1] == target:\n",
    "        ans += 1\n",
    "        r -= 1 \n",
    "    return ans \n",
    "        \n"
   ]
  },
  {
   "cell_type": "code",
   "execution_count": 20,
   "metadata": {},
   "outputs": [
    {
     "output_type": "execute_result",
     "data": {
      "text/plain": [
       "2"
      ]
     },
     "metadata": {},
     "execution_count": 20
    }
   ],
   "source": [
    "search2(nums,target)"
   ]
  },
  {
   "cell_type": "code",
   "execution_count": 47,
   "metadata": {},
   "outputs": [],
   "source": [
    "nums = [3,9,6]\n",
    "k = 2"
   ]
  },
  {
   "cell_type": "code",
   "execution_count": 49,
   "metadata": {},
   "outputs": [
    {
     "output_type": "stream",
     "name": "stdout",
     "text": [
      "nums:[3, 6, 9]\ndiff:[3, 6]\np<0,maxcount=1\np<0,maxcount=2\ndiff:[3]\np<0,maxcount=1\n"
     ]
    }
   ],
   "source": [
    "nums.sort() \n",
    "n = len(nums)\n",
    "def dif(nums):\n",
    "    return [nums[len(nums)-1] - nums[i] for i in range(len(nums)-1)]\n",
    "print(f'nums:{nums}')\n",
    "maxcount = 1 \n",
    "for i in range(n-1,0,-1):\n",
    "    p = k \n",
    "    diff = dif(nums[:i+1])\n",
    "    diff = diff[::-1]\n",
    "    print(f'diff:{diff}')\n",
    "    for j in range(len(diff)): \n",
    "        p -= diff[j]\n",
    "        if p < 0:\n",
    "            if j == 0:\n",
    "                maxcount = 1\n",
    "            else:\n",
    "                maxcount = max(maxcount,j+1)\n",
    "            print(f'p<0,maxcount={maxcount}')\n",
    "    if p >= 0:\n",
    "        maxcount = max(maxcount,i+1)\n",
    "        print(f'p>=0,maxcount={maxcount}')\n"
   ]
  },
  {
   "cell_type": "code",
   "execution_count": 50,
   "metadata": {},
   "outputs": [
    {
     "output_type": "execute_result",
     "data": {
      "text/plain": [
       "1"
      ]
     },
     "metadata": {},
     "execution_count": 50
    }
   ],
   "source": [
    "maxcount"
   ]
  },
  {
   "cell_type": "code",
   "execution_count": null,
   "metadata": {},
   "outputs": [],
   "source": []
  },
  {
   "cell_type": "code",
   "execution_count": null,
   "metadata": {},
   "outputs": [],
   "source": []
  }
 ]
}