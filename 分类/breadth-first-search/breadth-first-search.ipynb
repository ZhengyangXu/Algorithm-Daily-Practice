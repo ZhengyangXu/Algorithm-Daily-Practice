{
 "metadata": {
  "language_info": {
   "codemirror_mode": {
    "name": "ipython",
    "version": 3
   },
   "file_extension": ".py",
   "mimetype": "text/x-python",
   "name": "python",
   "nbconvert_exporter": "python",
   "pygments_lexer": "ipython3",
   "version": "3.7.7-final"
  },
  "orig_nbformat": 2,
  "kernelspec": {
   "name": "python3",
   "display_name": "Python 3"
  }
 },
 "nbformat": 4,
 "nbformat_minor": 2,
 "cells": [
  {
   "cell_type": "code",
   "execution_count": 4,
   "metadata": {},
   "outputs": [],
   "source": [
    "# [101] 对称二叉树\n",
    "#\n",
    "# https://leetcode-cn.com/problems/symmetric-tree/description/\n",
    "#\n",
    "# algorithms\n",
    "# Easy (52.29%)\n",
    "# Likes:    879\n",
    "# Dislikes: 0\n",
    "# Total Accepted:    167K\n",
    "# Total Submissions: 319.2K\n",
    "# Testcase Example:  '[1,2,2,3,4,4,3]'\n",
    "#\n",
    "# 给定一个二叉树，检查它是否是镜像对称的。\n",
    "# \n",
    "# \n",
    "# \n",
    "# 例如，二叉树 [1,2,2,3,4,4,3] 是对称的。\n",
    "# \n",
    "# ⁠   1\n",
    "# ⁠  / \\\n",
    "# ⁠ 2   2\n",
    "# ⁠/ \\ / \\\n",
    "# 3  4 4  3\n",
    "# \n",
    "# \n",
    "# \n",
    "# \n",
    "# 但是下面这个 [1,2,2,null,3,null,3] 则不是镜像对称的:\n",
    "# \n",
    "# ⁠   1\n",
    "# ⁠  / \\\n",
    "# ⁠ 2   2\n",
    "# ⁠  \\   \\\n",
    "# ⁠  3    3\n",
    "# \n",
    "# \n",
    "# \n",
    "# \n",
    "# 进阶：\n",
    "# \n",
    "# 你可以运用递归和迭代两种方法解决这个问题吗？\n",
    "# \n",
    "#\n",
    "\n",
    "# @lc code=start\n",
    "# Definition for a binary tree node.\n",
    "class TreeNode:\n",
    "    def __init__(self, x):\n",
    "        self.val = x\n",
    "        self.left = None\n",
    "        self.right = None\n",
    "\n",
    "\n",
    "def isSymmetric(root):\n",
    "\n",
    "    if not root:\n",
    "        return True \n",
    "\n",
    "    def symmetric(left,right):\n",
    "\n",
    "        if not (left or right):\n",
    "            return True \n",
    "        \n",
    "        if not (left and right):\n",
    "            return False \n",
    "\n",
    "        if left.val != right.val:\n",
    "            return False \n",
    "        print(symmetric(left.left,right.right) and symmetric(left.right,right.left))\n",
    "        return symmetric(left.left,right.right) and symmetric(left.right,right.left)\n",
    "    \n",
    "    return symmetric(root.left,root.right)\n",
    "\n",
    "    def isSymmetric_ite(root):\n",
    "        if not root:\n",
    "            return True \n",
    "\n",
    "        cur = [root.left,root.right]\n",
    "\n",
    "        while cur:\n",
    "            left = cur.pop(0)\n",
    "            right = cur.pop(0)\n",
    "\n",
    "            if not (left or right):\n",
    "                continue \n",
    "            if not (left and right):\n",
    "                return False \n",
    "            if left.val != right.val:\n",
    "                return False \n",
    "\n",
    "            cur.append(left.left)\n",
    "            cur.append(right.right)\n",
    "            cur.append(left.right)\n",
    "            cur.append(right.left)\n",
    "        return True \n",
    "\n",
    "\n",
    "\n",
    "\n",
    "\n",
    " \n",
    "\n"
   ]
  },
  {
   "cell_type": "code",
   "execution_count": 3,
   "metadata": {},
   "outputs": [],
   "source": [
    "node1 = TreeNode(1)\n",
    "node2 = TreeNode(2)\n",
    "node3 = TreeNode(2)\n",
    "node4 = TreeNode(3)\n",
    "node5 = TreeNode(3)\n",
    "node6 = TreeNode(4)\n",
    "node7 = TreeNode(4)\n",
    "node1.left = node2 \n",
    "node1.right = node3\n",
    "node2.left = node4 \n",
    "node2.right = node6  \n",
    "node3.left = node5 \n",
    "node4.right = node7"
   ]
  },
  {
   "cell_type": "code",
   "execution_count": 5,
   "metadata": {},
   "outputs": [
    {
     "output_type": "stream",
     "name": "stdout",
     "text": [
      "False\n"
     ]
    },
    {
     "output_type": "execute_result",
     "data": {
      "text/plain": [
       "False"
      ]
     },
     "metadata": {},
     "execution_count": 5
    }
   ],
   "source": [
    "isSymmetric(node1)"
   ]
  },
  {
   "cell_type": "code",
   "execution_count": null,
   "metadata": {},
   "outputs": [],
   "source": []
  }
 ]
}