{
 "metadata": {
  "language_info": {
   "codemirror_mode": {
    "name": "ipython",
    "version": 3
   },
   "file_extension": ".py",
   "mimetype": "text/x-python",
   "name": "python",
   "nbconvert_exporter": "python",
   "pygments_lexer": "ipython3",
   "version": 3
  },
  "orig_nbformat": 2
 },
 "nbformat": 4,
 "nbformat_minor": 2,
 "cells": [
  {
   "cell_type": "code",
   "execution_count": null,
   "metadata": {},
   "outputs": [],
   "source": [
    "#\n",
    "# @lc app=leetcode.cn id=32 lang=python3\n",
    "#\n",
    "# [32] 最长有效括号\n",
    "#\n",
    "# https://leetcode-cn.com/problems/longest-valid-parentheses/description/\n",
    "#\n",
    "# algorithms\n",
    "# Hard (33.99%)\n",
    "# Likes:    1047\n",
    "# Dislikes: 0\n",
    "# Total Accepted:    109.3K\n",
    "# Total Submissions: 321.6K\n",
    "# Testcase Example:  '\"(()\"'\n",
    "#\n",
    "# 给定一个只包含 '(' 和 ')' 的字符串，找出最长的包含有效括号的子串的长度。\n",
    "# \n",
    "# 示例 1:\n",
    "# \n",
    "# 输入: \"(()\"\n",
    "# 输出: 2\n",
    "# 解释: 最长有效括号子串为 \"()\"\n",
    "# \n",
    "# \n",
    "# 示例 2:\n",
    "# \n",
    "# 输入: \")()())\"\n",
    "# 输出: 4\n",
    "# 解释: 最长有效括号子串为 \"()()\"\n",
    "# \n",
    "# \n",
    "#\n",
    "\n",
    "# @lc code=start\n",
    "class Solution:\n",
    "    def longestValidParentheses(self, s: str) -> int:"
   ]
  }
 ]
}