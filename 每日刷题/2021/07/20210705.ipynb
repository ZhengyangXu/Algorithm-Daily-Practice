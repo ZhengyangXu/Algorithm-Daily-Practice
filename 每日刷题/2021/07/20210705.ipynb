{
 "metadata": {
  "language_info": {
   "codemirror_mode": {
    "name": "ipython",
    "version": 3
   },
   "file_extension": ".py",
   "mimetype": "text/x-python",
   "name": "python",
   "nbconvert_exporter": "python",
   "pygments_lexer": "ipython3",
   "version": "3.7.7"
  },
  "orig_nbformat": 4,
  "kernelspec": {
   "name": "python3",
   "display_name": "Python 3.7.7 64-bit ('ML': conda)"
  },
  "interpreter": {
   "hash": "48c07bd38cf2d9a9de910d4b2d05fa3599e598780a3671a83bc7380a09869906"
  }
 },
 "nbformat": 4,
 "nbformat_minor": 2,
 "cells": [
  {
   "source": [
    "## LCP 07. 传递信息\n",
    "小朋友 A 在和 ta 的小伙伴们玩传信息游戏，游戏规则如下：\n",
    "\n",
    "有 n 名玩家，所有玩家编号分别为 0 ～ n-1，其中小朋友 A 的编号为 0\n",
    "每个玩家都有固定的若干个可传信息的其他玩家（也可能没有）。传信息的关系是单向的（比如 A 可以向 B 传信息，但 B 不能向 A 传信息）。\n",
    "每轮信息必须需要传递给另一个人，且信息可重复经过同一个人\n",
    "给定总玩家数 n，以及按 [玩家编号,对应可传递玩家编号] 关系组成的二维数组 relation。返回信息从小 A (编号 0 ) 经过 k 轮传递到编号为 n-1 的小伙伴处的方案数；若不能到达，返回 0。\n",
    "\n",
    "示例 1：\n",
    "`\n",
    "输入：n = 5, relation = [[0,2],[2,1],[3,4],[2,3],[1,4],[2,0],[0,4]], k = 3\n",
    "`\n",
    "\n",
    "输出：3\n",
    "\n",
    "解释：信息从小 A 编号 0 处开始，经 3 轮传递，到达编号 4。共有 3 种方案，分别是 0->2->0->4， 0->2->1->4， 0->2->3->4。\n",
    "\n",
    "示例 2：\n",
    "\n",
    "输入：n = 3, relation = [[0,2],[2,1]], k = 2\n",
    "\n",
    "输出：0\n",
    "\n",
    "解释：信息不能从小 A 处经过 2 轮传递到编号 2\n",
    "\n",
    "限制：\n",
    "\n",
    "2 <= n <= 10\n",
    "1 <= k <= 5\n",
    "1 <= relation.length <= 90, 且 relation[i].length == 2\n",
    "0 <= relation[i][0],relation[i][1] < n 且 relation[i][0] != relation[i][1]"
   ],
   "cell_type": "markdown",
   "metadata": {}
  },
  {
   "cell_type": "code",
   "execution_count": 2,
   "metadata": {},
   "outputs": [],
   "source": [
    "from collections import defaultdict"
   ]
  },
  {
   "cell_type": "code",
   "execution_count": 5,
   "metadata": {},
   "outputs": [],
   "source": [
    "n = 5\n",
    "relation = [[0,2],[2,1],[3,4],[2,3],[1,4],[2,0],[0,4]] \n",
    "k = 3"
   ]
  },
  {
   "cell_type": "code",
   "execution_count": 12,
   "metadata": {},
   "outputs": [],
   "source": [
    "## DFS\n",
    "def numWays(n,relation,k):\n",
    "    relations = defaultdict(list)\n",
    "\n",
    "    for give,to in relation:\n",
    "        relations[give].append(to)\n",
    "    print(relations)\n",
    "    ways = 0 \n",
    "\n",
    "    def dfs(index,step):\n",
    "        nonlocal ways \n",
    "        if step == k:\n",
    "            if index == n - 1:\n",
    "                ways += 1 \n",
    "            return \n",
    "        for i in relations[index]:\n",
    "            dfs(i,step + 1)\n",
    "\n",
    "        return ways \n",
    "    dfs(0,0)\n",
    "    return ways "
   ]
  },
  {
   "cell_type": "code",
   "execution_count": 11,
   "metadata": {},
   "outputs": [
    {
     "output_type": "stream",
     "name": "stdout",
     "text": [
      "defaultdict(<class 'list'>, {0: [2, 4], 2: [1, 3, 0], 3: [4], 1: [4]})\n"
     ]
    },
    {
     "output_type": "execute_result",
     "data": {
      "text/plain": [
       "3"
      ]
     },
     "metadata": {},
     "execution_count": 11
    }
   ],
   "source": [
    "numWays(n,relation,k)"
   ]
  },
  {
   "cell_type": "code",
   "execution_count": 17,
   "metadata": {},
   "outputs": [],
   "source": [
    "## BFS\n",
    "def numWays2(n,relation,k):\n",
    "    relations = defaultdict(list)\n",
    "\n",
    "    for i,j in relation:\n",
    "        relations[i].append(j)\n",
    "\n",
    "    queue = [(0,0)]\n",
    "    ways = 0 \n",
    "    while queue:\n",
    "        give,cost = queue.pop(0)\n",
    "        if give == n-1 and cost == k:\n",
    "            ways += 1 \n",
    "        if cost > k:\n",
    "            break\n",
    "        for to in relations[give]:\n",
    "            queue.append([to,cost + 1])\n",
    "    \n",
    "    return ways \n",
    "\n",
    "        "
   ]
  },
  {
   "cell_type": "code",
   "execution_count": 18,
   "metadata": {},
   "outputs": [
    {
     "output_type": "execute_result",
     "data": {
      "text/plain": [
       "3"
      ]
     },
     "metadata": {},
     "execution_count": 18
    }
   ],
   "source": [
    "numWays2(n,relation,k)"
   ]
  },
  {
   "cell_type": "code",
   "execution_count": 38,
   "metadata": {},
   "outputs": [],
   "source": [
    "## DP\n",
    "def numWays3(n,relation,k):\n",
    "    dp = [[0] * (n+1) for _ in range(k+1)]\n",
    "    dp[0][0] = 1 \n",
    "\n",
    "    for i in range(k):\n",
    "        for give,to in relation:\n",
    "            dp[i+1][to] += dp[i][give]\n",
    "    return dp[k][n-1]\n",
    "## 滑动数组\n",
    "def numWays4(n,relation,k):\n",
    "    dp = [0] * (n+1)\n",
    "    dp[0] = 1 \n",
    "    \n",
    "    for i in range(k):\n",
    "        nex = [0] * (n+1)\n",
    "        for give,to in relation:\n",
    "            nex[to] += dp[give]\n",
    "        dp = nex\n",
    "\n",
    "    \n",
    "    return dp[n-1]\n",
    "## 另一种DP\n",
    "def numWays5(n,relation,k):\n",
    "    relations = defaultdict(list)\n",
    "    for i,j in relation:\n",
    "        relations[j].append(i)\n",
    "    \n",
    "    dp = [0] * n\n",
    "    dp[0] = 1 \n",
    "    for i in range(k):\n",
    "        nxt = [0] * n\n",
    "        for j in range(n):\n",
    "            nxt[j] += sum(dp[l] for l in relations[j])\n",
    "        dp = nxt\n",
    "    return dp[n-1]\n",
    "            "
   ]
  },
  {
   "cell_type": "code",
   "execution_count": 39,
   "metadata": {},
   "outputs": [
    {
     "output_type": "execute_result",
     "data": {
      "text/plain": [
       "3"
      ]
     },
     "metadata": {},
     "execution_count": 39
    }
   ],
   "source": [
    "numWays3(n,relation,k)"
   ]
  },
  {
   "cell_type": "code",
   "execution_count": 40,
   "metadata": {},
   "outputs": [
    {
     "output_type": "execute_result",
     "data": {
      "text/plain": [
       "3"
      ]
     },
     "metadata": {},
     "execution_count": 40
    }
   ],
   "source": [
    "numWays4(n,relation,k)"
   ]
  },
  {
   "cell_type": "code",
   "execution_count": 41,
   "metadata": {},
   "outputs": [
    {
     "output_type": "execute_result",
     "data": {
      "text/plain": [
       "3"
      ]
     },
     "metadata": {},
     "execution_count": 41
    }
   ],
   "source": [
    "numWays5(n,relation,k)"
   ]
  },
  {
   "cell_type": "code",
   "execution_count": 42,
   "metadata": {},
   "outputs": [],
   "source": [
    "# [767] 重构字符串\n",
    "#\n",
    "# https://leetcode-cn.com/problems/reorganize-string/description/\n",
    "#\n",
    "# algorithms\n",
    "# Medium (47.67%)\n",
    "# Likes:    331\n",
    "# Dislikes: 0\n",
    "# Total Accepted:    37.7K\n",
    "# Total Submissions: 79K\n",
    "# Testcase Example:  '\"aab\"'\n",
    "#\n",
    "# 给定一个字符串S，检查是否能重新排布其中的字母，使得两相邻的字符不同。\n",
    "# \n",
    "# 若可行，输出任意可行的结果。若不可行，返回空字符串。\n",
    "# \n",
    "# 示例 1:\n",
    "# \n",
    "# \n",
    "# 输入: S = \"aab\"\n",
    "# 输出: \"aba\"\n",
    "# \n",
    "# \n",
    "# 示例 2:\n",
    "# \n",
    "# \n",
    "# 输入: S = \"aaab\"\n",
    "# 输出: \"\"\n",
    "# \n",
    "# \n",
    "# 注意:\n",
    "# \n",
    "# \n",
    "# S 只包含小写字母并且长度在[1, 500]区间内。"
   ]
  },
  {
   "cell_type": "code",
   "execution_count": 52,
   "metadata": {},
   "outputs": [],
   "source": [
    "def reorganizeString(s):\n",
    "    import heapq \n",
    "    from collections import Counter \n",
    "    count = Counter(s)\n",
    "    maxcount = max(count.items(),key=lambda x:x[1])[1]\n",
    "    if maxcount > (len(s) + 1) // 2:\n",
    "        return ''\n",
    "    q = [(-x[1],x[0]) for x in count.items()]\n",
    "    heapq.heapify(q)\n",
    "    ans = ''\n",
    "    while len(q) > 1:\n",
    "        letter1 = heapq.heappop(q)[1]\n",
    "        letter2 = heapq.heappop(q)[1]\n",
    "        ans += (letter1+letter2)\n",
    "        count[letter1] -= 1 \n",
    "        count[letter2] -= 1 \n",
    "\n",
    "        if count[letter1] > 0:\n",
    "            heapq.heappush(q,(-count[letter1],letter1))\n",
    "        if count[letter2] > 0:\n",
    "            heapq.heappush(q,(-count[letter2],letter2))\n",
    "\n",
    "    if q:\n",
    "        ans += heapq.heappop(q)[1]\n",
    "\n",
    "    return ans \n",
    "\n"
   ]
  },
  {
   "cell_type": "code",
   "execution_count": 55,
   "metadata": {},
   "outputs": [],
   "source": [
    "S = \"aabccsdses\""
   ]
  },
  {
   "cell_type": "code",
   "execution_count": 56,
   "metadata": {},
   "outputs": [
    {
     "output_type": "execute_result",
     "data": {
      "text/plain": [
       "'sacsabcdes'"
      ]
     },
     "metadata": {},
     "execution_count": 56
    }
   ],
   "source": [
    "reorganizeString(S)"
   ]
  },
  {
   "cell_type": "code",
   "execution_count": 57,
   "metadata": {},
   "outputs": [],
   "source": [
    "# [815] 公交路线\n",
    "#\n",
    "# https://leetcode-cn.com/problems/bus-routes/description/\n",
    "# algorithms\n",
    "# Hard (33.77%)\n",
    "# Likes:    185\n",
    "# Dislikes: 0\n",
    "# Total Accepted:    17.5K\n",
    "# Total Submissions: 43.4K\n",
    "# Testcase Example:  '[[1,2,7],[3,6,7]]\\n1\\n6'\n",
    "# 给你一个数组 routes ，表示一系列公交线路，其中每个 routes[i] 表示一条公交线路，第 i 辆公交车将会在上面循环行驶。\n",
    "# 例如，路线 routes[0] = [1, 5, 7] 表示第 0 辆公交车会一直按序列 1 -> 5 -> 7 -> 1 -> 5 -> 7 -> 1\n",
    "# -> ... 这样的车站路线行驶。\n",
    "# 现在从 source 车站出发（初始时不在公交车上），要前往 target 车站。 期间仅可乘坐公交车。\n",
    "# 求出 最少乘坐的公交车数量 。如果不可能到达终点车站，返回 -1 。\n",
    "# 示例 1：\n",
    "# 输入：routes = [[1,2,7],[3,6,7]], source = 1, target = 6\n",
    "# 输出：2\n",
    "# 解释：最优策略是先乘坐第一辆公交车到达车站 7 , 然后换乘第二辆公交车到车站 6 。\n",
    "\n",
    "# 示例 2：\n",
    "# 输入：routes = [[7,12],[4,5,15],[6],[15,19],[9,12,13]], source = 15, target = 12\n",
    "# 输出：-1\n",
    "# 提示：\n",
    "#\n",
    "#\n",
    "# 1 .\n",
    "# 1\n",
    "# routes[i] 中的所有值 互不相同\n",
    "# sum(routes[i].length)\n",
    "# 0\n",
    "# 0"
   ]
  },
  {
   "source": [
    "## BFS"
   ],
   "cell_type": "markdown",
   "metadata": {}
  },
  {
   "cell_type": "code",
   "execution_count": 65,
   "metadata": {},
   "outputs": [],
   "source": [
    "def numBusesToDestination(routes, source, target):\n",
    "    if source == target:\n",
    "        return 0 \n",
    "    \n",
    "    stations = defaultdict(set)\n",
    "\n",
    "    for i,stops in enumerate(routes):\n",
    "        for stop in stops:\n",
    "            stations[stop].add(i)\n",
    "     \n",
    "    queue = [(source,0)]\n",
    "    buses = set()\n",
    "    stops = {source}\n",
    "    routes = [set(x) for x in routes]\n",
    "    while queue:\n",
    "        stop,cost = queue.pop(0)\n",
    "\n",
    "        if stop == target:\n",
    "            return cost \n",
    "\n",
    "        for bus in stations[stop] - buses:\n",
    "            for station in routes[bus] - stops:\n",
    "                buses.add(bus)\n",
    "                stops.add(station)\n",
    "                queue.append((station,cost+1))\n",
    "    return -1\n",
    "    \n",
    "\n"
   ]
  },
  {
   "cell_type": "code",
   "execution_count": 66,
   "metadata": {},
   "outputs": [],
   "source": [
    "routes = [[1,2,7],[3,6,7]]\n",
    "source = 1\n",
    "target = 6"
   ]
  },
  {
   "cell_type": "code",
   "execution_count": 67,
   "metadata": {},
   "outputs": [
    {
     "output_type": "execute_result",
     "data": {
      "text/plain": [
       "2"
      ]
     },
     "metadata": {},
     "execution_count": 67
    }
   ],
   "source": [
    "numBusesToDestination(routes,source,target)"
   ]
  },
  {
   "source": [
    "## 双向BFS"
   ],
   "cell_type": "markdown",
   "metadata": {}
  },
  {
   "cell_type": "code",
   "execution_count": 69,
   "metadata": {},
   "outputs": [],
   "source": [
    "def numBusesToDestination(routes, source, target):\n",
    "    if source == target:\n",
    "        return 0 \n",
    "    stations = defaultdict(set)\n",
    "\n",
    "    for i,stops in enumerate(routes):\n",
    "        for stop in stops:\n",
    "            stations[stop].add(i)\n",
    "    routes = [set(x) for x in routes]\n",
    "    buses = set()\n",
    "    stops = {source}\n",
    "    front = {source}\n",
    "    back = {target}\n",
    "    cost = 0 \n",
    "    while front and back:\n",
    "        nex = set()\n",
    "\n",
    "        for startstop in front:\n",
    "            for startbus in stations[startstop] - buses:\n",
    "                for targetstop in back:\n",
    "                    if startbus in stations[targetstop]:\n",
    "                        return cost + 1 \n",
    "                buses.add(startbus)\n",
    "\n",
    "                for nextstop in routes[startbus] - stops:\n",
    "                    stops.add(nextstop)\n",
    "                    nex.add(nextstop)\n",
    "        front = back \n",
    "        back = nex \n",
    "        cost += 1 \n",
    "    return -1 "
   ]
  },
  {
   "cell_type": "code",
   "execution_count": 70,
   "metadata": {},
   "outputs": [
    {
     "output_type": "execute_result",
     "data": {
      "text/plain": [
       "2"
      ]
     },
     "metadata": {},
     "execution_count": 70
    }
   ],
   "source": [
    "numBusesToDestination(routes,source,target)"
   ]
  },
  {
   "cell_type": "code",
   "execution_count": 71,
   "metadata": {},
   "outputs": [],
   "source": [
    "# @lc app=leetcode.cn id=645 lang=python3\n",
    "#\n",
    "# [645] 错误的集合\n",
    "#\n",
    "# https://leetcode-cn.com/problems/set-mismatch/description/\n",
    "#\n",
    "# algorithms\n",
    "# Easy (41.67%)\n",
    "# Likes:    203\n",
    "# Dislikes: 0\n",
    "# Total Accepted:    54.2K\n",
    "# Total Submissions: 125.1K\n",
    "# Testcase Example:  '[1,2,2,4]'\n",
    "# 集合 s 包含从 1 到 n 的整数。不幸的是，因为数据错误，导致集合里面某一个数字复制了成了集合里面的另外一个数字的值，导致集合 丢失了一个数字 并且\n",
    "# 有一个数字重复 。\n",
    "# 给定一个数组 nums 代表了集合 S 发生错误后的结果。\n",
    "# 请你找出重复出现的整数，再找到丢失的整数，将它们以数组的形式返回。\n",
    "# 示例 1：\n",
    "# 输入：nums = [1,2,2,4]\n",
    "# 输出：[2,3]\n",
    "# 示例 2：\n",
    "# 输入：nums = [1,1]\n",
    "# 输出：[1,2]\n",
    "# 提示：\n",
    "# 2\n",
    "# 1"
   ]
  },
  {
   "cell_type": "code",
   "execution_count": 181,
   "metadata": {},
   "outputs": [],
   "source": [
    "formula = \"K4(ON(SO3)2)2N\""
   ]
  },
  {
   "cell_type": "code",
   "execution_count": 184,
   "metadata": {},
   "outputs": [
    {
     "output_type": "stream",
     "name": "stdout",
     "text": [
      "大写字母,num:4\n"
     ]
    },
    {
     "output_type": "error",
     "ename": "KeyError",
     "evalue": "'K'",
     "traceback": [
      "\u001b[1;31m---------------------------------------------------------------------------\u001b[0m",
      "\u001b[1;31mKeyError\u001b[0m                                  Traceback (most recent call last)",
      "\u001b[1;32m<ipython-input-184-148867dffdbb>\u001b[0m in \u001b[0;36m<module>\u001b[1;34m\u001b[0m\n\u001b[0;32m     17\u001b[0m         \u001b[0mnum\u001b[0m \u001b[1;33m=\u001b[0m \u001b[0mformula\u001b[0m\u001b[1;33m[\u001b[0m\u001b[0mend\u001b[0m\u001b[1;33m+\u001b[0m\u001b[1;36m1\u001b[0m\u001b[1;33m:\u001b[0m\u001b[0mi\u001b[0m\u001b[1;33m+\u001b[0m\u001b[1;36m1\u001b[0m\u001b[1;33m]\u001b[0m\u001b[1;33m\u001b[0m\u001b[1;33m\u001b[0m\u001b[0m\n\u001b[0;32m     18\u001b[0m \u001b[1;33m\u001b[0m\u001b[0m\n\u001b[1;32m---> 19\u001b[1;33m         \u001b[0mstack\u001b[0m\u001b[1;33m[\u001b[0m\u001b[1;33m-\u001b[0m\u001b[1;36m1\u001b[0m\u001b[1;33m]\u001b[0m\u001b[1;33m[\u001b[0m\u001b[0matom\u001b[0m\u001b[1;33m]\u001b[0m \u001b[1;33m+=\u001b[0m \u001b[0mint\u001b[0m\u001b[1;33m(\u001b[0m\u001b[0mnum\u001b[0m\u001b[1;33m)\u001b[0m \u001b[1;32mif\u001b[0m \u001b[0mnum\u001b[0m \u001b[1;32melse\u001b[0m \u001b[1;36m1\u001b[0m\u001b[1;33m\u001b[0m\u001b[1;33m\u001b[0m\u001b[0m\n\u001b[0m\u001b[0;32m     20\u001b[0m         \u001b[0mi\u001b[0m \u001b[1;33m+=\u001b[0m \u001b[1;36m1\u001b[0m\u001b[1;33m\u001b[0m\u001b[1;33m\u001b[0m\u001b[0m\n\u001b[0;32m     21\u001b[0m         \u001b[0mprint\u001b[0m\u001b[1;33m(\u001b[0m\u001b[1;34mf'大写字母,i:{i},stack:{stack}'\u001b[0m\u001b[1;33m)\u001b[0m\u001b[1;33m\u001b[0m\u001b[1;33m\u001b[0m\u001b[0m\n",
      "\u001b[1;31mKeyError\u001b[0m: 'K'"
     ]
    }
   ],
   "source": [
    "ans = \"\"\n",
    "stack = [{}]\n",
    "n = len(formula)\n",
    "i = 0\n",
    "# 输入：formula = \"K4(ON(SO3)2)2\"\n",
    "# 输出：\"K4N2O14S4\"\n",
    "while i < n :\n",
    "    if formula[i].isupper():\n",
    "        start = i\n",
    "        while i < n - 1 and formula[i+1].islower():\n",
    "            i += 1\n",
    "        end = i \n",
    "        atom = formula[start:end+1]\n",
    "        while i < n - 1 and formula[i+1].isdigit():\n",
    "            i += 1 \n",
    "        print(f'大写字母,num:{formula[end+1:i+1]}')\n",
    "        num = formula[end+1:i+1]\n",
    "        if stack[-1][atom] :\n",
    "            stack[-1][atom] += int(num)\n",
    "        stack[-1][atom] = int(num) if num else 1 \n",
    "        i += 1\n",
    "        print(f'大写字母,i:{i},stack:{stack}')\n",
    "    elif formula[i] == \"(\":\n",
    "        stack.append({})\n",
    "        i += 1 \n",
    "        print(stack)\n",
    "    else:\n",
    "        inner = stack.pop()\n",
    "        print(f'inner:{inner}')\n",
    "        start = i + 1 \n",
    "        while i < n - 1 and formula[i+1].isdigit():\n",
    "            i += 1 \n",
    "        end = i \n",
    "        num = int(formula[start:end+1])\n",
    "        print(f\"),num:{num}\")\n",
    "        for key in inner:\n",
    "            inner[key]  *= num\n",
    "            if key in stack[-1]:\n",
    "                stack[-1][key] += inner[key]\n",
    "            else:\n",
    "                stack[-1][key] = inner[key]\n",
    "        print(f'stack[-1]:{stack[-1]},inner:{inner}')\n",
    "        \n",
    "        \n",
    "        i += 1\n",
    "        print(f'),i:{i},stack:{stack}')\n",
    "print(stack)\n",
    "        "
   ]
  },
  {
   "cell_type": "code",
   "execution_count": 183,
   "metadata": {},
   "outputs": [
    {
     "output_type": "execute_result",
     "data": {
      "text/plain": [
       "[{'K': 4, 'O': 14, 'N': 1, 'S': 4}]"
      ]
     },
     "metadata": {},
     "execution_count": 183
    }
   ],
   "source": [
    "stack"
   ]
  },
  {
   "cell_type": "code",
   "execution_count": 178,
   "metadata": {},
   "outputs": [],
   "source": [
    "res = []\n",
    "for key,value in stack[0].items():\n",
    "    res.append((key,value))\n",
    "res = sorted(res,key=lambda x:x[0])\n",
    "\n",
    "ans = \"\".join([x[0]+str(x[1]) if x[1] > 1 else x[0] for x in res])\n",
    "\n"
   ]
  },
  {
   "cell_type": "code",
   "execution_count": 179,
   "metadata": {},
   "outputs": [
    {
     "output_type": "execute_result",
     "data": {
      "text/plain": [
       "[('Be', 32)]"
      ]
     },
     "metadata": {},
     "execution_count": 179
    }
   ],
   "source": [
    "res"
   ]
  },
  {
   "cell_type": "code",
   "execution_count": 180,
   "metadata": {},
   "outputs": [
    {
     "output_type": "execute_result",
     "data": {
      "text/plain": [
       "'Be32'"
      ]
     },
     "metadata": {},
     "execution_count": 180
    }
   ],
   "source": [
    "ans"
   ]
  },
  {
   "cell_type": "code",
   "execution_count": 112,
   "metadata": {},
   "outputs": [],
   "source": [
    "xx = {'O': 1, 'N': 1}\n",
    "yy = {'S': 2, 'O': 6}"
   ]
  },
  {
   "cell_type": "code",
   "execution_count": 113,
   "metadata": {},
   "outputs": [],
   "source": [
    "xx.update(yy)"
   ]
  },
  {
   "cell_type": "code",
   "execution_count": 114,
   "metadata": {},
   "outputs": [
    {
     "output_type": "execute_result",
     "data": {
      "text/plain": [
       "{'O': 6, 'N': 1, 'S': 2}"
      ]
     },
     "metadata": {},
     "execution_count": 114
    }
   ],
   "source": [
    "xx"
   ]
  },
  {
   "cell_type": "code",
   "execution_count": null,
   "metadata": {},
   "outputs": [],
   "source": []
  }
 ]
}