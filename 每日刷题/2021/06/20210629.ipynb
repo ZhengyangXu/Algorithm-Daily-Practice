{
 "metadata": {
  "language_info": {
   "codemirror_mode": {
    "name": "ipython",
    "version": 3
   },
   "file_extension": ".py",
   "mimetype": "text/x-python",
   "name": "python",
   "nbconvert_exporter": "python",
   "pygments_lexer": "ipython3",
   "version": "3.7.7"
  },
  "orig_nbformat": 4,
  "kernelspec": {
   "name": "python3",
   "display_name": "Python 3.7.7 64-bit ('ML': conda)"
  },
  "interpreter": {
   "hash": "48c07bd38cf2d9a9de910d4b2d05fa3599e598780a3671a83bc7380a09869906"
  }
 },
 "nbformat": 4,
 "nbformat_minor": 2,
 "cells": [
  {
   "source": [
    "## leetcode [815] 公交路线"
   ],
   "cell_type": "markdown",
   "metadata": {}
  },
  {
   "cell_type": "code",
   "execution_count": 6,
   "metadata": {},
   "outputs": [],
   "source": [
    "from collections import defaultdict"
   ]
  },
  {
   "cell_type": "code",
   "execution_count": 7,
   "metadata": {},
   "outputs": [],
   "source": [
    "routes = [[1,2,7],[3,6,7]]\n",
    "source = 1\n",
    "target = 6"
   ]
  },
  {
   "source": [
    "### 单向BFS"
   ],
   "cell_type": "markdown",
   "metadata": {}
  },
  {
   "cell_type": "code",
   "execution_count": 14,
   "metadata": {},
   "outputs": [],
   "source": [
    "def numBusesToDestination(routes, source, target):\n",
    "    if source == target:\n",
    "        return 0 \n",
    "    stations = defaultdict(set)\n",
    "    for i,stops in enumerate(routes):\n",
    "        for stop in stops:\n",
    "            stations[stop].add(i)\n",
    "    \n",
    "    routes = [set(x) for x in routes]\n",
    "\n",
    "\n",
    "    q = [(source,0)]\n",
    "    buses = set()\n",
    "    stops = {source}\n",
    "\n",
    "    while q:\n",
    "        curstop,cost = q.pop(0)\n",
    "\n",
    "        if curstop == target:\n",
    "            return cost \n",
    "\n",
    "        for bus in stations[curstop] - buses:\n",
    "            for stop in routes[bus] - stops:\n",
    "                buses.add(bus)\n",
    "                stops.add(stop)\n",
    "                q.append((stop,cost+1))\n",
    "        \n",
    "    return -1 \n",
    "\n"
   ]
  },
  {
   "cell_type": "code",
   "execution_count": 15,
   "metadata": {},
   "outputs": [
    {
     "output_type": "execute_result",
     "data": {
      "text/plain": [
       "2"
      ]
     },
     "metadata": {},
     "execution_count": 15
    }
   ],
   "source": [
    "numBusesToDestination(routes,source,target)"
   ]
  },
  {
   "source": [
    "### 双向BFS"
   ],
   "cell_type": "markdown",
   "metadata": {}
  },
  {
   "cell_type": "code",
   "execution_count": 26,
   "metadata": {},
   "outputs": [],
   "source": [
    "def numBusesToDestination2(routes, source, target):\n",
    "    if source == target:\n",
    "        return 0 \n",
    "    \n",
    "    routes = [set(x) for x in routes]\n",
    "\n",
    "    stations = defaultdict(set)\n",
    "\n",
    "    for i,stops in enumerate(routes):\n",
    "        for stop in stops:\n",
    "            stations[stop].add(i)\n",
    "\n",
    "    buses = set()\n",
    "    stops = {source}\n",
    "    cost = 0 \n",
    "\n",
    "    front = {source}\n",
    "    back = {target}\n",
    "\n",
    "\n",
    "    while front and back:\n",
    "        nexstops = set() \n",
    "\n",
    "        for curstop in front:\n",
    "            for curbus in stations[curstop] - buses:\n",
    "                for targetstop in back:\n",
    "                    if curbus in stations[targetstop]:\n",
    "                        return cost + 1 \n",
    "                buses.add(curbus)\n",
    "                for nexstop in routes[curbus] - stops:\n",
    "                    \n",
    "                    stops.add(nexstop)\n",
    "                    nexstops.add(nexstop)\n",
    "            \n",
    "        cost += 1 \n",
    "        front = back \n",
    "        back = nexstops \n",
    "    return -1 "
   ]
  },
  {
   "cell_type": "code",
   "execution_count": 27,
   "metadata": {},
   "outputs": [
    {
     "output_type": "execute_result",
     "data": {
      "text/plain": [
       "2"
      ]
     },
     "metadata": {},
     "execution_count": 27
    }
   ],
   "source": [
    "numBusesToDestination2(routes,source,target)"
   ]
  },
  {
   "source": [
    "##  leetcode [767] 重构字符串"
   ],
   "cell_type": "markdown",
   "metadata": {}
  },
  {
   "cell_type": "code",
   "execution_count": 38,
   "metadata": {},
   "outputs": [],
   "source": [
    "from collections import Counter \n",
    "import heapq"
   ]
  },
  {
   "cell_type": "code",
   "execution_count": 45,
   "metadata": {},
   "outputs": [],
   "source": [
    "def reorganizeString(s):\n",
    "    if not s:\n",
    "        return True \n",
    "    n = len(s)\n",
    "    count = Counter(s)\n",
    "\n",
    "    maxcount = max(count.items(),key=lambda x:x[1])[1]\n",
    "\n",
    "    if maxcount > (n+1)//2:\n",
    "        return ''\n",
    "\n",
    "    q = [(-x[1],x[0]) for x in count.items()]\n",
    "    heapq.heapify(q)\n",
    "    ans = []\n",
    "\n",
    "    while len(q) > 1:\n",
    "        letter1 = heapq.heappop(q)[1]\n",
    "        letter2 = heapq.heappop(q)[1]\n",
    "        ans.extend([letter1,letter2])\n",
    "        count[letter1] -= 1 \n",
    "        count[letter2] -= 1\n",
    "        if count[letter1] > 0:\n",
    "            heapq.heappush(q,(-count[letter1],letter1))\n",
    "        if count[letter2]> 0:\n",
    "            heapq.heappush(q,(-count[letter2],letter2))\n",
    "    if q:\n",
    "        ans.append(q[0][1])\n",
    "\n",
    "    return \"\".join(ans)\n"
   ]
  },
  {
   "cell_type": "code",
   "execution_count": 46,
   "metadata": {},
   "outputs": [],
   "source": [
    "s = \"aaaaaabbbbbbcccccc\""
   ]
  },
  {
   "cell_type": "code",
   "execution_count": 47,
   "metadata": {},
   "outputs": [
    {
     "output_type": "execute_result",
     "data": {
      "text/plain": [
       "'abcabcabcabcabcabc'"
      ]
     },
     "metadata": {},
     "execution_count": 47
    }
   ],
   "source": [
    "reorganizeString(s)"
   ]
  },
  {
   "source": [
    "## 字节面经\n",
    "\n",
    "data = [\n",
    "  {\n",
    "    \"id\": \"1\",\n",
    "    \"sub\": [\n",
    "      {\n",
    "        \"id\": \"2\",\n",
    "        \"sub\": [\n",
    "          {\n",
    "            \"id\": \"3\",\n",
    "            \"sub\": null\n",
    "          },\n",
    "          {\n",
    "            \"id\": \"4\",\n",
    "            \"sub\": [\n",
    "              {\n",
    "                \"id\": \"6\",\n",
    "                \"sub\": null\n",
    "              }\n",
    "            ]\n",
    "          },\n",
    "          {\n",
    "            \"id\": \"5\",\n",
    "            \"sub\": null\n",
    "          }\n",
    "        ]\n",
    "      }\n",
    "    ]\n",
    "  },\n",
    "  {\n",
    "    \"id\": \"7\",\n",
    "    \"sub\": [\n",
    "      {\n",
    "        \"id\": \"8\",\n",
    "        \"sub\": [\n",
    "          {\n",
    "            \"id\": \"9\",\n",
    "            \"sub\": null\n",
    "          }\n",
    "        ]\n",
    "      }\n",
    "    ]\n",
    "  },\n",
    "  {\n",
    "    \"id\": \"10\",\n",
    "    \"sub\": null\n",
    "  }\n",
    "]\n",
    "\n",
    "现在给定一个id，要求实现一个函数\n",
    " \n",
    "findPath(data, id) {\n",
    " \n",
    "}\n",
    "返回给定id在 data 里的路径\n",
    "示例:\n",
    " \n",
    "id = \"1\" => [\"1\"]\n",
    "id = \"9\" => [\"7\", \"8\", \"9\"]\n",
    "id = \"100\"=> []\n",
    "PS: id 全局唯一，无序\n",
    "\n",
    "链接：https://www.nowcoder.com/discuss/676425?type=2&channel=-1&source_id=discuss_terminal_discuss_hot_nctrack"
   ],
   "cell_type": "markdown",
   "metadata": {}
  },
  {
   "cell_type": "code",
   "execution_count": 47,
   "metadata": {},
   "outputs": [],
   "source": [
    "data = [ { \"id\": \"1\", \"sub\": [ { \"id\": \"2\", \"sub\": [ { \"id\": \"3\", \"sub\": None }, { \"id\": \"4\", \"sub\": { \"id\": \"6\", \"sub\": None } }, { \"id\": \"5\", \"sub\": None } ] } ] }, { \"id\": \"7\", \"sub\": [ { \"id\": \"8\", \"sub\": { \"id\": \"9\", \"sub\":None } } ] }, { \"id\": \"10\", \"sub\": None } ]"
   ]
  },
  {
   "cell_type": "code",
   "execution_count": 48,
   "metadata": {},
   "outputs": [
    {
     "output_type": "execute_result",
     "data": {
      "text/plain": [
       "[{'id': '1',\n",
       "  'sub': [{'id': '2',\n",
       "    'sub': [{'id': '3', 'sub': None},\n",
       "     {'id': '4', 'sub': {'id': '6', 'sub': None}},\n",
       "     {'id': '5', 'sub': None}]}]},\n",
       " {'id': '7', 'sub': [{'id': '8', 'sub': {'id': '9', 'sub': None}}]},\n",
       " {'id': '10', 'sub': None}]"
      ]
     },
     "metadata": {},
     "execution_count": 48
    }
   ],
   "source": [
    "data"
   ]
  },
  {
   "cell_type": "code",
   "execution_count": 32,
   "metadata": {},
   "outputs": [
    {
     "output_type": "stream",
     "name": "stdout",
     "text": [
      "data:[{'id': '1', 'sub': [{'id': '2', 'sub': [{'id': '3', 'sub': None}, {'id': '4', 'sub': {'id': '6', 'sub': None}}, {'id': '5', 'sub': None}]}]}, {'id': '7', 'sub': [{'id': '8', 'sub': {'id': '9', 'sub': None}}]}, {'id': '10', 'sub': None}]\npath:1\ndata:[{'id': '2', 'sub': [{'id': '3', 'sub': None}, {'id': '4', 'sub': {'id': '6', 'sub': None}}, {'id': '5', 'sub': None}]}]\npath:12\ndata:[{'id': '3', 'sub': None}, {'id': '4', 'sub': {'id': '6', 'sub': None}}, {'id': '5', 'sub': None}]\npath:123\npath:124\ndata:{'id': '6', 'sub': None}\ndata是dict,find id:100, path:1246\npath:125\npath:7\ndata:[{'id': '8', 'sub': {'id': '9', 'sub': None}}]\npath:78\ndata:{'id': '9', 'sub': None}\ndata是dict,find id:100, path:789\npath:10\n"
     ]
    },
    {
     "output_type": "execute_result",
     "data": {
      "text/plain": [
       "'1'"
      ]
     },
     "metadata": {},
     "execution_count": 32
    }
   ],
   "source": [
    "def findPath(data,id,path):\n",
    "\n",
    "    if not data:\n",
    "        return \n",
    "    print(f'data:{data}')\n",
    "    if type(data) == dict:\n",
    "        path += data['id']\n",
    "        print(f\"data是dict,find id:{id}, path:{path}\")\n",
    "        if data['id'] == id:\n",
    "            res = path[:]\n",
    "            return res\n",
    "    else:\n",
    "        for i in range(len(data)):\n",
    "            path += data[i]['id']\n",
    "            if data[i]['id'] == id:\n",
    "                print(f\"data是list, find id:{id}, path:{path}\")\n",
    "                return path \n",
    "        \n",
    "            print(f'path:{path}')\n",
    "            # if not data[i]['sub']:\n",
    "            #     return \n",
    "            \n",
    "\n",
    "            \n",
    "            findPath(data[i]['sub'],id,path)\n",
    "            path = path[:-1]\n",
    "        return path"
   ]
  },
  {
   "source": [
    "## 剑指 Offer 38. 字符串的排列"
   ],
   "cell_type": "markdown",
   "metadata": {}
  },
  {
   "cell_type": "code",
   "execution_count": 146,
   "metadata": {},
   "outputs": [],
   "source": [
    "def permutation(s) :\n",
    "    if not s:\n",
    "        return s \n",
    "    n = len(s)\n",
    "    res = []\n",
    "    path = ''\n",
    "    visited = [0]*n \n",
    "    s = sorted(s)\n",
    "    def backtrack(s,path):\n",
    "        if len(path)== len(s):\n",
    "            path = path[:]\n",
    "            res.append(path)\n",
    "        \n",
    "        for i in range(n):\n",
    "            if visited[i] or (i > 0 and not visited[i-1] and s[i] == s[i-1]):\n",
    "                continue \n",
    "            path += s[i]\n",
    "            visited[i] = True \n",
    "            backtrack(s,path)\n",
    "            path = path[:-1]\n",
    "            visited[i] = False \n",
    "    \n",
    "    \n",
    "    backtrack(s,path)\n",
    "    return res "
   ]
  },
  {
   "cell_type": "code",
   "execution_count": 147,
   "metadata": {},
   "outputs": [
    {
     "output_type": "execute_result",
     "data": {
      "text/plain": [
       "['abc', 'acb', 'bac', 'bca', 'cab', 'cba']"
      ]
     },
     "metadata": {},
     "execution_count": 147
    }
   ],
   "source": [
    "permutation('abc')"
   ]
  },
  {
   "cell_type": "code",
   "execution_count": 148,
   "metadata": {},
   "outputs": [],
   "source": [
    "def permutation(s):\n",
    "    if len(s) <= 1:\n",
    "        return [s] \n",
    "    n = len(s)\n",
    "    res = []\n",
    "    for i in range(n):\n",
    "        cur = s[i]\n",
    "        nex = permutation(s[:i]+s[i+1:])\n",
    "        for item in nex:\n",
    "            res.append(cur+item)\n",
    "\n",
    "    return res \n"
   ]
  },
  {
   "cell_type": "code",
   "execution_count": null,
   "metadata": {},
   "outputs": [],
   "source": []
  }
 ]
}