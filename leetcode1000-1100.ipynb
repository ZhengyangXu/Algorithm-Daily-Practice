{
 "metadata": {
  "language_info": {
   "codemirror_mode": {
    "name": "ipython",
    "version": 3
   },
   "file_extension": ".py",
   "mimetype": "text/x-python",
   "name": "python",
   "nbconvert_exporter": "python",
   "pygments_lexer": "ipython3",
   "version": "3.7.7-final"
  },
  "orig_nbformat": 2,
  "kernelspec": {
   "name": "python3",
   "display_name": "Python 3"
  }
 },
 "nbformat": 4,
 "nbformat_minor": 2,
 "cells": [
  {
   "cell_type": "code",
   "execution_count": 1,
   "metadata": {},
   "outputs": [],
   "source": [
    "# [1071] 字符串的最大公因子\n",
    "#\n",
    "# https://leetcode-cn.com/problems/greatest-common-divisor-of-strings/description/\n",
    "#\n",
    "# algorithms\n",
    "# Easy (58.59%)\n",
    "# Likes:    176\n",
    "# Dislikes: 0\n",
    "# Total Accepted:    30.6K\n",
    "# Total Submissions: 52.3K\n",
    "# Testcase Example:  '\"ABCABC\"\\n\"ABC\"'\n",
    "#\n",
    "# 对于字符串 S 和 T，只有在 S = T + ... + T（T 与自身连接 1 次或多次）时，我们才认定 “T 能除尽 S”。\n",
    "# \n",
    "# 返回最长字符串 X，要求满足 X 能除尽 str1 且 X 能除尽 str2。\n",
    "# \n",
    "# \n",
    "# \n",
    "# 示例 1：\n",
    "# \n",
    "# 输入：str1 = \"ABCABC\", str2 = \"ABC\"\n",
    "# 输出：\"ABC\"\n",
    "# \n",
    "# \n",
    "# 示例 2：\n",
    "# \n",
    "# 输入：str1 = \"ABABAB\", str2 = \"ABAB\"\n",
    "# 输出：\"AB\"\n",
    "# \n",
    "# \n",
    "# 示例 3：\n",
    "# \n",
    "# 输入：str1 = \"LEET\", str2 = \"CODE\"\n",
    "# 输出：\"\"\n",
    "# \n",
    "# \n",
    "# \n",
    "# \n",
    "# 提示：\n",
    "# \n",
    "# \n",
    "# 1 <= str1.length <= 1000\n",
    "# 1 <= str2.length <= 1000\n",
    "# str1[i] 和 str2[i] 为大写英文字母\n",
    "# \n",
    "# \n",
    "#\n",
    "\n",
    "# @lc code=start\n",
    "\n",
    "def gcdOfStrings(str1, str2):\n",
    "    if (str1+str2) != (str2+str1):\n",
    "        return \"\"\n",
    "    m,n = len(str1),len(str2)\n",
    "\n",
    "    while n > 0:\n",
    "        m,n = n,m%n \n",
    "    \n",
    "    return str1[:m]"
   ]
  },
  {
   "cell_type": "code",
   "execution_count": 2,
   "metadata": {},
   "outputs": [],
   "source": [
    "str1 = \"ABCABC\"\n",
    "str2 = \"ABC\""
   ]
  },
  {
   "cell_type": "code",
   "execution_count": 3,
   "metadata": {},
   "outputs": [
    {
     "output_type": "execute_result",
     "data": {
      "text/plain": [
       "'ABC'"
      ]
     },
     "metadata": {},
     "execution_count": 3
    }
   ],
   "source": [
    "gcdOfStrings(str1,str2)"
   ]
  },
  {
   "cell_type": "code",
   "execution_count": null,
   "metadata": {},
   "outputs": [],
   "source": []
  }
 ]
}