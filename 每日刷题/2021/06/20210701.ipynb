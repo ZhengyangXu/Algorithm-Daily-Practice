{
 "metadata": {
  "language_info": {
   "codemirror_mode": {
    "name": "ipython",
    "version": 3
   },
   "file_extension": ".py",
   "mimetype": "text/x-python",
   "name": "python",
   "nbconvert_exporter": "python",
   "pygments_lexer": "ipython3",
   "version": "3.7.7"
  },
  "orig_nbformat": 4,
  "kernelspec": {
   "name": "python3",
   "display_name": "Python 3.7.7 64-bit ('ML': conda)"
  },
  "interpreter": {
   "hash": "48c07bd38cf2d9a9de910d4b2d05fa3599e598780a3671a83bc7380a09869906"
  }
 },
 "nbformat": 4,
 "nbformat_minor": 2,
 "cells": [
  {
   "source": [
    "## 约瑟夫环"
   ],
   "cell_type": "markdown",
   "metadata": {}
  },
  {
   "cell_type": "code",
   "execution_count": 1,
   "metadata": {},
   "outputs": [],
   "source": [
    "def joshPh(n,m):\n",
    "    if n == 1:\n",
    "        return n \n",
    "    return (joshPh(n-1,m)+m-1)%n+1"
   ]
  },
  {
   "cell_type": "code",
   "execution_count": 4,
   "metadata": {},
   "outputs": [
    {
     "output_type": "execute_result",
     "data": {
      "text/plain": [
       "2"
      ]
     },
     "metadata": {},
     "execution_count": 4
    }
   ],
   "source": [
    "joshPh(3,3)"
   ]
  },
  {
   "source": [
    "## 剑指 Offer 37. 序列化二叉树"
   ],
   "cell_type": "markdown",
   "metadata": {}
  },
  {
   "source": [
    "LCP 07. 传递信息\n",
    "小朋友 A 在和 ta 的小伙伴们玩传信息游戏，游戏规则如下：\n",
    "\n",
    "有 n 名玩家，所有玩家编号分别为 0 ～ n-1，其中小朋友 A 的编号为 0\n",
    "每个玩家都有固定的若干个可传信息的其他玩家（也可能没有）。传信息的关系是单向的（比如 A 可以向 B 传信息，但 B 不能向 A 传信息）。\n",
    "每轮信息必须需要传递给另一个人，且信息可重复经过同一个人\n",
    "给定总玩家数 n，以及按 [玩家编号,对应可传递玩家编号] 关系组成的二维数组 relation。返回信息从小 A (编号 0 ) 经过 k 轮传递到编号为 n-1 的小伙伴处的方案数；若不能到达，返回 0。\n",
    "\n",
    "示例 1：\n",
    "\n",
    "输入：n = 5, relation = [[0,2],[2,1],[3,4],[2,3],[1,4],[2,0],[0,4]], k = 3\n",
    "\n",
    "输出：3\n",
    "\n",
    "解释：信息从小 A 编号 0 处开始，经 3 轮传递，到达编号 4。共有 3 种方案，分别是 0->2->0->4， 0->2->1->4， 0->2->3->4。\n",
    "\n",
    "示例 2：\n",
    "\n",
    "输入：n = 3, relation = [[0,2],[2,1]], k = 2\n",
    "\n",
    "输出：0\n",
    "\n",
    "解释：信息不能从小 A 处经过 2 轮传递到编号 2\n",
    "\n",
    "限制：\n",
    "\n",
    "2 <= n <= 10\n",
    "1 <= k <= 5\n",
    "1 <= relation.length <= 90, 且 relation[i].length == 2\n",
    "0 <= relation[i][0],relation[i][1] < n 且 relation[i][0] != relation[i][1]"
   ],
   "cell_type": "markdown",
   "metadata": {}
  },
  {
   "cell_type": "code",
   "execution_count": null,
   "metadata": {},
   "outputs": [],
   "source": []
  }
 ]
}