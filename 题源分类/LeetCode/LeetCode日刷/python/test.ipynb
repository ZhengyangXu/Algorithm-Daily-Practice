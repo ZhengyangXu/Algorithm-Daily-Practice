{
 "metadata": {
  "language_info": {
   "codemirror_mode": {
    "name": "ipython",
    "version": 3
   },
   "file_extension": ".py",
   "mimetype": "text/x-python",
   "name": "python",
   "nbconvert_exporter": "python",
   "pygments_lexer": "ipython3",
   "version": "3.7.7"
  },
  "orig_nbformat": 2,
  "kernelspec": {
   "name": "python37764bitmlcondab6a89081ae6a4bdba6e1c2e4438ccc90",
   "display_name": "Python 3.7.7 64-bit ('ML': conda)"
  },
  "metadata": {
   "interpreter": {
    "hash": "48c07bd38cf2d9a9de910d4b2d05fa3599e598780a3671a83bc7380a09869906"
   }
  }
 },
 "nbformat": 4,
 "nbformat_minor": 2,
 "cells": [
  {
   "cell_type": "code",
   "execution_count": 13,
   "metadata": {},
   "outputs": [],
   "source": [
    "def findRelativeRanks(score):\n",
    "    \n",
    "    n = len(score)\n",
    "    \n",
    "    for i in range(n):\n",
    "        count = 1\n",
    "        for j in range(n):\n",
    "            print(\"j:{},i:{}\".format(score[j],score[i]))\n",
    "            if score[j] > score[i]:\n",
    "                print(hello)\n",
    "                count += 1\n",
    "        score[i] = count\n",
    "    return score\n",
    "            "
   ]
  },
  {
   "cell_type": "code",
   "execution_count": 14,
   "metadata": {},
   "outputs": [],
   "source": [
    "score = [5,4,3,2,1]"
   ]
  },
  {
   "cell_type": "code",
   "execution_count": 15,
   "metadata": {},
   "outputs": [
    {
     "output_type": "stream",
     "name": "stdout",
     "text": [
      "j:5,i:5\nj:4,i:5\nj:3,i:5\nj:2,i:5\nj:1,i:5\nj:1,i:4\nj:4,i:4\nj:3,i:4\nj:2,i:4\nj:1,i:4\nj:1,i:3\nj:1,i:3\nj:3,i:3\nj:2,i:3\nj:1,i:3\nj:1,i:2\nj:1,i:2\nj:1,i:2\nj:2,i:2\nj:1,i:2\nj:1,i:1\nj:1,i:1\nj:1,i:1\nj:1,i:1\nj:1,i:1\n"
     ]
    },
    {
     "output_type": "execute_result",
     "data": {
      "text/plain": [
       "[1, 1, 1, 1, 1]"
      ]
     },
     "metadata": {},
     "execution_count": 15
    }
   ],
   "source": [
    "findRelativeRanks(score)"
   ]
  },
  {
   "cell_type": "code",
   "execution_count": 1,
   "metadata": {},
   "outputs": [],
   "source": [
    "matrix = [[1,2,3],[4,5,6],[7,8,9]]"
   ]
  },
  {
   "cell_type": "code",
   "execution_count": 11,
   "metadata": {},
   "outputs": [
    {
     "output_type": "execute_result",
     "data": {
      "text/plain": [
       "[(1, 4, 7), (2, 5, 8), (3, 6, 9)]"
      ]
     },
     "metadata": {},
     "execution_count": 11
    }
   ],
   "source": [
    "list(list(zip(*matrix)))"
   ]
  },
  {
   "cell_type": "code",
   "execution_count": 5,
   "metadata": {},
   "outputs": [
    {
     "output_type": "execute_result",
     "data": {
      "text/plain": [
       "[(1, 4, 7), (2, 5, 8), (3, 6, 9)]"
      ]
     },
     "metadata": {},
     "execution_count": 5
    }
   ],
   "source": [
    "list(zip([1,2,3],[4,5,6],[7,8,9]))"
   ]
  },
  {
   "cell_type": "code",
   "execution_count": 9,
   "metadata": {},
   "outputs": [
    {
     "output_type": "execute_result",
     "data": {
      "text/plain": [
       "[(1, 4), (2, 5), (3, 6)]"
      ]
     },
     "metadata": {},
     "execution_count": 9
    }
   ],
   "source": [
    "list(zip(*[[1,2,3],[4,5,6]]))"
   ]
  },
  {
   "cell_type": "code",
   "execution_count": 12,
   "metadata": {},
   "outputs": [
    {
     "output_type": "execute_result",
     "data": {
      "text/plain": [
       "[2, 4]"
      ]
     },
     "metadata": {},
     "execution_count": 12
    }
   ],
   "source": [
    "list((2,4))"
   ]
  },
  {
   "cell_type": "code",
   "execution_count": 25,
   "metadata": {},
   "outputs": [],
   "source": [
    "    def canPlaceFlowers(flowerbed,n):\n",
    "        \n",
    "        count = 0 \n",
    "        size = len(flowerbed)\n",
    "        for i in range(size):\n",
    "            if flowerbed[i] == 0:\n",
    "                if i == 0:\n",
    "                    if flowerbed[i+1] == 0:\n",
    "                        count += 1\n",
    "                        flowerbed[i] = 1\n",
    "                    print(count,1,flowerbed) \n",
    "                elif i == size - 1:\n",
    "                    if flowerbed[i-1] == 0:\n",
    "                        count += 1 \n",
    "                        flowerbed[i] = 1\n",
    "                    print(count,2,flowerbed) \n",
    "                \n",
    "                else:\n",
    "                    if flowerbed[i-1] == 0 and flowerbed[i+1] == 0:\n",
    "                        count += 1 \n",
    "                        flowerbed[i] = 1 \n",
    "                    print(count,3,flowerbed) \n",
    "      \n",
    "        return count >= n"
   ]
  },
  {
   "cell_type": "code",
   "execution_count": 27,
   "metadata": {},
   "outputs": [
    {
     "output_type": "stream",
     "name": "stdout",
     "text": [
      "0 3 [1, 0, 0, 0, 0, 1]\n1 3 [1, 0, 1, 0, 0, 1]\n1 3 [1, 0, 1, 0, 0, 1]\n1 3 [1, 0, 1, 0, 0, 1]\n"
     ]
    },
    {
     "output_type": "execute_result",
     "data": {
      "text/plain": [
       "False"
      ]
     },
     "metadata": {},
     "execution_count": 27
    }
   ],
   "source": [
    "canPlaceFlowers([1,0,0,0,0,1],2)"
   ]
  },
  {
   "source": [
    "### 2021/05/27"
   ],
   "cell_type": "markdown",
   "metadata": {}
  },
  {
   "cell_type": "code",
   "execution_count": 5,
   "metadata": {},
   "outputs": [],
   "source": [
    "def hammingDistance( x, y) :\n",
    "    count = 0\n",
    "    for i in range(32):\n",
    "        print(\"x&1:{},y&1:{}\".format(x&1,y&1))\n",
    "        if x & 1 == y & 1:\n",
    "            print('in')\n",
    "            count += 1 \n",
    "        x >>= 1 \n",
    "        y >>= 1 \n",
    "    return count "
   ]
  },
  {
   "cell_type": "code",
   "execution_count": 6,
   "metadata": {},
   "outputs": [
    {
     "output_type": "stream",
     "name": "stdout",
     "text": [
      "x&1:1,y&1:0\nx&1:0,y&1:0\nin\nx&1:0,y&1:1\nx&1:0,y&1:0\nin\nx&1:0,y&1:0\nin\nx&1:0,y&1:0\nin\nx&1:0,y&1:0\nin\nx&1:0,y&1:0\nin\nx&1:0,y&1:0\nin\nx&1:0,y&1:0\nin\nx&1:0,y&1:0\nin\nx&1:0,y&1:0\nin\nx&1:0,y&1:0\nin\nx&1:0,y&1:0\nin\nx&1:0,y&1:0\nin\nx&1:0,y&1:0\nin\nx&1:0,y&1:0\nin\nx&1:0,y&1:0\nin\nx&1:0,y&1:0\nin\nx&1:0,y&1:0\nin\nx&1:0,y&1:0\nin\nx&1:0,y&1:0\nin\nx&1:0,y&1:0\nin\nx&1:0,y&1:0\nin\nx&1:0,y&1:0\nin\nx&1:0,y&1:0\nin\nx&1:0,y&1:0\nin\nx&1:0,y&1:0\nin\nx&1:0,y&1:0\nin\nx&1:0,y&1:0\nin\nx&1:0,y&1:0\nin\nx&1:0,y&1:0\nin\n"
     ]
    },
    {
     "output_type": "execute_result",
     "data": {
      "text/plain": [
       "30"
      ]
     },
     "metadata": {},
     "execution_count": 6
    }
   ],
   "source": [
    "hammingDistance(1,4)"
   ]
  },
  {
   "cell_type": "code",
   "execution_count": 8,
   "metadata": {},
   "outputs": [],
   "source": [
    "def dfs(id, res):\n",
    "    if not id:\n",
    "        return\n",
    "    print(\"id:{},res:{}\".format(id,res))\n",
    "    res = workers[id].importance\n",
    "    for id in workers[id].subordinates:\n",
    "        res += dfs(id, res)\n",
    "\n",
    "    return res\n"
   ]
  },
  {
   "cell_type": "code",
   "execution_count": null,
   "metadata": {},
   "outputs": [],
   "source": [
    "[[1, 5, [2, 3]], [2, 3, []], [3, 3, []]], 1\n",
    "workers = {1:5,}"
   ]
  },
  {
   "cell_type": "code",
   "execution_count": 18,
   "metadata": {},
   "outputs": [],
   "source": [
    "nums = [23,2,6,4,7]\n",
    "presum = [nums[0]]\n",
    "n = len(nums)\n",
    "for i in range(1,n):\n",
    "    presum.append(presum[-1]+nums[i])"
   ]
  },
  {
   "cell_type": "code",
   "execution_count": 19,
   "metadata": {},
   "outputs": [
    {
     "output_type": "execute_result",
     "data": {
      "text/plain": [
       "[23, 25, 31, 35, 42]"
      ]
     },
     "metadata": {},
     "execution_count": 19
    }
   ],
   "source": [
    "presum"
   ]
  },
  {
   "cell_type": "code",
   "execution_count": 7,
   "metadata": {},
   "outputs": [],
   "source": [
    "import itertools"
   ]
  },
  {
   "cell_type": "code",
   "execution_count": 8,
   "metadata": {},
   "outputs": [],
   "source": [
    "c = itertools.accumulate(nums)"
   ]
  },
  {
   "cell_type": "code",
   "execution_count": 11,
   "metadata": {},
   "outputs": [
    {
     "output_type": "stream",
     "name": "stdout",
     "text": [
      "[23, 25, 31, 35, 42]\n"
     ]
    }
   ],
   "source": [
    "print(list(c))"
   ]
  },
  {
   "cell_type": "code",
   "execution_count": 25,
   "metadata": {},
   "outputs": [],
   "source": [
    "    def checkSubarraySum(nums, k) :\n",
    "        \n",
    "        presum = [nums[0]]\n",
    "        n = len(nums)\n",
    "        for i in range(1,n):\n",
    "            presum.append(presum[-1]+nums[i])\n",
    "            \n",
    "        ans = set()\n",
    "        print(presum)\n",
    "        for i in range(1,len(presum)):\n",
    "            ans.add(presum[i-1] % k)\n",
    "            print(ans)\n",
    "            if presum[i] % k in ans:\n",
    "                return True\n",
    "        return False  "
   ]
  },
  {
   "cell_type": "code",
   "execution_count": 26,
   "metadata": {},
   "outputs": [
    {
     "output_type": "stream",
     "name": "stdout",
     "text": [
      "[23, 25, 29, 35, 41]\n{2}\n{2, 4}\n{1, 2, 4}\n{0, 1, 2, 4}\n"
     ]
    },
    {
     "output_type": "execute_result",
     "data": {
      "text/plain": [
       "False"
      ]
     },
     "metadata": {},
     "execution_count": 26
    }
   ],
   "source": [
    "checkSubarraySum([23,2,4,6,6],7)\n"
   ]
  },
  {
   "cell_type": "code",
   "execution_count": 24,
   "metadata": {},
   "outputs": [
    {
     "output_type": "execute_result",
     "data": {
      "text/plain": [
       "[23, 25, 31, 35, 42]"
      ]
     },
     "metadata": {},
     "execution_count": 24
    }
   ],
   "source": [
    "presum"
   ]
  },
  {
   "cell_type": "code",
   "execution_count": 51,
   "metadata": {},
   "outputs": [],
   "source": [
    "nums = [0,1]"
   ]
  },
  {
   "cell_type": "code",
   "execution_count": 52,
   "metadata": {},
   "outputs": [
    {
     "output_type": "stream",
     "name": "stdout",
     "text": [
      "[0, -1, 0]\n"
     ]
    }
   ],
   "source": [
    "n = len(nums)\n",
    "presum = [0]\n",
    "for i in range(n):\n",
    "    presum.append(presum[-1] + (1 if nums[i] else -1) )\n",
    "print(presum)\n",
    "dic = {0:0}\n",
    "ans = 0\n",
    "for i in range(2,n):\n",
    "    if presum[i-2] not in dic:\n",
    "        print(\"not in \")\n",
    "        dic[presum[i-2]] = i- 2\n",
    "    if presum[i] in dic:\n",
    "        print(\"in\")\n",
    "        ans = max(ans,i-dic[presum[i]])"
   ]
  },
  {
   "cell_type": "code",
   "execution_count": 49,
   "metadata": {},
   "outputs": [
    {
     "output_type": "execute_result",
     "data": {
      "text/plain": [
       "0"
      ]
     },
     "metadata": {},
     "execution_count": 49
    }
   ],
   "source": [
    "ans"
   ]
  },
  {
   "cell_type": "code",
   "execution_count": 32,
   "metadata": {},
   "outputs": [
    {
     "output_type": "execute_result",
     "data": {
      "text/plain": [
       "[0, 1, 0, 1, 2, 3, 2, 1, 0]"
      ]
     },
     "metadata": {},
     "execution_count": 32
    }
   ],
   "source": [
    "presum"
   ]
  },
  {
   "cell_type": "code",
   "execution_count": 78,
   "metadata": {},
   "outputs": [],
   "source": [
    "def removeInvalidParentheses(s) :\n",
    "    valid = []\n",
    "    length = len(s)\n",
    "    l,r = 0,0 \n",
    "    for char in s:\n",
    "        if char == \"(\":\n",
    "            l += 1 \n",
    "        elif char == \")\":\n",
    "            if l == 0:\n",
    "                r += 1 \n",
    "            if l > 0:\n",
    "                l -= 1\n",
    "    print(\"(:{},):{}\".format(l,r))\n",
    "        \n",
    "        \n",
    "    def dfs(index,leftcount,rightcount,leftremove,rightremove, path):\n",
    "        if index == length:\n",
    "            if leftremove == 0 and rightremove == 0:\n",
    "                path = path[:]\n",
    "                if path not in valid:\n",
    "                    print(\"输出答案\")\n",
    "                    valid.append(path)\n",
    "            return \n",
    "        char = s[index]\n",
    "        \n",
    "        if char == \"(\" and leftremove > 0:\n",
    "            print(\"进入1,path:{}\".format(path))\n",
    "            dfs(index+1,leftcount,rightcount,leftremove-1,rightremove,path)\n",
    "        \n",
    "        if char == \")\" and rightremove > 0:\n",
    "            print(\"进入2,path:{}\".format(path))\n",
    "            dfs(index+1,leftcount,rightcount,leftremove,rightremove-1,path)\n",
    "            \n",
    "        path += char \n",
    "        \n",
    "        if char != \"(\" and char != \")\":\n",
    "            print(\"进入3,path:{}\".format(path))\n",
    "            dfs(index+1,leftcount,rightcount,leftremove,rightremove,path)\n",
    "        elif char == \"(\":\n",
    "            print(\"进入4,path:{}\".format(path))\n",
    "            dfs(index+1,leftcount+1,rightcount,leftremove,rightremove,path)\n",
    "        elif rightcount < leftcount:\n",
    "            print(\"进入5,path:{}\".format(path))\n",
    "            dfs(index+1,leftcount,rightcount+1,leftremove,rightremove,path)\n",
    "            \n",
    "        path = path[:len(path)-1]\n",
    "        print(\"回撤:{}\".format(path))\n",
    "    path = ''\n",
    "    dfs(0,0,0,l,r,path)\n",
    "    return valid \n",
    "        \n"
   ]
  },
  {
   "cell_type": "code",
   "execution_count": 79,
   "metadata": {},
   "outputs": [],
   "source": [
    "s = '(a)())()'\n",
    "    "
   ]
  },
  {
   "cell_type": "code",
   "execution_count": 80,
   "metadata": {},
   "outputs": [
    {
     "output_type": "stream",
     "name": "stdout",
     "text": [
      "(:0,):1\n进入4,path:(\n进入3,path:(a\n进入2,path:(a\n进入4,path:(a(\n进入5,path:(a()\n进入5,path:(a())\n进入4,path:(a())(\n进入5,path:(a())()\n输出答案\n回撤:(a())(\n回撤:(a())\n回撤:(a()\n回撤:(a(\n回撤:(a\n进入5,path:(a)\n进入4,path:(a)(\n进入2,path:(a)(\n进入5,path:(a)()\n进入4,path:(a)()(\n进入5,path:(a)()()\n输出答案\n回撤:(a)()(\n回撤:(a)()\n回撤:(a)(\n进入5,path:(a)()\n进入2,path:(a)()\n进入4,path:(a)()(\n进入5,path:(a)()()\n回撤:(a)()(\n回撤:(a)()\n回撤:(a)()\n回撤:(a)(\n回撤:(a)\n回撤:(a\n回撤:(\n回撤:\n"
     ]
    },
    {
     "output_type": "execute_result",
     "data": {
      "text/plain": [
       "['(a())()', '(a)()()']"
      ]
     },
     "metadata": {},
     "execution_count": 80
    }
   ],
   "source": [
    "removeInvalidParentheses(s)"
   ]
  },
  {
   "cell_type": "code",
   "execution_count": 1,
   "metadata": {},
   "outputs": [
    {
     "output_type": "execute_result",
     "data": {
      "text/plain": [
       "5"
      ]
     },
     "metadata": {},
     "execution_count": 1
    }
   ],
   "source": [
    "int('+5')"
   ]
  },
  {
   "cell_type": "code",
   "execution_count": 63,
   "metadata": {},
   "outputs": [],
   "source": [
    "def findTargetSumWays(nums,target):\n",
    "    if not nums:\n",
    "        return 0\n",
    "    count = 0  \n",
    "    def backtrack(nums,index,s):\n",
    "        nonlocal count \n",
    "        if len(nums) ==index:\n",
    "            if s == target:\n",
    "                count += 1 \n",
    "        else:  \n",
    "            backtrack(nums,index+1,s+nums[index])\n",
    "            backtrack(nums,index+1,s-nums[index])\n",
    "    backtrack(nums,0,0)\n",
    "    return count "
   ]
  },
  {
   "cell_type": "code",
   "execution_count": 72,
   "metadata": {},
   "outputs": [],
   "source": [
    "def findTargetSumWays(nums,target):\n",
    "    if not nums:\n",
    "        return 0\n",
    "    count = 0\n",
    "    n = len(nums)\n",
    "    def backtrack(nums,path):\n",
    "        nonlocal count\n",
    "        if sum(path) == target:\n",
    "            print(\"符合条件path:{}\".format(path))\n",
    "            count += 1\n",
    "\n",
    "        for i in range(len(nums)):\n",
    "            for symbol in ('-','+'):\n",
    "                path.append(int(symbol+str(nums[i])))\n",
    "                print(\"path.append:{}\".format(path))\n",
    "                backtrack(nums[i+1:],path)\n",
    "                path.pop()\n",
    "                print(\"path.pop:{}\".format(path))\n",
    "    backtrack(nums,[])\n",
    "    return count"
   ]
  },
  {
   "cell_type": "code",
   "execution_count": 73,
   "metadata": {},
   "outputs": [],
   "source": [
    "nums = [1,1,1,1,1]\n",
    "target = 3"
   ]
  },
  {
   "cell_type": "code",
   "execution_count": 74,
   "metadata": {
    "tags": []
   },
   "outputs": [
    {
     "output_type": "stream",
     "name": "stdout",
     "text": [
      "path.append:[-1]\npath.append:[-1, -1]\npath.append:[-1, -1, -1]\npath.append:[-1, -1, -1, -1]\npath.append:[-1, -1, -1, -1, -1]\npath.pop:[-1, -1, -1, -1]\npath.append:[-1, -1, -1, -1, 1]\npath.pop:[-1, -1, -1, -1]\npath.pop:[-1, -1, -1]\npath.append:[-1, -1, -1, 1]\npath.append:[-1, -1, -1, 1, -1]\npath.pop:[-1, -1, -1, 1]\npath.append:[-1, -1, -1, 1, 1]\npath.pop:[-1, -1, -1, 1]\npath.pop:[-1, -1, -1]\npath.append:[-1, -1, -1, -1]\npath.pop:[-1, -1, -1]\npath.append:[-1, -1, -1, 1]\npath.pop:[-1, -1, -1]\npath.pop:[-1, -1]\npath.append:[-1, -1, 1]\npath.append:[-1, -1, 1, -1]\npath.append:[-1, -1, 1, -1, -1]\npath.pop:[-1, -1, 1, -1]\npath.append:[-1, -1, 1, -1, 1]\npath.pop:[-1, -1, 1, -1]\npath.pop:[-1, -1, 1]\npath.append:[-1, -1, 1, 1]\npath.append:[-1, -1, 1, 1, -1]\npath.pop:[-1, -1, 1, 1]\npath.append:[-1, -1, 1, 1, 1]\npath.pop:[-1, -1, 1, 1]\npath.pop:[-1, -1, 1]\npath.append:[-1, -1, 1, -1]\npath.pop:[-1, -1, 1]\npath.append:[-1, -1, 1, 1]\npath.pop:[-1, -1, 1]\npath.pop:[-1, -1]\npath.append:[-1, -1, -1]\npath.append:[-1, -1, -1, -1]\npath.pop:[-1, -1, -1]\npath.append:[-1, -1, -1, 1]\npath.pop:[-1, -1, -1]\npath.pop:[-1, -1]\npath.append:[-1, -1, 1]\npath.append:[-1, -1, 1, -1]\npath.pop:[-1, -1, 1]\npath.append:[-1, -1, 1, 1]\npath.pop:[-1, -1, 1]\npath.pop:[-1, -1]\npath.append:[-1, -1, -1]\npath.pop:[-1, -1]\npath.append:[-1, -1, 1]\npath.pop:[-1, -1]\npath.pop:[-1]\npath.append:[-1, 1]\npath.append:[-1, 1, -1]\npath.append:[-1, 1, -1, -1]\npath.append:[-1, 1, -1, -1, -1]\npath.pop:[-1, 1, -1, -1]\npath.append:[-1, 1, -1, -1, 1]\npath.pop:[-1, 1, -1, -1]\npath.pop:[-1, 1, -1]\npath.append:[-1, 1, -1, 1]\npath.append:[-1, 1, -1, 1, -1]\npath.pop:[-1, 1, -1, 1]\npath.append:[-1, 1, -1, 1, 1]\npath.pop:[-1, 1, -1, 1]\npath.pop:[-1, 1, -1]\npath.append:[-1, 1, -1, -1]\npath.pop:[-1, 1, -1]\npath.append:[-1, 1, -1, 1]\npath.pop:[-1, 1, -1]\npath.pop:[-1, 1]\npath.append:[-1, 1, 1]\npath.append:[-1, 1, 1, -1]\npath.append:[-1, 1, 1, -1, -1]\npath.pop:[-1, 1, 1, -1]\npath.append:[-1, 1, 1, -1, 1]\npath.pop:[-1, 1, 1, -1]\npath.pop:[-1, 1, 1]\npath.append:[-1, 1, 1, 1]\npath.append:[-1, 1, 1, 1, -1]\npath.pop:[-1, 1, 1, 1]\npath.append:[-1, 1, 1, 1, 1]\n符合条件path:[-1, 1, 1, 1, 1]\npath.pop:[-1, 1, 1, 1]\npath.pop:[-1, 1, 1]\npath.append:[-1, 1, 1, -1]\npath.pop:[-1, 1, 1]\npath.append:[-1, 1, 1, 1]\npath.pop:[-1, 1, 1]\npath.pop:[-1, 1]\npath.append:[-1, 1, -1]\npath.append:[-1, 1, -1, -1]\npath.pop:[-1, 1, -1]\npath.append:[-1, 1, -1, 1]\npath.pop:[-1, 1, -1]\npath.pop:[-1, 1]\npath.append:[-1, 1, 1]\npath.append:[-1, 1, 1, -1]\npath.pop:[-1, 1, 1]\npath.append:[-1, 1, 1, 1]\npath.pop:[-1, 1, 1]\npath.pop:[-1, 1]\npath.append:[-1, 1, -1]\npath.pop:[-1, 1]\npath.append:[-1, 1, 1]\npath.pop:[-1, 1]\npath.pop:[-1]\npath.append:[-1, -1]\npath.append:[-1, -1, -1]\npath.append:[-1, -1, -1, -1]\npath.pop:[-1, -1, -1]\npath.append:[-1, -1, -1, 1]\npath.pop:[-1, -1, -1]\npath.pop:[-1, -1]\npath.append:[-1, -1, 1]\npath.append:[-1, -1, 1, -1]\npath.pop:[-1, -1, 1]\npath.append:[-1, -1, 1, 1]\npath.pop:[-1, -1, 1]\npath.pop:[-1, -1]\npath.append:[-1, -1, -1]\npath.pop:[-1, -1]\npath.append:[-1, -1, 1]\npath.pop:[-1, -1]\npath.pop:[-1]\npath.append:[-1, 1]\npath.append:[-1, 1, -1]\npath.append:[-1, 1, -1, -1]\npath.pop:[-1, 1, -1]\npath.append:[-1, 1, -1, 1]\npath.pop:[-1, 1, -1]\npath.pop:[-1, 1]\npath.append:[-1, 1, 1]\npath.append:[-1, 1, 1, -1]\npath.pop:[-1, 1, 1]\npath.append:[-1, 1, 1, 1]\npath.pop:[-1, 1, 1]\npath.pop:[-1, 1]\npath.append:[-1, 1, -1]\npath.pop:[-1, 1]\npath.append:[-1, 1, 1]\npath.pop:[-1, 1]\npath.pop:[-1]\npath.append:[-1, -1]\npath.append:[-1, -1, -1]\npath.pop:[-1, -1]\npath.append:[-1, -1, 1]\npath.pop:[-1, -1]\npath.pop:[-1]\npath.append:[-1, 1]\npath.append:[-1, 1, -1]\npath.pop:[-1, 1]\npath.append:[-1, 1, 1]\npath.pop:[-1, 1]\npath.pop:[-1]\npath.append:[-1, -1]\npath.pop:[-1]\npath.append:[-1, 1]\npath.pop:[-1]\npath.pop:[]\npath.append:[1]\npath.append:[1, -1]\npath.append:[1, -1, -1]\npath.append:[1, -1, -1, -1]\npath.append:[1, -1, -1, -1, -1]\npath.pop:[1, -1, -1, -1]\npath.append:[1, -1, -1, -1, 1]\npath.pop:[1, -1, -1, -1]\npath.pop:[1, -1, -1]\npath.append:[1, -1, -1, 1]\npath.append:[1, -1, -1, 1, -1]\npath.pop:[1, -1, -1, 1]\npath.append:[1, -1, -1, 1, 1]\npath.pop:[1, -1, -1, 1]\npath.pop:[1, -1, -1]\npath.append:[1, -1, -1, -1]\npath.pop:[1, -1, -1]\npath.append:[1, -1, -1, 1]\npath.pop:[1, -1, -1]\npath.pop:[1, -1]\npath.append:[1, -1, 1]\npath.append:[1, -1, 1, -1]\npath.append:[1, -1, 1, -1, -1]\npath.pop:[1, -1, 1, -1]\npath.append:[1, -1, 1, -1, 1]\npath.pop:[1, -1, 1, -1]\npath.pop:[1, -1, 1]\npath.append:[1, -1, 1, 1]\npath.append:[1, -1, 1, 1, -1]\npath.pop:[1, -1, 1, 1]\npath.append:[1, -1, 1, 1, 1]\n符合条件path:[1, -1, 1, 1, 1]\npath.pop:[1, -1, 1, 1]\npath.pop:[1, -1, 1]\npath.append:[1, -1, 1, -1]\npath.pop:[1, -1, 1]\npath.append:[1, -1, 1, 1]\npath.pop:[1, -1, 1]\npath.pop:[1, -1]\npath.append:[1, -1, -1]\npath.append:[1, -1, -1, -1]\npath.pop:[1, -1, -1]\npath.append:[1, -1, -1, 1]\npath.pop:[1, -1, -1]\npath.pop:[1, -1]\npath.append:[1, -1, 1]\npath.append:[1, -1, 1, -1]\npath.pop:[1, -1, 1]\npath.append:[1, -1, 1, 1]\npath.pop:[1, -1, 1]\npath.pop:[1, -1]\npath.append:[1, -1, -1]\npath.pop:[1, -1]\npath.append:[1, -1, 1]\npath.pop:[1, -1]\npath.pop:[1]\npath.append:[1, 1]\npath.append:[1, 1, -1]\npath.append:[1, 1, -1, -1]\npath.append:[1, 1, -1, -1, -1]\npath.pop:[1, 1, -1, -1]\npath.append:[1, 1, -1, -1, 1]\npath.pop:[1, 1, -1, -1]\npath.pop:[1, 1, -1]\npath.append:[1, 1, -1, 1]\npath.append:[1, 1, -1, 1, -1]\npath.pop:[1, 1, -1, 1]\npath.append:[1, 1, -1, 1, 1]\n符合条件path:[1, 1, -1, 1, 1]\npath.pop:[1, 1, -1, 1]\npath.pop:[1, 1, -1]\npath.append:[1, 1, -1, -1]\npath.pop:[1, 1, -1]\npath.append:[1, 1, -1, 1]\npath.pop:[1, 1, -1]\npath.pop:[1, 1]\npath.append:[1, 1, 1]\n符合条件path:[1, 1, 1]\npath.append:[1, 1, 1, -1]\npath.append:[1, 1, 1, -1, -1]\npath.pop:[1, 1, 1, -1]\npath.append:[1, 1, 1, -1, 1]\n符合条件path:[1, 1, 1, -1, 1]\npath.pop:[1, 1, 1, -1]\npath.pop:[1, 1, 1]\npath.append:[1, 1, 1, 1]\npath.append:[1, 1, 1, 1, -1]\n符合条件path:[1, 1, 1, 1, -1]\npath.pop:[1, 1, 1, 1]\npath.append:[1, 1, 1, 1, 1]\npath.pop:[1, 1, 1, 1]\npath.pop:[1, 1, 1]\npath.append:[1, 1, 1, -1]\npath.pop:[1, 1, 1]\npath.append:[1, 1, 1, 1]\npath.pop:[1, 1, 1]\npath.pop:[1, 1]\npath.append:[1, 1, -1]\npath.append:[1, 1, -1, -1]\npath.pop:[1, 1, -1]\npath.append:[1, 1, -1, 1]\npath.pop:[1, 1, -1]\npath.pop:[1, 1]\npath.append:[1, 1, 1]\n符合条件path:[1, 1, 1]\npath.append:[1, 1, 1, -1]\npath.pop:[1, 1, 1]\npath.append:[1, 1, 1, 1]\npath.pop:[1, 1, 1]\npath.pop:[1, 1]\npath.append:[1, 1, -1]\npath.pop:[1, 1]\npath.append:[1, 1, 1]\n符合条件path:[1, 1, 1]\npath.pop:[1, 1]\npath.pop:[1]\npath.append:[1, -1]\npath.append:[1, -1, -1]\npath.append:[1, -1, -1, -1]\npath.pop:[1, -1, -1]\npath.append:[1, -1, -1, 1]\npath.pop:[1, -1, -1]\npath.pop:[1, -1]\npath.append:[1, -1, 1]\npath.append:[1, -1, 1, -1]\npath.pop:[1, -1, 1]\npath.append:[1, -1, 1, 1]\npath.pop:[1, -1, 1]\npath.pop:[1, -1]\npath.append:[1, -1, -1]\npath.pop:[1, -1]\npath.append:[1, -1, 1]\npath.pop:[1, -1]\npath.pop:[1]\npath.append:[1, 1]\npath.append:[1, 1, -1]\npath.append:[1, 1, -1, -1]\npath.pop:[1, 1, -1]\npath.append:[1, 1, -1, 1]\npath.pop:[1, 1, -1]\npath.pop:[1, 1]\npath.append:[1, 1, 1]\n符合条件path:[1, 1, 1]\npath.append:[1, 1, 1, -1]\npath.pop:[1, 1, 1]\npath.append:[1, 1, 1, 1]\npath.pop:[1, 1, 1]\npath.pop:[1, 1]\npath.append:[1, 1, -1]\npath.pop:[1, 1]\npath.append:[1, 1, 1]\n符合条件path:[1, 1, 1]\npath.pop:[1, 1]\npath.pop:[1]\npath.append:[1, -1]\npath.append:[1, -1, -1]\npath.pop:[1, -1]\npath.append:[1, -1, 1]\npath.pop:[1, -1]\npath.pop:[1]\npath.append:[1, 1]\npath.append:[1, 1, -1]\npath.pop:[1, 1]\npath.append:[1, 1, 1]\n符合条件path:[1, 1, 1]\npath.pop:[1, 1]\npath.pop:[1]\npath.append:[1, -1]\npath.pop:[1]\npath.append:[1, 1]\npath.pop:[1]\npath.pop:[]\npath.append:[-1]\npath.append:[-1, -1]\npath.append:[-1, -1, -1]\npath.append:[-1, -1, -1, -1]\npath.pop:[-1, -1, -1]\npath.append:[-1, -1, -1, 1]\npath.pop:[-1, -1, -1]\npath.pop:[-1, -1]\npath.append:[-1, -1, 1]\npath.append:[-1, -1, 1, -1]\npath.pop:[-1, -1, 1]\npath.append:[-1, -1, 1, 1]\npath.pop:[-1, -1, 1]\npath.pop:[-1, -1]\npath.append:[-1, -1, -1]\npath.pop:[-1, -1]\npath.append:[-1, -1, 1]\npath.pop:[-1, -1]\npath.pop:[-1]\npath.append:[-1, 1]\npath.append:[-1, 1, -1]\npath.append:[-1, 1, -1, -1]\npath.pop:[-1, 1, -1]\npath.append:[-1, 1, -1, 1]\npath.pop:[-1, 1, -1]\npath.pop:[-1, 1]\npath.append:[-1, 1, 1]\npath.append:[-1, 1, 1, -1]\npath.pop:[-1, 1, 1]\npath.append:[-1, 1, 1, 1]\npath.pop:[-1, 1, 1]\npath.pop:[-1, 1]\npath.append:[-1, 1, -1]\npath.pop:[-1, 1]\npath.append:[-1, 1, 1]\npath.pop:[-1, 1]\npath.pop:[-1]\npath.append:[-1, -1]\npath.append:[-1, -1, -1]\npath.pop:[-1, -1]\npath.append:[-1, -1, 1]\npath.pop:[-1, -1]\npath.pop:[-1]\npath.append:[-1, 1]\npath.append:[-1, 1, -1]\npath.pop:[-1, 1]\npath.append:[-1, 1, 1]\npath.pop:[-1, 1]\npath.pop:[-1]\npath.append:[-1, -1]\npath.pop:[-1]\npath.append:[-1, 1]\npath.pop:[-1]\npath.pop:[]\npath.append:[1]\npath.append:[1, -1]\npath.append:[1, -1, -1]\npath.append:[1, -1, -1, -1]\npath.pop:[1, -1, -1]\npath.append:[1, -1, -1, 1]\npath.pop:[1, -1, -1]\npath.pop:[1, -1]\npath.append:[1, -1, 1]\npath.append:[1, -1, 1, -1]\npath.pop:[1, -1, 1]\npath.append:[1, -1, 1, 1]\npath.pop:[1, -1, 1]\npath.pop:[1, -1]\npath.append:[1, -1, -1]\npath.pop:[1, -1]\npath.append:[1, -1, 1]\npath.pop:[1, -1]\npath.pop:[1]\npath.append:[1, 1]\npath.append:[1, 1, -1]\npath.append:[1, 1, -1, -1]\npath.pop:[1, 1, -1]\npath.append:[1, 1, -1, 1]\npath.pop:[1, 1, -1]\npath.pop:[1, 1]\npath.append:[1, 1, 1]\n符合条件path:[1, 1, 1]\npath.append:[1, 1, 1, -1]\npath.pop:[1, 1, 1]\npath.append:[1, 1, 1, 1]\npath.pop:[1, 1, 1]\npath.pop:[1, 1]\npath.append:[1, 1, -1]\npath.pop:[1, 1]\npath.append:[1, 1, 1]\n符合条件path:[1, 1, 1]\npath.pop:[1, 1]\npath.pop:[1]\npath.append:[1, -1]\npath.append:[1, -1, -1]\npath.pop:[1, -1]\npath.append:[1, -1, 1]\npath.pop:[1, -1]\npath.pop:[1]\npath.append:[1, 1]\npath.append:[1, 1, -1]\npath.pop:[1, 1]\npath.append:[1, 1, 1]\n符合条件path:[1, 1, 1]\npath.pop:[1, 1]\npath.pop:[1]\npath.append:[1, -1]\npath.pop:[1]\npath.append:[1, 1]\npath.pop:[1]\npath.pop:[]\npath.append:[-1]\npath.append:[-1, -1]\npath.append:[-1, -1, -1]\npath.pop:[-1, -1]\npath.append:[-1, -1, 1]\npath.pop:[-1, -1]\npath.pop:[-1]\npath.append:[-1, 1]\npath.append:[-1, 1, -1]\npath.pop:[-1, 1]\npath.append:[-1, 1, 1]\npath.pop:[-1, 1]\npath.pop:[-1]\npath.append:[-1, -1]\npath.pop:[-1]\npath.append:[-1, 1]\npath.pop:[-1]\npath.pop:[]\npath.append:[1]\npath.append:[1, -1]\npath.append:[1, -1, -1]\npath.pop:[1, -1]\npath.append:[1, -1, 1]\npath.pop:[1, -1]\npath.pop:[1]\npath.append:[1, 1]\npath.append:[1, 1, -1]\npath.pop:[1, 1]\npath.append:[1, 1, 1]\n符合条件path:[1, 1, 1]\npath.pop:[1, 1]\npath.pop:[1]\npath.append:[1, -1]\npath.pop:[1]\npath.append:[1, 1]\npath.pop:[1]\npath.pop:[]\npath.append:[-1]\npath.append:[-1, -1]\npath.pop:[-1]\npath.append:[-1, 1]\npath.pop:[-1]\npath.pop:[]\npath.append:[1]\npath.append:[1, -1]\npath.pop:[1]\npath.append:[1, 1]\npath.pop:[1]\npath.pop:[]\npath.append:[-1]\npath.pop:[]\npath.append:[1]\npath.pop:[]\n"
     ]
    },
    {
     "output_type": "execute_result",
     "data": {
      "text/plain": [
       "15"
      ]
     },
     "metadata": {},
     "execution_count": 74
    }
   ],
   "source": [
    "findTargetSumWays(nums,target)"
   ]
  },
  {
   "cell_type": "code",
   "execution_count": null,
   "metadata": {},
   "outputs": [],
   "source": [
    "    def findTargetSumWays(self, nums: List[int], target: int) -> int:\n",
    "        if not nums:\n",
    "            return 0\n",
    "        count = 0  \n",
    "        n = len(nums)\n",
    "        def backtrack(nums,index,res):\n",
    "            nonlocal count \n",
    "            if n == index and res == target:\n",
    "                count += 1 \n",
    "            \n",
    "            backtrack(nums,index+1,res+nums[index])\n",
    "            backtrack(nums,index+1,res-nums[index])\n",
    "        backtrack(nums,0,0)"
   ]
  },
  {
   "cell_type": "code",
   "execution_count": null,
   "metadata": {},
   "outputs": [],
   "source": [
    "class Solution {\n",
    "    public int findTargetSumWays(int[] nums, int target) {\n",
    "        int sum = 0;\n",
    "        for (int num : nums) {\n",
    "            sum += num;\n",
    "        }\n",
    "        int diff = sum - target;\n",
    "        if (diff < 0 || diff % 2 != 0) {\n",
    "            return 0;\n",
    "        }\n",
    "        int n = nums.length, neg = diff / 2;\n",
    "        int[][] dp = new int[n + 1][neg + 1];\n",
    "        dp[0][0] = 1;\n",
    "        for (int i = 1; i <= n; i++) {\n",
    "            int num = nums[i - 1];\n",
    "            for (int j = 0; j <= neg; j++) {\n",
    "                dp[i][j] = dp[i - 1][j];\n",
    "                if (j >= num) {\n",
    "                    dp[i][j] += dp[i - 1][j - num];\n",
    "                }\n",
    "            }\n",
    "        }\n",
    "        return dp[n][neg];\n",
    "    }\n",
    "}\n",
    "\n",
    "作者：LeetCode-Solution\n",
    "链接：https://leetcode-cn.com/problems/target-sum/solution/mu-biao-he-by-leetcode-solution-o0cp/\n",
    "来源：力扣（LeetCode）\n",
    "著作权归作者所有。商业转载请联系作者获得授权，非商业转载请注明出处。"
   ]
  },
  {
   "cell_type": "code",
   "execution_count": 82,
   "metadata": {},
   "outputs": [
    {
     "output_type": "stream",
     "name": "stdout",
     "text": [
      "2000\n"
     ]
    }
   ],
   "source": [
    "class Person:\n",
    "    money = 0\n",
    "    def work(self):\n",
    "        Person.money += 1000\n",
    "\n",
    "mother = Person()\n",
    "father = Person()\n",
    "Person.money += 1000\n",
    "Person.money += 1000\n",
    "print(Person.money)\n",
    "mother.work()\n",
    "father.work()"
   ]
  },
  {
   "cell_type": "code",
   "execution_count": 85,
   "metadata": {},
   "outputs": [
    {
     "output_type": "stream",
     "name": "stdout",
     "text": [
      "4000\n"
     ]
    }
   ],
   "source": [
    "print(father.money)"
   ]
  },
  {
   "cell_type": "code",
   "execution_count": 86,
   "metadata": {},
   "outputs": [
    {
     "output_type": "stream",
     "name": "stdout",
     "text": [
      "4000\n"
     ]
    }
   ],
   "source": [
    "print(Person.money)"
   ]
  },
  {
   "cell_type": "code",
   "execution_count": 89,
   "metadata": {},
   "outputs": [],
   "source": [
    "def findMax(nums,m, index):\n",
    "    if index == len(nums):\n",
    "        return m \n",
    "    if nums[index] > m:\n",
    "        m = nums[index]\n",
    "    return findMax(nums,m,index+1)"
   ]
  },
  {
   "cell_type": "code",
   "execution_count": 91,
   "metadata": {},
   "outputs": [
    {
     "output_type": "execute_result",
     "data": {
      "text/plain": [
       "35"
      ]
     },
     "metadata": {},
     "execution_count": 91
    }
   ],
   "source": [
    "nums = [1,5,2,4,7,8,4,6,3,10,-5,28,19,35,23,11,5]\n",
    "findMax(nums,-float('inf'),0)"
   ]
  },
  {
   "cell_type": "code",
   "execution_count": 101,
   "metadata": {},
   "outputs": [],
   "source": [
    "def climb(n):\n",
    "    dp = [0 for _ in range(n+1)]\n",
    "    dp[0] = 0 \n",
    "    dp[1] = 1 \n",
    "    dp[2] = 2 \n",
    "    for i in range(3,n+1):\n",
    "        dp[i] = dp[i-1] + dp[i-2]\n",
    "    return dp[n]"
   ]
  },
  {
   "cell_type": "code",
   "execution_count": 102,
   "metadata": {},
   "outputs": [
    {
     "output_type": "execute_result",
     "data": {
      "text/plain": [
       "573147844013817084101"
      ]
     },
     "metadata": {},
     "execution_count": 102
    }
   ],
   "source": [
    "climb(100)"
   ]
  },
  {
   "cell_type": "code",
   "execution_count": 98,
   "metadata": {},
   "outputs": [],
   "source": [
    "def climb(n):\n",
    "    if n == 0:\n",
    "        return 0 \n",
    "    if n == 1:\n",
    "        return 1 \n",
    "    if n == 2:\n",
    "        return 2 \n",
    "    return climb(n-1) + climb(n-2)"
   ]
  },
  {
   "cell_type": "code",
   "execution_count": 103,
   "metadata": {},
   "outputs": [
    {
     "output_type": "execute_result",
     "data": {
      "text/plain": [
       "573147844013817084101"
      ]
     },
     "metadata": {},
     "execution_count": 103
    }
   ],
   "source": [
    "climb(100)"
   ]
  },
  {
   "cell_type": "code",
   "execution_count": 148,
   "metadata": {},
   "outputs": [],
   "source": [
    "def change(amount, coins) :\n",
    "    if not amount or not coins:\n",
    "        return  0\n",
    "    count = 0\n",
    "    res = []\n",
    "    path = set()\n",
    "    def dfs(cur,path):\n",
    "        nonlocal count\n",
    "        nonlocal res \n",
    "        if cur == 0:\n",
    "            print(\"cur == 0, count + 1 = {}\".format(count+1))\n",
    "            count += 1 \n",
    "            path = path[:]\n",
    "            res.append(path)\n",
    "        if cur < 0:\n",
    "            print(\"cur < 0 \")\n",
    "            return  0\n",
    "            \n",
    "        for coin in coins:\n",
    "            print(\"cur:{},coin:{},cur-coin:{},count:{}\".format(cur,coin,cur-coin,count))\n",
    "            path.add(coin)\n",
    "            dfs(cur-coin,path)\n",
    "            path.pop()\n",
    "        print(\"跳出\")\n",
    "    dfs(amount,path)\n",
    "            \n",
    "    return count"
   ]
  },
  {
   "cell_type": "code",
   "execution_count": 149,
   "metadata": {},
   "outputs": [],
   "source": [
    "amount = 5\n",
    "coins = [1,2,5]"
   ]
  },
  {
   "cell_type": "code",
   "execution_count": 153,
   "metadata": {
    "tags": []
   },
   "outputs": [],
   "source": [
    "def change(amount, coins):\n",
    "    n = len(coins) \n",
    "    count = 0 \n",
    "    def dfs(cur):\n",
    "        nonlocal count \n",
    "        if cur == 0:\n",
    "            count += 1 \n",
    "        if cur < 0 :\n",
    "            return 0 \n",
    "        for i in range(len(coins)):\n",
    "            dfs(cur - coins[i])\n",
    "    dfs(amount)\n",
    "    return count "
   ]
  },
  {
   "cell_type": "code",
   "execution_count": 154,
   "metadata": {},
   "outputs": [
    {
     "output_type": "execute_result",
     "data": {
      "text/plain": [
       "9"
      ]
     },
     "metadata": {},
     "execution_count": 154
    }
   ],
   "source": [
    "change(amount,coins)"
   ]
  },
  {
   "cell_type": "code",
   "execution_count": null,
   "metadata": {},
   "outputs": [],
   "source": []
  }
 ]
}