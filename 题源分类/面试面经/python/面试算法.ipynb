{
 "metadata": {
  "language_info": {
   "codemirror_mode": {
    "name": "ipython",
    "version": 3
   },
   "file_extension": ".py",
   "mimetype": "text/x-python",
   "name": "python",
   "nbconvert_exporter": "python",
   "pygments_lexer": "ipython3",
   "version": "3.7.6"
  },
  "orig_nbformat": 2,
  "kernelspec": {
   "name": "python3",
   "display_name": "Python 3.7.6 64-bit ('base': conda)"
  },
  "interpreter": {
   "hash": "ae0ece4b384d4e51c4e2fad529fdb1c85a30de12c4d27becefe71685832ade9e"
  }
 },
 "nbformat": 4,
 "nbformat_minor": 2,
 "cells": [
  {
   "cell_type": "code",
   "execution_count": 10,
   "source": [
    "import timeit"
   ],
   "outputs": [],
   "metadata": {}
  },
  {
   "cell_type": "markdown",
   "source": [
    "## 二叉树的遍历"
   ],
   "metadata": {}
  },
  {
   "cell_type": "markdown",
   "source": [
    "### test case"
   ],
   "metadata": {}
  },
  {
   "cell_type": "code",
   "execution_count": 2,
   "source": [
    "class TreeNode:\r\n",
    "    def __init__(self,val):\r\n",
    "        self.val = val  \r\n",
    "        self.left = None  \r\n",
    "        self.right = None \r\n",
    "node0 = TreeNode(0)\r\n",
    "node1 = TreeNode(1)\r\n",
    "node2 = TreeNode(2)\r\n",
    "node3 = TreeNode(3)\r\n",
    "node4 = TreeNode(4)\r\n",
    "node5 = TreeNode(5)\r\n",
    "node6 = TreeNode(6)\r\n",
    "node0.left = node1  \r\n",
    "node0.right = node2  \r\n",
    "node1.left = node3 \r\n",
    "node1.right = node4  \r\n",
    "node2.left = node5 \r\n",
    "node2.right = node6 "
   ],
   "outputs": [],
   "metadata": {}
  },
  {
   "cell_type": "markdown",
   "source": [
    "#### 前序遍历 "
   ],
   "metadata": {}
  },
  {
   "cell_type": "code",
   "execution_count": 15,
   "source": [
    "## 递归 \r\n",
    "res = []\r\n",
    "def preorder(root):\r\n",
    "    if not root:\r\n",
    "        return   \r\n",
    "    res.append(root.val)\r\n",
    "    preorder(root.left)\r\n",
    "    preorder(root.right) "
   ],
   "outputs": [],
   "metadata": {}
  },
  {
   "cell_type": "code",
   "execution_count": 17,
   "source": [
    "preorder(node0)"
   ],
   "outputs": [],
   "metadata": {}
  },
  {
   "cell_type": "code",
   "execution_count": 18,
   "source": [
    "res "
   ],
   "outputs": [
    {
     "output_type": "execute_result",
     "data": {
      "text/plain": [
       "[0, 1, 3, 4, 2, 5, 6]"
      ]
     },
     "metadata": {},
     "execution_count": 18
    }
   ],
   "metadata": {}
  },
  {
   "cell_type": "code",
   "execution_count": 20,
   "source": [
    "## 迭代\r\n",
    "def preorder1(root):\r\n",
    "    if not root:\r\n",
    "        return  \r\n",
    "    stack = [root]\r\n",
    "    res = []\r\n",
    "    while stack:\r\n",
    "        node = stack.pop()\r\n",
    "        res.append(node.val)\r\n",
    "        if node.right:\r\n",
    "            stack.append(node.right)\r\n",
    "        if node.left:\r\n",
    "            stack.append(node.left)\r\n",
    "    return res "
   ],
   "outputs": [],
   "metadata": {}
  },
  {
   "cell_type": "code",
   "execution_count": 21,
   "source": [
    "preorder1(node0)"
   ],
   "outputs": [
    {
     "output_type": "execute_result",
     "data": {
      "text/plain": [
       "[0, 1, 3, 4, 2, 5, 6]"
      ]
     },
     "metadata": {},
     "execution_count": 21
    }
   ],
   "metadata": {}
  },
  {
   "cell_type": "code",
   "execution_count": 23,
   "source": [
    "## 迭代2 \r\n",
    "def preorder2(root):\r\n",
    "    if not root:\r\n",
    "        return \r\n",
    "    node = root  \r\n",
    "    stack = []\r\n",
    "    res = []\r\n",
    "    while node or stack:\r\n",
    "        if node:\r\n",
    "            stack.append(node)\r\n",
    "            res.append(node.val)\r\n",
    "            node = node.left  \r\n",
    "        else:\r\n",
    "            node = stack.pop()\r\n",
    "            node = node.right  \r\n",
    "    return res"
   ],
   "outputs": [],
   "metadata": {}
  },
  {
   "cell_type": "code",
   "execution_count": 24,
   "source": [
    "preorder2(node0)"
   ],
   "outputs": [
    {
     "output_type": "execute_result",
     "data": {
      "text/plain": [
       "[0, 1, 3, 4, 2, 5, 6]"
      ]
     },
     "metadata": {},
     "execution_count": 24
    }
   ],
   "metadata": {}
  },
  {
   "cell_type": "code",
   "execution_count": 1,
   "source": [
    "def preorder(root,res):\r\n",
    "    if not root:\r\n",
    "        return  \r\n",
    "    stack = []\r\n",
    "    node = root  \r\n",
    "    while stack or node:\r\n",
    "        while node:\r\n",
    "            stack.append(node)\r\n",
    "            res.append(node.val)\r\n",
    "            node = node.left \r\n",
    "        node = stack.pop()\r\n",
    "        node = node.right \r\n",
    "    return res "
   ],
   "outputs": [],
   "metadata": {}
  },
  {
   "cell_type": "code",
   "execution_count": 3,
   "source": [
    "preorder(node0,[])"
   ],
   "outputs": [
    {
     "output_type": "execute_result",
     "data": {
      "text/plain": [
       "[0, 1, 3, 4, 2, 5, 6]"
      ]
     },
     "metadata": {},
     "execution_count": 3
    }
   ],
   "metadata": {}
  },
  {
   "cell_type": "markdown",
   "source": [
    "### 中序遍历"
   ],
   "metadata": {}
  },
  {
   "cell_type": "code",
   "execution_count": 25,
   "source": [
    "def inorder(root,res):\r\n",
    "    if not root:\r\n",
    "        return\r\n",
    "    \r\n",
    "    inorder(root.left,res)\r\n",
    "    res.append(root.val)\r\n",
    "    inorder(root.right,res)\r\n",
    "\r\n",
    "    return res  \r\n",
    "    "
   ],
   "outputs": [],
   "metadata": {}
  },
  {
   "cell_type": "code",
   "execution_count": 28,
   "source": [
    "inorder(node0,[])"
   ],
   "outputs": [
    {
     "output_type": "execute_result",
     "data": {
      "text/plain": [
       "[3, 1, 4, 0, 5, 2, 6]"
      ]
     },
     "metadata": {},
     "execution_count": 28
    }
   ],
   "metadata": {}
  },
  {
   "cell_type": "code",
   "execution_count": 29,
   "source": [
    "def inorder(root,res):\r\n",
    "    if not root:\r\n",
    "        return res  \r\n",
    "    node = root  \r\n",
    "    stack = []\r\n",
    "\r\n",
    "    while node or stack:\r\n",
    "        while node:\r\n",
    "            stack.append(node)\r\n",
    "            node = node.left \r\n",
    "        node = stack.pop()\r\n",
    "        res.append(node.val)\r\n",
    "        node = node.right \r\n",
    "    return res "
   ],
   "outputs": [],
   "metadata": {}
  },
  {
   "cell_type": "code",
   "execution_count": 30,
   "source": [
    "inorder(node0,[])"
   ],
   "outputs": [
    {
     "output_type": "execute_result",
     "data": {
      "text/plain": [
       "[3, 1, 4, 0, 5, 2, 6]"
      ]
     },
     "metadata": {},
     "execution_count": 30
    }
   ],
   "metadata": {}
  },
  {
   "cell_type": "code",
   "execution_count": 31,
   "source": [
    "def inorder(root,res):\r\n",
    "    if not root:\r\n",
    "        return res  \r\n",
    "    \r\n",
    "    node = root  \r\n",
    "    stack = []\r\n",
    "\r\n",
    "    while node or stack:\r\n",
    "        if node:\r\n",
    "            stack.append(node)\r\n",
    "            node = node.left \r\n",
    "        else:\r\n",
    "            node = stack.pop()\r\n",
    "            res.append(node.val)\r\n",
    "            node = node.right \r\n",
    "    return res "
   ],
   "outputs": [],
   "metadata": {}
  },
  {
   "cell_type": "code",
   "execution_count": 33,
   "source": [
    "inorder(node0,[])"
   ],
   "outputs": [
    {
     "output_type": "execute_result",
     "data": {
      "text/plain": [
       "[3, 1, 4, 0, 5, 2, 6]"
      ]
     },
     "metadata": {},
     "execution_count": 33
    }
   ],
   "metadata": {}
  },
  {
   "cell_type": "code",
   "execution_count": 50,
   "source": [
    "def inorder(root,res):\r\n",
    "    if not root:\r\n",
    "        return  \r\n",
    "    prev = None \r\n",
    "    while root:\r\n",
    "        if root.left:\r\n",
    "            prev = root.left \r\n",
    "            while prev.right:\r\n",
    "                prev = prev.right  \r\n",
    "\r\n",
    "            prev.right = root  \r\n",
    "            tmp = root  \r\n",
    "            root = root.left  \r\n",
    "            tmp.left = None\r\n",
    "        else:\r\n",
    "            res.append(root.val)\r\n",
    "            root = root.right\r\n",
    "        \r\n",
    "    return res  "
   ],
   "outputs": [],
   "metadata": {}
  },
  {
   "cell_type": "code",
   "execution_count": 51,
   "source": [
    "inorder(node0,[])"
   ],
   "outputs": [
    {
     "output_type": "stream",
     "name": "stderr",
     "text": [
      "\n",
      "KeyboardInterrupt\n",
      "\n"
     ]
    }
   ],
   "metadata": {}
  },
  {
   "cell_type": "markdown",
   "source": [
    "### 后序遍历\n"
   ],
   "metadata": {}
  },
  {
   "cell_type": "code",
   "execution_count": 35,
   "source": [
    "def postorder(root,res):\r\n",
    "    if not root:\r\n",
    "        return \r\n",
    "    \r\n",
    "    postorder(root.left,res)\r\n",
    "    postorder(root.right,res)\r\n",
    "    res.append(root.val)\r\n",
    "    return res  "
   ],
   "outputs": [],
   "metadata": {}
  },
  {
   "cell_type": "code",
   "execution_count": 36,
   "source": [
    "postorder(node0,[])"
   ],
   "outputs": [
    {
     "output_type": "execute_result",
     "data": {
      "text/plain": [
       "[3, 4, 1, 5, 6, 2, 0]"
      ]
     },
     "metadata": {},
     "execution_count": 36
    }
   ],
   "metadata": {}
  },
  {
   "cell_type": "code",
   "execution_count": 37,
   "source": [
    "def postorder(root,res):\r\n",
    "    if not root:\r\n",
    "        return  \r\n",
    "    \r\n",
    "    stack1 = [root] \r\n",
    "    stack2 = [] \r\n",
    "\r\n",
    "    while stack1:\r\n",
    "        node = stack1.pop()\r\n",
    "        if node.left:\r\n",
    "            stack1.append(node.left)\r\n",
    "        if node.right:\r\n",
    "            stack1.append(node.right)\r\n",
    "        stack2.append(node)\r\n",
    "    while stack2:\r\n",
    "        res.append(stack2.pop().val)\r\n",
    "    return res \r\n"
   ],
   "outputs": [],
   "metadata": {}
  },
  {
   "cell_type": "code",
   "execution_count": 38,
   "source": [
    "postorder(node0,[])"
   ],
   "outputs": [
    {
     "output_type": "execute_result",
     "data": {
      "text/plain": [
       "[3, 4, 1, 5, 6, 2, 0]"
      ]
     },
     "metadata": {},
     "execution_count": 38
    }
   ],
   "metadata": {}
  },
  {
   "cell_type": "markdown",
   "source": [
    "## 排序算法"
   ],
   "metadata": {}
  },
  {
   "cell_type": "code",
   "execution_count": 1,
   "source": [
    "## 普通排序\r\n",
    "def Sort(nums):\r\n",
    "    n = len(nums)\r\n",
    "    for i in range(n):\r\n",
    "        for j in range(i+1,n):\r\n",
    "            if nums[i] > nums[j]:\r\n",
    "                nums[i],nums[j] = nums[j],nums[i]\r\n",
    "    return nums"
   ],
   "outputs": [],
   "metadata": {}
  },
  {
   "cell_type": "code",
   "execution_count": 2,
   "source": [
    "Sort([1,4,2,3,5,34,6])"
   ],
   "outputs": [
    {
     "output_type": "execute_result",
     "data": {
      "text/plain": [
       "[1, 2, 3, 4, 5, 6, 34]"
      ]
     },
     "metadata": {},
     "execution_count": 2
    }
   ],
   "metadata": {}
  },
  {
   "cell_type": "code",
   "execution_count": 3,
   "source": [
    "def bubbleSort(nums):\r\n",
    "    n = len(nums)\r\n",
    "    for i in range(n):\r\n",
    "        for j in range(n-1,i,-1):\r\n",
    "            if nums[j] < nums[j-1]:\r\n",
    "                nums[j-1],nums[j] = nums[j],nums[j-1]\r\n",
    "    return nums "
   ],
   "outputs": [],
   "metadata": {}
  },
  {
   "cell_type": "code",
   "execution_count": 4,
   "source": [
    "bubbleSort([1,2,5,3,24,6])"
   ],
   "outputs": [
    {
     "output_type": "execute_result",
     "data": {
      "text/plain": [
       "[1, 2, 3, 5, 6, 24]"
      ]
     },
     "metadata": {},
     "execution_count": 4
    }
   ],
   "metadata": {}
  },
  {
   "cell_type": "code",
   "execution_count": 37,
   "source": [
    "def bubbleSort(nums):\r\n",
    "    for i in range(len(nums)-1):\r\n",
    "        for j in range(len(nums)-1-i):\r\n",
    "            if nums[j] > nums[j+1]:\r\n",
    "                nums[j],nums[j+1] = nums[j+1],nums[j]\r\n",
    "    return nums "
   ],
   "outputs": [],
   "metadata": {}
  },
  {
   "cell_type": "code",
   "execution_count": 38,
   "source": [
    "bubbleSort([1,3,6,5,3,2])"
   ],
   "outputs": [
    {
     "output_type": "execute_result",
     "data": {
      "text/plain": [
       "[1, 2, 3, 3, 5, 6]"
      ]
     },
     "metadata": {},
     "execution_count": 38
    }
   ],
   "metadata": {}
  },
  {
   "cell_type": "code",
   "execution_count": 23,
   "source": [
    "## 优化 设置标志位 已排好顺序的数据不用再排序\r\n",
    "def bubbleSort2(nums):\r\n",
    "    for i in range(len(nums)-1):\r\n",
    "        flag = False \r\n",
    "        for j in range(len(nums)-1-i):\r\n",
    "            if nums[j] > nums[j+1]:\r\n",
    "                nums[j],nums[j+1] = nums[j+1],nums[j]\r\n",
    "                flag = True \r\n",
    "        if not flag:\r\n",
    "            break  \r\n",
    "    return nums"
   ],
   "outputs": [],
   "metadata": {}
  },
  {
   "cell_type": "code",
   "execution_count": 35,
   "source": [
    "timeit.timeit(\"bubbleSort2([1,2,3,4,5,6])\",\"from __main__ import bubbleSort2\",number=100)"
   ],
   "outputs": [
    {
     "output_type": "execute_result",
     "data": {
      "text/plain": [
       "0.00010010000005422626"
      ]
     },
     "metadata": {},
     "execution_count": 35
    }
   ],
   "metadata": {}
  },
  {
   "cell_type": "code",
   "execution_count": 39,
   "source": [
    "timeit.timeit(\"bubbleSort([1,2,3,4,5,6])\",\"from __main__ import bubbleSort\",number=100)"
   ],
   "outputs": [
    {
     "output_type": "execute_result",
     "data": {
      "text/plain": [
       "0.00026800000000548607"
      ]
     },
     "metadata": {},
     "execution_count": 39
    }
   ],
   "metadata": {}
  },
  {
   "cell_type": "code",
   "execution_count": 42,
   "source": [
    "%timeit bubbleSort2([1,2,3,4,5,6])"
   ],
   "outputs": [
    {
     "output_type": "stream",
     "name": "stdout",
     "text": [
      "1.01 µs ± 11.5 ns per loop (mean ± std. dev. of 7 runs, 1000000 loops each)\n"
     ]
    }
   ],
   "metadata": {}
  },
  {
   "cell_type": "code",
   "execution_count": 43,
   "source": [
    "%timeit bubbleSort([1,2,3,4,5,6])"
   ],
   "outputs": [
    {
     "output_type": "stream",
     "name": "stdout",
     "text": [
      "2.84 µs ± 17.7 ns per loop (mean ± std. dev. of 7 runs, 100000 loops each)\n"
     ]
    }
   ],
   "metadata": {}
  },
  {
   "cell_type": "code",
   "execution_count": 48,
   "source": [
    "## 选择排序\r\n",
    "def selectSort(nums):\r\n",
    "    for i in range(len(nums)-1):\r\n",
    "        minindex = i  \r\n",
    "        for j in range(i+1,len(nums)):\r\n",
    "            if nums[minindex] > nums[j]:\r\n",
    "                minindex = j \r\n",
    "        if minindex != i:\r\n",
    "            nums[i],nums[minindex] = nums[minindex],nums[i]\r\n",
    "    return nums "
   ],
   "outputs": [],
   "metadata": {}
  },
  {
   "cell_type": "code",
   "execution_count": 47,
   "source": [
    "selectSort([1,5,3,2,4])"
   ],
   "outputs": [
    {
     "output_type": "execute_result",
     "data": {
      "text/plain": [
       "[1, 2, 3, 4, 5]"
      ]
     },
     "metadata": {},
     "execution_count": 47
    }
   ],
   "metadata": {}
  },
  {
   "cell_type": "code",
   "execution_count": 53,
   "source": [
    "## 插入排序\r\n",
    "def insertSort(nums):\r\n",
    "    for i in range(len(nums)):\r\n",
    "        num = nums[i]\r\n",
    "        while i - 1 >= 0 and num < nums[i-1]:\r\n",
    "            nums[i] = nums[i-1]\r\n",
    "            i -= 1 \r\n",
    "        nums[i] = num\r\n",
    "    return nums "
   ],
   "outputs": [],
   "metadata": {}
  },
  {
   "cell_type": "code",
   "execution_count": 68,
   "source": [
    "def insergSort(nums):\r\n",
    "    for i in range(len(nums)):\r\n",
    "        num = nums[i]\r\n",
    "        while i - 1 >= 0 and num < nums[i-1]:\r\n",
    "            nums[i-1],nums[i] = nums[i],nums[i-1]\r\n",
    "            i -= 1 \r\n",
    "    return nums "
   ],
   "outputs": [],
   "metadata": {}
  },
  {
   "cell_type": "code",
   "execution_count": 69,
   "source": [
    "insertSort([1,3,5,2,4])"
   ],
   "outputs": [
    {
     "output_type": "execute_result",
     "data": {
      "text/plain": [
       "[1, 2, 3, 4, 5]"
      ]
     },
     "metadata": {},
     "execution_count": 69
    }
   ],
   "metadata": {}
  },
  {
   "cell_type": "code",
   "execution_count": 63,
   "source": [
    "def insertSort(nums):\r\n",
    "    for i in range(len(nums)-1):\r\n",
    "        for j in range(i+1,0,-1):\r\n",
    "            if nums[j] < nums[j-1]:\r\n",
    "                nums[j-1],nums[j] = nums[j],nums[j-1]\r\n",
    "    return nums  "
   ],
   "outputs": [],
   "metadata": {}
  },
  {
   "cell_type": "code",
   "execution_count": 65,
   "source": [
    "insertSort([1,2,5,3,2,6,3])"
   ],
   "outputs": [
    {
     "output_type": "execute_result",
     "data": {
      "text/plain": [
       "[1, 2, 2, 3, 3, 5, 6]"
      ]
     },
     "metadata": {},
     "execution_count": 65
    }
   ],
   "metadata": {}
  },
  {
   "cell_type": "code",
   "execution_count": 72,
   "source": [
    "## 希尔排序\r\n",
    "def shellSort(nums,gap):\r\n",
    "    while ga\r\n",
    "        for i in range(gap,len(nums)):\r\n",
    "            num = nums[i]\r\n",
    "            while i - gap >= 0 and num < nums[i-gap]:\r\n",
    "                nums[i],nums[i-gap] = nums[i-gap],nums[i]\r\n",
    "                i -= gap\r\n",
    "        gap //= 2  \r\n",
    "    return nums  "
   ],
   "outputs": [],
   "metadata": {}
  },
  {
   "cell_type": "code",
   "execution_count": 75,
   "source": [
    "shellSort([1,5,3,2,5,6],100000)"
   ],
   "outputs": [
    {
     "output_type": "execute_result",
     "data": {
      "text/plain": [
       "[1, 2, 3, 5, 5, 6]"
      ]
     },
     "metadata": {},
     "execution_count": 75
    }
   ],
   "metadata": {}
  },
  {
   "cell_type": "code",
   "execution_count": 82,
   "source": [
    "def shellSort(nums,gap):\r\n",
    "    while True:\r\n",
    "        gap //= 2\r\n",
    "        for i in range(gap):\r\n",
    "            for j in range(i+gap,len(nums),gap):\r\n",
    "                for k in (j,i,-gap):\r\n",
    "                    if nums[k] < nums[k-gap]:\r\n",
    "                        nums[k-gap],nums[k] = nums[k],nums[k-gap]\r\n",
    "                    else:\r\n",
    "                        break  \r\n",
    "        if gap == 1:\r\n",
    "            break \r\n",
    "    return nums\r\n",
    "                \r\n",
    "\r\n",
    "\r\n"
   ],
   "outputs": [],
   "metadata": {}
  },
  {
   "cell_type": "code",
   "execution_count": 83,
   "source": [
    "shellSort([1,6,4,2,3,6],2)"
   ],
   "outputs": [
    {
     "output_type": "execute_result",
     "data": {
      "text/plain": [
       "[6, 4, 2, 1, 3, 6]"
      ]
     },
     "metadata": {},
     "execution_count": 83
    }
   ],
   "metadata": {}
  },
  {
   "cell_type": "code",
   "execution_count": 5,
   "source": [
    "x = (lambda x,y:x*y,[1,2,3],[4,5,6])"
   ],
   "outputs": [
    {
     "output_type": "error",
     "ename": "NameError",
     "evalue": "name 'reduce' is not defined",
     "traceback": [
      "\u001b[1;31m---------------------------------------------------------------------------\u001b[0m",
      "\u001b[1;31mNameError\u001b[0m                                 Traceback (most recent call last)",
      "\u001b[1;32m<ipython-input-5-60746317eeab>\u001b[0m in \u001b[0;36m<module>\u001b[1;34m\u001b[0m\n\u001b[1;32m----> 1\u001b[1;33m \u001b[0mx\u001b[0m \u001b[1;33m=\u001b[0m \u001b[0mreduce\u001b[0m\u001b[1;33m(\u001b[0m\u001b[1;32mlambda\u001b[0m \u001b[0mx\u001b[0m\u001b[1;33m,\u001b[0m\u001b[0my\u001b[0m\u001b[1;33m:\u001b[0m\u001b[0mx\u001b[0m\u001b[1;33m*\u001b[0m\u001b[0my\u001b[0m\u001b[1;33m,\u001b[0m\u001b[1;33m[\u001b[0m\u001b[1;36m1\u001b[0m\u001b[1;33m,\u001b[0m\u001b[1;36m2\u001b[0m\u001b[1;33m,\u001b[0m\u001b[1;36m3\u001b[0m\u001b[1;33m]\u001b[0m\u001b[1;33m,\u001b[0m\u001b[1;33m[\u001b[0m\u001b[1;36m4\u001b[0m\u001b[1;33m,\u001b[0m\u001b[1;36m5\u001b[0m\u001b[1;33m,\u001b[0m\u001b[1;36m6\u001b[0m\u001b[1;33m]\u001b[0m\u001b[1;33m)\u001b[0m\u001b[1;33m\u001b[0m\u001b[1;33m\u001b[0m\u001b[0m\n\u001b[0m",
      "\u001b[1;31mNameError\u001b[0m: name 'reduce' is not defined"
     ]
    }
   ],
   "metadata": {}
  },
  {
   "cell_type": "code",
   "execution_count": 4,
   "source": [
    "list(x)"
   ],
   "outputs": [
    {
     "output_type": "execute_result",
     "data": {
      "text/plain": [
       "[4, 10, 18]"
      ]
     },
     "metadata": {},
     "execution_count": 4
    }
   ],
   "metadata": {}
  },
  {
   "cell_type": "code",
   "execution_count": 3,
   "source": [
    "import pandas as pd"
   ],
   "outputs": [],
   "metadata": {}
  },
  {
   "cell_type": "code",
   "execution_count": 5,
   "source": [
    "    stu = [['rookie', 20, 'yaoji'],\r\n",
    "           ['rookie', 20, 'yaoji'],\r\n",
    "           ['xiaohu', 19, 'feiji'],\r\n",
    "           ['xiaohu', 19, 'feiji'],\r\n",
    "           ['xiaohu', 19, 'feiji'],\r\n",
    "           ['theshy', 19, 'jieshi'],\r\n",
    "           ['theshy', 19, 'jieshi'],\r\n",
    "           ['theshy', 19, 'jieshi'],\r\n",
    "           ['ming', 22, 'niutou'],\r\n",
    "           ['ming', 22, 'niutou'],\r\n",
    "           ['ming', 22, 'niutou']]\r\n",
    "    df = pd.DataFrame(stu, columns=['name', 'age', 'renwu'])\r\n",
    "    df.loc[df['age'] > 20, 'renwu'] = 'jie'\r\n",
    "    print(df)"
   ],
   "outputs": [
    {
     "output_type": "stream",
     "name": "stdout",
     "text": [
      "      name  age   renwu\n",
      "0   rookie   20   yaoji\n",
      "1   rookie   20   yaoji\n",
      "2   xiaohu   19   feiji\n",
      "3   xiaohu   19   feiji\n",
      "4   xiaohu   19   feiji\n",
      "5   theshy   19  jieshi\n",
      "6   theshy   19  jieshi\n",
      "7   theshy   19  jieshi\n",
      "8     ming   22     jie\n",
      "9     ming   22     jie\n",
      "10    ming   22     jie\n"
     ]
    }
   ],
   "metadata": {}
  },
  {
   "cell_type": "code",
   "execution_count": null,
   "source": [
    "dic = {'A':1,}"
   ],
   "outputs": [
    {
     "output_type": "execute_result",
     "data": {
      "text/plain": [
       "8"
      ]
     },
     "metadata": {},
     "execution_count": 1
    }
   ],
   "metadata": {}
  }
 ]
}