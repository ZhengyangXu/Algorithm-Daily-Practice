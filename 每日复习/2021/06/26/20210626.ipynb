{
 "metadata": {
  "language_info": {
   "codemirror_mode": {
    "name": "ipython",
    "version": 3
   },
   "file_extension": ".py",
   "mimetype": "text/x-python",
   "name": "python",
   "nbconvert_exporter": "python",
   "pygments_lexer": "ipython3",
   "version": "3.7.7"
  },
  "orig_nbformat": 4,
  "kernelspec": {
   "name": "python3",
   "display_name": "Python 3.7.7 64-bit ('ML': conda)"
  },
  "interpreter": {
   "hash": "48c07bd38cf2d9a9de910d4b2d05fa3599e598780a3671a83bc7380a09869906"
  }
 },
 "nbformat": 4,
 "nbformat_minor": 2,
 "cells": [
  {
   "source": [
    "## leetcode.[752] 打开转盘锁"
   ],
   "cell_type": "markdown",
   "metadata": {}
  },
  {
   "source": [
    "### 双向BFS"
   ],
   "cell_type": "markdown",
   "metadata": {}
  },
  {
   "cell_type": "code",
   "execution_count": 38,
   "metadata": {},
   "outputs": [],
   "source": [
    "def openLock(deadends,target): \n",
    "    s = '0000'\n",
    "    if s in deadends:\n",
    "        return -1 \n",
    "    if s == target:\n",
    "        return 0 \n",
    "\n",
    "    def update(s,visited):\n",
    "        nex_level = []\n",
    "        for i,c in enumerate(s):\n",
    "            up = s[:i] + str((int(c) + 1)%10) + s[i+1:]\n",
    "            if up not in visited:\n",
    "                nex_level.append(up)\n",
    "            down = s[:i] + str((int(c)-1)%10) + s[i+1:]\n",
    "            if down not in visited:\n",
    "                nex_level.append(down)\n",
    "        return nex_level \n",
    "\n",
    "    front = {s}\n",
    "    back = {target}\n",
    "    visited = set() \n",
    "    step = 0 \n",
    "    while front and back:\n",
    "        nex_level = set()\n",
    "        for cur in front:\n",
    "            if cur in deadends:\n",
    "                continue \n",
    "            if cur in back:\n",
    "                return step\n",
    "            visited.add(cur)\n",
    "\n",
    "            cur_nex = update(cur,visited)\n",
    "            nex_level = nex_level.union(cur_nex)\n",
    "        step += 1 \n",
    "        front = back \n",
    "        back = set(nex_level)\n",
    "    return -1  \n",
    "    \n"
   ]
  },
  {
   "cell_type": "code",
   "execution_count": 39,
   "metadata": {},
   "outputs": [],
   "source": [
    "deadends = [\"0201\",\"0101\",\"0102\",\"1212\",\"2002\"]\n",
    "target = \"0202\""
   ]
  },
  {
   "cell_type": "code",
   "execution_count": 40,
   "metadata": {},
   "outputs": [],
   "source": [
    "deadends = [\"8887\",\"8889\",\"8878\",\"8898\",\"8788\",\"8988\",\"7888\",\"9888\"]\n",
    "target = \"8888\""
   ]
  },
  {
   "cell_type": "code",
   "execution_count": 41,
   "metadata": {},
   "outputs": [
    {
     "output_type": "execute_result",
     "data": {
      "text/plain": [
       "-1"
      ]
     },
     "metadata": {},
     "execution_count": 41
    }
   ],
   "source": [
    "openLock(deadends,target)"
   ]
  },
  {
   "source": [
    "### 单向BFS"
   ],
   "cell_type": "markdown",
   "metadata": {}
  },
  {
   "cell_type": "code",
   "execution_count": 42,
   "metadata": {},
   "outputs": [],
   "source": [
    "def openLockBFS(deadends,target):\n",
    "    start = '0000'\n",
    "    if start in deadends:\n",
    "        return -1 \n",
    "    if start in target:\n",
    "        return 0 \n",
    "\n",
    "    def update(s,visited):\n",
    "        nex_level = set()\n",
    "        for i,c in enumerate(s):\n",
    "            up = s[:i] + str((int(c)+1)%10) + s[i+1:]\n",
    "            if up not in visited:\n",
    "                nex_level.add(up)\n",
    "            down = s[:i] + str((int(c)-1)%10) + s[i+1:]\n",
    "            if down not in visited:\n",
    "                nex_level.add(down)\n",
    "        return nex_level\n",
    "    \n",
    "    visited = set()\n",
    "    q = [start]\n",
    "    step = 0 \n",
    "    while q:\n",
    "        size = len(q)\n",
    "        for i in range(size):\n",
    "            cur = q.pop(0)\n",
    "            if cur in deadends:\n",
    "                continue \n",
    "            if cur == target:\n",
    "                return step\n",
    "            visited.add(cur)\n",
    "            nex_level = update(cur,visited)\n",
    "            for comb in nex_level:\n",
    "                if comb not in visited:\n",
    "                    visited.add(comb)\n",
    "                    q.append(comb)\n",
    "        step += 1 \n",
    "    return -1"
   ]
  },
  {
   "cell_type": "code",
   "execution_count": 43,
   "metadata": {},
   "outputs": [],
   "source": [
    "deadends = [\"8887\",\"8889\",\"8878\",\"8898\",\"8788\",\"8988\",\"7888\",\"9888\"]\n",
    "target = \"8888\""
   ]
  },
  {
   "cell_type": "code",
   "execution_count": 44,
   "metadata": {},
   "outputs": [
    {
     "output_type": "execute_result",
     "data": {
      "text/plain": [
       "-1"
      ]
     },
     "metadata": {},
     "execution_count": 44
    }
   ],
   "source": [
    "openLockBFS(deadends,target)"
   ]
  },
  {
   "cell_type": "code",
   "execution_count": null,
   "metadata": {},
   "outputs": [],
   "source": []
  }
 ]
}