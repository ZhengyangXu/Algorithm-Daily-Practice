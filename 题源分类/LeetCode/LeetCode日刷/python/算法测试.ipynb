{
 "metadata": {
  "language_info": {
   "codemirror_mode": {
    "name": "ipython",
    "version": 3
   },
   "file_extension": ".py",
   "mimetype": "text/x-python",
   "name": "python",
   "nbconvert_exporter": "python",
   "pygments_lexer": "ipython3",
   "version": "3.7.7"
  },
  "orig_nbformat": 2,
  "kernelspec": {
   "name": "python3",
   "display_name": "Python 3.7.7 64-bit ('ML': conda)"
  },
  "metadata": {
   "interpreter": {
    "hash": "48c07bd38cf2d9a9de910d4b2d05fa3599e598780a3671a83bc7380a09869906"
   }
  },
  "interpreter": {
   "hash": "48c07bd38cf2d9a9de910d4b2d05fa3599e598780a3671a83bc7380a09869906"
  }
 },
 "nbformat": 4,
 "nbformat_minor": 2,
 "cells": [
  {
   "cell_type": "code",
   "execution_count": null,
   "metadata": {},
   "outputs": [],
   "source": []
  },
  {
   "cell_type": "code",
   "execution_count": 13,
   "metadata": {},
   "outputs": [],
   "source": [
    "def findRelativeRanks(score):\n",
    "    \n",
    "    n = len(score)\n",
    "    \n",
    "    for i in range(n):\n",
    "        count = 1\n",
    "        for j in range(n):\n",
    "            print(\"j:{},i:{}\".format(score[j],score[i]))\n",
    "            if score[j] > score[i]:\n",
    "                print(hello)\n",
    "                count += 1\n",
    "        score[i] = count\n",
    "    return score\n",
    "            "
   ]
  },
  {
   "cell_type": "code",
   "execution_count": 14,
   "metadata": {},
   "outputs": [],
   "source": [
    "score = [5,4,3,2,1]"
   ]
  },
  {
   "cell_type": "code",
   "execution_count": 15,
   "metadata": {},
   "outputs": [
    {
     "output_type": "stream",
     "name": "stdout",
     "text": [
      "j:5,i:5\nj:4,i:5\nj:3,i:5\nj:2,i:5\nj:1,i:5\nj:1,i:4\nj:4,i:4\nj:3,i:4\nj:2,i:4\nj:1,i:4\nj:1,i:3\nj:1,i:3\nj:3,i:3\nj:2,i:3\nj:1,i:3\nj:1,i:2\nj:1,i:2\nj:1,i:2\nj:2,i:2\nj:1,i:2\nj:1,i:1\nj:1,i:1\nj:1,i:1\nj:1,i:1\nj:1,i:1\n"
     ]
    },
    {
     "output_type": "execute_result",
     "data": {
      "text/plain": [
       "[1, 1, 1, 1, 1]"
      ]
     },
     "metadata": {},
     "execution_count": 15
    }
   ],
   "source": [
    "findRelativeRanks(score)"
   ]
  },
  {
   "cell_type": "code",
   "execution_count": 1,
   "metadata": {},
   "outputs": [],
   "source": [
    "matrix = [[1,2,3],[4,5,6],[7,8,9]]"
   ]
  },
  {
   "cell_type": "code",
   "execution_count": 11,
   "metadata": {},
   "outputs": [
    {
     "output_type": "execute_result",
     "data": {
      "text/plain": [
       "[(1, 4, 7), (2, 5, 8), (3, 6, 9)]"
      ]
     },
     "metadata": {},
     "execution_count": 11
    }
   ],
   "source": [
    "list(list(zip(*matrix)))"
   ]
  },
  {
   "cell_type": "code",
   "execution_count": 5,
   "metadata": {},
   "outputs": [
    {
     "output_type": "execute_result",
     "data": {
      "text/plain": [
       "[(1, 4, 7), (2, 5, 8), (3, 6, 9)]"
      ]
     },
     "metadata": {},
     "execution_count": 5
    }
   ],
   "source": [
    "list(zip([1,2,3],[4,5,6],[7,8,9]))"
   ]
  },
  {
   "cell_type": "code",
   "execution_count": 9,
   "metadata": {},
   "outputs": [
    {
     "output_type": "execute_result",
     "data": {
      "text/plain": [
       "[(1, 4), (2, 5), (3, 6)]"
      ]
     },
     "metadata": {},
     "execution_count": 9
    }
   ],
   "source": [
    "list(zip(*[[1,2,3],[4,5,6]]))"
   ]
  },
  {
   "cell_type": "code",
   "execution_count": 12,
   "metadata": {},
   "outputs": [
    {
     "output_type": "execute_result",
     "data": {
      "text/plain": [
       "[2, 4]"
      ]
     },
     "metadata": {},
     "execution_count": 12
    }
   ],
   "source": [
    "list((2,4))"
   ]
  },
  {
   "cell_type": "code",
   "execution_count": 25,
   "metadata": {},
   "outputs": [],
   "source": [
    "    def canPlaceFlowers(flowerbed,n):\n",
    "        \n",
    "        count = 0 \n",
    "        size = len(flowerbed)\n",
    "        for i in range(size):\n",
    "            if flowerbed[i] == 0:\n",
    "                if i == 0:\n",
    "                    if flowerbed[i+1] == 0:\n",
    "                        count += 1\n",
    "                        flowerbed[i] = 1\n",
    "                    print(count,1,flowerbed) \n",
    "                elif i == size - 1:\n",
    "                    if flowerbed[i-1] == 0:\n",
    "                        count += 1 \n",
    "                        flowerbed[i] = 1\n",
    "                    print(count,2,flowerbed) \n",
    "                \n",
    "                else:\n",
    "                    if flowerbed[i-1] == 0 and flowerbed[i+1] == 0:\n",
    "                        count += 1 \n",
    "                        flowerbed[i] = 1 \n",
    "                    print(count,3,flowerbed) \n",
    "      \n",
    "        return count >= n"
   ]
  },
  {
   "cell_type": "code",
   "execution_count": 27,
   "metadata": {},
   "outputs": [
    {
     "output_type": "stream",
     "name": "stdout",
     "text": [
      "0 3 [1, 0, 0, 0, 0, 1]\n1 3 [1, 0, 1, 0, 0, 1]\n1 3 [1, 0, 1, 0, 0, 1]\n1 3 [1, 0, 1, 0, 0, 1]\n"
     ]
    },
    {
     "output_type": "execute_result",
     "data": {
      "text/plain": [
       "False"
      ]
     },
     "metadata": {},
     "execution_count": 27
    }
   ],
   "source": [
    "canPlaceFlowers([1,0,0,0,0,1],2)"
   ]
  },
  {
   "source": [
    "### 2021/05/27"
   ],
   "cell_type": "markdown",
   "metadata": {}
  },
  {
   "cell_type": "code",
   "execution_count": 5,
   "metadata": {},
   "outputs": [],
   "source": [
    "def hammingDistance( x, y) :\n",
    "    count = 0\n",
    "    for i in range(32):\n",
    "        print(\"x&1:{},y&1:{}\".format(x&1,y&1))\n",
    "        if x & 1 == y & 1:\n",
    "            print('in')\n",
    "            count += 1 \n",
    "        x >>= 1 \n",
    "        y >>= 1 \n",
    "    return count "
   ]
  },
  {
   "cell_type": "code",
   "execution_count": 6,
   "metadata": {},
   "outputs": [
    {
     "output_type": "stream",
     "name": "stdout",
     "text": [
      "x&1:1,y&1:0\nx&1:0,y&1:0\nin\nx&1:0,y&1:1\nx&1:0,y&1:0\nin\nx&1:0,y&1:0\nin\nx&1:0,y&1:0\nin\nx&1:0,y&1:0\nin\nx&1:0,y&1:0\nin\nx&1:0,y&1:0\nin\nx&1:0,y&1:0\nin\nx&1:0,y&1:0\nin\nx&1:0,y&1:0\nin\nx&1:0,y&1:0\nin\nx&1:0,y&1:0\nin\nx&1:0,y&1:0\nin\nx&1:0,y&1:0\nin\nx&1:0,y&1:0\nin\nx&1:0,y&1:0\nin\nx&1:0,y&1:0\nin\nx&1:0,y&1:0\nin\nx&1:0,y&1:0\nin\nx&1:0,y&1:0\nin\nx&1:0,y&1:0\nin\nx&1:0,y&1:0\nin\nx&1:0,y&1:0\nin\nx&1:0,y&1:0\nin\nx&1:0,y&1:0\nin\nx&1:0,y&1:0\nin\nx&1:0,y&1:0\nin\nx&1:0,y&1:0\nin\nx&1:0,y&1:0\nin\nx&1:0,y&1:0\nin\n"
     ]
    },
    {
     "output_type": "execute_result",
     "data": {
      "text/plain": [
       "30"
      ]
     },
     "metadata": {},
     "execution_count": 6
    }
   ],
   "source": [
    "hammingDistance(1,4)"
   ]
  },
  {
   "cell_type": "code",
   "execution_count": 8,
   "metadata": {},
   "outputs": [],
   "source": [
    "def dfs(id, res):\n",
    "    if not id:\n",
    "        return\n",
    "    print(\"id:{},res:{}\".format(id,res))\n",
    "    res = workers[id].importance\n",
    "    for id in workers[id].subordinates:\n",
    "        res += dfs(id, res)\n",
    "\n",
    "    return res\n"
   ]
  },
  {
   "cell_type": "code",
   "execution_count": null,
   "metadata": {},
   "outputs": [],
   "source": [
    "[[1, 5, [2, 3]], [2, 3, []], [3, 3, []]], 1\n",
    "workers = {1:5,}"
   ]
  },
  {
   "cell_type": "code",
   "execution_count": 18,
   "metadata": {},
   "outputs": [],
   "source": [
    "nums = [23,2,6,4,7]\n",
    "presum = [nums[0]]\n",
    "n = len(nums)\n",
    "for i in range(1,n):\n",
    "    presum.append(presum[-1]+nums[i])"
   ]
  },
  {
   "cell_type": "code",
   "execution_count": 19,
   "metadata": {},
   "outputs": [
    {
     "output_type": "execute_result",
     "data": {
      "text/plain": [
       "[23, 25, 31, 35, 42]"
      ]
     },
     "metadata": {},
     "execution_count": 19
    }
   ],
   "source": [
    "presum"
   ]
  },
  {
   "cell_type": "code",
   "execution_count": 7,
   "metadata": {},
   "outputs": [],
   "source": [
    "import itertools"
   ]
  },
  {
   "cell_type": "code",
   "execution_count": 8,
   "metadata": {},
   "outputs": [],
   "source": [
    "c = itertools.accumulate(nums)"
   ]
  },
  {
   "cell_type": "code",
   "execution_count": 11,
   "metadata": {},
   "outputs": [
    {
     "output_type": "stream",
     "name": "stdout",
     "text": [
      "[23, 25, 31, 35, 42]\n"
     ]
    }
   ],
   "source": [
    "print(list(c))"
   ]
  },
  {
   "cell_type": "code",
   "execution_count": 25,
   "metadata": {},
   "outputs": [],
   "source": [
    "    def checkSubarraySum(nums, k) :\n",
    "        \n",
    "        presum = [nums[0]]\n",
    "        n = len(nums)\n",
    "        for i in range(1,n):\n",
    "            presum.append(presum[-1]+nums[i])\n",
    "            \n",
    "        ans = set()\n",
    "        print(presum)\n",
    "        for i in range(1,len(presum)):\n",
    "            ans.add(presum[i-1] % k)\n",
    "            print(ans)\n",
    "            if presum[i] % k in ans:\n",
    "                return True\n",
    "        return False  "
   ]
  },
  {
   "cell_type": "code",
   "execution_count": 26,
   "metadata": {},
   "outputs": [
    {
     "output_type": "stream",
     "name": "stdout",
     "text": [
      "[23, 25, 29, 35, 41]\n{2}\n{2, 4}\n{1, 2, 4}\n{0, 1, 2, 4}\n"
     ]
    },
    {
     "output_type": "execute_result",
     "data": {
      "text/plain": [
       "False"
      ]
     },
     "metadata": {},
     "execution_count": 26
    }
   ],
   "source": [
    "checkSubarraySum([23,2,4,6,6],7)\n"
   ]
  },
  {
   "cell_type": "code",
   "execution_count": 24,
   "metadata": {},
   "outputs": [
    {
     "output_type": "execute_result",
     "data": {
      "text/plain": [
       "[23, 25, 31, 35, 42]"
      ]
     },
     "metadata": {},
     "execution_count": 24
    }
   ],
   "source": [
    "presum"
   ]
  },
  {
   "cell_type": "code",
   "execution_count": 51,
   "metadata": {},
   "outputs": [],
   "source": [
    "nums = [0,1]"
   ]
  },
  {
   "cell_type": "code",
   "execution_count": 52,
   "metadata": {},
   "outputs": [
    {
     "output_type": "stream",
     "name": "stdout",
     "text": [
      "[0, -1, 0]\n"
     ]
    }
   ],
   "source": [
    "n = len(nums)\n",
    "presum = [0]\n",
    "for i in range(n):\n",
    "    presum.append(presum[-1] + (1 if nums[i] else -1) )\n",
    "print(presum)\n",
    "dic = {0:0}\n",
    "ans = 0\n",
    "for i in range(2,n):\n",
    "    if presum[i-2] not in dic:\n",
    "        print(\"not in \")\n",
    "        dic[presum[i-2]] = i- 2\n",
    "    if presum[i] in dic:\n",
    "        print(\"in\")\n",
    "        ans = max(ans,i-dic[presum[i]])"
   ]
  },
  {
   "cell_type": "code",
   "execution_count": 49,
   "metadata": {},
   "outputs": [
    {
     "output_type": "execute_result",
     "data": {
      "text/plain": [
       "0"
      ]
     },
     "metadata": {},
     "execution_count": 49
    }
   ],
   "source": [
    "ans"
   ]
  },
  {
   "cell_type": "code",
   "execution_count": 32,
   "metadata": {},
   "outputs": [
    {
     "output_type": "execute_result",
     "data": {
      "text/plain": [
       "[0, 1, 0, 1, 2, 3, 2, 1, 0]"
      ]
     },
     "metadata": {},
     "execution_count": 32
    }
   ],
   "source": [
    "presum"
   ]
  },
  {
   "cell_type": "code",
   "execution_count": 78,
   "metadata": {},
   "outputs": [],
   "source": [
    "def removeInvalidParentheses(s) :\n",
    "    valid = []\n",
    "    length = len(s)\n",
    "    l,r = 0,0 \n",
    "    for char in s:\n",
    "        if char == \"(\":\n",
    "            l += 1 \n",
    "        elif char == \")\":\n",
    "            if l == 0:\n",
    "                r += 1 \n",
    "            if l > 0:\n",
    "                l -= 1\n",
    "    print(\"(:{},):{}\".format(l,r))\n",
    "        \n",
    "        \n",
    "    def dfs(index,leftcount,rightcount,leftremove,rightremove, path):\n",
    "        if index == length:\n",
    "            if leftremove == 0 and rightremove == 0:\n",
    "                path = path[:]\n",
    "                if path not in valid:\n",
    "                    print(\"输出答案\")\n",
    "                    valid.append(path)\n",
    "            return \n",
    "        char = s[index]\n",
    "        \n",
    "        if char == \"(\" and leftremove > 0:\n",
    "            print(\"进入1,path:{}\".format(path))\n",
    "            dfs(index+1,leftcount,rightcount,leftremove-1,rightremove,path)\n",
    "        \n",
    "        if char == \")\" and rightremove > 0:\n",
    "            print(\"进入2,path:{}\".format(path))\n",
    "            dfs(index+1,leftcount,rightcount,leftremove,rightremove-1,path)\n",
    "            \n",
    "        path += char \n",
    "        \n",
    "        if char != \"(\" and char != \")\":\n",
    "            print(\"进入3,path:{}\".format(path))\n",
    "            dfs(index+1,leftcount,rightcount,leftremove,rightremove,path)\n",
    "        elif char == \"(\":\n",
    "            print(\"进入4,path:{}\".format(path))\n",
    "            dfs(index+1,leftcount+1,rightcount,leftremove,rightremove,path)\n",
    "        elif rightcount < leftcount:\n",
    "            print(\"进入5,path:{}\".format(path))\n",
    "            dfs(index+1,leftcount,rightcount+1,leftremove,rightremove,path)\n",
    "            \n",
    "        path = path[:len(path)-1]\n",
    "        print(\"回撤:{}\".format(path))\n",
    "    path = ''\n",
    "    dfs(0,0,0,l,r,path)\n",
    "    return valid \n",
    "        \n"
   ]
  },
  {
   "cell_type": "code",
   "execution_count": 79,
   "metadata": {},
   "outputs": [],
   "source": [
    "s = '(a)())()'\n",
    "    "
   ]
  },
  {
   "cell_type": "code",
   "execution_count": 80,
   "metadata": {},
   "outputs": [
    {
     "output_type": "stream",
     "name": "stdout",
     "text": [
      "(:0,):1\n进入4,path:(\n进入3,path:(a\n进入2,path:(a\n进入4,path:(a(\n进入5,path:(a()\n进入5,path:(a())\n进入4,path:(a())(\n进入5,path:(a())()\n输出答案\n回撤:(a())(\n回撤:(a())\n回撤:(a()\n回撤:(a(\n回撤:(a\n进入5,path:(a)\n进入4,path:(a)(\n进入2,path:(a)(\n进入5,path:(a)()\n进入4,path:(a)()(\n进入5,path:(a)()()\n输出答案\n回撤:(a)()(\n回撤:(a)()\n回撤:(a)(\n进入5,path:(a)()\n进入2,path:(a)()\n进入4,path:(a)()(\n进入5,path:(a)()()\n回撤:(a)()(\n回撤:(a)()\n回撤:(a)()\n回撤:(a)(\n回撤:(a)\n回撤:(a\n回撤:(\n回撤:\n"
     ]
    },
    {
     "output_type": "execute_result",
     "data": {
      "text/plain": [
       "['(a())()', '(a)()()']"
      ]
     },
     "metadata": {},
     "execution_count": 80
    }
   ],
   "source": [
    "removeInvalidParentheses(s)"
   ]
  },
  {
   "cell_type": "code",
   "execution_count": 1,
   "metadata": {},
   "outputs": [
    {
     "output_type": "execute_result",
     "data": {
      "text/plain": [
       "5"
      ]
     },
     "metadata": {},
     "execution_count": 1
    }
   ],
   "source": [
    "int('+5')"
   ]
  },
  {
   "cell_type": "code",
   "execution_count": 63,
   "metadata": {},
   "outputs": [],
   "source": [
    "def findTargetSumWays(nums,target):\n",
    "    if not nums:\n",
    "        return 0\n",
    "    count = 0  \n",
    "    def backtrack(nums,index,s):\n",
    "        nonlocal count \n",
    "        if len(nums) ==index:\n",
    "            if s == target:\n",
    "                count += 1 \n",
    "        else:  \n",
    "            backtrack(nums,index+1,s+nums[index])\n",
    "            backtrack(nums,index+1,s-nums[index])\n",
    "    backtrack(nums,0,0)\n",
    "    return count "
   ]
  },
  {
   "cell_type": "code",
   "execution_count": 72,
   "metadata": {},
   "outputs": [],
   "source": [
    "def findTargetSumWays(nums,target):\n",
    "    if not nums:\n",
    "        return 0\n",
    "    count = 0\n",
    "    n = len(nums)\n",
    "    def backtrack(nums,path):\n",
    "        nonlocal count\n",
    "        if sum(path) == target:\n",
    "            print(\"符合条件path:{}\".format(path))\n",
    "            count += 1\n",
    "\n",
    "        for i in range(len(nums)):\n",
    "            for symbol in ('-','+'):\n",
    "                path.append(int(symbol+str(nums[i])))\n",
    "                print(\"path.append:{}\".format(path))\n",
    "                backtrack(nums[i+1:],path)\n",
    "                path.pop()\n",
    "                print(\"path.pop:{}\".format(path))\n",
    "    backtrack(nums,[])\n",
    "    return count"
   ]
  },
  {
   "cell_type": "code",
   "execution_count": 73,
   "metadata": {},
   "outputs": [],
   "source": [
    "nums = [1,1,1,1,1]\n",
    "target = 3"
   ]
  },
  {
   "cell_type": "code",
   "execution_count": 74,
   "metadata": {
    "tags": []
   },
   "outputs": [
    {
     "output_type": "stream",
     "name": "stdout",
     "text": [
      "path.append:[-1]\npath.append:[-1, -1]\npath.append:[-1, -1, -1]\npath.append:[-1, -1, -1, -1]\npath.append:[-1, -1, -1, -1, -1]\npath.pop:[-1, -1, -1, -1]\npath.append:[-1, -1, -1, -1, 1]\npath.pop:[-1, -1, -1, -1]\npath.pop:[-1, -1, -1]\npath.append:[-1, -1, -1, 1]\npath.append:[-1, -1, -1, 1, -1]\npath.pop:[-1, -1, -1, 1]\npath.append:[-1, -1, -1, 1, 1]\npath.pop:[-1, -1, -1, 1]\npath.pop:[-1, -1, -1]\npath.append:[-1, -1, -1, -1]\npath.pop:[-1, -1, -1]\npath.append:[-1, -1, -1, 1]\npath.pop:[-1, -1, -1]\npath.pop:[-1, -1]\npath.append:[-1, -1, 1]\npath.append:[-1, -1, 1, -1]\npath.append:[-1, -1, 1, -1, -1]\npath.pop:[-1, -1, 1, -1]\npath.append:[-1, -1, 1, -1, 1]\npath.pop:[-1, -1, 1, -1]\npath.pop:[-1, -1, 1]\npath.append:[-1, -1, 1, 1]\npath.append:[-1, -1, 1, 1, -1]\npath.pop:[-1, -1, 1, 1]\npath.append:[-1, -1, 1, 1, 1]\npath.pop:[-1, -1, 1, 1]\npath.pop:[-1, -1, 1]\npath.append:[-1, -1, 1, -1]\npath.pop:[-1, -1, 1]\npath.append:[-1, -1, 1, 1]\npath.pop:[-1, -1, 1]\npath.pop:[-1, -1]\npath.append:[-1, -1, -1]\npath.append:[-1, -1, -1, -1]\npath.pop:[-1, -1, -1]\npath.append:[-1, -1, -1, 1]\npath.pop:[-1, -1, -1]\npath.pop:[-1, -1]\npath.append:[-1, -1, 1]\npath.append:[-1, -1, 1, -1]\npath.pop:[-1, -1, 1]\npath.append:[-1, -1, 1, 1]\npath.pop:[-1, -1, 1]\npath.pop:[-1, -1]\npath.append:[-1, -1, -1]\npath.pop:[-1, -1]\npath.append:[-1, -1, 1]\npath.pop:[-1, -1]\npath.pop:[-1]\npath.append:[-1, 1]\npath.append:[-1, 1, -1]\npath.append:[-1, 1, -1, -1]\npath.append:[-1, 1, -1, -1, -1]\npath.pop:[-1, 1, -1, -1]\npath.append:[-1, 1, -1, -1, 1]\npath.pop:[-1, 1, -1, -1]\npath.pop:[-1, 1, -1]\npath.append:[-1, 1, -1, 1]\npath.append:[-1, 1, -1, 1, -1]\npath.pop:[-1, 1, -1, 1]\npath.append:[-1, 1, -1, 1, 1]\npath.pop:[-1, 1, -1, 1]\npath.pop:[-1, 1, -1]\npath.append:[-1, 1, -1, -1]\npath.pop:[-1, 1, -1]\npath.append:[-1, 1, -1, 1]\npath.pop:[-1, 1, -1]\npath.pop:[-1, 1]\npath.append:[-1, 1, 1]\npath.append:[-1, 1, 1, -1]\npath.append:[-1, 1, 1, -1, -1]\npath.pop:[-1, 1, 1, -1]\npath.append:[-1, 1, 1, -1, 1]\npath.pop:[-1, 1, 1, -1]\npath.pop:[-1, 1, 1]\npath.append:[-1, 1, 1, 1]\npath.append:[-1, 1, 1, 1, -1]\npath.pop:[-1, 1, 1, 1]\npath.append:[-1, 1, 1, 1, 1]\n符合条件path:[-1, 1, 1, 1, 1]\npath.pop:[-1, 1, 1, 1]\npath.pop:[-1, 1, 1]\npath.append:[-1, 1, 1, -1]\npath.pop:[-1, 1, 1]\npath.append:[-1, 1, 1, 1]\npath.pop:[-1, 1, 1]\npath.pop:[-1, 1]\npath.append:[-1, 1, -1]\npath.append:[-1, 1, -1, -1]\npath.pop:[-1, 1, -1]\npath.append:[-1, 1, -1, 1]\npath.pop:[-1, 1, -1]\npath.pop:[-1, 1]\npath.append:[-1, 1, 1]\npath.append:[-1, 1, 1, -1]\npath.pop:[-1, 1, 1]\npath.append:[-1, 1, 1, 1]\npath.pop:[-1, 1, 1]\npath.pop:[-1, 1]\npath.append:[-1, 1, -1]\npath.pop:[-1, 1]\npath.append:[-1, 1, 1]\npath.pop:[-1, 1]\npath.pop:[-1]\npath.append:[-1, -1]\npath.append:[-1, -1, -1]\npath.append:[-1, -1, -1, -1]\npath.pop:[-1, -1, -1]\npath.append:[-1, -1, -1, 1]\npath.pop:[-1, -1, -1]\npath.pop:[-1, -1]\npath.append:[-1, -1, 1]\npath.append:[-1, -1, 1, -1]\npath.pop:[-1, -1, 1]\npath.append:[-1, -1, 1, 1]\npath.pop:[-1, -1, 1]\npath.pop:[-1, -1]\npath.append:[-1, -1, -1]\npath.pop:[-1, -1]\npath.append:[-1, -1, 1]\npath.pop:[-1, -1]\npath.pop:[-1]\npath.append:[-1, 1]\npath.append:[-1, 1, -1]\npath.append:[-1, 1, -1, -1]\npath.pop:[-1, 1, -1]\npath.append:[-1, 1, -1, 1]\npath.pop:[-1, 1, -1]\npath.pop:[-1, 1]\npath.append:[-1, 1, 1]\npath.append:[-1, 1, 1, -1]\npath.pop:[-1, 1, 1]\npath.append:[-1, 1, 1, 1]\npath.pop:[-1, 1, 1]\npath.pop:[-1, 1]\npath.append:[-1, 1, -1]\npath.pop:[-1, 1]\npath.append:[-1, 1, 1]\npath.pop:[-1, 1]\npath.pop:[-1]\npath.append:[-1, -1]\npath.append:[-1, -1, -1]\npath.pop:[-1, -1]\npath.append:[-1, -1, 1]\npath.pop:[-1, -1]\npath.pop:[-1]\npath.append:[-1, 1]\npath.append:[-1, 1, -1]\npath.pop:[-1, 1]\npath.append:[-1, 1, 1]\npath.pop:[-1, 1]\npath.pop:[-1]\npath.append:[-1, -1]\npath.pop:[-1]\npath.append:[-1, 1]\npath.pop:[-1]\npath.pop:[]\npath.append:[1]\npath.append:[1, -1]\npath.append:[1, -1, -1]\npath.append:[1, -1, -1, -1]\npath.append:[1, -1, -1, -1, -1]\npath.pop:[1, -1, -1, -1]\npath.append:[1, -1, -1, -1, 1]\npath.pop:[1, -1, -1, -1]\npath.pop:[1, -1, -1]\npath.append:[1, -1, -1, 1]\npath.append:[1, -1, -1, 1, -1]\npath.pop:[1, -1, -1, 1]\npath.append:[1, -1, -1, 1, 1]\npath.pop:[1, -1, -1, 1]\npath.pop:[1, -1, -1]\npath.append:[1, -1, -1, -1]\npath.pop:[1, -1, -1]\npath.append:[1, -1, -1, 1]\npath.pop:[1, -1, -1]\npath.pop:[1, -1]\npath.append:[1, -1, 1]\npath.append:[1, -1, 1, -1]\npath.append:[1, -1, 1, -1, -1]\npath.pop:[1, -1, 1, -1]\npath.append:[1, -1, 1, -1, 1]\npath.pop:[1, -1, 1, -1]\npath.pop:[1, -1, 1]\npath.append:[1, -1, 1, 1]\npath.append:[1, -1, 1, 1, -1]\npath.pop:[1, -1, 1, 1]\npath.append:[1, -1, 1, 1, 1]\n符合条件path:[1, -1, 1, 1, 1]\npath.pop:[1, -1, 1, 1]\npath.pop:[1, -1, 1]\npath.append:[1, -1, 1, -1]\npath.pop:[1, -1, 1]\npath.append:[1, -1, 1, 1]\npath.pop:[1, -1, 1]\npath.pop:[1, -1]\npath.append:[1, -1, -1]\npath.append:[1, -1, -1, -1]\npath.pop:[1, -1, -1]\npath.append:[1, -1, -1, 1]\npath.pop:[1, -1, -1]\npath.pop:[1, -1]\npath.append:[1, -1, 1]\npath.append:[1, -1, 1, -1]\npath.pop:[1, -1, 1]\npath.append:[1, -1, 1, 1]\npath.pop:[1, -1, 1]\npath.pop:[1, -1]\npath.append:[1, -1, -1]\npath.pop:[1, -1]\npath.append:[1, -1, 1]\npath.pop:[1, -1]\npath.pop:[1]\npath.append:[1, 1]\npath.append:[1, 1, -1]\npath.append:[1, 1, -1, -1]\npath.append:[1, 1, -1, -1, -1]\npath.pop:[1, 1, -1, -1]\npath.append:[1, 1, -1, -1, 1]\npath.pop:[1, 1, -1, -1]\npath.pop:[1, 1, -1]\npath.append:[1, 1, -1, 1]\npath.append:[1, 1, -1, 1, -1]\npath.pop:[1, 1, -1, 1]\npath.append:[1, 1, -1, 1, 1]\n符合条件path:[1, 1, -1, 1, 1]\npath.pop:[1, 1, -1, 1]\npath.pop:[1, 1, -1]\npath.append:[1, 1, -1, -1]\npath.pop:[1, 1, -1]\npath.append:[1, 1, -1, 1]\npath.pop:[1, 1, -1]\npath.pop:[1, 1]\npath.append:[1, 1, 1]\n符合条件path:[1, 1, 1]\npath.append:[1, 1, 1, -1]\npath.append:[1, 1, 1, -1, -1]\npath.pop:[1, 1, 1, -1]\npath.append:[1, 1, 1, -1, 1]\n符合条件path:[1, 1, 1, -1, 1]\npath.pop:[1, 1, 1, -1]\npath.pop:[1, 1, 1]\npath.append:[1, 1, 1, 1]\npath.append:[1, 1, 1, 1, -1]\n符合条件path:[1, 1, 1, 1, -1]\npath.pop:[1, 1, 1, 1]\npath.append:[1, 1, 1, 1, 1]\npath.pop:[1, 1, 1, 1]\npath.pop:[1, 1, 1]\npath.append:[1, 1, 1, -1]\npath.pop:[1, 1, 1]\npath.append:[1, 1, 1, 1]\npath.pop:[1, 1, 1]\npath.pop:[1, 1]\npath.append:[1, 1, -1]\npath.append:[1, 1, -1, -1]\npath.pop:[1, 1, -1]\npath.append:[1, 1, -1, 1]\npath.pop:[1, 1, -1]\npath.pop:[1, 1]\npath.append:[1, 1, 1]\n符合条件path:[1, 1, 1]\npath.append:[1, 1, 1, -1]\npath.pop:[1, 1, 1]\npath.append:[1, 1, 1, 1]\npath.pop:[1, 1, 1]\npath.pop:[1, 1]\npath.append:[1, 1, -1]\npath.pop:[1, 1]\npath.append:[1, 1, 1]\n符合条件path:[1, 1, 1]\npath.pop:[1, 1]\npath.pop:[1]\npath.append:[1, -1]\npath.append:[1, -1, -1]\npath.append:[1, -1, -1, -1]\npath.pop:[1, -1, -1]\npath.append:[1, -1, -1, 1]\npath.pop:[1, -1, -1]\npath.pop:[1, -1]\npath.append:[1, -1, 1]\npath.append:[1, -1, 1, -1]\npath.pop:[1, -1, 1]\npath.append:[1, -1, 1, 1]\npath.pop:[1, -1, 1]\npath.pop:[1, -1]\npath.append:[1, -1, -1]\npath.pop:[1, -1]\npath.append:[1, -1, 1]\npath.pop:[1, -1]\npath.pop:[1]\npath.append:[1, 1]\npath.append:[1, 1, -1]\npath.append:[1, 1, -1, -1]\npath.pop:[1, 1, -1]\npath.append:[1, 1, -1, 1]\npath.pop:[1, 1, -1]\npath.pop:[1, 1]\npath.append:[1, 1, 1]\n符合条件path:[1, 1, 1]\npath.append:[1, 1, 1, -1]\npath.pop:[1, 1, 1]\npath.append:[1, 1, 1, 1]\npath.pop:[1, 1, 1]\npath.pop:[1, 1]\npath.append:[1, 1, -1]\npath.pop:[1, 1]\npath.append:[1, 1, 1]\n符合条件path:[1, 1, 1]\npath.pop:[1, 1]\npath.pop:[1]\npath.append:[1, -1]\npath.append:[1, -1, -1]\npath.pop:[1, -1]\npath.append:[1, -1, 1]\npath.pop:[1, -1]\npath.pop:[1]\npath.append:[1, 1]\npath.append:[1, 1, -1]\npath.pop:[1, 1]\npath.append:[1, 1, 1]\n符合条件path:[1, 1, 1]\npath.pop:[1, 1]\npath.pop:[1]\npath.append:[1, -1]\npath.pop:[1]\npath.append:[1, 1]\npath.pop:[1]\npath.pop:[]\npath.append:[-1]\npath.append:[-1, -1]\npath.append:[-1, -1, -1]\npath.append:[-1, -1, -1, -1]\npath.pop:[-1, -1, -1]\npath.append:[-1, -1, -1, 1]\npath.pop:[-1, -1, -1]\npath.pop:[-1, -1]\npath.append:[-1, -1, 1]\npath.append:[-1, -1, 1, -1]\npath.pop:[-1, -1, 1]\npath.append:[-1, -1, 1, 1]\npath.pop:[-1, -1, 1]\npath.pop:[-1, -1]\npath.append:[-1, -1, -1]\npath.pop:[-1, -1]\npath.append:[-1, -1, 1]\npath.pop:[-1, -1]\npath.pop:[-1]\npath.append:[-1, 1]\npath.append:[-1, 1, -1]\npath.append:[-1, 1, -1, -1]\npath.pop:[-1, 1, -1]\npath.append:[-1, 1, -1, 1]\npath.pop:[-1, 1, -1]\npath.pop:[-1, 1]\npath.append:[-1, 1, 1]\npath.append:[-1, 1, 1, -1]\npath.pop:[-1, 1, 1]\npath.append:[-1, 1, 1, 1]\npath.pop:[-1, 1, 1]\npath.pop:[-1, 1]\npath.append:[-1, 1, -1]\npath.pop:[-1, 1]\npath.append:[-1, 1, 1]\npath.pop:[-1, 1]\npath.pop:[-1]\npath.append:[-1, -1]\npath.append:[-1, -1, -1]\npath.pop:[-1, -1]\npath.append:[-1, -1, 1]\npath.pop:[-1, -1]\npath.pop:[-1]\npath.append:[-1, 1]\npath.append:[-1, 1, -1]\npath.pop:[-1, 1]\npath.append:[-1, 1, 1]\npath.pop:[-1, 1]\npath.pop:[-1]\npath.append:[-1, -1]\npath.pop:[-1]\npath.append:[-1, 1]\npath.pop:[-1]\npath.pop:[]\npath.append:[1]\npath.append:[1, -1]\npath.append:[1, -1, -1]\npath.append:[1, -1, -1, -1]\npath.pop:[1, -1, -1]\npath.append:[1, -1, -1, 1]\npath.pop:[1, -1, -1]\npath.pop:[1, -1]\npath.append:[1, -1, 1]\npath.append:[1, -1, 1, -1]\npath.pop:[1, -1, 1]\npath.append:[1, -1, 1, 1]\npath.pop:[1, -1, 1]\npath.pop:[1, -1]\npath.append:[1, -1, -1]\npath.pop:[1, -1]\npath.append:[1, -1, 1]\npath.pop:[1, -1]\npath.pop:[1]\npath.append:[1, 1]\npath.append:[1, 1, -1]\npath.append:[1, 1, -1, -1]\npath.pop:[1, 1, -1]\npath.append:[1, 1, -1, 1]\npath.pop:[1, 1, -1]\npath.pop:[1, 1]\npath.append:[1, 1, 1]\n符合条件path:[1, 1, 1]\npath.append:[1, 1, 1, -1]\npath.pop:[1, 1, 1]\npath.append:[1, 1, 1, 1]\npath.pop:[1, 1, 1]\npath.pop:[1, 1]\npath.append:[1, 1, -1]\npath.pop:[1, 1]\npath.append:[1, 1, 1]\n符合条件path:[1, 1, 1]\npath.pop:[1, 1]\npath.pop:[1]\npath.append:[1, -1]\npath.append:[1, -1, -1]\npath.pop:[1, -1]\npath.append:[1, -1, 1]\npath.pop:[1, -1]\npath.pop:[1]\npath.append:[1, 1]\npath.append:[1, 1, -1]\npath.pop:[1, 1]\npath.append:[1, 1, 1]\n符合条件path:[1, 1, 1]\npath.pop:[1, 1]\npath.pop:[1]\npath.append:[1, -1]\npath.pop:[1]\npath.append:[1, 1]\npath.pop:[1]\npath.pop:[]\npath.append:[-1]\npath.append:[-1, -1]\npath.append:[-1, -1, -1]\npath.pop:[-1, -1]\npath.append:[-1, -1, 1]\npath.pop:[-1, -1]\npath.pop:[-1]\npath.append:[-1, 1]\npath.append:[-1, 1, -1]\npath.pop:[-1, 1]\npath.append:[-1, 1, 1]\npath.pop:[-1, 1]\npath.pop:[-1]\npath.append:[-1, -1]\npath.pop:[-1]\npath.append:[-1, 1]\npath.pop:[-1]\npath.pop:[]\npath.append:[1]\npath.append:[1, -1]\npath.append:[1, -1, -1]\npath.pop:[1, -1]\npath.append:[1, -1, 1]\npath.pop:[1, -1]\npath.pop:[1]\npath.append:[1, 1]\npath.append:[1, 1, -1]\npath.pop:[1, 1]\npath.append:[1, 1, 1]\n符合条件path:[1, 1, 1]\npath.pop:[1, 1]\npath.pop:[1]\npath.append:[1, -1]\npath.pop:[1]\npath.append:[1, 1]\npath.pop:[1]\npath.pop:[]\npath.append:[-1]\npath.append:[-1, -1]\npath.pop:[-1]\npath.append:[-1, 1]\npath.pop:[-1]\npath.pop:[]\npath.append:[1]\npath.append:[1, -1]\npath.pop:[1]\npath.append:[1, 1]\npath.pop:[1]\npath.pop:[]\npath.append:[-1]\npath.pop:[]\npath.append:[1]\npath.pop:[]\n"
     ]
    },
    {
     "output_type": "execute_result",
     "data": {
      "text/plain": [
       "15"
      ]
     },
     "metadata": {},
     "execution_count": 74
    }
   ],
   "source": [
    "findTargetSumWays(nums,target)"
   ]
  },
  {
   "cell_type": "code",
   "execution_count": null,
   "metadata": {},
   "outputs": [],
   "source": [
    "    def findTargetSumWays(self, nums: List[int], target: int) -> int:\n",
    "        if not nums:\n",
    "            return 0\n",
    "        count = 0  \n",
    "        n = len(nums)\n",
    "        def backtrack(nums,index,res):\n",
    "            nonlocal count \n",
    "            if n == index and res == target:\n",
    "                count += 1 \n",
    "            \n",
    "            backtrack(nums,index+1,res+nums[index])\n",
    "            backtrack(nums,index+1,res-nums[index])\n",
    "        backtrack(nums,0,0)"
   ]
  },
  {
   "cell_type": "code",
   "execution_count": null,
   "metadata": {},
   "outputs": [],
   "source": [
    "class Solution {\n",
    "    public int findTargetSumWays(int[] nums, int target) {\n",
    "        int sum = 0;\n",
    "        for (int num : nums) {\n",
    "            sum += num;\n",
    "        }\n",
    "        int diff = sum - target;\n",
    "        if (diff < 0 || diff % 2 != 0) {\n",
    "            return 0;\n",
    "        }\n",
    "        int n = nums.length, neg = diff / 2;\n",
    "        int[][] dp = new int[n + 1][neg + 1];\n",
    "        dp[0][0] = 1;\n",
    "        for (int i = 1; i <= n; i++) {\n",
    "            int num = nums[i - 1];\n",
    "            for (int j = 0; j <= neg; j++) {\n",
    "                dp[i][j] = dp[i - 1][j];\n",
    "                if (j >= num) {\n",
    "                    dp[i][j] += dp[i - 1][j - num];\n",
    "                }\n",
    "            }\n",
    "        }\n",
    "        return dp[n][neg];\n",
    "    }\n",
    "}\n",
    "\n",
    "作者：LeetCode-Solution\n",
    "链接：https://leetcode-cn.com/problems/target-sum/solution/mu-biao-he-by-leetcode-solution-o0cp/\n",
    "来源：力扣（LeetCode）\n",
    "著作权归作者所有。商业转载请联系作者获得授权，非商业转载请注明出处。"
   ]
  },
  {
   "cell_type": "code",
   "execution_count": 82,
   "metadata": {},
   "outputs": [
    {
     "output_type": "stream",
     "name": "stdout",
     "text": [
      "2000\n"
     ]
    }
   ],
   "source": [
    "class Person:\n",
    "    money = 0\n",
    "    def work(self):\n",
    "        Person.money += 1000\n",
    "\n",
    "mother = Person()\n",
    "father = Person()\n",
    "Person.money += 1000\n",
    "Person.money += 1000\n",
    "print(Person.money)\n",
    "mother.work()\n",
    "father.work()"
   ]
  },
  {
   "cell_type": "code",
   "execution_count": 85,
   "metadata": {},
   "outputs": [
    {
     "output_type": "stream",
     "name": "stdout",
     "text": [
      "4000\n"
     ]
    }
   ],
   "source": [
    "print(father.money)"
   ]
  },
  {
   "cell_type": "code",
   "execution_count": 86,
   "metadata": {},
   "outputs": [
    {
     "output_type": "stream",
     "name": "stdout",
     "text": [
      "4000\n"
     ]
    }
   ],
   "source": [
    "print(Person.money)"
   ]
  },
  {
   "cell_type": "code",
   "execution_count": 89,
   "metadata": {},
   "outputs": [],
   "source": [
    "def findMax(nums,m, index):\n",
    "    if index == len(nums):\n",
    "        return m \n",
    "    if nums[index] > m:\n",
    "        m = nums[index]\n",
    "    return findMax(nums,m,index+1)"
   ]
  },
  {
   "cell_type": "code",
   "execution_count": 91,
   "metadata": {},
   "outputs": [
    {
     "output_type": "execute_result",
     "data": {
      "text/plain": [
       "35"
      ]
     },
     "metadata": {},
     "execution_count": 91
    }
   ],
   "source": [
    "nums = [1,5,2,4,7,8,4,6,3,10,-5,28,19,35,23,11,5]\n",
    "findMax(nums,-float('inf'),0)"
   ]
  },
  {
   "cell_type": "code",
   "execution_count": 101,
   "metadata": {},
   "outputs": [],
   "source": [
    "def climb(n):\n",
    "    dp = [0 for _ in range(n+1)]\n",
    "    dp[0] = 0 \n",
    "    dp[1] = 1 \n",
    "    dp[2] = 2 \n",
    "    for i in range(3,n+1):\n",
    "        dp[i] = dp[i-1] + dp[i-2]\n",
    "    return dp[n]"
   ]
  },
  {
   "cell_type": "code",
   "execution_count": 102,
   "metadata": {},
   "outputs": [
    {
     "output_type": "execute_result",
     "data": {
      "text/plain": [
       "573147844013817084101"
      ]
     },
     "metadata": {},
     "execution_count": 102
    }
   ],
   "source": [
    "climb(100)"
   ]
  },
  {
   "cell_type": "code",
   "execution_count": 98,
   "metadata": {},
   "outputs": [],
   "source": [
    "def climb(n):\n",
    "    if n == 0:\n",
    "        return 0 \n",
    "    if n == 1:\n",
    "        return 1 \n",
    "    if n == 2:\n",
    "        return 2 \n",
    "    return climb(n-1) + climb(n-2)"
   ]
  },
  {
   "cell_type": "code",
   "execution_count": 103,
   "metadata": {},
   "outputs": [
    {
     "output_type": "execute_result",
     "data": {
      "text/plain": [
       "573147844013817084101"
      ]
     },
     "metadata": {},
     "execution_count": 103
    }
   ],
   "source": [
    "climb(100)"
   ]
  },
  {
   "cell_type": "code",
   "execution_count": 148,
   "metadata": {},
   "outputs": [],
   "source": [
    "def change(amount, coins) :\n",
    "    if not amount or not coins:\n",
    "        return  0\n",
    "    count = 0\n",
    "    res = []\n",
    "    path = set()\n",
    "    def dfs(cur,path):\n",
    "        nonlocal count\n",
    "        nonlocal res \n",
    "        if cur == 0:\n",
    "            print(\"cur == 0, count + 1 = {}\".format(count+1))\n",
    "            count += 1 \n",
    "            path = path[:]\n",
    "            res.append(path)\n",
    "        if cur < 0:\n",
    "            print(\"cur < 0 \")\n",
    "            return  0\n",
    "            \n",
    "        for coin in coins:\n",
    "            print(\"cur:{},coin:{},cur-coin:{},count:{}\".format(cur,coin,cur-coin,count))\n",
    "            path.add(coin)\n",
    "            dfs(cur-coin,path)\n",
    "            path.pop()\n",
    "        print(\"跳出\")\n",
    "    dfs(amount,path)\n",
    "            \n",
    "    return count"
   ]
  },
  {
   "cell_type": "code",
   "execution_count": 149,
   "metadata": {},
   "outputs": [],
   "source": [
    "amount = 5\n",
    "coins = [1,2,5]"
   ]
  },
  {
   "cell_type": "code",
   "execution_count": 153,
   "metadata": {
    "tags": []
   },
   "outputs": [],
   "source": [
    "def change(amount, coins):\n",
    "    n = len(coins) \n",
    "    count = 0 \n",
    "    def dfs(cur):\n",
    "        nonlocal count \n",
    "        if cur == 0:\n",
    "            count += 1 \n",
    "        if cur < 0 :\n",
    "            return 0 \n",
    "        for i in range(len(coins)):\n",
    "            dfs(cur - coins[i])\n",
    "    dfs(amount)\n",
    "    return count "
   ]
  },
  {
   "cell_type": "code",
   "execution_count": 154,
   "metadata": {},
   "outputs": [
    {
     "output_type": "execute_result",
     "data": {
      "text/plain": [
       "9"
      ]
     },
     "metadata": {},
     "execution_count": 154
    }
   ],
   "source": [
    "change(amount,coins)"
   ]
  },
  {
   "cell_type": "code",
   "execution_count": 174,
   "metadata": {},
   "outputs": [],
   "source": [
    "import cachetools\n",
    "def change(amount, coins) :\n",
    "    n = len(coins) \n",
    "    # @cachetools.cache\n",
    "    def dfs(cur,i):\n",
    "        if cur == 0:\n",
    "            return 1 \n",
    "        if cur < 0 or i >= n:\n",
    "            return 0 \n",
    "        print(\"进入a,a:cur:{},i:{}\".format(cur,i))\n",
    "        a = dfs(cur,i+1)\n",
    "        print(\"跳出a,进入b\")\n",
    "        print(\"进入b,b:cur:{},i:{}\".format(cur,i))\n",
    "        b = dfs(cur-coins[i],i)\n",
    "        print(\"跳出b\")\n",
    "        print(\"跳出当层,cur:{},i:{}\".format(cur,i))\n",
    "        return a + b \n",
    "    return dfs(amount,0)"
   ]
  },
  {
   "cell_type": "code",
   "execution_count": 175,
   "metadata": {},
   "outputs": [
    {
     "output_type": "stream",
     "name": "stdout",
     "text": [
      "进入a,a:cur:5,i:0\n进入a,a:cur:5,i:1\n进入a,a:cur:5,i:2\n跳出a,进入b\n进入b,b:cur:5,i:2\n跳出b\n跳出当层,cur:5,i:2\n跳出a,进入b\n进入b,b:cur:5,i:1\n进入a,a:cur:3,i:1\n进入a,a:cur:3,i:2\n跳出a,进入b\n进入b,b:cur:3,i:2\n跳出b\n跳出当层,cur:3,i:2\n跳出a,进入b\n进入b,b:cur:3,i:1\n进入a,a:cur:1,i:1\n进入a,a:cur:1,i:2\n跳出a,进入b\n进入b,b:cur:1,i:2\n跳出b\n跳出当层,cur:1,i:2\n跳出a,进入b\n进入b,b:cur:1,i:1\n跳出b\n跳出当层,cur:1,i:1\n跳出b\n跳出当层,cur:3,i:1\n跳出b\n跳出当层,cur:5,i:1\n跳出a,进入b\n进入b,b:cur:5,i:0\n进入a,a:cur:4,i:0\n进入a,a:cur:4,i:1\n进入a,a:cur:4,i:2\n跳出a,进入b\n进入b,b:cur:4,i:2\n跳出b\n跳出当层,cur:4,i:2\n跳出a,进入b\n进入b,b:cur:4,i:1\n进入a,a:cur:2,i:1\n进入a,a:cur:2,i:2\n跳出a,进入b\n进入b,b:cur:2,i:2\n跳出b\n跳出当层,cur:2,i:2\n跳出a,进入b\n进入b,b:cur:2,i:1\n跳出b\n跳出当层,cur:2,i:1\n跳出b\n跳出当层,cur:4,i:1\n跳出a,进入b\n进入b,b:cur:4,i:0\n进入a,a:cur:3,i:0\n进入a,a:cur:3,i:1\n进入a,a:cur:3,i:2\n跳出a,进入b\n进入b,b:cur:3,i:2\n跳出b\n跳出当层,cur:3,i:2\n跳出a,进入b\n进入b,b:cur:3,i:1\n进入a,a:cur:1,i:1\n进入a,a:cur:1,i:2\n跳出a,进入b\n进入b,b:cur:1,i:2\n跳出b\n跳出当层,cur:1,i:2\n跳出a,进入b\n进入b,b:cur:1,i:1\n跳出b\n跳出当层,cur:1,i:1\n跳出b\n跳出当层,cur:3,i:1\n跳出a,进入b\n进入b,b:cur:3,i:0\n进入a,a:cur:2,i:0\n进入a,a:cur:2,i:1\n进入a,a:cur:2,i:2\n跳出a,进入b\n进入b,b:cur:2,i:2\n跳出b\n跳出当层,cur:2,i:2\n跳出a,进入b\n进入b,b:cur:2,i:1\n跳出b\n跳出当层,cur:2,i:1\n跳出a,进入b\n进入b,b:cur:2,i:0\n进入a,a:cur:1,i:0\n进入a,a:cur:1,i:1\n进入a,a:cur:1,i:2\n跳出a,进入b\n进入b,b:cur:1,i:2\n跳出b\n跳出当层,cur:1,i:2\n跳出a,进入b\n进入b,b:cur:1,i:1\n跳出b\n跳出当层,cur:1,i:1\n跳出a,进入b\n进入b,b:cur:1,i:0\n跳出b\n跳出当层,cur:1,i:0\n跳出b\n跳出当层,cur:2,i:0\n跳出b\n跳出当层,cur:3,i:0\n跳出b\n跳出当层,cur:4,i:0\n跳出b\n跳出当层,cur:5,i:0\n"
     ]
    },
    {
     "output_type": "execute_result",
     "data": {
      "text/plain": [
       "4"
      ]
     },
     "metadata": {},
     "execution_count": 175
    }
   ],
   "source": [
    "change(amount,coins)"
   ]
  },
  {
   "cell_type": "code",
   "execution_count": 177,
   "metadata": {},
   "outputs": [],
   "source": [
    "def factorial(n):\n",
    "    if n == 1:\n",
    "        return 1 \n",
    "    return n * factorial(n-1)"
   ]
  },
  {
   "cell_type": "code",
   "execution_count": 178,
   "metadata": {},
   "outputs": [
    {
     "output_type": "execute_result",
     "data": {
      "text/plain": [
       "120"
      ]
     },
     "metadata": {},
     "execution_count": 178
    }
   ],
   "source": [
    "factorial(5)"
   ]
  },
  {
   "cell_type": "code",
   "execution_count": 186,
   "metadata": {},
   "outputs": [],
   "source": [
    "def factorial(n):\n",
    "    if n == 1:\n",
    "        return 1 \n",
    "    a,b = 1,2 \n",
    "    for i in range(n-1):\n",
    "        a,b = a*b,b+1\n",
    "    return a\n",
    "    "
   ]
  },
  {
   "cell_type": "code",
   "execution_count": 193,
   "metadata": {},
   "outputs": [],
   "source": [
    "def factorial(n,mid):\n",
    "    if n == 1:\n",
    "        return mid\n",
    "    return factorial(n-1,n*mid)"
   ]
  },
  {
   "cell_type": "code",
   "execution_count": 195,
   "metadata": {},
   "outputs": [
    {
     "output_type": "execute_result",
     "data": {
      "text/plain": [
       "120"
      ]
     },
     "metadata": {},
     "execution_count": 195
    }
   ],
   "source": [
    "factorial(5,1)"
   ]
  },
  {
   "cell_type": "code",
   "execution_count": 3,
   "metadata": {},
   "outputs": [],
   "source": [
    "from math import sqrt"
   ]
  },
  {
   "cell_type": "code",
   "execution_count": 4,
   "metadata": {},
   "outputs": [],
   "source": [
    "\n",
    "def numSquares(n) :\n",
    "    if not n:\n",
    "        return 0 \n",
    "    dp = [float('inf') for _ in range(n+1)]\n",
    "    dp[0] = 0 \n",
    "    for i in range(1,n+1):\n",
    "        for j in range(1,int(sqrt(i))+1):\n",
    "            dp[i] = min(dp[i],dp[i-j*j] + 1)\n",
    "    print(dp)\n",
    "    return dp[n]"
   ]
  },
  {
   "cell_type": "code",
   "execution_count": 5,
   "metadata": {},
   "outputs": [
    {
     "output_type": "stream",
     "name": "stdout",
     "text": [
      "[0, 1, 2, 3, 1, 2, 3, 4, 2, 1, 2, 3, 3]\n"
     ]
    },
    {
     "output_type": "execute_result",
     "data": {
      "text/plain": [
       "3"
      ]
     },
     "metadata": {},
     "execution_count": 5
    }
   ],
   "source": [
    "numSquares(12)"
   ]
  },
  {
   "cell_type": "code",
   "execution_count": 7,
   "metadata": {},
   "outputs": [],
   "source": [
    "def numSquares2(n) :\n",
    "    if not n:\n",
    "        return 0 \n",
    "    dp = [float('inf') for _ in range(n+1)]\n",
    "    dp[0] = 0 \n",
    "    for i in range(1,n+1):\n",
    "        for j in range(1,int(sqrt(i))+1):\n",
    "            dp[i] = dp[i-j*j] + 1\n",
    "    print(dp)\n",
    "    return dp[n]"
   ]
  },
  {
   "cell_type": "code",
   "execution_count": 8,
   "metadata": {},
   "outputs": [
    {
     "output_type": "stream",
     "name": "stdout",
     "text": [
      "[0, 1, 2, 3, 1, 2, 3, 4, 2, 1, 2, 3, 4]\n"
     ]
    },
    {
     "output_type": "execute_result",
     "data": {
      "text/plain": [
       "4"
      ]
     },
     "metadata": {},
     "execution_count": 8
    }
   ],
   "source": [
    "numSquares2(12)"
   ]
  },
  {
   "cell_type": "code",
   "execution_count": 203,
   "metadata": {},
   "outputs": [],
   "source": [
    "x.setdefault(0)"
   ]
  },
  {
   "cell_type": "code",
   "execution_count": 209,
   "metadata": {},
   "outputs": [
    {
     "output_type": "stream",
     "name": "stdout",
     "text": [
      "Help on class defaultdict in module collections:\n\nclass defaultdict(builtins.dict)\n |  defaultdict(default_factory[, ...]) --> dict with default factory\n |  \n |  The default factory is called without arguments to produce\n |  a new value when a key is not present, in __getitem__ only.\n |  A defaultdict compares equal to a dict with the same items.\n |  All remaining arguments are treated the same as if they were\n |  passed to the dict constructor, including keyword arguments.\n |  \n |  Method resolution order:\n |      defaultdict\n |      builtins.dict\n |      builtins.object\n |  \n |  Methods defined here:\n |  \n |  __copy__(...)\n |      D.copy() -> a shallow copy of D.\n |  \n |  __getattribute__(self, name, /)\n |      Return getattr(self, name).\n |  \n |  __init__(self, /, *args, **kwargs)\n |      Initialize self.  See help(type(self)) for accurate signature.\n |  \n |  __missing__(...)\n |      __missing__(key) # Called by __getitem__ for missing key; pseudo-code:\n |      if self.default_factory is None: raise KeyError((key,))\n |      self[key] = value = self.default_factory()\n |      return value\n |  \n |  __reduce__(...)\n |      Return state information for pickling.\n |  \n |  __repr__(self, /)\n |      Return repr(self).\n |  \n |  copy(...)\n |      D.copy() -> a shallow copy of D.\n |  \n |  ----------------------------------------------------------------------\n |  Data descriptors defined here:\n |  \n |  default_factory\n |      Factory for default value called by __missing__().\n |  \n |  ----------------------------------------------------------------------\n |  Methods inherited from builtins.dict:\n |  \n |  __contains__(self, key, /)\n |      True if the dictionary has the specified key, else False.\n |  \n |  __delitem__(self, key, /)\n |      Delete self[key].\n |  \n |  __eq__(self, value, /)\n |      Return self==value.\n |  \n |  __ge__(self, value, /)\n |      Return self>=value.\n |  \n |  __getitem__(...)\n |      x.__getitem__(y) <==> x[y]\n |  \n |  __gt__(self, value, /)\n |      Return self>value.\n |  \n |  __iter__(self, /)\n |      Implement iter(self).\n |  \n |  __le__(self, value, /)\n |      Return self<=value.\n |  \n |  __len__(self, /)\n |      Return len(self).\n |  \n |  __lt__(self, value, /)\n |      Return self<value.\n |  \n |  __ne__(self, value, /)\n |      Return self!=value.\n |  \n |  __setitem__(self, key, value, /)\n |      Set self[key] to value.\n |  \n |  __sizeof__(...)\n |      D.__sizeof__() -> size of D in memory, in bytes\n |  \n |  clear(...)\n |      D.clear() -> None.  Remove all items from D.\n |  \n |  get(self, key, default=None, /)\n |      Return the value for key if key is in the dictionary, else default.\n |  \n |  items(...)\n |      D.items() -> a set-like object providing a view on D's items\n |  \n |  keys(...)\n |      D.keys() -> a set-like object providing a view on D's keys\n |  \n |  pop(...)\n |      D.pop(k[,d]) -> v, remove specified key and return the corresponding value.\n |      If key is not found, d is returned if given, otherwise KeyError is raised\n |  \n |  popitem(...)\n |      D.popitem() -> (k, v), remove and return some (key, value) pair as a\n |      2-tuple; but raise KeyError if D is empty.\n |  \n |  setdefault(self, key, default=None, /)\n |      Insert key with a value of default if key is not in the dictionary.\n |      \n |      Return the value for key if key is in the dictionary, else default.\n |  \n |  update(...)\n |      D.update([E, ]**F) -> None.  Update D from dict/iterable E and F.\n |      If E is present and has a .keys() method, then does:  for k in E: D[k] = E[k]\n |      If E is present and lacks a .keys() method, then does:  for k, v in E: D[k] = v\n |      In either case, this is followed by: for k in F:  D[k] = F[k]\n |  \n |  values(...)\n |      D.values() -> an object providing a view on D's values\n |  \n |  ----------------------------------------------------------------------\n |  Class methods inherited from builtins.dict:\n |  \n |  fromkeys(iterable, value=None, /) from builtins.type\n |      Create a new dictionary with keys from iterable and values set to value.\n |  \n |  ----------------------------------------------------------------------\n |  Static methods inherited from builtins.dict:\n |  \n |  __new__(*args, **kwargs) from builtins.type\n |      Create and return a new object.  See help(type) for accurate signature.\n |  \n |  ----------------------------------------------------------------------\n |  Data and other attributes inherited from builtins.dict:\n |  \n |  __hash__ = None\n\n"
     ]
    }
   ],
   "source": [
    "help(collections.defaultdict)"
   ]
  },
  {
   "cell_type": "code",
   "execution_count": 210,
   "metadata": {},
   "outputs": [],
   "source": [
    "import time"
   ]
  },
  {
   "cell_type": "code",
   "execution_count": 218,
   "metadata": {},
   "outputs": [
    {
     "output_type": "execute_result",
     "data": {
      "text/plain": [
       "'2021-06-12'"
      ]
     },
     "metadata": {},
     "execution_count": 218
    }
   ],
   "source": [
    "time.strftime('%Y-%m-%d',time.localtime())"
   ]
  },
  {
   "cell_type": "code",
   "execution_count": 1,
   "metadata": {},
   "outputs": [],
   "source": []
  },
  {
   "cell_type": "code",
   "execution_count": null,
   "metadata": {},
   "outputs": [],
   "source": []
  },
  {
   "cell_type": "code",
   "execution_count": 4,
   "metadata": {},
   "outputs": [
    {
     "output_type": "error",
     "ename": "IndexError",
     "evalue": "list index out of range",
     "traceback": [
      "\u001b[1;31m---------------------------------------------------------------------------\u001b[0m",
      "\u001b[1;31mIndexError\u001b[0m                                Traceback (most recent call last)",
      "\u001b[1;32m<ipython-input-4-4e06aa70abe7>\u001b[0m in \u001b[0;36m<module>\u001b[1;34m\u001b[0m\n\u001b[0;32m      4\u001b[0m \u001b[1;32mfor\u001b[0m \u001b[0mi\u001b[0m \u001b[1;32min\u001b[0m \u001b[0mrange\u001b[0m\u001b[1;33m(\u001b[0m\u001b[1;36m1\u001b[0m\u001b[1;33m,\u001b[0m\u001b[0mn\u001b[0m\u001b[1;33m+\u001b[0m\u001b[1;36m1\u001b[0m\u001b[1;33m)\u001b[0m\u001b[1;33m:\u001b[0m\u001b[1;33m\u001b[0m\u001b[1;33m\u001b[0m\u001b[0m\n\u001b[0;32m      5\u001b[0m     \u001b[1;32mfor\u001b[0m \u001b[0mj\u001b[0m \u001b[1;32min\u001b[0m \u001b[0mrange\u001b[0m\u001b[1;33m(\u001b[0m\u001b[1;36m1\u001b[0m\u001b[1;33m,\u001b[0m\u001b[0mtarget\u001b[0m\u001b[1;33m+\u001b[0m\u001b[1;36m1\u001b[0m\u001b[1;33m)\u001b[0m\u001b[1;33m:\u001b[0m\u001b[1;33m\u001b[0m\u001b[1;33m\u001b[0m\u001b[0m\n\u001b[1;32m----> 6\u001b[1;33m         \u001b[0mdp\u001b[0m\u001b[1;33m[\u001b[0m\u001b[0mi\u001b[0m\u001b[1;33m]\u001b[0m\u001b[1;33m[\u001b[0m\u001b[0mj\u001b[0m\u001b[1;33m]\u001b[0m \u001b[1;33m=\u001b[0m  \u001b[0mmax\u001b[0m\u001b[1;33m(\u001b[0m\u001b[0mdp\u001b[0m\u001b[1;33m[\u001b[0m\u001b[0mi\u001b[0m\u001b[1;33m-\u001b[0m\u001b[1;36m1\u001b[0m\u001b[1;33m]\u001b[0m\u001b[1;33m[\u001b[0m\u001b[0mj\u001b[0m\u001b[1;33m]\u001b[0m\u001b[1;33m,\u001b[0m\u001b[0mdp\u001b[0m\u001b[1;33m[\u001b[0m\u001b[0mi\u001b[0m\u001b[1;33m]\u001b[0m\u001b[1;33m[\u001b[0m\u001b[0mj\u001b[0m\u001b[1;33m-\u001b[0m\u001b[0mcost\u001b[0m\u001b[1;33m[\u001b[0m\u001b[0mi\u001b[0m\u001b[1;33m]\u001b[0m\u001b[1;33m]\u001b[0m\u001b[1;33m)\u001b[0m\u001b[1;33m\u001b[0m\u001b[1;33m\u001b[0m\u001b[0m\n\u001b[0m",
      "\u001b[1;31mIndexError\u001b[0m: list index out of range"
     ]
    }
   ],
   "source": [
    "    n = len(cost) \n",
    "    dp = [[0 for _ in range(target+1)] for _ in range(n+1)]\n",
    "    dp[0][0] = 0 \n",
    "    for i in range(1,n+1):\n",
    "        for j in range(1,target+1):\n",
    "            dp[i][j] =  max(dp[i-1][j],dp[i][j-cost[i]]+1)"
   ]
  },
  {
   "cell_type": "code",
   "execution_count": 12,
   "metadata": {},
   "outputs": [],
   "source": [
    "def largestNumber(cost,target):\n",
    "    n = len(cost)\n",
    "    def backtrack(cost,target,path):\n",
    "        print(\"come\")\n",
    "        if target == 0:\n",
    "            path = path[:]\n",
    "            res.append(path)\n",
    "            \n",
    "\n",
    "        for i in range(i):\n",
    "            if cost[i] > target:\n",
    "                continue \n",
    "            if path:\n",
    "                if i > int(path[-1]):\n",
    "                    path.insert(0,str(i))\n",
    "                else:\n",
    "                    path.append(str(i))\n",
    "\n",
    "            backtrack(cost,target-cost[i],path)\n",
    "            path.pop()\n",
    "        res = []\n",
    "        path = []\n",
    "        backtrack(cost,target,path)\n",
    "        return res "
   ]
  },
  {
   "cell_type": "code",
   "execution_count": 13,
   "metadata": {},
   "outputs": [],
   "source": []
  },
  {
   "cell_type": "code",
   "execution_count": 16,
   "metadata": {},
   "outputs": [],
   "source": [
    "largestNumber(cost,target)"
   ]
  },
  {
   "cell_type": "code",
   "execution_count": 105,
   "metadata": {},
   "outputs": [],
   "source": [
    "def backtrack(cost,target,path):\n",
    "    if target == 0:\n",
    "        print(\"target==0\")\n",
    "        path = path[:]\n",
    "        ans = sorted(path,reverse=True)\n",
    "        res.append(int(''.join(ans)))\n",
    "        \n",
    "\n",
    "    for i in range(1,len(cost)+1):\n",
    "        if cost[i-1] > target:\n",
    "            continue\n",
    "        path.append(str(i))\n",
    "        print(\"num:{},cost:{},target={}-{}={},path:{}\".format(i,cost[i-1],target,cost[i-1],target-cost[i-1],path))\n",
    "        backtrack(cost,target-cost[i-1],path)\n",
    "        print(\"跳出dfs\")\n",
    "        path.pop()\n",
    "        print(\"path.pop\")\n",
    "        # print(\"path3:%s\"%path)\n",
    "    \n",
    "        "
   ]
  },
  {
   "cell_type": "code",
   "execution_count": 116,
   "metadata": {},
   "outputs": [],
   "source": [
    "cost = [1,1,1,1,1,1,1,3,2]\n",
    "\n",
    "target = 10\n",
    "res = []\n",
    "path = []"
   ]
  },
  {
   "cell_type": "code",
   "execution_count": 117,
   "metadata": {
    "tags": [
     "outputPrepend"
    ]
   },
   "outputs": [
    {
     "output_type": "stream",
     "name": "stdout",
     "text": [
      "st:1,target=1-1=0,path:['1', '1', '1', '1', '2', '6', '6', '2', '3', '2']\n",
      "target==0\n",
      "跳出dfs\n",
      "path.pop\n",
      "num:3,cost:1,target=1-1=0,path:['1', '1', '1', '1', '2', '6', '6', '2', '3', '3']\n",
      "target==0\n",
      "跳出dfs\n",
      "path.pop\n",
      "num:4,cost:1,target=1-1=0,path:['1', '1', '1', '1', '2', '6', '6', '2', '3', '4']\n",
      "target==0\n",
      "跳出dfs\n",
      "path.pop\n",
      "num:5,cost:1,target=1-1=0,path:['1', '1', '1', '1', '2', '6', '6', '2', '3', '5']\n",
      "target==0\n",
      "跳出dfs\n",
      "path.pop\n",
      "num:6,cost:1,target=1-1=0,path:['1', '1', '1', '1', '2', '6', '6', '2', '3', '6']\n",
      "target==0\n",
      "跳出dfs\n",
      "path.pop\n",
      "num:7,cost:1,target=1-1=0,path:['1', '1', '1', '1', '2', '6', '6', '2', '3', '7']\n",
      "target==0\n",
      "跳出dfs\n",
      "path.pop\n",
      "跳出dfs\n",
      "path.pop\n",
      "num:4,cost:1,target=2-1=1,path:['1', '1', '1', '1', '2', '6', '6', '2', '4']\n",
      "num:1,cost:1,target=1-1=0,path:['1', '1', '1', '1', '2', '6', '6', '2', '4', '1']\n",
      "target==0\n",
      "跳出dfs\n",
      "path.pop\n",
      "num:2,cost:1,target=1-1=0,path:['1', '1', '1', '1', '2', '6', '6', '2', '4', '2']\n",
      "target==0\n",
      "跳出dfs\n",
      "path.pop\n",
      "num:3,cost:1,target=1-1=0,path:['1', '1', '1', '1', '2', '6', '6', '2', '4', '3']\n",
      "target==0\n",
      "跳出dfs\n",
      "path.pop\n",
      "num:4,cost:1,target=1-1=0,path:['1', '1', '1', '1', '2', '6', '6', '2', '4', '4']\n",
      "target==0\n",
      "跳出dfs\n",
      "path.pop\n",
      "num:5,cost:1,target=1-1=0,path:['1', '1', '1', '1', '2', '6', '6', '2', '4', '5']\n",
      "target==0\n",
      "跳出dfs\n",
      "path.pop\n",
      "num:6,cost:1,target=1-1=0,path:['1', '1', '1', '1', '2', '6', '6', '2', '4', '6']\n",
      "target==0\n",
      "跳出dfs\n",
      "path.pop\n",
      "num:7,cost:1,target=1-1=0,path:['1', '1', '1', '1', '2', '6', '6', '2', '4', '7']\n",
      "target==0\n",
      "跳出dfs\n",
      "path.pop\n",
      "跳出dfs\n",
      "path.pop\n",
      "num:5,cost:1,target=2-1=1,path:['1', '1', '1', '1', '2', '6', '6', '2', '5']\n",
      "num:1,cost:1,target=1-1=0,path:['1', '1', '1', '1', '2', '6', '6', '2', '5', '1']\n",
      "target==0\n",
      "跳出dfs\n",
      "path.pop\n",
      "num:2,cost:1,target=1-1=0,path:['1', '1', '1', '1', '2', '6', '6', '2', '5', '2']\n",
      "target==0\n",
      "跳出dfs\n",
      "path.pop\n",
      "num:3,cost:1,target=1-1=0,path:['1', '1', '1', '1', '2', '6', '6', '2', '5', '3']\n",
      "target==0\n",
      "跳出dfs\n",
      "path.pop\n",
      "num:4,cost:1,target=1-1=0,path:['1', '1', '1', '1', '2', '6', '6', '2', '5', '4']\n",
      "target==0\n",
      "跳出dfs\n",
      "path.pop\n",
      "num:5,cost:1,target=1-1=0,path:['1', '1', '1', '1', '2', '6', '6', '2', '5', '5']\n",
      "target==0\n",
      "跳出dfs\n",
      "path.pop\n",
      "num:6,cost:1,target=1-1=0,path:['1', '1', '1', '1', '2', '6', '6', '2', '5', '6']\n",
      "target==0\n",
      "跳出dfs\n",
      "path.pop\n",
      "num:7,cost:1,target=1-1=0,path:['1', '1', '1', '1', '2', '6', '6', '2', '5', '7']\n",
      "target==0\n",
      "跳出dfs\n",
      "path.pop\n",
      "跳出dfs\n",
      "path.pop\n",
      "num:6,cost:1,target=2-1=1,path:['1', '1', '1', '1', '2', '6', '6', '2', '6']\n",
      "num:1,cost:1,target=1-1=0,path:['1', '1', '1', '1', '2', '6', '6', '2', '6', '1']\n",
      "target==0\n",
      "跳出dfs\n",
      "path.pop\n",
      "num:2,cost:1,target=1-1=0,path:['1', '1', '1', '1', '2', '6', '6', '2', '6', '2']\n",
      "target==0\n",
      "跳出dfs\n",
      "path.pop\n",
      "num:3,cost:1,target=1-1=0,path:['1', '1', '1', '1', '2', '6', '6', '2', '6', '3']\n",
      "target==0\n",
      "跳出dfs\n",
      "path.pop\n",
      "num:4,cost:1,target=1-1=0,path:['1', '1', '1', '1', '2', '6', '6', '2', '6', '4']\n",
      "target==0\n",
      "跳出dfs\n",
      "path.pop\n",
      "num:5,cost:1,target=1-1=0,path:['1', '1', '1', '1', '2', '6', '6', '2', '6', '5']\n",
      "target==0\n",
      "跳出dfs\n",
      "path.pop\n",
      "num:6,cost:1,target=1-1=0,path:['1', '1', '1', '1', '2', '6', '6', '2', '6', '6']\n",
      "target==0\n",
      "跳出dfs\n",
      "path.pop\n",
      "num:7,cost:1,target=1-1=0,path:['1', '1', '1', '1', '2', '6', '6', '2', '6', '7']\n",
      "target==0\n",
      "跳出dfs\n",
      "path.pop\n",
      "跳出dfs\n",
      "path.pop\n",
      "num:7,cost:1,target=2-1=1,path:['1', '1', '1', '1', '2', '6', '6', '2', '7']\n",
      "num:1,cost:1,target=1-1=0,path:['1', '1', '1', '1', '2', '6', '6', '2', '7', '1']\n",
      "target==0\n",
      "跳出dfs\n",
      "path.pop\n",
      "num:2,cost:1,target=1-1=0,path:['1', '1', '1', '1', '2', '6', '6', '2', '7', '2']\n",
      "target==0\n",
      "跳出dfs\n",
      "path.pop\n",
      "num:3,cost:1,target=1-1=0,path:['1', '1', '1', '1', '2', '6', '6', '2', '7', '3']\n",
      "target==0\n",
      "跳出dfs\n",
      "path.pop\n",
      "num:4,cost:1,target=1-1=0,path:['1', '1', '1', '1', '2', '6', '6', '2', '7', '4']\n",
      "target==0\n",
      "跳出dfs\n",
      "path.pop\n",
      "num:5,cost:1,target=1-1=0,path:['1', '1', '1', '1', '2', '6', '6', '2', '7', '5']\n",
      "target==0\n",
      "跳出dfs\n",
      "path.pop\n",
      "num:6,cost:1,target=1-1=0,path:['1', '1', '1', '1', '2', '6', '6', '2', '7', '6']\n",
      "target==0\n",
      "跳出dfs\n",
      "path.pop\n",
      "num:7,cost:1,target=1-1=0,path:['1', '1', '1', '1', '2', '6', '6', '2', '7', '7']\n",
      "target==0\n",
      "跳出dfs\n",
      "path.pop\n",
      "跳出dfs\n",
      "path.pop\n",
      "num:9,cost:2,target=2-2=0,path:['1', '1', '1', '1', '2', '6', '6', '2', '9']\n",
      "target==0\n",
      "跳出dfs\n",
      "path.pop\n",
      "跳出dfs\n",
      "path.pop\n",
      "num:3,cost:1,target=3-1=2,path:['1', '1', '1', '1', '2', '6', '6', '3']\n",
      "num:1,cost:1,target=2-1=1,path:['1', '1', '1', '1', '2', '6', '6', '3', '1']\n",
      "num:1,cost:1,target=1-1=0,path:['1', '1', '1', '1', '2', '6', '6', '3', '1', '1']\n",
      "target==0\n",
      "跳出dfs\n",
      "path.pop\n",
      "num:2,cost:1,target=1-1=0,path:['1', '1', '1', '1', '2', '6', '6', '3', '1', '2']\n",
      "target==0\n",
      "跳出dfs\n",
      "path.pop\n",
      "num:3,cost:1,target=1-1=0,path:['1', '1', '1', '1', '2', '6', '6', '3', '1', '3']\n",
      "target==0\n",
      "跳出dfs\n",
      "path.pop\n",
      "num:4,cost:1,target=1-1=0,path:['1', '1', '1', '1', '2', '6', '6', '3', '1', '4']\n",
      "target==0\n",
      "跳出dfs\n",
      "path.pop\n",
      "num:5,cost:1,target=1-1=0,path:['1', '1', '1', '1', '2', '6', '6', '3', '1', '5']\n",
      "target==0\n",
      "跳出dfs\n",
      "path.pop\n",
      "num:6,cost:1,target=1-1=0,path:['1', '1', '1', '1', '2', '6', '6', '3', '1', '6']\n",
      "target==0\n",
      "跳出dfs\n",
      "path.pop\n",
      "num:7,cost:1,target=1-1=0,path:['1', '1', '1', '1', '2', '6', '6', '3', '1', '7']\n",
      "target==0\n",
      "跳出dfs\n",
      "path.pop\n",
      "跳出dfs\n",
      "path.pop\n",
      "num:2,cost:1,target=2-1=1,path:['1', '1', '1', '1', '2', '6', '6', '3', '2']\n",
      "num:1,cost:1,target=1-1=0,path:['1', '1', '1', '1', '2', '6', '6', '3', '2', '1']\n",
      "target==0\n",
      "跳出dfs\n",
      "path.pop\n",
      "num:2,cost:1,target=1-1=0,path:['1', '1', '1', '1', '2', '6', '6', '3', '2', '2']\n",
      "target==0\n",
      "跳出dfs\n",
      "path.pop\n",
      "num:3,cost:1,target=1-1=0,path:['1', '1', '1', '1', '2', '6', '6', '3', '2', '3']\n",
      "target==0\n",
      "跳出dfs\n",
      "path.pop\n",
      "num:4,cost:1,target=1-1=0,path:['1', '1', '1', '1', '2', '6', '6', '3', '2', '4']\n",
      "target==0\n",
      "跳出dfs\n",
      "path.pop\n",
      "num:5,cost:1,target=1-1=0,path:['1', '1', '1', '1', '2', '6', '6', '3', '2', '5']\n",
      "target==0\n",
      "跳出dfs\n",
      "path.pop\n",
      "num:6,cost:1,target=1-1=0,path:['1', '1', '1', '1', '2', '6', '6', '3', '2', '6']\n",
      "target==0\n",
      "跳出dfs\n",
      "path.pop\n",
      "num:7,cost:1,target=1-1=0,path:['1', '1', '1', '1', '2', '6', '6', '3', '2', '7']\n",
      "target==0\n",
      "跳出dfs\n",
      "path.pop\n",
      "跳出dfs\n",
      "path.pop\n",
      "num:3,cost:1,target=2-1=1,path:['1', '1', '1', '1', '2', '6', '6', '3', '3']\n",
      "num:1,cost:1,target=1-1=0,path:['1', '1', '1', '1', '2', '6', '6', '3', '3', '1']\n",
      "target==0\n",
      "跳出dfs\n",
      "path.pop\n",
      "num:2,cost:1,target=1-1=0,path:['1', '1', '1', '1', '2', '6', '6', '3', '3', '2']\n",
      "target==0\n",
      "跳出dfs\n",
      "path.pop\n",
      "num:3,cost:1,target=1-1=0,path:['1', '1', '1', '1', '2', '6', '6', '3', '3', '3']\n",
      "target==0\n",
      "跳出dfs\n",
      "path.pop\n",
      "num:4,cost:1,target=1-1=0,path:['1', '1', '1', '1', '2', '6', '6', '3', '3', '4']\n",
      "target==0\n",
      "跳出dfs\n",
      "path.pop\n",
      "num:5,cost:1,target=1-1=0,path:['1', '1', '1', '1', '2', '6', '6', '3', '3', '5']\n",
      "target==0\n",
      "跳出dfs\n",
      "path.pop\n",
      "num:6,cost:1,target=1-1=0,path:['1', '1', '1', '1', '2', '6', '6', '3', '3', '6']\n",
      "target==0\n",
      "跳出dfs\n",
      "path.pop\n",
      "num:7,cost:1,target=1-1=0,path:['1', '1', '1', '1', '2', '6', '6', '3', '3', '7']\n",
      "target==0\n",
      "跳出dfs\n",
      "path.pop\n",
      "跳出dfs\n",
      "path.pop\n",
      "num:4,cost:1,target=2-1=1,path:['1', '1', '1', '1', '2', '6', '6', '3', '4']\n",
      "num:1,cost:1,target=1-1=0,path:['1', '1', '1', '1', '2', '6', '6', '3', '4', '1']\n",
      "target==0\n",
      "跳出dfs\n",
      "path.pop\n",
      "num:2,cost:1,target=1-1=0,path:['1', '1', '1', '1', '2', '6', '6', '3', '4', '2']\n",
      "target==0\n",
      "跳出dfs\n",
      "path.pop\n",
      "num:3,cost:1,target=1-1=0,path:['1', '1', '1', '1', '2', '6', '6', '3', '4', '3']\n",
      "target==0\n",
      "跳出dfs\n",
      "path.pop\n",
      "num:4,cost:1,target=1-1=0,path:['1', '1', '1', '1', '2', '6', '6', '3', '4', '4']\n",
      "target==0\n",
      "跳出dfs\n",
      "path.pop\n",
      "num:5,cost:1,target=1-1=0,path:['1', '1', '1', '1', '2', '6', '6', '3', '4', '5']\n",
      "target==0\n",
      "跳出dfs\n",
      "path.pop\n",
      "num:6,cost:1,target=1-1=0,path:['1', '1', '1', '1', '2', '6', '6', '3', '4', '6']\n",
      "target==0\n",
      "跳出dfs\n",
      "path.pop\n",
      "num:7,cost:1,target=1-1=0,path:['1', '1', '1', '1', '2', '6', '6', '3', '4', '7']\n",
      "target==0\n",
      "跳出dfs\n",
      "path.pop\n",
      "跳出dfs\n",
      "path.pop\n",
      "num:5,cost:1,target=2-1=1,path:['1', '1', '1', '1', '2', '6', '6', '3', '5']\n",
      "num:1,cost:1,target=1-1=0,path:['1', '1', '1', '1', '2', '6', '6', '3', '5', '1']\n",
      "target==0\n",
      "跳出dfs\n",
      "path.pop\n",
      "num:2,cost:1,target=1-1=0,path:['1', '1', '1', '1', '2', '6', '6', '3', '5', '2']\n",
      "target==0\n",
      "跳出dfs\n",
      "path.pop\n",
      "num:3,cost:1,target=1-1=0,path:['1', '1', '1', '1', '2', '6', '6', '3', '5', '3']\n",
      "target==0\n",
      "跳出dfs\n",
      "path.pop\n",
      "num:4,cost:1,target=1-1=0,path:['1', '1', '1', '1', '2', '6', '6', '3', '5', '4']\n",
      "target==0\n",
      "跳出dfs\n",
      "path.pop\n",
      "num:5,cost:1,target=1-1=0,path:['1', '1', '1', '1', '2', '6', '6', '3', '5', '5']\n",
      "target==0\n",
      "跳出dfs\n",
      "path.pop\n",
      "num:6,cost:1,target=1-1=0,path:['1', '1', '1', '1', '2', '6', '6', '3', '5', '6']\n",
      "target==0\n",
      "跳出dfs\n",
      "path.pop\n",
      "num:7,cost:1,target=1-1=0,path:['1', '1', '1', '1', '2', '6', '6', '3', '5', '7']\n",
      "target==0\n",
      "跳出dfs\n",
      "path.pop\n",
      "跳出dfs\n",
      "path.pop\n",
      "num:6,cost:1,target=2-1=1,path:['1', '1', '1', '1', '2', '6', '6', '3', '6']\n",
      "num:1,cost:1,target=1-1=0,path:['1', '1', '1', '1', '2', '6', '6', '3', '6', '1']\n",
      "target==0\n",
      "跳出dfs\n",
      "path.pop\n",
      "num:2,cost:1,target=1-1=0,path:['1', '1', '1', '1', '2', '6', '6', '3', '6', '2']\n",
      "target==0\n",
      "跳出dfs\n",
      "path.pop\n",
      "num:3,cost:1,target=1-1=0,path:['1', '1', '1', '1', '2', '6', '6', '3', '6', '3']\n",
      "target==0\n",
      "跳出dfs\n",
      "path.pop\n",
      "num:4,cost:1,target=1-1=0,path:['1', '1', '1', '1', '2', '6', '6', '3', '6', '4']\n",
      "target==0\n",
      "跳出dfs\n",
      "path.pop\n",
      "num:5,cost:1,target=1-1=0,path:['1', '1', '1', '1', '2', '6', '6', '3', '6', '5']\n",
      "target==0\n",
      "跳出dfs\n",
      "path.pop\n",
      "num:6,cost:1,target=1-1=0,path:['1', '1', '1', '1', '2', '6', '6', '3', '6', '6']\n",
      "target==0\n",
      "跳出dfs\n",
      "path.pop\n",
      "num:7,cost:1,target=1-1=0,path:['1', '1', '1', '1', '2', '6', '6', '3', '6', '7']\n",
      "target==0\n",
      "跳出dfs\n",
      "path.pop\n",
      "跳出dfs\n",
      "path.pop\n",
      "num:7,cost:1,target=2-1=1,path:['1', '1', '1', '1', '2', '6', '6', '3', '7']\n",
      "num:1,cost:1,target=1-1=0,path:['1', '1', '1', '1', '2', '6', '6', '3', '7', '1']\n",
      "target==0\n",
      "跳出dfs\n",
      "path.pop\n",
      "num:2,cost:1,target=1-1=0,path:['1', '1', '1', '1', '2', '6', '6', '3', '7', '2']\n",
      "target==0\n",
      "跳出dfs\n",
      "path.pop\n",
      "num:3,cost:1,target=1-1=0,path:['1', '1', '1', '1', '2', '6', '6', '3', '7', '3']\n",
      "target==0\n",
      "跳出dfs\n",
      "path.pop\n",
      "num:4,cost:1,target=1-1=0,path:['1', '1', '1', '1', '2', '6', '6', '3', '7', '4']\n",
      "target==0\n",
      "跳出dfs\n",
      "path.pop\n",
      "num:5,cost:1,target=1-1=0,path:['1', '1', '1', '1', '2', '6', '6', '3', '7', '5']\n",
      "target==0\n",
      "跳出dfs\n",
      "path.pop\n",
      "num:6,cost:1,target=1-1=0,path:['1', '1', '1', '1', '2', '6', '6', '3', '7', '6']\n",
      "target==0\n",
      "跳出dfs\n",
      "path.pop\n",
      "num:7,cost:1,target=1-1=0,path:['1', '1', '1', '1', '2', '6', '6', '3', '7', '7']\n",
      "target==0\n",
      "跳出dfs\n",
      "path.pop\n",
      "跳出dfs\n",
      "path.pop\n",
      "num:9,cost:2,target=2-2=0,path:['1', '1', '1', '1', '2', '6', '6', '3', '9']\n",
      "target==0\n",
      "跳出dfs\n",
      "path.pop\n",
      "跳出dfs\n",
      "path.pop\n",
      "num:4,cost:1,target=3-1=2,path:['1', '1', '1', '1', '2', '6', '6', '4']\n",
      "num:1,cost:1,target=2-1=1,path:['1', '1', '1', '1', '2', '6', '6', '4', '1']\n",
      "num:1,cost:1,target=1-1=0,path:['1', '1', '1', '1', '2', '6', '6', '4', '1', '1']\n",
      "target==0\n",
      "跳出dfs\n",
      "path.pop\n",
      "num:2,cost:1,target=1-1=0,path:['1', '1', '1', '1', '2', '6', '6', '4', '1', '2']\n",
      "target==0\n",
      "跳出dfs\n",
      "path.pop\n",
      "num:3,cost:1,target=1-1=0,path:['1', '1', '1', '1', '2', '6', '6', '4', '1', '3']\n",
      "target==0\n",
      "跳出dfs\n",
      "path.pop\n",
      "num:4,cost:1,target=1-1=0,path:['1', '1', '1', '1', '2', '6', '6', '4', '1', '4']\n",
      "target==0\n",
      "跳出dfs\n",
      "path.pop\n",
      "num:5,cost:1,target=1-1=0,path:['1', '1', '1', '1', '2', '6', '6', '4', '1', '5']\n",
      "target==0\n",
      "跳出dfs\n",
      "path.pop\n",
      "num:6,cost:1,target=1-1=0,path:['1', '1', '1', '1', '2', '6', '6', '4', '1', '6']\n",
      "target==0\n",
      "跳出dfs\n",
      "path.pop\n",
      "num:7,cost:1,target=1-1=0,path:['1', '1', '1', '1', '2', '6', '6', '4', '1', '7']\n",
      "target==0\n",
      "跳出dfs\n",
      "path.pop\n",
      "跳出dfs\n",
      "path.pop\n",
      "num:2,cost:1,target=2-1=1,path:['1', '1', '1', '1', '2', '6', '6', '4', '2']\n",
      "num:1,cost:1,target=1-1=0,path:['1', '1', '1', '1', '2', '6', '6', '4', '2', '1']\n",
      "target==0\n",
      "跳出dfs\n",
      "path.pop\n",
      "num:2,cost:1,target=1-1=0,path:['1', '1', '1', '1', '2', '6', '6', '4', '2', '2']\n",
      "target==0\n",
      "跳出dfs\n",
      "path.pop\n",
      "num:3,cost:1,target=1-1=0,path:['1', '1', '1', '1', '2', '6', '6', '4', '2', '3']\n",
      "target==0\n",
      "跳出dfs\n",
      "path.pop\n",
      "num:4,cost:1,target=1-1=0,path:['1', '1', '1', '1', '2', '6', '6', '4', '2', '4']\n",
      "target==0\n",
      "跳出dfs\n",
      "path.pop\n",
      "num:5,cost:1,target=1-1=0,path:['1', '1', '1', '1', '2', '6', '6', '4', '2', '5']\n",
      "target==0\n",
      "跳出dfs\n",
      "path.pop\n",
      "num:6,cost:1,target=1-1=0,path:['1', '1', '1', '1', '2', '6', '6', '4', '2', '6']\n",
      "target==0\n",
      "跳出dfs\n",
      "path.pop\n",
      "num:7,cost:1,target=1-1=0,path:['1', '1', '1', '1', '2', '6', '6', '4', '2', '7']\n",
      "target==0\n",
      "跳出dfs\n",
      "path.pop\n",
      "跳出dfs\n",
      "path.pop\n",
      "num:3,cost:1,target=2-1=1,path:['1', '1', '1', '1', '2', '6', '6', '4', '3']\n",
      "num:1,cost:1,target=1-1=0,path:['1', '1', '1', '1', '2', '6', '6', '4', '3', '1']\n",
      "target==0\n",
      "跳出dfs\n",
      "path.pop\n",
      "num:2,cost:1,target=1-1=0,path:['1', '1', '1', '1', '2', '6', '6', '4', '3', '2']\n",
      "target==0\n",
      "跳出dfs\n",
      "path.pop\n",
      "num:3,cost:1,target=1-1=0,path:['1', '1', '1', '1', '2', '6', '6', '4', '3', '3']\n",
      "target==0\n",
      "跳出dfs\n",
      "path.pop\n",
      "num:4,cost:1,target=1-1=0,path:['1', '1', '1', '1', '2', '6', '6', '4', '3', '4']\n",
      "target==0\n",
      "跳出dfs\n",
      "path.pop\n",
      "num:5,cost:1,target=1-1=0,path:['1', '1', '1', '1', '2', '6', '6', '4', '3', '5']\n",
      "target==0\n",
      "跳出dfs\n",
      "path.pop\n",
      "num:6,cost:1,target=1-1=0,path:['1', '1', '1', '1', '2', '6', '6', '4', '3', '6']\n",
      "target==0\n",
      "跳出dfs\n",
      "path.pop\n",
      "num:7,cost:1,target=1-1=0,path:['1', '1', '1', '1', '2', '6', '6', '4', '3', '7']\n",
      "target==0\n",
      "跳出dfs\n",
      "path.pop\n",
      "跳出dfs\n",
      "path.pop\n",
      "num:4,cost:1,target=2-1=1,path:['1', '1', '1', '1', '2', '6', '6', '4', '4']\n",
      "num:1,cost:1,target=1-1=0,path:['1', '1', '1', '1', '2', '6', '6', '4', '4', '1']\n",
      "target==0\n",
      "跳出dfs\n",
      "path.pop\n",
      "num:2,cost:1,target=1-1=0,path:['1', '1', '1', '1', '2', '6', '6', '4', '4', '2']\n",
      "target==0\n",
      "跳出dfs\n",
      "path.pop\n",
      "num:3,cost:1,target=1-1=0,path:['1', '1', '1', '1', '2', '6', '6', '4', '4', '3']\n",
      "target==0\n",
      "跳出dfs\n",
      "path.pop\n",
      "num:4,cost:1,target=1-1=0,path:['1', '1', '1', '1', '2', '6', '6', '4', '4', '4']\n",
      "target==0\n",
      "跳出dfs\n",
      "path.pop\n",
      "num:5,cost:1,target=1-1=0,path:['1', '1', '1', '1', '2', '6', '6', '4', '4', '5']\n",
      "target==0\n",
      "跳出dfs\n",
      "path.pop\n",
      "num:6,cost:1,target=1-1=0,path:['1', '1', '1', '1', '2', '6', '6', '4', '4', '6']\n",
      "target==0\n",
      "跳出dfs\n",
      "path.pop\n",
      "num:7,cost:1,target=1-1=0,path:['1', '1', '1', '1', '2', '6', '6', '4', '4', '7']\n",
      "target==0\n",
      "跳出dfs\n",
      "path.pop\n",
      "跳出dfs\n",
      "path.pop\n",
      "num:5,cost:1,target=2-1=1,path:['1', '1', '1', '1', '2', '6', '6', '4', '5']\n",
      "num:1,cost:1,target=1-1=0,path:['1', '1', '1', '1', '2', '6', '6', '4', '5', '1']\n",
      "target==0\n",
      "跳出dfs\n",
      "path.pop\n",
      "num:2,cost:1,target=1-1=0,path:['1', '1', '1', '1', '2', '6', '6', '4', '5', '2']\n",
      "target==0\n",
      "跳出dfs\n",
      "path.pop\n",
      "num:3,cost:1,target=1-1=0,path:['1', '1', '1', '1', '2', '6', '6', '4', '5', '3']\n",
      "target==0\n",
      "跳出dfs\n",
      "path.pop\n",
      "num:4,cost:1,target=1-1=0,path:['1', '1', '1', '1', '2', '6', '6', '4', '5', '4']\n",
      "target==0\n",
      "跳出dfs\n",
      "path.pop\n",
      "num:5,cost:1,target=1-1=0,path:['1', '1', '1', '1', '2', '6', '6', '4', '5', '5']\n",
      "target==0\n",
      "跳出dfs\n",
      "path.pop\n",
      "num:6,cost:1,target=1-1=0,path:['1', '1', '1', '1', '2', '6', '6', '4', '5', '6']\n",
      "target==0\n",
      "跳出dfs\n",
      "path.pop\n",
      "num:7,cost:1,target=1-1=0,path:['1', '1', '1', '1', '2', '6', '6', '4', '5', '7']\n",
      "target==0\n",
      "跳出dfs\n",
      "path.pop\n",
      "跳出dfs\n",
      "path.pop\n",
      "num:6,cost:1,target=2-1=1,path:['1', '1', '1', '1', '2', '6', '6', '4', '6']\n",
      "num:1,cost:1,target=1-1=0,path:['1', '1', '1', '1', '2', '6', '6', '4', '6', '1']\n",
      "target==0\n",
      "跳出dfs\n",
      "path.pop\n",
      "num:2,cost:1,target=1-1=0,path:['1', '1', '1', '1', '2', '6', '6', '4', '6', '2']\n",
      "target==0\n",
      "跳出dfs\n",
      "path.pop\n",
      "num:3,cost:1,target=1-1=0,path:['1', '1', '1', '1', '2', '6', '6', '4', '6', '3']\n",
      "target==0\n",
      "跳出dfs\n",
      "path.pop\n",
      "num:4,cost:1,target=1-1=0,path:['1', '1', '1', '1', '2', '6', '6', '4', '6', '4']\n",
      "target==0\n",
      "跳出dfs\n",
      "path.pop\n",
      "num:5,cost:1,target=1-1=0,path:['1', '1', '1', '1', '2', '6', '6', '4', '6', '5']\n",
      "target==0\n",
      "跳出dfs\n",
      "path.pop\n",
      "num:6,cost:1,target=1-1=0,path:['1', '1', '1', '1', '2', '6', '6', '4', '6', '6']\n",
      "target==0\n",
      "跳出dfs\n",
      "path.pop\n",
      "num:7,cost:1,target=1-1=0,path:['1', '1', '1', '1', '2', '6', '6', '4', '6', '7']\n",
      "target==0\n",
      "跳出dfs\n",
      "path.pop\n",
      "跳出dfs\n",
      "path.pop\n",
      "num:7,cost:1,target=2-1=1,path:['1', '1', '1', '1', '2', '6', '6', '4', '7']\n",
      "num:1,cost:1,target=1-1=0,path:['1', '1', '1', '1', '2', '6', '6', '4', '7', '1']\n",
      "target==0\n",
      "跳出dfs\n",
      "path.pop\n",
      "num:2,cost:1,target=1-1=0,path:['1', '1', '1', '1', '2', '6', '6', '4', '7', '2']\n",
      "target==0\n",
      "跳出dfs\n",
      "path.pop\n",
      "num:3,cost:1,target=1-1=0,path:['1', '1', '1', '1', '2', '6', '6', '4', '7', '3']\n",
      "target==0\n",
      "跳出dfs\n",
      "path.pop\n",
      "num:4,cost:1,target=1-1=0,path:['1', '1', '1', '1', '2', '6', '6', '4', '7', '4']\n",
      "target==0\n",
      "跳出dfs\n",
      "path.pop\n",
      "num:5,cost:1,target=1-1=0,path:['1', '1', '1', '1', '2', '6', '6', '4', '7', '5']\n",
      "target==0\n",
      "跳出dfs\n",
      "path.pop\n",
      "num:6,cost:1,target=1-1=0,path:['1', '1', '1', '1', '2', '6', '6', '4', '7', '6']\n",
      "target==0\n",
      "跳出dfs\n",
      "path.pop\n",
      "num:7,cost:1,target=1-1=0,path:['1', '1', '1', '1', '2', '6', '6', '4', '7', '7']\n",
      "target==0\n",
      "跳出dfs\n",
      "path.pop\n",
      "跳出dfs\n",
      "path.pop\n",
      "num:9,cost:2,target=2-2=0,path:['1', '1', '1', '1', '2', '6', '6', '4', '9']\n",
      "target==0\n",
      "跳出dfs\n",
      "path.pop\n",
      "跳出dfs\n",
      "path.pop\n",
      "num:5,cost:1,target=3-1=2,path:['1', '1', '1', '1', '2', '6', '6', '5']\n",
      "num:1,cost:1,target=2-1=1,path:['1', '1', '1', '1', '2', '6', '6', '5', '1']\n",
      "num:1,cost:1,target=1-1=0,path:['1', '1', '1', '1', '2', '6', '6', '5', '1', '1']\n",
      "target==0\n",
      "跳出dfs\n",
      "path.pop\n",
      "num:2,cost:1,target=1-1=0,path:['1', '1', '1', '1', '2', '6', '6', '5', '1', '2']\n",
      "target==0\n",
      "跳出dfs\n",
      "path.pop\n",
      "num:3,cost:1,target=1-1=0,path:['1', '1', '1', '1', '2', '6', '6', '5', '1', '3']\n",
      "target==0\n",
      "跳出dfs\n",
      "path.pop\n",
      "num:4,cost:1,target=1-1=0,path:['1', '1', '1', '1', '2', '6', '6', '5', '1', '4']\n",
      "target==0\n",
      "跳出dfs\n",
      "path.pop\n",
      "num:5,cost:1,target=1-1=0,path:['1', '1', '1', '1', '2', '6', '6', '5', '1', '5']\n",
      "target==0\n",
      "跳出dfs\n",
      "path.pop\n",
      "num:6,cost:1,target=1-1=0,path:['1', '1', '1', '1', '2', '6', '6', '5', '1', '6']\n",
      "target==0\n",
      "跳出dfs\n",
      "path.pop\n",
      "num:7,cost:1,target=1-1=0,path:['1', '1', '1', '1', '2', '6', '6', '5', '1', '7']\n",
      "target==0\n",
      "跳出dfs\n",
      "path.pop\n",
      "跳出dfs\n",
      "path.pop\n",
      "num:2,cost:1,target=2-1=1,path:['1', '1', '1', '1', '2', '6', '6', '5', '2']\n",
      "num:1,cost:1,target=1-1=0,path:['1', '1', '1', '1', '2', '6', '6', '5', '2', '1']\n",
      "target==0\n",
      "跳出dfs\n",
      "path.pop\n",
      "num:2,cost:1,target=1-1=0,path:['1', '1', '1', '1', '2', '6', '6', '5', '2', '2']\n",
      "target==0\n",
      "跳出dfs\n",
      "path.pop\n",
      "num:3,cost:1,target=1-1=0,path:['1', '1', '1', '1', '2', '6', '6', '5', '2', '3']\n",
      "target==0\n",
      "跳出dfs\n",
      "path.pop\n",
      "num:4,cost:1,target=1-1=0,path:['1', '1', '1', '1', '2', '6', '6', '5', '2', '4']\n",
      "target==0\n",
      "跳出dfs\n",
      "path.pop\n",
      "num:5,cost:1,target=1-1=0,path:['1', '1', '1', '1', '2', '6', '6', '5', '2', '5']\n",
      "target==0\n",
      "跳出dfs\n",
      "path.pop\n",
      "num:6,cost:1,target=1-1=0,path:['1', '1', '1', '1', '2', '6', '6', '5', '2', '6']\n",
      "target==0\n",
      "跳出dfs\n",
      "path.pop\n",
      "num:7,cost:1,target=1-1=0,path:['1', '1', '1', '1', '2', '6', '6', '5', '2', '7']\n",
      "target==0\n",
      "跳出dfs\n",
      "path.pop\n",
      "跳出dfs\n",
      "path.pop\n",
      "num:3,cost:1,target=2-1=1,path:['1', '1', '1', '1', '2', '6', '6', '5', '3']\n",
      "num:1,cost:1,target=1-1=0,path:['1', '1', '1', '1', '2', '6', '6', '5', '3', '1']\n",
      "target==0\n",
      "跳出dfs\n",
      "path.pop\n",
      "num:2,cost:1,target=1-1=0,path:['1', '1', '1', '1', '2', '6', '6', '5', '3', '2']\n",
      "target==0\n",
      "跳出dfs\n",
      "path.pop\n",
      "num:3,cost:1,target=1-1=0,path:['1', '1', '1', '1', '2', '6', '6', '5', '3', '3']\n",
      "target==0\n",
      "跳出dfs\n",
      "path.pop\n",
      "num:4,cost:1,target=1-1=0,path:['1', '1', '1', '1', '2', '6', '6', '5', '3', '4']\n",
      "target==0\n",
      "跳出dfs\n",
      "path.pop\n",
      "num:5,cost:1,target=1-1=0,path:['1', '1', '1', '1', '2', '6', '6', '5', '3', '5']\n",
      "target==0\n",
      "跳出dfs\n",
      "path.pop\n",
      "num:6,cost:1,target=1-1=0,path:['1', '1', '1', '1', '2', '6', '6', '5', '3', '6']\n",
      "target==0\n",
      "跳出dfs\n",
      "path.pop\n",
      "num:7,cost:1,target=1-1=0,path:['1', '1', '1', '1', '2', '6', '6', '5', '3', '7']\n",
      "target==0\n",
      "跳出dfs\n",
      "path.pop\n",
      "跳出dfs\n",
      "path.pop\n",
      "num:4,cost:1,target=2-1=1,path:['1', '1', '1', '1', '2', '6', '6', '5', '4']\n",
      "num:1,cost:1,target=1-1=0,path:['1', '1', '1', '1', '2', '6', '6', '5', '4', '1']\n",
      "target==0\n",
      "跳出dfs\n",
      "path.pop\n",
      "num:2,cost:1,target=1-1=0,path:['1', '1', '1', '1', '2', '6', '6', '5', '4', '2']\n",
      "target==0\n",
      "跳出dfs\n",
      "path.pop\n",
      "num:3,cost:1,target=1-1=0,path:['1', '1', '1', '1', '2', '6', '6', '5', '4', '3']\n",
      "target==0\n",
      "跳出dfs\n",
      "path.pop\n",
      "num:4,cost:1,target=1-1=0,path:['1', '1', '1', '1', '2', '6', '6', '5', '4', '4']\n",
      "target==0\n",
      "跳出dfs\n",
      "path.pop\n",
      "num:5,cost:1,target=1-1=0,path:['1', '1', '1', '1', '2', '6', '6', '5', '4', '5']\n",
      "target==0\n",
      "跳出dfs\n",
      "path.pop\n",
      "num:6,cost:1,target=1-1=0,path:['1', '1', '1', '1', '2', '6', '6', '5', '4', '6']\n",
      "target==0\n",
      "跳出dfs\n",
      "path.pop\n",
      "num:7,cost:1,target=1-1=0,path:['1', '1', '1', '1', '2', '6', '6', '5', '4', '7']\n",
      "target==0\n",
      "跳出dfs\n",
      "path.pop\n",
      "跳出dfs\n",
      "path.pop\n",
      "num:5,cost:1,target=2-1=1,path:['1', '1', '1', '1', '2', '6', '6', '5', '5']\n",
      "num:1,cost:1,target=1-1=0,path:['1', '1', '1', '1', '2', '6', '6', '5', '5', '1']\n",
      "target==0\n",
      "跳出dfs\n",
      "path.pop\n",
      "num:2,cost:1,target=1-1=0,path:['1', '1', '1', '1', '2', '6', '6', '5', '5', '2']\n",
      "target==0\n",
      "跳出dfs\n"
     ]
    },
    {
     "output_type": "error",
     "ename": "KeyboardInterrupt",
     "evalue": "",
     "traceback": [
      "\u001b[1;31m---------------------------------------------------------------------------\u001b[0m",
      "\u001b[1;31mKeyboardInterrupt\u001b[0m                         Traceback (most recent call last)",
      "\u001b[1;32m<ipython-input-117-99f29a5d65d7>\u001b[0m in \u001b[0;36m<module>\u001b[1;34m\u001b[0m\n\u001b[1;32m----> 1\u001b[1;33m \u001b[0mbacktrack\u001b[0m\u001b[1;33m(\u001b[0m\u001b[0mcost\u001b[0m\u001b[1;33m,\u001b[0m\u001b[0mtarget\u001b[0m\u001b[1;33m,\u001b[0m\u001b[0mpath\u001b[0m\u001b[1;33m)\u001b[0m\u001b[1;33m\u001b[0m\u001b[1;33m\u001b[0m\u001b[0m\n\u001b[0m",
      "\u001b[1;32m<ipython-input-105-bc61ac091f19>\u001b[0m in \u001b[0;36mbacktrack\u001b[1;34m(cost, target, path)\u001b[0m\n\u001b[0;32m     12\u001b[0m         \u001b[0mpath\u001b[0m\u001b[1;33m.\u001b[0m\u001b[0mappend\u001b[0m\u001b[1;33m(\u001b[0m\u001b[0mstr\u001b[0m\u001b[1;33m(\u001b[0m\u001b[0mi\u001b[0m\u001b[1;33m)\u001b[0m\u001b[1;33m)\u001b[0m\u001b[1;33m\u001b[0m\u001b[1;33m\u001b[0m\u001b[0m\n\u001b[0;32m     13\u001b[0m         \u001b[0mprint\u001b[0m\u001b[1;33m(\u001b[0m\u001b[1;34m\"num:{},cost:{},target={}-{}={},path:{}\"\u001b[0m\u001b[1;33m.\u001b[0m\u001b[0mformat\u001b[0m\u001b[1;33m(\u001b[0m\u001b[0mi\u001b[0m\u001b[1;33m,\u001b[0m\u001b[0mcost\u001b[0m\u001b[1;33m[\u001b[0m\u001b[0mi\u001b[0m\u001b[1;33m-\u001b[0m\u001b[1;36m1\u001b[0m\u001b[1;33m]\u001b[0m\u001b[1;33m,\u001b[0m\u001b[0mtarget\u001b[0m\u001b[1;33m,\u001b[0m\u001b[0mcost\u001b[0m\u001b[1;33m[\u001b[0m\u001b[0mi\u001b[0m\u001b[1;33m-\u001b[0m\u001b[1;36m1\u001b[0m\u001b[1;33m]\u001b[0m\u001b[1;33m,\u001b[0m\u001b[0mtarget\u001b[0m\u001b[1;33m-\u001b[0m\u001b[0mcost\u001b[0m\u001b[1;33m[\u001b[0m\u001b[0mi\u001b[0m\u001b[1;33m-\u001b[0m\u001b[1;36m1\u001b[0m\u001b[1;33m]\u001b[0m\u001b[1;33m,\u001b[0m\u001b[0mpath\u001b[0m\u001b[1;33m)\u001b[0m\u001b[1;33m)\u001b[0m\u001b[1;33m\u001b[0m\u001b[1;33m\u001b[0m\u001b[0m\n\u001b[1;32m---> 14\u001b[1;33m         \u001b[0mbacktrack\u001b[0m\u001b[1;33m(\u001b[0m\u001b[0mcost\u001b[0m\u001b[1;33m,\u001b[0m\u001b[0mtarget\u001b[0m\u001b[1;33m-\u001b[0m\u001b[0mcost\u001b[0m\u001b[1;33m[\u001b[0m\u001b[0mi\u001b[0m\u001b[1;33m-\u001b[0m\u001b[1;36m1\u001b[0m\u001b[1;33m]\u001b[0m\u001b[1;33m,\u001b[0m\u001b[0mpath\u001b[0m\u001b[1;33m)\u001b[0m\u001b[1;33m\u001b[0m\u001b[1;33m\u001b[0m\u001b[0m\n\u001b[0m\u001b[0;32m     15\u001b[0m         \u001b[0mprint\u001b[0m\u001b[1;33m(\u001b[0m\u001b[1;34m\"跳出dfs\"\u001b[0m\u001b[1;33m)\u001b[0m\u001b[1;33m\u001b[0m\u001b[1;33m\u001b[0m\u001b[0m\n\u001b[0;32m     16\u001b[0m         \u001b[0mpath\u001b[0m\u001b[1;33m.\u001b[0m\u001b[0mpop\u001b[0m\u001b[1;33m(\u001b[0m\u001b[1;33m)\u001b[0m\u001b[1;33m\u001b[0m\u001b[1;33m\u001b[0m\u001b[0m\n",
      "\u001b[1;32m<ipython-input-105-bc61ac091f19>\u001b[0m in \u001b[0;36mbacktrack\u001b[1;34m(cost, target, path)\u001b[0m\n\u001b[0;32m     12\u001b[0m         \u001b[0mpath\u001b[0m\u001b[1;33m.\u001b[0m\u001b[0mappend\u001b[0m\u001b[1;33m(\u001b[0m\u001b[0mstr\u001b[0m\u001b[1;33m(\u001b[0m\u001b[0mi\u001b[0m\u001b[1;33m)\u001b[0m\u001b[1;33m)\u001b[0m\u001b[1;33m\u001b[0m\u001b[1;33m\u001b[0m\u001b[0m\n\u001b[0;32m     13\u001b[0m         \u001b[0mprint\u001b[0m\u001b[1;33m(\u001b[0m\u001b[1;34m\"num:{},cost:{},target={}-{}={},path:{}\"\u001b[0m\u001b[1;33m.\u001b[0m\u001b[0mformat\u001b[0m\u001b[1;33m(\u001b[0m\u001b[0mi\u001b[0m\u001b[1;33m,\u001b[0m\u001b[0mcost\u001b[0m\u001b[1;33m[\u001b[0m\u001b[0mi\u001b[0m\u001b[1;33m-\u001b[0m\u001b[1;36m1\u001b[0m\u001b[1;33m]\u001b[0m\u001b[1;33m,\u001b[0m\u001b[0mtarget\u001b[0m\u001b[1;33m,\u001b[0m\u001b[0mcost\u001b[0m\u001b[1;33m[\u001b[0m\u001b[0mi\u001b[0m\u001b[1;33m-\u001b[0m\u001b[1;36m1\u001b[0m\u001b[1;33m]\u001b[0m\u001b[1;33m,\u001b[0m\u001b[0mtarget\u001b[0m\u001b[1;33m-\u001b[0m\u001b[0mcost\u001b[0m\u001b[1;33m[\u001b[0m\u001b[0mi\u001b[0m\u001b[1;33m-\u001b[0m\u001b[1;36m1\u001b[0m\u001b[1;33m]\u001b[0m\u001b[1;33m,\u001b[0m\u001b[0mpath\u001b[0m\u001b[1;33m)\u001b[0m\u001b[1;33m)\u001b[0m\u001b[1;33m\u001b[0m\u001b[1;33m\u001b[0m\u001b[0m\n\u001b[1;32m---> 14\u001b[1;33m         \u001b[0mbacktrack\u001b[0m\u001b[1;33m(\u001b[0m\u001b[0mcost\u001b[0m\u001b[1;33m,\u001b[0m\u001b[0mtarget\u001b[0m\u001b[1;33m-\u001b[0m\u001b[0mcost\u001b[0m\u001b[1;33m[\u001b[0m\u001b[0mi\u001b[0m\u001b[1;33m-\u001b[0m\u001b[1;36m1\u001b[0m\u001b[1;33m]\u001b[0m\u001b[1;33m,\u001b[0m\u001b[0mpath\u001b[0m\u001b[1;33m)\u001b[0m\u001b[1;33m\u001b[0m\u001b[1;33m\u001b[0m\u001b[0m\n\u001b[0m\u001b[0;32m     15\u001b[0m         \u001b[0mprint\u001b[0m\u001b[1;33m(\u001b[0m\u001b[1;34m\"跳出dfs\"\u001b[0m\u001b[1;33m)\u001b[0m\u001b[1;33m\u001b[0m\u001b[1;33m\u001b[0m\u001b[0m\n\u001b[0;32m     16\u001b[0m         \u001b[0mpath\u001b[0m\u001b[1;33m.\u001b[0m\u001b[0mpop\u001b[0m\u001b[1;33m(\u001b[0m\u001b[1;33m)\u001b[0m\u001b[1;33m\u001b[0m\u001b[1;33m\u001b[0m\u001b[0m\n",
      "\u001b[1;32m<ipython-input-105-bc61ac091f19>\u001b[0m in \u001b[0;36mbacktrack\u001b[1;34m(cost, target, path)\u001b[0m\n\u001b[0;32m     12\u001b[0m         \u001b[0mpath\u001b[0m\u001b[1;33m.\u001b[0m\u001b[0mappend\u001b[0m\u001b[1;33m(\u001b[0m\u001b[0mstr\u001b[0m\u001b[1;33m(\u001b[0m\u001b[0mi\u001b[0m\u001b[1;33m)\u001b[0m\u001b[1;33m)\u001b[0m\u001b[1;33m\u001b[0m\u001b[1;33m\u001b[0m\u001b[0m\n\u001b[0;32m     13\u001b[0m         \u001b[0mprint\u001b[0m\u001b[1;33m(\u001b[0m\u001b[1;34m\"num:{},cost:{},target={}-{}={},path:{}\"\u001b[0m\u001b[1;33m.\u001b[0m\u001b[0mformat\u001b[0m\u001b[1;33m(\u001b[0m\u001b[0mi\u001b[0m\u001b[1;33m,\u001b[0m\u001b[0mcost\u001b[0m\u001b[1;33m[\u001b[0m\u001b[0mi\u001b[0m\u001b[1;33m-\u001b[0m\u001b[1;36m1\u001b[0m\u001b[1;33m]\u001b[0m\u001b[1;33m,\u001b[0m\u001b[0mtarget\u001b[0m\u001b[1;33m,\u001b[0m\u001b[0mcost\u001b[0m\u001b[1;33m[\u001b[0m\u001b[0mi\u001b[0m\u001b[1;33m-\u001b[0m\u001b[1;36m1\u001b[0m\u001b[1;33m]\u001b[0m\u001b[1;33m,\u001b[0m\u001b[0mtarget\u001b[0m\u001b[1;33m-\u001b[0m\u001b[0mcost\u001b[0m\u001b[1;33m[\u001b[0m\u001b[0mi\u001b[0m\u001b[1;33m-\u001b[0m\u001b[1;36m1\u001b[0m\u001b[1;33m]\u001b[0m\u001b[1;33m,\u001b[0m\u001b[0mpath\u001b[0m\u001b[1;33m)\u001b[0m\u001b[1;33m)\u001b[0m\u001b[1;33m\u001b[0m\u001b[1;33m\u001b[0m\u001b[0m\n\u001b[1;32m---> 14\u001b[1;33m         \u001b[0mbacktrack\u001b[0m\u001b[1;33m(\u001b[0m\u001b[0mcost\u001b[0m\u001b[1;33m,\u001b[0m\u001b[0mtarget\u001b[0m\u001b[1;33m-\u001b[0m\u001b[0mcost\u001b[0m\u001b[1;33m[\u001b[0m\u001b[0mi\u001b[0m\u001b[1;33m-\u001b[0m\u001b[1;36m1\u001b[0m\u001b[1;33m]\u001b[0m\u001b[1;33m,\u001b[0m\u001b[0mpath\u001b[0m\u001b[1;33m)\u001b[0m\u001b[1;33m\u001b[0m\u001b[1;33m\u001b[0m\u001b[0m\n\u001b[0m\u001b[0;32m     15\u001b[0m         \u001b[0mprint\u001b[0m\u001b[1;33m(\u001b[0m\u001b[1;34m\"跳出dfs\"\u001b[0m\u001b[1;33m)\u001b[0m\u001b[1;33m\u001b[0m\u001b[1;33m\u001b[0m\u001b[0m\n\u001b[0;32m     16\u001b[0m         \u001b[0mpath\u001b[0m\u001b[1;33m.\u001b[0m\u001b[0mpop\u001b[0m\u001b[1;33m(\u001b[0m\u001b[1;33m)\u001b[0m\u001b[1;33m\u001b[0m\u001b[1;33m\u001b[0m\u001b[0m\n",
      "\u001b[1;32m<ipython-input-105-bc61ac091f19>\u001b[0m in \u001b[0;36mbacktrack\u001b[1;34m(cost, target, path)\u001b[0m\n\u001b[0;32m     12\u001b[0m         \u001b[0mpath\u001b[0m\u001b[1;33m.\u001b[0m\u001b[0mappend\u001b[0m\u001b[1;33m(\u001b[0m\u001b[0mstr\u001b[0m\u001b[1;33m(\u001b[0m\u001b[0mi\u001b[0m\u001b[1;33m)\u001b[0m\u001b[1;33m)\u001b[0m\u001b[1;33m\u001b[0m\u001b[1;33m\u001b[0m\u001b[0m\n\u001b[0;32m     13\u001b[0m         \u001b[0mprint\u001b[0m\u001b[1;33m(\u001b[0m\u001b[1;34m\"num:{},cost:{},target={}-{}={},path:{}\"\u001b[0m\u001b[1;33m.\u001b[0m\u001b[0mformat\u001b[0m\u001b[1;33m(\u001b[0m\u001b[0mi\u001b[0m\u001b[1;33m,\u001b[0m\u001b[0mcost\u001b[0m\u001b[1;33m[\u001b[0m\u001b[0mi\u001b[0m\u001b[1;33m-\u001b[0m\u001b[1;36m1\u001b[0m\u001b[1;33m]\u001b[0m\u001b[1;33m,\u001b[0m\u001b[0mtarget\u001b[0m\u001b[1;33m,\u001b[0m\u001b[0mcost\u001b[0m\u001b[1;33m[\u001b[0m\u001b[0mi\u001b[0m\u001b[1;33m-\u001b[0m\u001b[1;36m1\u001b[0m\u001b[1;33m]\u001b[0m\u001b[1;33m,\u001b[0m\u001b[0mtarget\u001b[0m\u001b[1;33m-\u001b[0m\u001b[0mcost\u001b[0m\u001b[1;33m[\u001b[0m\u001b[0mi\u001b[0m\u001b[1;33m-\u001b[0m\u001b[1;36m1\u001b[0m\u001b[1;33m]\u001b[0m\u001b[1;33m,\u001b[0m\u001b[0mpath\u001b[0m\u001b[1;33m)\u001b[0m\u001b[1;33m)\u001b[0m\u001b[1;33m\u001b[0m\u001b[1;33m\u001b[0m\u001b[0m\n\u001b[1;32m---> 14\u001b[1;33m         \u001b[0mbacktrack\u001b[0m\u001b[1;33m(\u001b[0m\u001b[0mcost\u001b[0m\u001b[1;33m,\u001b[0m\u001b[0mtarget\u001b[0m\u001b[1;33m-\u001b[0m\u001b[0mcost\u001b[0m\u001b[1;33m[\u001b[0m\u001b[0mi\u001b[0m\u001b[1;33m-\u001b[0m\u001b[1;36m1\u001b[0m\u001b[1;33m]\u001b[0m\u001b[1;33m,\u001b[0m\u001b[0mpath\u001b[0m\u001b[1;33m)\u001b[0m\u001b[1;33m\u001b[0m\u001b[1;33m\u001b[0m\u001b[0m\n\u001b[0m\u001b[0;32m     15\u001b[0m         \u001b[0mprint\u001b[0m\u001b[1;33m(\u001b[0m\u001b[1;34m\"跳出dfs\"\u001b[0m\u001b[1;33m)\u001b[0m\u001b[1;33m\u001b[0m\u001b[1;33m\u001b[0m\u001b[0m\n\u001b[0;32m     16\u001b[0m         \u001b[0mpath\u001b[0m\u001b[1;33m.\u001b[0m\u001b[0mpop\u001b[0m\u001b[1;33m(\u001b[0m\u001b[1;33m)\u001b[0m\u001b[1;33m\u001b[0m\u001b[1;33m\u001b[0m\u001b[0m\n",
      "\u001b[1;32m<ipython-input-105-bc61ac091f19>\u001b[0m in \u001b[0;36mbacktrack\u001b[1;34m(cost, target, path)\u001b[0m\n\u001b[0;32m     12\u001b[0m         \u001b[0mpath\u001b[0m\u001b[1;33m.\u001b[0m\u001b[0mappend\u001b[0m\u001b[1;33m(\u001b[0m\u001b[0mstr\u001b[0m\u001b[1;33m(\u001b[0m\u001b[0mi\u001b[0m\u001b[1;33m)\u001b[0m\u001b[1;33m)\u001b[0m\u001b[1;33m\u001b[0m\u001b[1;33m\u001b[0m\u001b[0m\n\u001b[0;32m     13\u001b[0m         \u001b[0mprint\u001b[0m\u001b[1;33m(\u001b[0m\u001b[1;34m\"num:{},cost:{},target={}-{}={},path:{}\"\u001b[0m\u001b[1;33m.\u001b[0m\u001b[0mformat\u001b[0m\u001b[1;33m(\u001b[0m\u001b[0mi\u001b[0m\u001b[1;33m,\u001b[0m\u001b[0mcost\u001b[0m\u001b[1;33m[\u001b[0m\u001b[0mi\u001b[0m\u001b[1;33m-\u001b[0m\u001b[1;36m1\u001b[0m\u001b[1;33m]\u001b[0m\u001b[1;33m,\u001b[0m\u001b[0mtarget\u001b[0m\u001b[1;33m,\u001b[0m\u001b[0mcost\u001b[0m\u001b[1;33m[\u001b[0m\u001b[0mi\u001b[0m\u001b[1;33m-\u001b[0m\u001b[1;36m1\u001b[0m\u001b[1;33m]\u001b[0m\u001b[1;33m,\u001b[0m\u001b[0mtarget\u001b[0m\u001b[1;33m-\u001b[0m\u001b[0mcost\u001b[0m\u001b[1;33m[\u001b[0m\u001b[0mi\u001b[0m\u001b[1;33m-\u001b[0m\u001b[1;36m1\u001b[0m\u001b[1;33m]\u001b[0m\u001b[1;33m,\u001b[0m\u001b[0mpath\u001b[0m\u001b[1;33m)\u001b[0m\u001b[1;33m)\u001b[0m\u001b[1;33m\u001b[0m\u001b[1;33m\u001b[0m\u001b[0m\n\u001b[1;32m---> 14\u001b[1;33m         \u001b[0mbacktrack\u001b[0m\u001b[1;33m(\u001b[0m\u001b[0mcost\u001b[0m\u001b[1;33m,\u001b[0m\u001b[0mtarget\u001b[0m\u001b[1;33m-\u001b[0m\u001b[0mcost\u001b[0m\u001b[1;33m[\u001b[0m\u001b[0mi\u001b[0m\u001b[1;33m-\u001b[0m\u001b[1;36m1\u001b[0m\u001b[1;33m]\u001b[0m\u001b[1;33m,\u001b[0m\u001b[0mpath\u001b[0m\u001b[1;33m)\u001b[0m\u001b[1;33m\u001b[0m\u001b[1;33m\u001b[0m\u001b[0m\n\u001b[0m\u001b[0;32m     15\u001b[0m         \u001b[0mprint\u001b[0m\u001b[1;33m(\u001b[0m\u001b[1;34m\"跳出dfs\"\u001b[0m\u001b[1;33m)\u001b[0m\u001b[1;33m\u001b[0m\u001b[1;33m\u001b[0m\u001b[0m\n\u001b[0;32m     16\u001b[0m         \u001b[0mpath\u001b[0m\u001b[1;33m.\u001b[0m\u001b[0mpop\u001b[0m\u001b[1;33m(\u001b[0m\u001b[1;33m)\u001b[0m\u001b[1;33m\u001b[0m\u001b[1;33m\u001b[0m\u001b[0m\n",
      "\u001b[1;32m<ipython-input-105-bc61ac091f19>\u001b[0m in \u001b[0;36mbacktrack\u001b[1;34m(cost, target, path)\u001b[0m\n\u001b[0;32m     12\u001b[0m         \u001b[0mpath\u001b[0m\u001b[1;33m.\u001b[0m\u001b[0mappend\u001b[0m\u001b[1;33m(\u001b[0m\u001b[0mstr\u001b[0m\u001b[1;33m(\u001b[0m\u001b[0mi\u001b[0m\u001b[1;33m)\u001b[0m\u001b[1;33m)\u001b[0m\u001b[1;33m\u001b[0m\u001b[1;33m\u001b[0m\u001b[0m\n\u001b[0;32m     13\u001b[0m         \u001b[0mprint\u001b[0m\u001b[1;33m(\u001b[0m\u001b[1;34m\"num:{},cost:{},target={}-{}={},path:{}\"\u001b[0m\u001b[1;33m.\u001b[0m\u001b[0mformat\u001b[0m\u001b[1;33m(\u001b[0m\u001b[0mi\u001b[0m\u001b[1;33m,\u001b[0m\u001b[0mcost\u001b[0m\u001b[1;33m[\u001b[0m\u001b[0mi\u001b[0m\u001b[1;33m-\u001b[0m\u001b[1;36m1\u001b[0m\u001b[1;33m]\u001b[0m\u001b[1;33m,\u001b[0m\u001b[0mtarget\u001b[0m\u001b[1;33m,\u001b[0m\u001b[0mcost\u001b[0m\u001b[1;33m[\u001b[0m\u001b[0mi\u001b[0m\u001b[1;33m-\u001b[0m\u001b[1;36m1\u001b[0m\u001b[1;33m]\u001b[0m\u001b[1;33m,\u001b[0m\u001b[0mtarget\u001b[0m\u001b[1;33m-\u001b[0m\u001b[0mcost\u001b[0m\u001b[1;33m[\u001b[0m\u001b[0mi\u001b[0m\u001b[1;33m-\u001b[0m\u001b[1;36m1\u001b[0m\u001b[1;33m]\u001b[0m\u001b[1;33m,\u001b[0m\u001b[0mpath\u001b[0m\u001b[1;33m)\u001b[0m\u001b[1;33m)\u001b[0m\u001b[1;33m\u001b[0m\u001b[1;33m\u001b[0m\u001b[0m\n\u001b[1;32m---> 14\u001b[1;33m         \u001b[0mbacktrack\u001b[0m\u001b[1;33m(\u001b[0m\u001b[0mcost\u001b[0m\u001b[1;33m,\u001b[0m\u001b[0mtarget\u001b[0m\u001b[1;33m-\u001b[0m\u001b[0mcost\u001b[0m\u001b[1;33m[\u001b[0m\u001b[0mi\u001b[0m\u001b[1;33m-\u001b[0m\u001b[1;36m1\u001b[0m\u001b[1;33m]\u001b[0m\u001b[1;33m,\u001b[0m\u001b[0mpath\u001b[0m\u001b[1;33m)\u001b[0m\u001b[1;33m\u001b[0m\u001b[1;33m\u001b[0m\u001b[0m\n\u001b[0m\u001b[0;32m     15\u001b[0m         \u001b[0mprint\u001b[0m\u001b[1;33m(\u001b[0m\u001b[1;34m\"跳出dfs\"\u001b[0m\u001b[1;33m)\u001b[0m\u001b[1;33m\u001b[0m\u001b[1;33m\u001b[0m\u001b[0m\n\u001b[0;32m     16\u001b[0m         \u001b[0mpath\u001b[0m\u001b[1;33m.\u001b[0m\u001b[0mpop\u001b[0m\u001b[1;33m(\u001b[0m\u001b[1;33m)\u001b[0m\u001b[1;33m\u001b[0m\u001b[1;33m\u001b[0m\u001b[0m\n",
      "\u001b[1;32m<ipython-input-105-bc61ac091f19>\u001b[0m in \u001b[0;36mbacktrack\u001b[1;34m(cost, target, path)\u001b[0m\n\u001b[0;32m     12\u001b[0m         \u001b[0mpath\u001b[0m\u001b[1;33m.\u001b[0m\u001b[0mappend\u001b[0m\u001b[1;33m(\u001b[0m\u001b[0mstr\u001b[0m\u001b[1;33m(\u001b[0m\u001b[0mi\u001b[0m\u001b[1;33m)\u001b[0m\u001b[1;33m)\u001b[0m\u001b[1;33m\u001b[0m\u001b[1;33m\u001b[0m\u001b[0m\n\u001b[0;32m     13\u001b[0m         \u001b[0mprint\u001b[0m\u001b[1;33m(\u001b[0m\u001b[1;34m\"num:{},cost:{},target={}-{}={},path:{}\"\u001b[0m\u001b[1;33m.\u001b[0m\u001b[0mformat\u001b[0m\u001b[1;33m(\u001b[0m\u001b[0mi\u001b[0m\u001b[1;33m,\u001b[0m\u001b[0mcost\u001b[0m\u001b[1;33m[\u001b[0m\u001b[0mi\u001b[0m\u001b[1;33m-\u001b[0m\u001b[1;36m1\u001b[0m\u001b[1;33m]\u001b[0m\u001b[1;33m,\u001b[0m\u001b[0mtarget\u001b[0m\u001b[1;33m,\u001b[0m\u001b[0mcost\u001b[0m\u001b[1;33m[\u001b[0m\u001b[0mi\u001b[0m\u001b[1;33m-\u001b[0m\u001b[1;36m1\u001b[0m\u001b[1;33m]\u001b[0m\u001b[1;33m,\u001b[0m\u001b[0mtarget\u001b[0m\u001b[1;33m-\u001b[0m\u001b[0mcost\u001b[0m\u001b[1;33m[\u001b[0m\u001b[0mi\u001b[0m\u001b[1;33m-\u001b[0m\u001b[1;36m1\u001b[0m\u001b[1;33m]\u001b[0m\u001b[1;33m,\u001b[0m\u001b[0mpath\u001b[0m\u001b[1;33m)\u001b[0m\u001b[1;33m)\u001b[0m\u001b[1;33m\u001b[0m\u001b[1;33m\u001b[0m\u001b[0m\n\u001b[1;32m---> 14\u001b[1;33m         \u001b[0mbacktrack\u001b[0m\u001b[1;33m(\u001b[0m\u001b[0mcost\u001b[0m\u001b[1;33m,\u001b[0m\u001b[0mtarget\u001b[0m\u001b[1;33m-\u001b[0m\u001b[0mcost\u001b[0m\u001b[1;33m[\u001b[0m\u001b[0mi\u001b[0m\u001b[1;33m-\u001b[0m\u001b[1;36m1\u001b[0m\u001b[1;33m]\u001b[0m\u001b[1;33m,\u001b[0m\u001b[0mpath\u001b[0m\u001b[1;33m)\u001b[0m\u001b[1;33m\u001b[0m\u001b[1;33m\u001b[0m\u001b[0m\n\u001b[0m\u001b[0;32m     15\u001b[0m         \u001b[0mprint\u001b[0m\u001b[1;33m(\u001b[0m\u001b[1;34m\"跳出dfs\"\u001b[0m\u001b[1;33m)\u001b[0m\u001b[1;33m\u001b[0m\u001b[1;33m\u001b[0m\u001b[0m\n\u001b[0;32m     16\u001b[0m         \u001b[0mpath\u001b[0m\u001b[1;33m.\u001b[0m\u001b[0mpop\u001b[0m\u001b[1;33m(\u001b[0m\u001b[1;33m)\u001b[0m\u001b[1;33m\u001b[0m\u001b[1;33m\u001b[0m\u001b[0m\n",
      "\u001b[1;32m<ipython-input-105-bc61ac091f19>\u001b[0m in \u001b[0;36mbacktrack\u001b[1;34m(cost, target, path)\u001b[0m\n\u001b[0;32m     12\u001b[0m         \u001b[0mpath\u001b[0m\u001b[1;33m.\u001b[0m\u001b[0mappend\u001b[0m\u001b[1;33m(\u001b[0m\u001b[0mstr\u001b[0m\u001b[1;33m(\u001b[0m\u001b[0mi\u001b[0m\u001b[1;33m)\u001b[0m\u001b[1;33m)\u001b[0m\u001b[1;33m\u001b[0m\u001b[1;33m\u001b[0m\u001b[0m\n\u001b[0;32m     13\u001b[0m         \u001b[0mprint\u001b[0m\u001b[1;33m(\u001b[0m\u001b[1;34m\"num:{},cost:{},target={}-{}={},path:{}\"\u001b[0m\u001b[1;33m.\u001b[0m\u001b[0mformat\u001b[0m\u001b[1;33m(\u001b[0m\u001b[0mi\u001b[0m\u001b[1;33m,\u001b[0m\u001b[0mcost\u001b[0m\u001b[1;33m[\u001b[0m\u001b[0mi\u001b[0m\u001b[1;33m-\u001b[0m\u001b[1;36m1\u001b[0m\u001b[1;33m]\u001b[0m\u001b[1;33m,\u001b[0m\u001b[0mtarget\u001b[0m\u001b[1;33m,\u001b[0m\u001b[0mcost\u001b[0m\u001b[1;33m[\u001b[0m\u001b[0mi\u001b[0m\u001b[1;33m-\u001b[0m\u001b[1;36m1\u001b[0m\u001b[1;33m]\u001b[0m\u001b[1;33m,\u001b[0m\u001b[0mtarget\u001b[0m\u001b[1;33m-\u001b[0m\u001b[0mcost\u001b[0m\u001b[1;33m[\u001b[0m\u001b[0mi\u001b[0m\u001b[1;33m-\u001b[0m\u001b[1;36m1\u001b[0m\u001b[1;33m]\u001b[0m\u001b[1;33m,\u001b[0m\u001b[0mpath\u001b[0m\u001b[1;33m)\u001b[0m\u001b[1;33m)\u001b[0m\u001b[1;33m\u001b[0m\u001b[1;33m\u001b[0m\u001b[0m\n\u001b[1;32m---> 14\u001b[1;33m         \u001b[0mbacktrack\u001b[0m\u001b[1;33m(\u001b[0m\u001b[0mcost\u001b[0m\u001b[1;33m,\u001b[0m\u001b[0mtarget\u001b[0m\u001b[1;33m-\u001b[0m\u001b[0mcost\u001b[0m\u001b[1;33m[\u001b[0m\u001b[0mi\u001b[0m\u001b[1;33m-\u001b[0m\u001b[1;36m1\u001b[0m\u001b[1;33m]\u001b[0m\u001b[1;33m,\u001b[0m\u001b[0mpath\u001b[0m\u001b[1;33m)\u001b[0m\u001b[1;33m\u001b[0m\u001b[1;33m\u001b[0m\u001b[0m\n\u001b[0m\u001b[0;32m     15\u001b[0m         \u001b[0mprint\u001b[0m\u001b[1;33m(\u001b[0m\u001b[1;34m\"跳出dfs\"\u001b[0m\u001b[1;33m)\u001b[0m\u001b[1;33m\u001b[0m\u001b[1;33m\u001b[0m\u001b[0m\n\u001b[0;32m     16\u001b[0m         \u001b[0mpath\u001b[0m\u001b[1;33m.\u001b[0m\u001b[0mpop\u001b[0m\u001b[1;33m(\u001b[0m\u001b[1;33m)\u001b[0m\u001b[1;33m\u001b[0m\u001b[1;33m\u001b[0m\u001b[0m\n",
      "\u001b[1;32m<ipython-input-105-bc61ac091f19>\u001b[0m in \u001b[0;36mbacktrack\u001b[1;34m(cost, target, path)\u001b[0m\n\u001b[0;32m     12\u001b[0m         \u001b[0mpath\u001b[0m\u001b[1;33m.\u001b[0m\u001b[0mappend\u001b[0m\u001b[1;33m(\u001b[0m\u001b[0mstr\u001b[0m\u001b[1;33m(\u001b[0m\u001b[0mi\u001b[0m\u001b[1;33m)\u001b[0m\u001b[1;33m)\u001b[0m\u001b[1;33m\u001b[0m\u001b[1;33m\u001b[0m\u001b[0m\n\u001b[0;32m     13\u001b[0m         \u001b[0mprint\u001b[0m\u001b[1;33m(\u001b[0m\u001b[1;34m\"num:{},cost:{},target={}-{}={},path:{}\"\u001b[0m\u001b[1;33m.\u001b[0m\u001b[0mformat\u001b[0m\u001b[1;33m(\u001b[0m\u001b[0mi\u001b[0m\u001b[1;33m,\u001b[0m\u001b[0mcost\u001b[0m\u001b[1;33m[\u001b[0m\u001b[0mi\u001b[0m\u001b[1;33m-\u001b[0m\u001b[1;36m1\u001b[0m\u001b[1;33m]\u001b[0m\u001b[1;33m,\u001b[0m\u001b[0mtarget\u001b[0m\u001b[1;33m,\u001b[0m\u001b[0mcost\u001b[0m\u001b[1;33m[\u001b[0m\u001b[0mi\u001b[0m\u001b[1;33m-\u001b[0m\u001b[1;36m1\u001b[0m\u001b[1;33m]\u001b[0m\u001b[1;33m,\u001b[0m\u001b[0mtarget\u001b[0m\u001b[1;33m-\u001b[0m\u001b[0mcost\u001b[0m\u001b[1;33m[\u001b[0m\u001b[0mi\u001b[0m\u001b[1;33m-\u001b[0m\u001b[1;36m1\u001b[0m\u001b[1;33m]\u001b[0m\u001b[1;33m,\u001b[0m\u001b[0mpath\u001b[0m\u001b[1;33m)\u001b[0m\u001b[1;33m)\u001b[0m\u001b[1;33m\u001b[0m\u001b[1;33m\u001b[0m\u001b[0m\n\u001b[1;32m---> 14\u001b[1;33m         \u001b[0mbacktrack\u001b[0m\u001b[1;33m(\u001b[0m\u001b[0mcost\u001b[0m\u001b[1;33m,\u001b[0m\u001b[0mtarget\u001b[0m\u001b[1;33m-\u001b[0m\u001b[0mcost\u001b[0m\u001b[1;33m[\u001b[0m\u001b[0mi\u001b[0m\u001b[1;33m-\u001b[0m\u001b[1;36m1\u001b[0m\u001b[1;33m]\u001b[0m\u001b[1;33m,\u001b[0m\u001b[0mpath\u001b[0m\u001b[1;33m)\u001b[0m\u001b[1;33m\u001b[0m\u001b[1;33m\u001b[0m\u001b[0m\n\u001b[0m\u001b[0;32m     15\u001b[0m         \u001b[0mprint\u001b[0m\u001b[1;33m(\u001b[0m\u001b[1;34m\"跳出dfs\"\u001b[0m\u001b[1;33m)\u001b[0m\u001b[1;33m\u001b[0m\u001b[1;33m\u001b[0m\u001b[0m\n\u001b[0;32m     16\u001b[0m         \u001b[0mpath\u001b[0m\u001b[1;33m.\u001b[0m\u001b[0mpop\u001b[0m\u001b[1;33m(\u001b[0m\u001b[1;33m)\u001b[0m\u001b[1;33m\u001b[0m\u001b[1;33m\u001b[0m\u001b[0m\n",
      "\u001b[1;32m<ipython-input-105-bc61ac091f19>\u001b[0m in \u001b[0;36mbacktrack\u001b[1;34m(cost, target, path)\u001b[0m\n\u001b[0;32m     13\u001b[0m         \u001b[0mprint\u001b[0m\u001b[1;33m(\u001b[0m\u001b[1;34m\"num:{},cost:{},target={}-{}={},path:{}\"\u001b[0m\u001b[1;33m.\u001b[0m\u001b[0mformat\u001b[0m\u001b[1;33m(\u001b[0m\u001b[0mi\u001b[0m\u001b[1;33m,\u001b[0m\u001b[0mcost\u001b[0m\u001b[1;33m[\u001b[0m\u001b[0mi\u001b[0m\u001b[1;33m-\u001b[0m\u001b[1;36m1\u001b[0m\u001b[1;33m]\u001b[0m\u001b[1;33m,\u001b[0m\u001b[0mtarget\u001b[0m\u001b[1;33m,\u001b[0m\u001b[0mcost\u001b[0m\u001b[1;33m[\u001b[0m\u001b[0mi\u001b[0m\u001b[1;33m-\u001b[0m\u001b[1;36m1\u001b[0m\u001b[1;33m]\u001b[0m\u001b[1;33m,\u001b[0m\u001b[0mtarget\u001b[0m\u001b[1;33m-\u001b[0m\u001b[0mcost\u001b[0m\u001b[1;33m[\u001b[0m\u001b[0mi\u001b[0m\u001b[1;33m-\u001b[0m\u001b[1;36m1\u001b[0m\u001b[1;33m]\u001b[0m\u001b[1;33m,\u001b[0m\u001b[0mpath\u001b[0m\u001b[1;33m)\u001b[0m\u001b[1;33m)\u001b[0m\u001b[1;33m\u001b[0m\u001b[1;33m\u001b[0m\u001b[0m\n\u001b[0;32m     14\u001b[0m         \u001b[0mbacktrack\u001b[0m\u001b[1;33m(\u001b[0m\u001b[0mcost\u001b[0m\u001b[1;33m,\u001b[0m\u001b[0mtarget\u001b[0m\u001b[1;33m-\u001b[0m\u001b[0mcost\u001b[0m\u001b[1;33m[\u001b[0m\u001b[0mi\u001b[0m\u001b[1;33m-\u001b[0m\u001b[1;36m1\u001b[0m\u001b[1;33m]\u001b[0m\u001b[1;33m,\u001b[0m\u001b[0mpath\u001b[0m\u001b[1;33m)\u001b[0m\u001b[1;33m\u001b[0m\u001b[1;33m\u001b[0m\u001b[0m\n\u001b[1;32m---> 15\u001b[1;33m         \u001b[0mprint\u001b[0m\u001b[1;33m(\u001b[0m\u001b[1;34m\"跳出dfs\"\u001b[0m\u001b[1;33m)\u001b[0m\u001b[1;33m\u001b[0m\u001b[1;33m\u001b[0m\u001b[0m\n\u001b[0m\u001b[0;32m     16\u001b[0m         \u001b[0mpath\u001b[0m\u001b[1;33m.\u001b[0m\u001b[0mpop\u001b[0m\u001b[1;33m(\u001b[0m\u001b[1;33m)\u001b[0m\u001b[1;33m\u001b[0m\u001b[1;33m\u001b[0m\u001b[0m\n\u001b[0;32m     17\u001b[0m         \u001b[0mprint\u001b[0m\u001b[1;33m(\u001b[0m\u001b[1;34m\"path.pop\"\u001b[0m\u001b[1;33m)\u001b[0m\u001b[1;33m\u001b[0m\u001b[1;33m\u001b[0m\u001b[0m\n",
      "\u001b[1;32mD:\\anaconda\\anaconda3\\envs\\ML\\lib\\site-packages\\ipykernel\\iostream.py\u001b[0m in \u001b[0;36mwrite\u001b[1;34m(self, string)\u001b[0m\n\u001b[0;32m    402\u001b[0m             \u001b[0mis_child\u001b[0m \u001b[1;33m=\u001b[0m \u001b[1;33m(\u001b[0m\u001b[1;32mnot\u001b[0m \u001b[0mself\u001b[0m\u001b[1;33m.\u001b[0m\u001b[0m_is_master_process\u001b[0m\u001b[1;33m(\u001b[0m\u001b[1;33m)\u001b[0m\u001b[1;33m)\u001b[0m\u001b[1;33m\u001b[0m\u001b[1;33m\u001b[0m\u001b[0m\n\u001b[0;32m    403\u001b[0m             \u001b[1;31m# only touch the buffer in the IO thread to avoid races\u001b[0m\u001b[1;33m\u001b[0m\u001b[1;33m\u001b[0m\u001b[1;33m\u001b[0m\u001b[0m\n\u001b[1;32m--> 404\u001b[1;33m             \u001b[0mself\u001b[0m\u001b[1;33m.\u001b[0m\u001b[0mpub_thread\u001b[0m\u001b[1;33m.\u001b[0m\u001b[0mschedule\u001b[0m\u001b[1;33m(\u001b[0m\u001b[1;32mlambda\u001b[0m \u001b[1;33m:\u001b[0m \u001b[0mself\u001b[0m\u001b[1;33m.\u001b[0m\u001b[0m_buffer\u001b[0m\u001b[1;33m.\u001b[0m\u001b[0mwrite\u001b[0m\u001b[1;33m(\u001b[0m\u001b[0mstring\u001b[0m\u001b[1;33m)\u001b[0m\u001b[1;33m)\u001b[0m\u001b[1;33m\u001b[0m\u001b[1;33m\u001b[0m\u001b[0m\n\u001b[0m\u001b[0;32m    405\u001b[0m             \u001b[1;32mif\u001b[0m \u001b[0mis_child\u001b[0m\u001b[1;33m:\u001b[0m\u001b[1;33m\u001b[0m\u001b[1;33m\u001b[0m\u001b[0m\n\u001b[0;32m    406\u001b[0m                 \u001b[1;31m# mp.Pool cannot be trusted to flush promptly (or ever),\u001b[0m\u001b[1;33m\u001b[0m\u001b[1;33m\u001b[0m\u001b[1;33m\u001b[0m\u001b[0m\n",
      "\u001b[1;32mD:\\anaconda\\anaconda3\\envs\\ML\\lib\\site-packages\\ipykernel\\iostream.py\u001b[0m in \u001b[0;36mschedule\u001b[1;34m(self, f)\u001b[0m\n\u001b[0;32m    203\u001b[0m             \u001b[0mself\u001b[0m\u001b[1;33m.\u001b[0m\u001b[0m_events\u001b[0m\u001b[1;33m.\u001b[0m\u001b[0mappend\u001b[0m\u001b[1;33m(\u001b[0m\u001b[0mf\u001b[0m\u001b[1;33m)\u001b[0m\u001b[1;33m\u001b[0m\u001b[1;33m\u001b[0m\u001b[0m\n\u001b[0;32m    204\u001b[0m             \u001b[1;31m# wake event thread (message content is ignored)\u001b[0m\u001b[1;33m\u001b[0m\u001b[1;33m\u001b[0m\u001b[1;33m\u001b[0m\u001b[0m\n\u001b[1;32m--> 205\u001b[1;33m             \u001b[0mself\u001b[0m\u001b[1;33m.\u001b[0m\u001b[0m_event_pipe\u001b[0m\u001b[1;33m.\u001b[0m\u001b[0msend\u001b[0m\u001b[1;33m(\u001b[0m\u001b[1;34mb''\u001b[0m\u001b[1;33m)\u001b[0m\u001b[1;33m\u001b[0m\u001b[1;33m\u001b[0m\u001b[0m\n\u001b[0m\u001b[0;32m    206\u001b[0m         \u001b[1;32melse\u001b[0m\u001b[1;33m:\u001b[0m\u001b[1;33m\u001b[0m\u001b[1;33m\u001b[0m\u001b[0m\n\u001b[0;32m    207\u001b[0m             \u001b[0mf\u001b[0m\u001b[1;33m(\u001b[0m\u001b[1;33m)\u001b[0m\u001b[1;33m\u001b[0m\u001b[1;33m\u001b[0m\u001b[0m\n",
      "\u001b[1;32mD:\\anaconda\\anaconda3\\envs\\ML\\lib\\site-packages\\zmq\\sugar\\socket.py\u001b[0m in \u001b[0;36msend\u001b[1;34m(self, data, flags, copy, track, routing_id, group)\u001b[0m\n\u001b[0;32m    398\u001b[0m                                  copy_threshold=self.copy_threshold)\n\u001b[0;32m    399\u001b[0m             \u001b[0mdata\u001b[0m\u001b[1;33m.\u001b[0m\u001b[0mgroup\u001b[0m \u001b[1;33m=\u001b[0m \u001b[0mgroup\u001b[0m\u001b[1;33m\u001b[0m\u001b[1;33m\u001b[0m\u001b[0m\n\u001b[1;32m--> 400\u001b[1;33m         \u001b[1;32mreturn\u001b[0m \u001b[0msuper\u001b[0m\u001b[1;33m(\u001b[0m\u001b[0mSocket\u001b[0m\u001b[1;33m,\u001b[0m \u001b[0mself\u001b[0m\u001b[1;33m)\u001b[0m\u001b[1;33m.\u001b[0m\u001b[0msend\u001b[0m\u001b[1;33m(\u001b[0m\u001b[0mdata\u001b[0m\u001b[1;33m,\u001b[0m \u001b[0mflags\u001b[0m\u001b[1;33m=\u001b[0m\u001b[0mflags\u001b[0m\u001b[1;33m,\u001b[0m \u001b[0mcopy\u001b[0m\u001b[1;33m=\u001b[0m\u001b[0mcopy\u001b[0m\u001b[1;33m,\u001b[0m \u001b[0mtrack\u001b[0m\u001b[1;33m=\u001b[0m\u001b[0mtrack\u001b[0m\u001b[1;33m)\u001b[0m\u001b[1;33m\u001b[0m\u001b[1;33m\u001b[0m\u001b[0m\n\u001b[0m\u001b[0;32m    401\u001b[0m \u001b[1;33m\u001b[0m\u001b[0m\n\u001b[0;32m    402\u001b[0m     \u001b[1;32mdef\u001b[0m \u001b[0msend_multipart\u001b[0m\u001b[1;33m(\u001b[0m\u001b[0mself\u001b[0m\u001b[1;33m,\u001b[0m \u001b[0mmsg_parts\u001b[0m\u001b[1;33m,\u001b[0m \u001b[0mflags\u001b[0m\u001b[1;33m=\u001b[0m\u001b[1;36m0\u001b[0m\u001b[1;33m,\u001b[0m \u001b[0mcopy\u001b[0m\u001b[1;33m=\u001b[0m\u001b[1;32mTrue\u001b[0m\u001b[1;33m,\u001b[0m \u001b[0mtrack\u001b[0m\u001b[1;33m=\u001b[0m\u001b[1;32mFalse\u001b[0m\u001b[1;33m,\u001b[0m \u001b[1;33m**\u001b[0m\u001b[0mkwargs\u001b[0m\u001b[1;33m)\u001b[0m\u001b[1;33m:\u001b[0m\u001b[1;33m\u001b[0m\u001b[1;33m\u001b[0m\u001b[0m\n",
      "\u001b[1;32mzmq\\backend\\cython\\socket.pyx\u001b[0m in \u001b[0;36mzmq.backend.cython.socket.Socket.send\u001b[1;34m()\u001b[0m\n",
      "\u001b[1;32mzmq\\backend\\cython\\socket.pyx\u001b[0m in \u001b[0;36mzmq.backend.cython.socket.Socket.send\u001b[1;34m()\u001b[0m\n",
      "\u001b[1;32mzmq\\backend\\cython\\socket.pyx\u001b[0m in \u001b[0;36mzmq.backend.cython.socket._send_copy\u001b[1;34m()\u001b[0m\n",
      "\u001b[1;32mD:\\anaconda\\anaconda3\\envs\\ML\\lib\\site-packages\\zmq\\backend\\cython\\checkrc.pxd\u001b[0m in \u001b[0;36mzmq.backend.cython.checkrc._check_rc\u001b[1;34m()\u001b[0m\n",
      "\u001b[1;31mKeyboardInterrupt\u001b[0m: "
     ]
    }
   ],
   "source": [
    "backtrack(cost,target,path)"
   ]
  },
  {
   "cell_type": "code",
   "execution_count": 115,
   "metadata": {},
   "outputs": [
    {
     "output_type": "execute_result",
     "data": {
      "text/plain": [
       "85"
      ]
     },
     "metadata": {},
     "execution_count": 115
    }
   ],
   "source": [
    "max(res)"
   ]
  },
  {
   "cell_type": "code",
   "execution_count": 102,
   "metadata": {},
   "outputs": [],
   "source": [
    "x = '12323'"
   ]
  },
  {
   "cell_type": "code",
   "execution_count": 103,
   "metadata": {},
   "outputs": [
    {
     "output_type": "execute_result",
     "data": {
      "text/plain": [
       "['1', '2', '2', '3', '3']"
      ]
     },
     "metadata": {},
     "execution_count": 103
    }
   ],
   "source": [
    "sorted(x)"
   ]
  },
  {
   "cell_type": "code",
   "execution_count": 53,
   "metadata": {},
   "outputs": [],
   "source": [
    "    def myAtoi(str) :\n",
    "        cur = 1 \n",
    "        state = [{},\n",
    "                 {\"blank\":1,\"digit\":3,\"sign\":2,\"other\":4},\n",
    "                 {\"digit\":3,\"blank\":4,\"sign\":4,\"other\":4},\n",
    "                 {\"digit\":3,\"blank\":4,\"sign\":4,\"other\":4},\n",
    "                 {\"blank\":4,\"digit\":4,\"sign\":4,\"other\":4}]\n",
    "        \n",
    "        ans = ''\n",
    "        sign = 1 \n",
    "        def toChar(c):\n",
    "            if c == \" \":\n",
    "                return \"blank\"\n",
    "            if c in \"+-\": \n",
    "                return \"sign\"\n",
    "            if c.isdigit():\n",
    "                return \"digit\"\n",
    "            return \"other\"\n",
    "        \n",
    "        for c in str:\n",
    "            # print(c)\n",
    "            char = toChar(c)\n",
    "            if char not in state[cur]:\n",
    "                return ans \n",
    "            if not ans and char == \"sign\":\n",
    "                \n",
    "                sign = -1\n",
    "                print(\"cur==1,char:{},ans:{}\".format(c,ans))\n",
    "            if cur != 4:\n",
    "                if char == \"digit\":\n",
    "                    ans += c \n",
    "                    print(\"cur>1,char:{},ans:{}\".format(c,ans))\n",
    "            if cur == 4:\n",
    "                break \n",
    "            cur = state[cur][char]\n",
    "\n",
    "        if len(ans) > 0 and int(ans) > 0x7fffffff:\n",
    "            if sign == -1:\n",
    "                return sign * 0x7fffffff -1 \n",
    "            else:\n",
    "                return sign * 0x7fffffff\n",
    "            print(\"正常,cur==4,char:{},ans:{}\".format(c,ans))\n",
    "        return sign*int(ans)  if ans else 0 \n",
    "            \n"
   ]
  },
  {
   "cell_type": "code",
   "execution_count": 58,
   "metadata": {},
   "outputs": [
    {
     "output_type": "stream",
     "name": "stdout",
     "text": [
      "cur>1,char:4,ans:4\ncur>1,char:2,ans:42\n"
     ]
    },
    {
     "output_type": "execute_result",
     "data": {
      "text/plain": [
       "42"
      ]
     },
     "metadata": {},
     "execution_count": 58
    }
   ],
   "source": [
    "myAtoi(\"42\")"
   ]
  },
  {
   "cell_type": "code",
   "execution_count": 38,
   "metadata": {},
   "outputs": [
    {
     "output_type": "error",
     "ename": "ValueError",
     "evalue": "invalid literal for int() with base 10: ''",
     "traceback": [
      "\u001b[1;31m---------------------------------------------------------------------------\u001b[0m",
      "\u001b[1;31mValueError\u001b[0m                                Traceback (most recent call last)",
      "\u001b[1;32m<ipython-input-38-e4f84bb32d50>\u001b[0m in \u001b[0;36m<module>\u001b[1;34m\u001b[0m\n\u001b[1;32m----> 1\u001b[1;33m \u001b[0mint\u001b[0m\u001b[1;33m(\u001b[0m\u001b[1;34m''\u001b[0m\u001b[1;33m)\u001b[0m\u001b[1;33m\u001b[0m\u001b[1;33m\u001b[0m\u001b[0m\n\u001b[0m",
      "\u001b[1;31mValueError\u001b[0m: invalid literal for int() with base 10: ''"
     ]
    }
   ],
   "source": [
    "int('')"
   ]
  },
  {
   "cell_type": "code",
   "execution_count": 96,
   "metadata": {},
   "outputs": [],
   "source": [
    "    def maxLength(arr): ##常规回溯\n",
    "        \n",
    "        new_arr = [s for s in arr if len(s) == len(set(s))]\n",
    "        ans = 0\n",
    "        def backtrack(new_arr,path):\n",
    "            nonlocal ans \n",
    "            # if len(new_arr) == 0 :\n",
    "            print(\"最终path:{}\".format(path))\n",
    "            ans = max(ans,len(''.join(path)))\n",
    "                \n",
    "            for i in range(len(new_arr)):\n",
    "                print(\"初始path:{}\".format(path))\n",
    "                flag = True \n",
    "                if path:\n",
    "                    print(\"判断path:{},arr[i]:{}\".format(path,new_arr[i]))\n",
    "                    for ch in path:\n",
    "                        for ch2 in new_arr[i]:\n",
    "                            if ch2 in ch:\n",
    "                                flag = False   \n",
    "                        else:\n",
    "                            continue \n",
    "                        break \n",
    "                if flag:\n",
    "                    path.append(new_arr[i])\n",
    "                    print(\"path append:{}\".format(path))\n",
    "                    backtrack(new_arr[i+1:],path)\n",
    "                    print(\"path continue:{}\".format(path))\n",
    "                    path.pop() \n",
    "                    print(\"path pop:{}\".format(path))\n",
    "        backtrack(new_arr,[])\n",
    "        return ans "
   ]
  },
  {
   "cell_type": "code",
   "execution_count": 101,
   "metadata": {},
   "outputs": [],
   "source": [
    "arr = [\"ab\",\"ba\",\"cd\",\"dc\",\"ef\",\"fe\",\"gh\",\"hg\",\"ij\",\"ji\",\"kl\",\"lk\",\"mn\",\"nm\",\"op\",\"po\"]"
   ]
  },
  {
   "cell_type": "code",
   "execution_count": 105,
   "metadata": {},
   "outputs": [],
   "source": [
    "def readBinaryWatch(num):\n",
    "    \n",
    "    res = [] \n",
    "    path = []\n",
    "    visited = [0] * 10 \n",
    "    def backtrack(path):\n",
    "        if len(path) == num:\n",
    "            hour,minute = 0,0 \n",
    "            for i in path:\n",
    "                if i < 4:\n",
    "                    hour += 2 ** (3-i)\n",
    "                else:\n",
    "                    minute += 2 **(9 - i)\n",
    "                \n",
    "            hour = str(hour) if 0 <= hour <= 11 else None \n",
    "            if minute < 59 and minute >= 0:\n",
    "                if minute < 10:\n",
    "                    minute = \"0\" + str(minute)\n",
    "                else:\n",
    "                    minute = str(minute)\n",
    "            else:\n",
    "                minute = None \n",
    "            if hour and minute:\n",
    "                time = hour + \":\" + minute \n",
    "                res.append(time)\n",
    "\n",
    "        for idx in range(10):\n",
    "            if visited[idx]:\n",
    "                continue \n",
    "            path.append(idx)\n",
    "            visited[idx] = True \n",
    "            backtrack(path)\n",
    "            path.pop()\n",
    "            visited[idx] = False \n",
    "    backtrack(path)\n",
    "    return res "
   ]
  },
  {
   "cell_type": "code",
   "execution_count": 107,
   "metadata": {},
   "outputs": [
    {
     "output_type": "execute_result",
     "data": {
      "text/plain": [
       "['8:00',\n",
       " '4:00',\n",
       " '2:00',\n",
       " '1:00',\n",
       " '0:32',\n",
       " '0:16',\n",
       " '0:08',\n",
       " '0:04',\n",
       " '0:02',\n",
       " '0:01']"
      ]
     },
     "metadata": {},
     "execution_count": 107
    }
   ],
   "source": [
    "readBinaryWatch(1)"
   ]
  },
  {
   "cell_type": "code",
   "execution_count": 194,
   "metadata": {},
   "outputs": [],
   "source": [
    "res = []"
   ]
  },
  {
   "cell_type": "code",
   "execution_count": 214,
   "metadata": {},
   "outputs": [],
   "source": [
    "\n",
    "    \n",
    "        "
   ]
  },
  {
   "cell_type": "code",
   "execution_count": 215,
   "metadata": {
    "tags": []
   },
   "outputs": [
    {
     "output_type": "stream",
     "name": "stdout",
     "text": [
      "cur:a\ncur:b\nnex:['a']\nitem:a\ncur:a\nnex:['b']\nitem:b\nnex:['ba', 'ab']\nitem:ba\nitem:ab\ncur:b\ncur:a\nnex:['a']\nitem:a\ncur:a\nnex:['a']\nitem:a\nnex:['aa', 'aa']\nitem:aa\nitem:aa\ncur:a\ncur:a\nnex:['b']\nitem:b\ncur:b\nnex:['a']\nitem:a\nnex:['ab', 'ba']\nitem:ab\nitem:ba\n"
     ]
    },
    {
     "output_type": "execute_result",
     "data": {
      "text/plain": [
       "['aba', 'aab', 'baa', 'baa', 'aab', 'aba']"
      ]
     },
     "metadata": {},
     "execution_count": 215
    }
   ],
   "source": [
    "permutation3(\"aba\")"
   ]
  },
  {
   "cell_type": "code",
   "execution_count": 186,
   "metadata": {},
   "outputs": [
    {
     "output_type": "execute_result",
     "data": {
      "text/plain": [
       "['bc', 'cb']"
      ]
     },
     "metadata": {},
     "execution_count": 186
    }
   ],
   "source": [
    "res"
   ]
  },
  {
   "cell_type": "code",
   "execution_count": 245,
   "metadata": {},
   "outputs": [],
   "source": [
    "def permutation(s,count):\n",
    "    if not s:\n",
    "        return [s]\n",
    "    res = []\n",
    "    for i in range(len(s)):\n",
    "        cur = s[i]\n",
    "        print(\"递归到:cur:{},进入第{}层递归\".format(cur,count))\n",
    "        nex =  permutation(s[:i]+s[i+1:],count+1)\n",
    "        print(\"第{}层递归,cur:{},nex:{}\".format(count,cur,nex))\n",
    "        for item in nex:\n",
    "            print(\"第{}层递归,进入cur:{}循环,item:{},cur+item:{}\".format(count,cur,item,cur+item))\n",
    "            res.append(cur+item)\n",
    "        print(f'cur:{cur},跳出nex:{nex}循环，结果是:res:{res}')\n",
    "    print(f'跳出第{count}层递归:cur:{cur}递归完毕，结果是:res:{res}')\n",
    "    return res "
   ]
  },
  {
   "cell_type": "code",
   "execution_count": 246,
   "metadata": {},
   "outputs": [
    {
     "output_type": "stream",
     "name": "stdout",
     "text": [
      "递归到:cur:a,进入第0层递归\n递归到:cur:b,进入第1层递归\n递归到:cur:c,进入第2层递归\n第2层递归,cur:c,nex:['']\n第2层递归,进入cur:c循环,item:,cur+item:c\ncur:c,跳出nex:['']循环，结果是:res:['c']\n跳出第2层递归:cur:c递归完毕，结果是:res:['c']\n第1层递归,cur:b,nex:['c']\n第1层递归,进入cur:b循环,item:c,cur+item:bc\ncur:b,跳出nex:['c']循环，结果是:res:['bc']\n递归到:cur:c,进入第1层递归\n递归到:cur:b,进入第2层递归\n第2层递归,cur:b,nex:['']\n第2层递归,进入cur:b循环,item:,cur+item:b\ncur:b,跳出nex:['']循环，结果是:res:['b']\n跳出第2层递归:cur:b递归完毕，结果是:res:['b']\n第1层递归,cur:c,nex:['b']\n第1层递归,进入cur:c循环,item:b,cur+item:cb\ncur:c,跳出nex:['b']循环，结果是:res:['bc', 'cb']\n跳出第1层递归:cur:c递归完毕，结果是:res:['bc', 'cb']\n第0层递归,cur:a,nex:['bc', 'cb']\n第0层递归,进入cur:a循环,item:bc,cur+item:abc\n第0层递归,进入cur:a循环,item:cb,cur+item:acb\ncur:a,跳出nex:['bc', 'cb']循环，结果是:res:['abc', 'acb']\n递归到:cur:b,进入第0层递归\n递归到:cur:a,进入第1层递归\n递归到:cur:c,进入第2层递归\n第2层递归,cur:c,nex:['']\n第2层递归,进入cur:c循环,item:,cur+item:c\ncur:c,跳出nex:['']循环，结果是:res:['c']\n跳出第2层递归:cur:c递归完毕，结果是:res:['c']\n第1层递归,cur:a,nex:['c']\n第1层递归,进入cur:a循环,item:c,cur+item:ac\ncur:a,跳出nex:['c']循环，结果是:res:['ac']\n递归到:cur:c,进入第1层递归\n递归到:cur:a,进入第2层递归\n第2层递归,cur:a,nex:['']\n第2层递归,进入cur:a循环,item:,cur+item:a\ncur:a,跳出nex:['']循环，结果是:res:['a']\n跳出第2层递归:cur:a递归完毕，结果是:res:['a']\n第1层递归,cur:c,nex:['a']\n第1层递归,进入cur:c循环,item:a,cur+item:ca\ncur:c,跳出nex:['a']循环，结果是:res:['ac', 'ca']\n跳出第1层递归:cur:c递归完毕，结果是:res:['ac', 'ca']\n第0层递归,cur:b,nex:['ac', 'ca']\n第0层递归,进入cur:b循环,item:ac,cur+item:bac\n第0层递归,进入cur:b循环,item:ca,cur+item:bca\ncur:b,跳出nex:['ac', 'ca']循环，结果是:res:['abc', 'acb', 'bac', 'bca']\n递归到:cur:c,进入第0层递归\n递归到:cur:a,进入第1层递归\n递归到:cur:b,进入第2层递归\n第2层递归,cur:b,nex:['']\n第2层递归,进入cur:b循环,item:,cur+item:b\ncur:b,跳出nex:['']循环，结果是:res:['b']\n跳出第2层递归:cur:b递归完毕，结果是:res:['b']\n第1层递归,cur:a,nex:['b']\n第1层递归,进入cur:a循环,item:b,cur+item:ab\ncur:a,跳出nex:['b']循环，结果是:res:['ab']\n递归到:cur:b,进入第1层递归\n递归到:cur:a,进入第2层递归\n第2层递归,cur:a,nex:['']\n第2层递归,进入cur:a循环,item:,cur+item:a\ncur:a,跳出nex:['']循环，结果是:res:['a']\n跳出第2层递归:cur:a递归完毕，结果是:res:['a']\n第1层递归,cur:b,nex:['a']\n第1层递归,进入cur:b循环,item:a,cur+item:ba\ncur:b,跳出nex:['a']循环，结果是:res:['ab', 'ba']\n跳出第1层递归:cur:b递归完毕，结果是:res:['ab', 'ba']\n第0层递归,cur:c,nex:['ab', 'ba']\n第0层递归,进入cur:c循环,item:ab,cur+item:cab\n第0层递归,进入cur:c循环,item:ba,cur+item:cba\ncur:c,跳出nex:['ab', 'ba']循环，结果是:res:['abc', 'acb', 'bac', 'bca', 'cab', 'cba']\n跳出第0层递归:cur:c递归完毕，结果是:res:['abc', 'acb', 'bac', 'bca', 'cab', 'cba']\n"
     ]
    },
    {
     "output_type": "execute_result",
     "data": {
      "text/plain": [
       "['abc', 'acb', 'bac', 'bca', 'cab', 'cba']"
      ]
     },
     "metadata": {},
     "execution_count": 246
    }
   ],
   "source": [
    "permutation(\"abc\",0)"
   ]
  },
  {
   "cell_type": "code",
   "execution_count": 1,
   "metadata": {},
   "outputs": [],
   "source": [
    "    def openLock(deadends, target) :\n",
    "        start = '0000' \n",
    "        if start == target:\n",
    "            return 0 #\n",
    "        if start in deadends:\n",
    "            return -1 \n",
    "        \n",
    "        def update(s):\n",
    "            nxt = set()\n",
    "            for i,c in enumerate(s):\n",
    "                nxt.add(s[:i]+str((int(c) + 1)%10) + s[i+1:])         \n",
    "                \n",
    "                nxt.add(s[:i]+str((int(c)-1)%10) + s[i+1:])          \n",
    "            return nxt \n",
    "        \n",
    "        front =[start]\n",
    "        back = [target]\n",
    "        visited = set()\n",
    "        step = 0 \n",
    "        while front and back:\n",
    "            nxt_level = set()\n",
    "            # print(f'front:{front},back:{back}')\n",
    "            if len(front) > len(back):\n",
    "                front,back = back,front\n",
    "            for cur in front:\n",
    "                if cur in deadends:\n",
    "                    continue \n",
    "                if cur in back:\n",
    "                    print(\"找到\")\n",
    "                    return step \n",
    "                nxts = update(cur)\n",
    "                for nxt in nxts:\n",
    "                    if nxt not in visited:\n",
    "                        nxt_level.add(nxt)\n",
    "                        visited.add(nxt)\n",
    "            front = nxt_level\n",
    "            print(f'{nxt_level}')\n",
    "            step += 1 \n",
    "        return -1 "
   ]
  },
  {
   "cell_type": "code",
   "execution_count": 2,
   "metadata": {},
   "outputs": [],
   "source": [
    "deadends = [\"0201\",\"0101\",\"0102\",\"1212\",\"2002\"]\n",
    "target = \"0099\""
   ]
  },
  {
   "cell_type": "code",
   "execution_count": 67,
   "metadata": {},
   "outputs": [],
   "source": [
    "def openLock(deadands,target):\n",
    "    s = '0000'\n",
    "    if s in target:\n",
    "        return 0 \n",
    "    if s in deadands:\n",
    "        return -1 \n",
    "\n",
    "    # def plus(s,i):\n",
    "    #     s = list(s)\n",
    "    #     if s[i] == '9':\n",
    "    #         s[i] == '0'\n",
    "    #     else:\n",
    "    #         s[i] = str(int(s[i])+1)\n",
    "    #     return ''.join(s)\n",
    "\n",
    "    # def minus(s,i):\n",
    "    #     s = list(s)\n",
    "    #     if s[i] == \"0\":\n",
    "    #         s[i] = \"9\"\n",
    "    #     else:\n",
    "    #         s[i] = str(int(s[i])-1)\n",
    "    #     return ''.join(s)\n",
    "\n",
    "    def update(s,visited):\n",
    "        nex_level = []\n",
    "        for i,c in enumerate(s):\n",
    "            up = s[:i] + str((int(c) + 1)%10) + s[i+1:]\n",
    "            if up not in visited:\n",
    "                nex_level.append(up)\n",
    "            down = s[:i] + str((int(c)-1)%10) + s[i+1:]\n",
    "            if down not in visited:\n",
    "                nex_level.append(down)\n",
    "        return nex_level \n",
    "\n",
    "\n",
    "    q1 = [s]\n",
    "    q2 = [target]\n",
    "    visited = set()\n",
    "    step = 0\n",
    "    while q1 and q2:\n",
    "        next_level = []\n",
    "        if len(q1) > len(q2):\n",
    "            q1,q2 = q2,q1 \n",
    "        for cur in q1:\n",
    "            if cur in deadands:\n",
    "                continue \n",
    "            if cur in q2:\n",
    "                return step \n",
    "            visited.add(cur)\n",
    "            curset = update(cur,visited)\n",
    "            print(f'curset:{curset}')\n",
    "            next_level.extend(curset)\n",
    "        step += 1\n",
    "        \n",
    "        q1 = next_level\n",
    "    return -1 \n"
   ]
  },
  {
   "cell_type": "code",
   "execution_count": 68,
   "metadata": {},
   "outputs": [],
   "source": [
    "deadends = [\"0201\",\"0101\",\"0102\",\"1212\",\"2002\"]\n",
    "target = \"0202\""
   ]
  },
  {
   "cell_type": "code",
   "execution_count": 69,
   "metadata": {
    "tags": []
   },
   "outputs": [
    {
     "output_type": "stream",
     "name": "stdout",
     "text": [
      "curset:['1000', '9000', '0100', '0900', '0010', '0090', '0001', '0009']\ncurset:['1202', '9202', '0302', '0102', '0212', '0292', '0203', '0201']\ncurset:['2202', '1302', '1102', '1212', '1292', '1203', '1201']\ncurset:['8202', '9302', '9102', '9212', '9292', '9203', '9201']\ncurset:['1302', '9302', '0402', '0312', '0392', '0303', '0301']\ncurset:['1212', '9212', '0312', '0112', '0222', '0213', '0211']\ncurset:['1292', '9292', '0392', '0192', '0282', '0293', '0291']\ncurset:['1203', '9203', '0303', '0103', '0213', '0293', '0204']\ncurset:['2000', '1100', '1900', '1010', '1090', '1001', '1009']\ncurset:['8000', '9100', '9900', '9010', '9090', '9001', '9009']\ncurset:['1100', '9100', '0200', '0110', '0190', '0101', '0109']\ncurset:['1900', '9900', '0800', '0910', '0990', '0901', '0909']\ncurset:['1010', '9010', '0110', '0910', '0020', '0011', '0019']\ncurset:['1090', '9090', '0190', '0990', '0080', '0091', '0099']\ncurset:['1001', '9001', '0101', '0901', '0011', '0091', '0002']\ncurset:['1009', '9009', '0109', '0909', '0019', '0099', '0008']\ncurset:['3202', '2302', '2102', '2212', '2292', '2203', '2201']\ncurset:['2302', '1402', '1312', '1392', '1303', '1301']\ncurset:['2102', '0102', '1002', '1112', '1192', '1103', '1101']\ncurset:['2292', '1392', '1192', '1282', '1293', '1291']\ncurset:['2203', '1303', '1103', '1213', '1293', '1204']\ncurset:['2201', '0201', '1301', '1101', '1211', '1291', '1200']\ncurset:['7202', '8302', '8102', '8212', '8292', '8203', '8201']\ncurset:['8302', '9402', '9312', '9392', '9303', '9301']\ncurset:['0102', '8102', '9002', '9112', '9192', '9103', '9101']\ncurset:['8212', '9312', '9112', '9222', '9213', '9211']\ncurset:['8292', '9392', '9192', '9282', '9293', '9291']\ncurset:['8203', '9303', '9103', '9213', '9293', '9204']\ncurset:['0201', '8201', '9301', '9101', '9211', '9291', '9200']\ncurset:['2302', '1402', '1312', '1392', '1303', '1301']\ncurset:['8302', '9402', '9312', '9392', '9303', '9301']\ncurset:['1402', '9402', '0502', '0412', '0492', '0403', '0401']\ncurset:['1312', '9312', '0412', '0322', '0313', '0311']\ncurset:['1392', '9392', '0492', '0382', '0393', '0391']\ncurset:['1303', '9303', '0403', '0313', '0393', '0304']\ncurset:['1301', '9301', '0401', '0201', '0311', '0391', '0300']\ncurset:['8212', '9312', '9112', '9222', '9213', '9211']\ncurset:['1312', '9312', '0412', '0322', '0313', '0311']\ncurset:['1112', '9112', '0012', '0122', '0102', '0113', '0111']\ncurset:['1222', '9222', '0322', '0122', '0232', '0223', '0221']\ncurset:['1213', '9213', '0313', '0113', '0223', '0214']\ncurset:['1211', '9211', '0311', '0111', '0221', '0201', '0210']\ncurset:['2292', '1392', '1192', '1282', '1293', '1291']\ncurset:['8292', '9392', '9192', '9282', '9293', '9291']\ncurset:['1392', '9392', '0492', '0382', '0393', '0391']\ncurset:['1192', '9192', '0092', '0102', '0182', '0193', '0191']\ncurset:['1282', '9282', '0382', '0182', '0272', '0283', '0281']\ncurset:['1293', '9293', '0393', '0193', '0283', '0294']\ncurset:['1291', '9291', '0391', '0191', '0201', '0281', '0290']\ncurset:['2203', '1303', '1103', '1213', '1293', '1204']\ncurset:['8203', '9303', '9103', '9213', '9293', '9204']\ncurset:['1303', '9303', '0403', '0313', '0393', '0304']\ncurset:['1103', '9103', '0003', '0113', '0193', '0104', '0102']\ncurset:['1213', '9213', '0313', '0113', '0223', '0214']\ncurset:['1293', '9293', '0393', '0193', '0283', '0294']\ncurset:['1204', '9204', '0304', '0104', '0214', '0294', '0205']\ncurset:['3000', '2100', '2900', '2010', '2090', '2001', '2009']\ncurset:['2100', '1200', '1110', '1190', '1101', '1109']\ncurset:['2900', '1800', '1910', '1990', '1901', '1909']\ncurset:['2010', '1110', '1910', '1020', '1011', '1019']\ncurset:['2090', '1190', '1990', '1080', '1091', '1099']\ncurset:['2001', '1101', '1901', '1011', '1091', '1002']\ncurset:['2009', '1109', '1909', '1019', '1099', '1008']\ncurset:['7000', '8100', '8900', '8010', '8090', '8001', '8009']\ncurset:['8100', '9200', '9110', '9190', '9101', '9109']\ncurset:['8900', '9800', '9910', '9990', '9901', '9909']\ncurset:['8010', '9110', '9910', '9020', '9011', '9019']\ncurset:['8090', '9190', '9990', '9080', '9091', '9099']\ncurset:['8001', '9101', '9901', '9011', '9091', '9002']\ncurset:['8009', '9109', '9909', '9019', '9099', '9008']\ncurset:['2100', '1200', '1110', '1190', '1101', '1109']\ncurset:['8100', '9200', '9110', '9190', '9101', '9109']\ncurset:['1200', '9200', '0300', '0210', '0290', '0201', '0209']\ncurset:['1110', '9110', '0210', '0120', '0111', '0119']\ncurset:['1190', '9190', '0290', '0180', '0191', '0199']\ncurset:['1109', '9109', '0209', '0119', '0199', '0108']\ncurset:['2900', '1800', '1910', '1990', '1901', '1909']\ncurset:['8900', '9800', '9910', '9990', '9901', '9909']\ncurset:['1800', '9800', '0700', '0810', '0890', '0801', '0809']\ncurset:['1910', '9910', '0810', '0920', '0911', '0919']\ncurset:['1990', '9990', '0890', '0980', '0991', '0999']\ncurset:['1901', '9901', '0801', '0911', '0991', '0902']\ncurset:['1909', '9909', '0809', '0919', '0999', '0908']\ncurset:['2010', '1110', '1910', '1020', '1011', '1019']\ncurset:['8010', '9110', '9910', '9020', '9011', '9019']\ncurset:['1110', '9110', '0210', '0120', '0111', '0119']\ncurset:['1910', '9910', '0810', '0920', '0911', '0919']\ncurset:['1020', '9020', '0120', '0920', '0030', '0021', '0029']\ncurset:['1011', '9011', '0111', '0911', '0021', '0012']\ncurset:['1019', '9019', '0119', '0919', '0029', '0018']\ncurset:['2090', '1190', '1990', '1080', '1091', '1099']\ncurset:['8090', '9190', '9990', '9080', '9091', '9099']\ncurset:['1190', '9190', '0290', '0180', '0191', '0199']\ncurset:['1990', '9990', '0890', '0980', '0991', '0999']\ncurset:['1080', '9080', '0180', '0980', '0070', '0081', '0089']\ncurset:['1091', '9091', '0191', '0991', '0081', '0092']\ncurset:['1099', '9099', '0199', '0999', '0089', '0098']\ncurset:['2001', '1101', '1901', '1011', '1091', '1002']\ncurset:['8001', '9101', '9901', '9011', '9091', '9002']\ncurset:['1901', '9901', '0801', '0911', '0991', '0902']\ncurset:['1011', '9011', '0111', '0911', '0021', '0012']\ncurset:['1091', '9091', '0191', '0991', '0081', '0092']\ncurset:['1002', '9002', '0102', '0902', '0012', '0092', '0003']\ncurset:['2009', '1109', '1909', '1019', '1099', '1008']\ncurset:['8009', '9109', '9909', '9019', '9099', '9008']\ncurset:['1109', '9109', '0209', '0119', '0199', '0108']\ncurset:['1909', '9909', '0809', '0919', '0999', '0908']\ncurset:['1019', '9019', '0119', '0919', '0029', '0018']\ncurset:['1099', '9099', '0199', '0999', '0089', '0098']\ncurset:['1008', '9008', '0108', '0908', '0018', '0098', '0007']\ncurset:['4202', '3302', '3102', '3212', '3292', '3203', '3201']\ncurset:['3302', '2402', '2312', '2392', '2303', '2301']\ncurset:['3102', '2002', '2112', '2192', '2103', '2101']\ncurset:['3212', '1212', '2312', '2112', '2222', '2213', '2211']\ncurset:['3292', '2392', '2192', '2282', '2293', '2291']\ncurset:['3203', '2303', '2103', '2213', '2293', '2204']\ncurset:['3201', '2301', '2101', '2211', '2291', '2200']\ncurset:['3302', '2402', '2312', '2392', '2303', '2301']\ncurset:['2402', '1502', '1412', '1492', '1403', '1401']\ncurset:['2312', '1412', '1212', '1322', '1313', '1311']\ncurset:['2392', '1492', '1382', '1393', '1391']\ncurset:['2303', '1403', '1313', '1393', '1304']\ncurset:['2301', '1401', '1311', '1391', '1300']\ncurset:['3102', '2002', '2112', '2192', '2103', '2101']\n"
     ]
    },
    {
     "output_type": "execute_result",
     "data": {
      "text/plain": [
       "6"
      ]
     },
     "metadata": {},
     "execution_count": 69
    }
   ],
   "source": [
    "openLock(deadends,target)"
   ]
  },
  {
   "cell_type": "code",
   "execution_count": 26,
   "metadata": {},
   "outputs": [],
   "source": [
    "def update(s,visited):\n",
    "    nex_level = set() \n",
    "    for i,c in enumerate(s):\n",
    "        up = s[:i] + str((int(c) + 1)%10) + s[i+1:]\n",
    "        if up not in visited:\n",
    "            nex_level.add(up)\n",
    "        down = s[:i] + str((int(c)-1)%10) + s[i+1:]\n",
    "        if down not in visited:\n",
    "            nex_level.add(down)\n",
    "    return nex_level"
   ]
  },
  {
   "cell_type": "code",
   "execution_count": 27,
   "metadata": {},
   "outputs": [
    {
     "output_type": "execute_result",
     "data": {
      "text/plain": [
       "{'0000', '0002', '0011', '0091', '0101', '0901', '1001', '9001'}"
      ]
     },
     "metadata": {},
     "execution_count": 27
    }
   ],
   "source": [
    "update('0001',())"
   ]
  },
  {
   "cell_type": "code",
   "execution_count": 47,
   "metadata": {},
   "outputs": [],
   "source": [
    "set1 = set()\n",
    "set2 = set()"
   ]
  },
  {
   "cell_type": "code",
   "execution_count": 49,
   "metadata": {},
   "outputs": [],
   "source": [
    "set2.add('0943')\n",
    "set2.add('0933')\n",
    "set2.add('0963')"
   ]
  },
  {
   "cell_type": "code",
   "execution_count": 50,
   "metadata": {},
   "outputs": [
    {
     "output_type": "execute_result",
     "data": {
      "text/plain": [
       "{'0933', '0943', '0963'}"
      ]
     },
     "metadata": {},
     "execution_count": 50
    }
   ],
   "source": [
    "set1.union(set2)"
   ]
  },
  {
   "cell_type": "code",
   "execution_count": 63,
   "metadata": {},
   "outputs": [
    {
     "output_type": "error",
     "ename": "TypeError",
     "evalue": "'int' object is not iterable",
     "traceback": [
      "\u001b[1;31m---------------------------------------------------------------------------\u001b[0m",
      "\u001b[1;31mTypeError\u001b[0m                                 Traceback (most recent call last)",
      "\u001b[1;32m<ipython-input-63-5ec2da348313>\u001b[0m in \u001b[0;36m<module>\u001b[1;34m\u001b[0m\n\u001b[1;32m----> 1\u001b[1;33m \u001b[0mset\u001b[0m\u001b[1;33m(\u001b[0m\u001b[1;36m1\u001b[0m\u001b[1;33m)\u001b[0m\u001b[1;33m\u001b[0m\u001b[1;33m\u001b[0m\u001b[0m\n\u001b[0m",
      "\u001b[1;31mTypeError\u001b[0m: 'int' object is not iterable"
     ]
    }
   ],
   "source": []
  },
  {
   "cell_type": "code",
   "execution_count": 10,
   "metadata": {},
   "outputs": [],
   "source": [
    "import heapq \n",
    "from collections import Counter"
   ]
  },
  {
   "cell_type": "code",
   "execution_count": 4,
   "metadata": {},
   "outputs": [],
   "source": [
    "q = []"
   ]
  },
  {
   "cell_type": "code",
   "execution_count": 11,
   "metadata": {},
   "outputs": [],
   "source": [
    "string = \"aaab\""
   ]
  },
  {
   "cell_type": "code",
   "execution_count": 12,
   "metadata": {},
   "outputs": [],
   "source": [
    "count = Counter(string)"
   ]
  },
  {
   "cell_type": "code",
   "execution_count": 18,
   "metadata": {},
   "outputs": [],
   "source": [
    "count = list()"
   ]
  },
  {
   "cell_type": "code",
   "execution_count": 21,
   "metadata": {},
   "outputs": [
    {
     "output_type": "error",
     "ename": "TypeError",
     "evalue": "heapify() takes exactly one argument (2 given)",
     "traceback": [
      "\u001b[1;31m---------------------------------------------------------------------------\u001b[0m",
      "\u001b[1;31mTypeError\u001b[0m                                 Traceback (most recent call last)",
      "\u001b[1;32m<ipython-input-21-28920f5071ea>\u001b[0m in \u001b[0;36m<module>\u001b[1;34m\u001b[0m\n\u001b[1;32m----> 1\u001b[1;33m \u001b[0mheapq\u001b[0m\u001b[1;33m.\u001b[0m\u001b[0mheapify\u001b[0m\u001b[1;33m(\u001b[0m\u001b[0mcount\u001b[0m\u001b[1;33m,\u001b[0m\u001b[1;32mlambda\u001b[0m \u001b[0mx\u001b[0m\u001b[1;33m:\u001b[0m\u001b[0mx\u001b[0m\u001b[1;33m[\u001b[0m\u001b[1;36m1\u001b[0m\u001b[1;33m]\u001b[0m\u001b[1;33m)\u001b[0m\u001b[1;33m\u001b[0m\u001b[1;33m\u001b[0m\u001b[0m\n\u001b[0m",
      "\u001b[1;31mTypeError\u001b[0m: heapify() takes exactly one argument (2 given)"
     ]
    }
   ],
   "source": [
    "heapq.heapify(count,)"
   ]
  },
  {
   "cell_type": "code",
   "execution_count": 20,
   "metadata": {},
   "outputs": [
    {
     "output_type": "execute_result",
     "data": {
      "text/plain": [
       "[('a', 3), ('b', 1)]"
      ]
     },
     "metadata": {},
     "execution_count": 20
    }
   ],
   "source": [
    "count"
   ]
  },
  {
   "cell_type": "code",
   "execution_count": 23,
   "metadata": {},
   "outputs": [
    {
     "output_type": "execute_result",
     "data": {
      "text/plain": [
       "[2, 54, 12]"
      ]
     },
     "metadata": {},
     "execution_count": 23
    }
   ],
   "source": [
    "max([1,100,2],[2,54,12])"
   ]
  },
  {
   "cell_type": "code",
   "execution_count": 24,
   "metadata": {},
   "outputs": [],
   "source": [
    "routes = [[1,2,7],[3,6,7]]"
   ]
  },
  {
   "cell_type": "code",
   "execution_count": null,
   "metadata": {},
   "outputs": [],
   "source": [
    "for route in routes:\n",
    "    for "
   ]
  },
  {
   "cell_type": "code",
   "execution_count": 25,
   "metadata": {},
   "outputs": [
    {
     "output_type": "error",
     "ename": "TypeError",
     "evalue": "'type' object is not iterable",
     "traceback": [
      "\u001b[1;31m---------------------------------------------------------------------------\u001b[0m",
      "\u001b[1;31mTypeError\u001b[0m                                 Traceback (most recent call last)",
      "\u001b[1;32m<ipython-input-25-bab38b47dcde>\u001b[0m in \u001b[0;36m<module>\u001b[1;34m\u001b[0m\n\u001b[1;32m----> 1\u001b[1;33m \u001b[0my\u001b[0m \u001b[1;33m=\u001b[0m \u001b[0mdict\u001b[0m\u001b[1;33m(\u001b[0m\u001b[0mset\u001b[0m\u001b[1;33m)\u001b[0m\u001b[1;33m\u001b[0m\u001b[1;33m\u001b[0m\u001b[0m\n\u001b[0m",
      "\u001b[1;31mTypeError\u001b[0m: 'type' object is not iterable"
     ]
    }
   ],
   "source": [
    "y = dict(set)"
   ]
  },
  {
   "cell_type": "code",
   "execution_count": 26,
   "metadata": {},
   "outputs": [],
   "source": [
    "from collections import defaultdict"
   ]
  },
  {
   "cell_type": "code",
   "execution_count": 27,
   "metadata": {},
   "outputs": [
    {
     "output_type": "execute_result",
     "data": {
      "text/plain": [
       "defaultdict(set, {})"
      ]
     },
     "metadata": {},
     "execution_count": 27
    }
   ],
   "source": [
    "defaultdict(set)"
   ]
  },
  {
   "cell_type": "code",
   "execution_count": 28,
   "metadata": {},
   "outputs": [
    {
     "output_type": "execute_result",
     "data": {
      "text/plain": [
       "{}"
      ]
     },
     "metadata": {},
     "execution_count": 28
    }
   ],
   "source": [
    "dict({})"
   ]
  },
  {
   "cell_type": "code",
   "execution_count": 31,
   "metadata": {},
   "outputs": [],
   "source": [
    "x = defaultdict(list)"
   ]
  },
  {
   "cell_type": "code",
   "execution_count": 32,
   "metadata": {},
   "outputs": [
    {
     "output_type": "execute_result",
     "data": {
      "text/plain": [
       "[]"
      ]
     },
     "metadata": {},
     "execution_count": 32
    }
   ],
   "source": [
    "x.get(5,[])"
   ]
  },
  {
   "cell_type": "code",
   "execution_count": 36,
   "metadata": {},
   "outputs": [],
   "source": [
    "x[5].append(2)"
   ]
  },
  {
   "cell_type": "code",
   "execution_count": 37,
   "metadata": {},
   "outputs": [
    {
     "output_type": "execute_result",
     "data": {
      "text/plain": [
       "[2]"
      ]
     },
     "metadata": {},
     "execution_count": 37
    }
   ],
   "source": [
    "x.get(5)"
   ]
  },
  {
   "cell_type": "code",
   "execution_count": 99,
   "metadata": {},
   "outputs": [],
   "source": [
    "    def numBusesToDestination(routes, source, target):\n",
    "        if source == target:\n",
    "            return 0\n",
    "\n",
    "        stations = defaultdict(set)\n",
    "        for i, route in enumerate(routes):\n",
    "            for stop in route:\n",
    "                stations[stop].add(i)\n",
    "\n",
    "        routes = [set(route) for route in routes]\n",
    "\n",
    "        buses = set()\n",
    "        cost = 0\n",
    "        front = {source}\n",
    "        back = {target}\n",
    "        stops = {source}\n",
    "\n",
    "        while front and back:\n",
    "            nex = set()\n",
    "\n",
    "            for curstop in front:\n",
    "                print(f\"cur stop:{curstop}\")\n",
    "                for bus in stations[curstop] - buses:\n",
    "                    for stop in back:\n",
    "                        print(f\"cur bus:{bus},to target bus:{stations[stop]}\")\n",
    "                        if bus in stations[stop]:\n",
    "                            return cost\n",
    "                    \n",
    "                    if bus not in buses:\n",
    "                        buses.add(bus)\n",
    "\n",
    "                    for stop in routes[bus] - stops:\n",
    "                        stops.add(stop)\n",
    "                        nex.add(stop)\n",
    "                print(f'curstop:{curstop},buses:{buses},next stops:{nex}')\n",
    "            front = back\n",
    "            back = nex\n",
    "            cost += 1\n",
    "\n",
    "        return -1"
   ]
  },
  {
   "cell_type": "code",
   "execution_count": 108,
   "metadata": {},
   "outputs": [],
   "source": [
    "routes = [[1,2,7],[3,6,7]]\n",
    "source = 1\n",
    "target = 6"
   ]
  },
  {
   "cell_type": "code",
   "execution_count": 109,
   "metadata": {
    "tags": []
   },
   "outputs": [
    {
     "output_type": "stream",
     "name": "stdout",
     "text": [
      "cur stop:1\ncur bus:0,to target bus:{1}\ncurstop:1,buses:{0},next stops:{2, 7}\ncur stop:6\ncur bus:1,to target bus:{0}\ncur bus:1,to target bus:{0, 1}\n"
     ]
    },
    {
     "output_type": "execute_result",
     "data": {
      "text/plain": [
       "1"
      ]
     },
     "metadata": {},
     "execution_count": 109
    }
   ],
   "source": [
    "numBusesToDestination(routes,source,target)"
   ]
  },
  {
   "cell_type": "code",
   "execution_count": null,
   "metadata": {},
   "outputs": [],
   "source": []
  }
 ]
}