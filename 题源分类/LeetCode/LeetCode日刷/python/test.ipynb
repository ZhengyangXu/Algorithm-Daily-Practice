{
 "metadata": {
  "language_info": {
   "codemirror_mode": {
    "name": "ipython",
    "version": 3
   },
   "file_extension": ".py",
   "mimetype": "text/x-python",
   "name": "python",
   "nbconvert_exporter": "python",
   "pygments_lexer": "ipython3",
   "version": "3.7.7-final"
  },
  "orig_nbformat": 2,
  "kernelspec": {
   "name": "python3",
   "display_name": "Python 3.7.7 64-bit ('ML': conda)",
   "metadata": {
    "interpreter": {
     "hash": "48c07bd38cf2d9a9de910d4b2d05fa3599e598780a3671a83bc7380a09869906"
    }
   }
  }
 },
 "nbformat": 4,
 "nbformat_minor": 2,
 "cells": [
  {
   "cell_type": "code",
   "execution_count": 13,
   "metadata": {},
   "outputs": [],
   "source": [
    "def findRelativeRanks(score):\n",
    "    \n",
    "    n = len(score)\n",
    "    \n",
    "    for i in range(n):\n",
    "        count = 1\n",
    "        for j in range(n):\n",
    "            print(\"j:{},i:{}\".format(score[j],score[i]))\n",
    "            if score[j] > score[i]:\n",
    "                print(hello)\n",
    "                count += 1\n",
    "        score[i] = count\n",
    "    return score\n",
    "            "
   ]
  },
  {
   "cell_type": "code",
   "execution_count": 14,
   "metadata": {},
   "outputs": [],
   "source": [
    "score = [5,4,3,2,1]"
   ]
  },
  {
   "cell_type": "code",
   "execution_count": 15,
   "metadata": {},
   "outputs": [
    {
     "output_type": "stream",
     "name": "stdout",
     "text": [
      "j:5,i:5\nj:4,i:5\nj:3,i:5\nj:2,i:5\nj:1,i:5\nj:1,i:4\nj:4,i:4\nj:3,i:4\nj:2,i:4\nj:1,i:4\nj:1,i:3\nj:1,i:3\nj:3,i:3\nj:2,i:3\nj:1,i:3\nj:1,i:2\nj:1,i:2\nj:1,i:2\nj:2,i:2\nj:1,i:2\nj:1,i:1\nj:1,i:1\nj:1,i:1\nj:1,i:1\nj:1,i:1\n"
     ]
    },
    {
     "output_type": "execute_result",
     "data": {
      "text/plain": [
       "[1, 1, 1, 1, 1]"
      ]
     },
     "metadata": {},
     "execution_count": 15
    }
   ],
   "source": [
    "findRelativeRanks(score)"
   ]
  },
  {
   "cell_type": "code",
   "execution_count": null,
   "metadata": {},
   "outputs": [],
   "source": []
  }
 ]
}