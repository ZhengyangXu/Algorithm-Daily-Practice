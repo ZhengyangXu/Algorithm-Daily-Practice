{
 "metadata": {
  "language_info": {
   "codemirror_mode": {
    "name": "ipython",
    "version": 3
   },
   "file_extension": ".py",
   "mimetype": "text/x-python",
   "name": "python",
   "nbconvert_exporter": "python",
   "pygments_lexer": "ipython3",
   "version": "3.7.7-final"
  },
  "orig_nbformat": 2,
  "kernelspec": {
   "name": "python3",
   "display_name": "Python 3"
  }
 },
 "nbformat": 4,
 "nbformat_minor": 2,
 "cells": [
  {
   "source": [
    "## 二叉树的遍历"
   ],
   "cell_type": "markdown",
   "metadata": {}
  },
  {
   "source": [
    "### test case"
   ],
   "cell_type": "markdown",
   "metadata": {}
  },
  {
   "cell_type": "code",
   "execution_count": 3,
   "metadata": {},
   "outputs": [],
   "source": [
    "class TreeNode:\n",
    "    def __init__(self,val):\n",
    "        self.val = val  \n",
    "        self.left = None  \n",
    "        self.right = None \n",
    "node0 = TreeNode(0)\n",
    "node1 = TreeNode(1)\n",
    "node2 = TreeNode(2)\n",
    "node3 = TreeNode(3)\n",
    "node4 = TreeNode(4)\n",
    "node5 = TreeNode(5)\n",
    "node6 = TreeNode(6)\n",
    "node0.left = node1  \n",
    "node0.right = node2  \n",
    "node1.left = node3 \n",
    "node1.right = node4  \n",
    "node2.left = node5 \n",
    "node2.right = node6 "
   ]
  },
  {
   "source": [
    "#### 前序遍历 "
   ],
   "cell_type": "markdown",
   "metadata": {}
  },
  {
   "cell_type": "code",
   "execution_count": 15,
   "metadata": {},
   "outputs": [],
   "source": [
    "## 递归 \n",
    "res = []\n",
    "def preorder(root):\n",
    "    if not root:\n",
    "        return   \n",
    "    res.append(root.val)\n",
    "    preorder(root.left)\n",
    "    preorder(root.right) "
   ]
  },
  {
   "cell_type": "code",
   "execution_count": 17,
   "metadata": {},
   "outputs": [],
   "source": [
    "preorder(node0)"
   ]
  },
  {
   "cell_type": "code",
   "execution_count": 18,
   "metadata": {},
   "outputs": [
    {
     "output_type": "execute_result",
     "data": {
      "text/plain": [
       "[0, 1, 3, 4, 2, 5, 6]"
      ]
     },
     "metadata": {},
     "execution_count": 18
    }
   ],
   "source": [
    "res "
   ]
  },
  {
   "cell_type": "code",
   "execution_count": 20,
   "metadata": {},
   "outputs": [],
   "source": [
    "## 迭代\n",
    "def preorder1(root):\n",
    "    if not root:\n",
    "        return  \n",
    "    stack = [root]\n",
    "    res = []\n",
    "    while stack:\n",
    "        node = stack.pop()\n",
    "        res.append(node.val)\n",
    "        if node.right:\n",
    "            stack.append(node.right)\n",
    "        if node.left:\n",
    "            stack.append(node.left)\n",
    "    return res "
   ]
  },
  {
   "cell_type": "code",
   "execution_count": 21,
   "metadata": {},
   "outputs": [
    {
     "output_type": "execute_result",
     "data": {
      "text/plain": [
       "[0, 1, 3, 4, 2, 5, 6]"
      ]
     },
     "metadata": {},
     "execution_count": 21
    }
   ],
   "source": [
    "preorder1(node0)"
   ]
  },
  {
   "cell_type": "code",
   "execution_count": 23,
   "metadata": {},
   "outputs": [],
   "source": [
    "## 迭代2 \n",
    "def preorder2(root):\n",
    "    if not root:\n",
    "        return \n",
    "    node = root  \n",
    "    stack = []\n",
    "    res = []\n",
    "    while node or stack:\n",
    "        if node:\n",
    "            stack.append(node)\n",
    "            res.append(node.val)\n",
    "            node = node.left  \n",
    "        else:\n",
    "            node = stack.pop()\n",
    "            node = node.right  \n",
    "    return res"
   ]
  },
  {
   "cell_type": "code",
   "execution_count": 24,
   "metadata": {},
   "outputs": [
    {
     "output_type": "execute_result",
     "data": {
      "text/plain": [
       "[0, 1, 3, 4, 2, 5, 6]"
      ]
     },
     "metadata": {},
     "execution_count": 24
    }
   ],
   "source": [
    "preorder2(node0)"
   ]
  },
  {
   "source": [
    "### 中序遍历"
   ],
   "cell_type": "markdown",
   "metadata": {}
  },
  {
   "cell_type": "code",
   "execution_count": 25,
   "metadata": {},
   "outputs": [],
   "source": [
    "def inorder(root,res):\n",
    "    if not root:\n",
    "        return\n",
    "    \n",
    "    inorder(root.left,res)\n",
    "    res.append(root.val)\n",
    "    inorder(root.right,res)\n",
    "\n",
    "    return res  \n",
    "    "
   ]
  },
  {
   "cell_type": "code",
   "execution_count": 28,
   "metadata": {},
   "outputs": [
    {
     "output_type": "execute_result",
     "data": {
      "text/plain": [
       "[3, 1, 4, 0, 5, 2, 6]"
      ]
     },
     "metadata": {},
     "execution_count": 28
    }
   ],
   "source": [
    "inorder(node0,[])"
   ]
  },
  {
   "cell_type": "code",
   "execution_count": 29,
   "metadata": {},
   "outputs": [],
   "source": [
    "def inorder(root,res):\n",
    "    if not root:\n",
    "        return res  \n",
    "    node = root  \n",
    "    stack = []\n",
    "\n",
    "    while node or stack:\n",
    "        while node:\n",
    "            stack.append(node)\n",
    "            node = node.left \n",
    "        node = stack.pop()\n",
    "        res.append(node.val)\n",
    "        node = node.right \n",
    "    return res "
   ]
  },
  {
   "cell_type": "code",
   "execution_count": 30,
   "metadata": {},
   "outputs": [
    {
     "output_type": "execute_result",
     "data": {
      "text/plain": [
       "[3, 1, 4, 0, 5, 2, 6]"
      ]
     },
     "metadata": {},
     "execution_count": 30
    }
   ],
   "source": [
    "inorder(node0,[])"
   ]
  },
  {
   "cell_type": "code",
   "execution_count": 31,
   "metadata": {},
   "outputs": [],
   "source": [
    "def inorder(root,res):\n",
    "    if not root:\n",
    "        return res  \n",
    "    \n",
    "    node = root  \n",
    "    stack = []\n",
    "\n",
    "    while node or stack:\n",
    "        if node:\n",
    "            stack.append(node)\n",
    "            node = node.left \n",
    "        else:\n",
    "            node = stack.pop()\n",
    "            res.append(node.val)\n",
    "            node = node.right \n",
    "    return res "
   ]
  },
  {
   "cell_type": "code",
   "execution_count": 33,
   "metadata": {},
   "outputs": [
    {
     "output_type": "execute_result",
     "data": {
      "text/plain": [
       "[3, 1, 4, 0, 5, 2, 6]"
      ]
     },
     "metadata": {},
     "execution_count": 33
    }
   ],
   "source": [
    "inorder(node0,[])"
   ]
  },
  {
   "cell_type": "code",
   "execution_count": 50,
   "metadata": {},
   "outputs": [],
   "source": [
    "def inorder(root,res):\n",
    "    if not root:\n",
    "        return  \n",
    "    prev = None \n",
    "    while root:\n",
    "        if root.left:\n",
    "            prev = root.left \n",
    "            while prev.right:\n",
    "                prev = prev.right  \n",
    "\n",
    "            prev.right = root  \n",
    "            tmp = root  \n",
    "            root = root.left  \n",
    "            tmp.left = None\n",
    "        else:\n",
    "            res.append(root.val)\n",
    "            root = root.right\n",
    "        \n",
    "    return res  "
   ]
  },
  {
   "cell_type": "code",
   "execution_count": 51,
   "metadata": {},
   "outputs": [
    {
     "output_type": "stream",
     "name": "stderr",
     "text": [
      "\nKeyboardInterrupt\n\n"
     ]
    }
   ],
   "source": [
    "inorder(node0,[])"
   ]
  },
  {
   "source": [
    "### 后序遍历\n"
   ],
   "cell_type": "markdown",
   "metadata": {}
  },
  {
   "cell_type": "code",
   "execution_count": 35,
   "metadata": {},
   "outputs": [],
   "source": [
    "def postorder(root,res):\n",
    "    if not root:\n",
    "        return \n",
    "    \n",
    "    postorder(root.left,res)\n",
    "    postorder(root.right,res)\n",
    "    res.append(root.val)\n",
    "    return res  "
   ]
  },
  {
   "cell_type": "code",
   "execution_count": 36,
   "metadata": {},
   "outputs": [
    {
     "output_type": "execute_result",
     "data": {
      "text/plain": [
       "[3, 4, 1, 5, 6, 2, 0]"
      ]
     },
     "metadata": {},
     "execution_count": 36
    }
   ],
   "source": [
    "postorder(node0,[])"
   ]
  },
  {
   "cell_type": "code",
   "execution_count": 37,
   "metadata": {},
   "outputs": [],
   "source": [
    "def postorder(root,res):\n",
    "    if not root:\n",
    "        return  \n",
    "    \n",
    "    stack1 = [root] \n",
    "    stack2 = [] \n",
    "\n",
    "    while stack1:\n",
    "        node = stack1.pop()\n",
    "        if node.left:\n",
    "            stack1.append(node.left)\n",
    "        if node.right:\n",
    "            stack1.append(node.right)\n",
    "        stack2.append(node)\n",
    "    while stack2:\n",
    "        res.append(stack2.pop().val)\n",
    "    return res \n"
   ]
  },
  {
   "cell_type": "code",
   "execution_count": 38,
   "metadata": {},
   "outputs": [
    {
     "output_type": "execute_result",
     "data": {
      "text/plain": [
       "[3, 4, 1, 5, 6, 2, 0]"
      ]
     },
     "metadata": {},
     "execution_count": 38
    }
   ],
   "source": [
    "postorder(node0,[])"
   ]
  },
  {
   "cell_type": "code",
   "execution_count": null,
   "metadata": {},
   "outputs": [],
   "source": []
  }
 ]
}