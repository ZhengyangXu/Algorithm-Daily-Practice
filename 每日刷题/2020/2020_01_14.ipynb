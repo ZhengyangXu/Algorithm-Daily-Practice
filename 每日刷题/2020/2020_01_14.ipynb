{
 "metadata": {
  "language_info": {
   "codemirror_mode": {
    "name": "ipython",
    "version": 3
   },
   "file_extension": ".py",
   "mimetype": "text/x-python",
   "name": "python",
   "nbconvert_exporter": "python",
   "pygments_lexer": "ipython3",
   "version": "3.6.10-final"
  },
  "orig_nbformat": 2,
  "kernelspec": {
   "name": "python3",
   "display_name": "Python 3",
   "language": "python"
  }
 },
 "nbformat": 4,
 "nbformat_minor": 2,
 "cells": [
  {
   "source": [
    "## 归并排序"
   ],
   "cell_type": "markdown",
   "metadata": {}
  },
  {
   "cell_type": "code",
   "execution_count": 6,
   "metadata": {},
   "outputs": [],
   "source": [
    "def mergesort(nums):\n",
    "    if len(nums) < 2:\n",
    "        return nums\n",
    "    \n",
    "    mid = (0+len(nums))>>1 \n",
    "    \n",
    "    left = nums[:mid]\n",
    "    right = nums[mid:] \n",
    "    \n",
    "    return merge(mergesort(left),mergesort(right))\n",
    "\n",
    "def mergesortIter(nums):\n",
    "    step = 2 \n",
    "    length = len(nums)\n",
    "    while step < 2 * length:\n",
    "        for i in range(0,len(nums),step):\n",
    "            left = nums[i:i+step//2]\n",
    "            right = nums[i+step//2:i+step]\n",
    "            nums[i:i+step] = merge(left,right)\n",
    "        step *= 2 \n",
    "    return nums\n",
    "        \n",
    "    \n",
    "    \n",
    "\n",
    "def merge(left,right):\n",
    "    result = []\n",
    "    i,j = 0,0 \n",
    "    while i < len(left) and j < len(right):\n",
    "        if left[i] <= right[j]:\n",
    "            result.append(left[i])\n",
    "            i += 1\n",
    "        else:\n",
    "            result.append(right[j])\n",
    "            j += 1 \n",
    "            \n",
    "    result += left[i:]\n",
    "    result += right[j:] \n",
    "    return result "
   ]
  },
  {
   "cell_type": "code",
   "execution_count": 3,
   "metadata": {},
   "outputs": [],
   "source": [
    "nums = [1,5,3,2,4,6]"
   ]
  },
  {
   "cell_type": "code",
   "execution_count": 4,
   "metadata": {},
   "outputs": [
    {
     "output_type": "execute_result",
     "data": {
      "text/plain": [
       "[1, 2, 3, 4, 5, 6]"
      ]
     },
     "metadata": {},
     "execution_count": 4
    }
   ],
   "source": [
    "mergesort(nums)"
   ]
  },
  {
   "cell_type": "code",
   "execution_count": 7,
   "metadata": {},
   "outputs": [],
   "source": [
    "nums2 = [1,5,2,7,3,3,4,6]"
   ]
  },
  {
   "cell_type": "code",
   "execution_count": 8,
   "metadata": {},
   "outputs": [
    {
     "output_type": "execute_result",
     "data": {
      "text/plain": [
       "[1, 2, 3, 3, 4, 5, 6, 7]"
      ]
     },
     "metadata": {},
     "execution_count": 8
    }
   ],
   "source": [
    "mergesortIter(nums2)"
   ]
  },
  {
   "source": [
    "## 面试题3：二维数组中的查找\n",
    "#### 题目：在一个二维数组中，每一行都按照从左到右递增的顺序排序，每一列都按照从上到下递增的顺序排序。请完成一个函数，输入这样的一个二维数组和一个整数，判断数组中是否含有该整数。"
   ],
   "cell_type": "markdown",
   "metadata": {}
  },
  {
   "cell_type": "code",
   "execution_count": 11,
   "metadata": {},
   "outputs": [],
   "source": [
    "def findNum(matrix,target):\n",
    "    if not matrix:\n",
    "        return False  \n",
    "    row,col = 0,len(matrix[0])-1\n",
    "    while row < len(matrix) and col >= 0:\n",
    "        if matrix[row][col] == target:\n",
    "            return True \n",
    "        elif matrix[row][col] > target:\n",
    "            col -= 1 \n",
    "        else:\n",
    "            row += 1\n",
    "    return False "
   ]
  },
  {
   "cell_type": "code",
   "execution_count": 15,
   "metadata": {},
   "outputs": [],
   "source": [
    "matrix = [[1,2,3,4],[5,6,7,8],[9,10,11,12]]\n",
    "target = 100"
   ]
  },
  {
   "cell_type": "code",
   "execution_count": 17,
   "metadata": {},
   "outputs": [
    {
     "output_type": "execute_result",
     "data": {
      "text/plain": [
       "False"
      ]
     },
     "metadata": {},
     "execution_count": 17
    }
   ],
   "source": [
    "findNum(matrix,target)"
   ]
  },
  {
   "source": [
    "## 面试题8：旋转数组的最小数字\n",
    "#### 题目：把一个数组最开始的若干个元素搬到数组的末尾，我们称之为数组的旋转。输入一个递增排序的数组的一个旋转，输出旋转数组的最小元素。例如数组{3,4,5,1,2}为{1,2,3,4,5}的一个旋转，该数组的最小值为1。"
   ],
   "cell_type": "markdown",
   "metadata": {}
  },
  {
   "cell_type": "code",
   "execution_count": 26,
   "metadata": {},
   "outputs": [],
   "source": [
    "def rotateMin(nums):\n",
    "    if not nums:\n",
    "        return \n",
    "    left,right = 0,len(nums)-1 \n",
    "    mid = left \n",
    "    while nums[left] >= nums[right]:\n",
    "        if right - left == 1:\n",
    "            return nums[right]\n",
    "        mid = (left+right) >> 1 \n",
    "        if nums[left] == nums[mid] == nums[right]:\n",
    "            minvalue = float('inf')\n",
    "            for i in range(len(nums)):\n",
    "                if nums[i] < minvalue:\n",
    "                    minvalue = nums[i]\n",
    "            return minvalue \n",
    "\n",
    "        if nums[left] <= nums[mid]:\n",
    "            left = mid  \n",
    "        else:\n",
    "            right = mid  \n",
    "    return nums[mid]"
   ]
  },
  {
   "cell_type": "code",
   "execution_count": 27,
   "metadata": {},
   "outputs": [],
   "source": [
    "nums3 = [4,5,6,7,1,2,3]\n",
    "nums4 = [1,1,1,1,1,1,0,0,1,1]"
   ]
  },
  {
   "cell_type": "code",
   "execution_count": 28,
   "metadata": {},
   "outputs": [
    {
     "output_type": "execute_result",
     "data": {
      "text/plain": [
       "0"
      ]
     },
     "metadata": {},
     "execution_count": 28
    }
   ],
   "source": [
    "rotateMin(nums4)"
   ]
  },
  {
   "source": [
    "## 面试题5：从尾到头打印链表\n",
    "#### 题目：输入一个链表的头结点，从尾到头反过来打印出每个结点的值。"
   ],
   "cell_type": "markdown",
   "metadata": {}
  },
  {
   "cell_type": "code",
   "execution_count": 58,
   "metadata": {},
   "outputs": [],
   "source": [
    "def printLinkedList(head):\n",
    "    if not head:\n",
    "        return\n",
    "\n",
    "    nex = printLinkedList(head.next)\n",
    "    print(head.val)\n",
    "    return nex  "
   ]
  },
  {
   "cell_type": "code",
   "execution_count": 59,
   "metadata": {},
   "outputs": [],
   "source": [
    "class Node:\n",
    "    def __init__(self,val):\n",
    "        self.val = val\n",
    "        self.next = None \n",
    "        "
   ]
  },
  {
   "cell_type": "code",
   "execution_count": 60,
   "metadata": {},
   "outputs": [],
   "source": [
    "node1 = Node(1)\n",
    "node2 = Node(2)\n",
    "node3 = Node(3)\n",
    "node4 = Node(4)\n",
    "node5 = Node(5)\n",
    "node1.next = node2 \n",
    "node2.next = node3 \n",
    "node3.next = node4 \n",
    "node4.next = node5 "
   ]
  },
  {
   "cell_type": "code",
   "execution_count": 63,
   "metadata": {},
   "outputs": [
    {
     "output_type": "stream",
     "name": "stdout",
     "text": [
      "5\n4\n3\n2\n1\n"
     ]
    }
   ],
   "source": [
    "node = printLinkedList(node1)"
   ]
  },
  {
   "source": [
    "## 面试题6：重建二叉树\n",
    "#### 题目：输入某二叉树的前序遍历和中序遍历的结果，请重建出该二叉树。\n",
    "#### 假设输入的前序遍历和中序遍历的结果中都不含重复的数字。例如输入前序遍历序列{1,2,4,7,3,5,6,8}和中序遍历序列{4,7,2,1,5,3,8,6}，则重建出图2.6所示的二叉树#### 并输出它的头结点。二叉树结点的定义如下："
   ],
   "cell_type": "markdown",
   "metadata": {}
  },
  {
   "cell_type": "code",
   "execution_count": 80,
   "metadata": {},
   "outputs": [],
   "source": [
    "def buildTree(preorder,inorder):\n",
    "    if not preorder or not inorder:\n",
    "        return \n",
    "\n",
    "    root = TreeNode(preorder[0])\n",
    "    index = inorder.index(root.val)\n",
    "\n",
    "    root.left = buildTree(preorder[1:index+1],inorder[:index])\n",
    "    root.right = buildTree(preorder[index+1:],inorder[index+1:])\n",
    "\n",
    "    return root"
   ]
  },
  {
   "cell_type": "code",
   "execution_count": 90,
   "metadata": {},
   "outputs": [],
   "source": [
    "def buildTreeIter(preorder,inorder):\n",
    "    if not preorder or not inorder:\n",
    "        return \n",
    "\n",
    "    root = TreeNode(preorder[0])\n",
    "    stack = [root]\n",
    "    inorderindex = 0\n",
    "    for i in range(1,len(preorder)):\n",
    "        preordervalue = preorder[i]\n",
    "        node = stack[-1]\n",
    "        if stack[-1].val != inorder[inorderindex]:\n",
    "            node.left = TreeNode(preordervalue)\n",
    "            stack.append(node.left)\n",
    "        else:\n",
    "            while stack and stack[-1].val == inorder[inorderindex]:\n",
    "                node = stack.pop()\n",
    "                inorderindex += 1 \n",
    "            node.right = TreeNode(preordervalue)\n",
    "            stack.append(node.right)\n",
    "    return root   \n",
    "\n",
    "\n"
   ]
  },
  {
   "cell_type": "code",
   "execution_count": 91,
   "metadata": {},
   "outputs": [],
   "source": [
    "class TreeNode:\n",
    "    def __init__(self,val):\n",
    "        self.val = val \n",
    "        self.left = None \n",
    "        self.right = None "
   ]
  },
  {
   "cell_type": "code",
   "execution_count": 92,
   "metadata": {},
   "outputs": [],
   "source": [
    "preorder = [1,2,4,7,3,5,6,8]\n",
    "inorder = [4,7,2,1,5,3,8,6]"
   ]
  },
  {
   "cell_type": "code",
   "execution_count": 93,
   "metadata": {},
   "outputs": [],
   "source": [
    "root1 = buildTree(preorder,inorder)"
   ]
  },
  {
   "cell_type": "code",
   "execution_count": 94,
   "metadata": {},
   "outputs": [
    {
     "output_type": "stream",
     "name": "stdout",
     "text": [
      "1\n"
     ]
    }
   ],
   "source": [
    "print(root1.val)"
   ]
  },
  {
   "cell_type": "code",
   "execution_count": 95,
   "metadata": {},
   "outputs": [],
   "source": [
    "root2 = buildTreeIter(preorder,inorder)"
   ]
  },
  {
   "cell_type": "code",
   "execution_count": 96,
   "metadata": {},
   "outputs": [
    {
     "output_type": "execute_result",
     "data": {
      "text/plain": [
       "3"
      ]
     },
     "metadata": {},
     "execution_count": 96
    }
   ],
   "source": [
    "root2.right.val"
   ]
  },
  {
   "cell_type": "code",
   "execution_count": null,
   "metadata": {},
   "outputs": [],
   "source": []
  }
 ]
}