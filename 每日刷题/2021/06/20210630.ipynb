{
 "metadata": {
  "language_info": {
   "codemirror_mode": {
    "name": "ipython",
    "version": 3
   },
   "file_extension": ".py",
   "mimetype": "text/x-python",
   "name": "python",
   "nbconvert_exporter": "python",
   "pygments_lexer": "ipython3",
   "version": "3.7.7"
  },
  "orig_nbformat": 4,
  "kernelspec": {
   "name": "python3",
   "display_name": "Python 3.7.7 64-bit ('ML': conda)"
  },
  "interpreter": {
   "hash": "48c07bd38cf2d9a9de910d4b2d05fa3599e598780a3671a83bc7380a09869906"
  }
 },
 "nbformat": 4,
 "nbformat_minor": 2,
 "cells": [
  {
   "source": [
    "## leetcode [168] Excel表列名称"
   ],
   "cell_type": "markdown",
   "metadata": {}
  },
  {
   "cell_type": "code",
   "execution_count": 1,
   "metadata": {},
   "outputs": [],
   "source": [
    "def convertToTitle(columnNumber):\n",
    "    if not columnNumber:\n",
    "        return ''\n",
    "    ans = ''\n",
    "    \n",
    "    while columnNumber:\n",
    "        columnNumber -= 1 \n",
    "        ans += chr(ord('A')+(columnNumber%26))\n",
    "        columnNumber //= 26\n",
    "    return ans"
   ]
  },
  {
   "cell_type": "code",
   "execution_count": 3,
   "metadata": {},
   "outputs": [
    {
     "output_type": "execute_result",
     "data": {
      "text/plain": [
       "'YZ'"
      ]
     },
     "metadata": {},
     "execution_count": 3
    }
   ],
   "source": [
    "convertToTitle(701)"
   ]
  },
  {
   "source": [
    "### 字节面经\n",
    "data = [ { \"id\": \"1\", \"sub\": [ { \"id\": \"2\", \"sub\": [ { \"id\": \"3\", \"sub\": null }, { \"id\": \"4\", \"sub\": { \"id\": \"6\", \"sub\": null } }, { \"id\": \"5\", \"sub\": null } ] } ] }, { \"id\": \"7\", \"sub\": [ { \"id\": \"8\", \"sub\": { \"id\": \"9\", \"sub\": null } } ] }, { \"id\": \"10\", \"sub\": null } ]\n",
    "\n",
    "现在给定一个id，要求实现一个函数\n",
    "\n",
    "findPath(data, id) {\n",
    "\n",
    "} 返回给定id在 data 里的路径 示例:\n",
    "\n",
    "id = \"1\" => \"1\" id = \"9\" => \"7\", \"8\", \"9\" id = \"100\"=> [] PS: id 全局唯一，无序\n",
    "\n",
    "链接：https://www.nowcoder.com/discuss/676425?type=2&channel=-1&source_id=discuss_terminal_discuss_hot_nctrack"
   ],
   "cell_type": "markdown",
   "metadata": {}
  },
  {
   "cell_type": "code",
   "execution_count": 133,
   "metadata": {},
   "outputs": [],
   "source": [
    "data = [ { \"id\": \"1\", \"sub\": [ { \"id\": \"2\", \"sub\": [ { \"id\": \"3\", \"sub\": None }, { \"id\": \"4\", \"sub\": { \"id\": \"6\", \"sub\": None } }, { \"id\": \"5\", \"sub\": None } ] } ] }, { \"id\": \"7\", \"sub\": [ { \"id\": \"8\", \"sub\": { \"id\": \"9\", \"sub\":None } } ] }, { \"id\": \"10\", \"sub\": None } ]"
   ]
  },
  {
   "cell_type": "code",
   "execution_count": 134,
   "metadata": {},
   "outputs": [
    {
     "output_type": "execute_result",
     "data": {
      "text/plain": [
       "[{'id': '1',\n",
       "  'sub': [{'id': '2',\n",
       "    'sub': [{'id': '3', 'sub': None},\n",
       "     {'id': '4', 'sub': {'id': '6', 'sub': None}},\n",
       "     {'id': '5', 'sub': None}]}]},\n",
       " {'id': '7', 'sub': [{'id': '8', 'sub': {'id': '9', 'sub': None}}]},\n",
       " {'id': '10', 'sub': None}]"
      ]
     },
     "metadata": {},
     "execution_count": 134
    }
   ],
   "source": [
    "data"
   ]
  },
  {
   "cell_type": "code",
   "execution_count": 257,
   "metadata": {},
   "outputs": [],
   "source": [
    "def findPath(data,id):\n",
    "    print(f'data:{data}')\n",
    "    if not data:\n",
    "        return ['']\n",
    "        \n",
    "    if (type(data) == dict and not data['sub']):\n",
    "        return [data['id']]\n",
    "    \n",
    "    res = []\n",
    "    \n",
    "    n = len(data)\n",
    "    for i in range(n):\n",
    "        curdata = data[i]\n",
    "        \n",
    "        curid = curdata['id']\n",
    "        print(f'curdata:{curdata},curid:{curid}')\n",
    "        # if curid == id:\n",
    "        #     res.append(curid)\n",
    "        #     return res \n",
    "        # print(f'curdata:{curdata},path:{path}')\n",
    "        nex = findPath(curdata['sub'],id)\n",
    "\n",
    "        print(f'curid:{curid},nex:{nex}')\n",
    "        for item in nex:\n",
    "            if curid == id:\n",
    "                res.append(curid)\n",
    "            else:\n",
    "                res.append(curid+item)\n",
    "    \n",
    "    return res\n",
    "    \n",
    "\n",
    "\n",
    "\n"
   ]
  },
  {
   "cell_type": "code",
   "execution_count": 259,
   "metadata": {},
   "outputs": [
    {
     "output_type": "stream",
     "name": "stdout",
     "text": [
      "data:[{'id': '1', 'sub': [{'id': '2', 'sub': [{'id': '3', 'sub': None}, {'id': '4', 'sub': {'id': '6', 'sub': None}}, {'id': '5', 'sub': None}]}]}, {'id': '7', 'sub': [{'id': '8', 'sub': {'id': '9', 'sub': None}}]}, {'id': '10', 'sub': None}]\ncurdata:{'id': '1', 'sub': [{'id': '2', 'sub': [{'id': '3', 'sub': None}, {'id': '4', 'sub': {'id': '6', 'sub': None}}, {'id': '5', 'sub': None}]}]},curid:1\ndata:[{'id': '2', 'sub': [{'id': '3', 'sub': None}, {'id': '4', 'sub': {'id': '6', 'sub': None}}, {'id': '5', 'sub': None}]}]\ncurdata:{'id': '2', 'sub': [{'id': '3', 'sub': None}, {'id': '4', 'sub': {'id': '6', 'sub': None}}, {'id': '5', 'sub': None}]},curid:2\ndata:[{'id': '3', 'sub': None}, {'id': '4', 'sub': {'id': '6', 'sub': None}}, {'id': '5', 'sub': None}]\ncurdata:{'id': '3', 'sub': None},curid:3\ndata:None\ncurid:3,nex:['']\nres:['3']\ncurdata:{'id': '4', 'sub': {'id': '6', 'sub': None}},curid:4\ndata:{'id': '6', 'sub': None}\ncurid:4,nex:['6']\nres:['3', '46']\ncurdata:{'id': '5', 'sub': None},curid:5\ndata:None\ncurid:5,nex:['']\nres:['3', '46', '5']\ncurid:2,nex:['3', '46', '5']\nres:['23', '246', '25']\ncurid:1,nex:['23', '246', '25']\nres:['123', '1246', '125']\ncurdata:{'id': '7', 'sub': [{'id': '8', 'sub': {'id': '9', 'sub': None}}]},curid:7\ndata:[{'id': '8', 'sub': {'id': '9', 'sub': None}}]\ncurdata:{'id': '8', 'sub': {'id': '9', 'sub': None}},curid:8\ndata:{'id': '9', 'sub': None}\ncurid:8,nex:['9']\nres:['89']\ncurid:7,nex:['89']\nres:['123', '1246', '125', '789']\ncurdata:{'id': '10', 'sub': None},curid:10\ndata:None\ncurid:10,nex:['']\nres:['123', '1246', '125', '789', '10']\n"
     ]
    },
    {
     "output_type": "execute_result",
     "data": {
      "text/plain": [
       "['123', '1246', '125', '789', '10']"
      ]
     },
     "metadata": {},
     "execution_count": 259
    }
   ],
   "source": [
    "findPath(data,'9')"
   ]
  },
  {
   "cell_type": "code",
   "execution_count": 298,
   "metadata": {},
   "outputs": [],
   "source": [
    "res2 = []\n",
    "def findPath2(data,id,path):\n",
    "    print(f\"data:{data}\")\n",
    "    if path and path[-1] == id:\n",
    "        return path \n",
    "    if not data:\n",
    "        res2.append(path)\n",
    "        return \n",
    "        \n",
    "    if (type(data) == dict and not data['sub']):\n",
    "        res2.append(path+data['id'])\n",
    "        return \n",
    "    \n",
    "    \n",
    "    n = len(data)\n",
    "    \n",
    "    for i in range(n):\n",
    "        curdata = data[i]\n",
    "        print(f'curdata:{curdata}')\n",
    "        curid = curdata['id']\n",
    "        print(f'curid:{curid},path:{path}')\n",
    "        path += curid \n",
    "        print(f'curid:{curid},path:{path}')\n",
    "        findPath2(curdata['sub'],id,path)\n",
    "        # print(f'curid:{curid},path:{path}')\n",
    "        path = path[:-1]\n",
    "        print(f'curid:{curid},path:{path}')\n",
    "\n",
    "    \n",
    "    return path"
   ]
  },
  {
   "cell_type": "code",
   "execution_count": 299,
   "metadata": {},
   "outputs": [
    {
     "output_type": "stream",
     "name": "stdout",
     "text": [
      "data:[{'id': '1', 'sub': [{'id': '2', 'sub': [{'id': '3', 'sub': None}, {'id': '4', 'sub': {'id': '6', 'sub': None}}, {'id': '5', 'sub': None}]}]}, {'id': '7', 'sub': [{'id': '8', 'sub': {'id': '9', 'sub': None}}]}, {'id': '10', 'sub': None}]\ncurdata:{'id': '1', 'sub': [{'id': '2', 'sub': [{'id': '3', 'sub': None}, {'id': '4', 'sub': {'id': '6', 'sub': None}}, {'id': '5', 'sub': None}]}]}\ncurid:1,path:\ncurid:1,path:1\ndata:[{'id': '2', 'sub': [{'id': '3', 'sub': None}, {'id': '4', 'sub': {'id': '6', 'sub': None}}, {'id': '5', 'sub': None}]}]\ncurdata:{'id': '2', 'sub': [{'id': '3', 'sub': None}, {'id': '4', 'sub': {'id': '6', 'sub': None}}, {'id': '5', 'sub': None}]}\ncurid:2,path:1\ncurid:2,path:12\ndata:[{'id': '3', 'sub': None}, {'id': '4', 'sub': {'id': '6', 'sub': None}}, {'id': '5', 'sub': None}]\ncurdata:{'id': '3', 'sub': None}\ncurid:3,path:12\ncurid:3,path:123\ndata:None\ncurid:3,path:12\ncurdata:{'id': '4', 'sub': {'id': '6', 'sub': None}}\ncurid:4,path:12\ncurid:4,path:124\ndata:{'id': '6', 'sub': None}\ncurid:4,path:12\ncurdata:{'id': '5', 'sub': None}\ncurid:5,path:12\ncurid:5,path:125\ndata:None\ncurid:5,path:12\ncurid:2,path:1\ncurid:1,path:\ncurdata:{'id': '7', 'sub': [{'id': '8', 'sub': {'id': '9', 'sub': None}}]}\ncurid:7,path:\ncurid:7,path:7\ndata:[{'id': '8', 'sub': {'id': '9', 'sub': None}}]\ncurdata:{'id': '8', 'sub': {'id': '9', 'sub': None}}\ncurid:8,path:7\ncurid:8,path:78\ndata:{'id': '9', 'sub': None}\ncurid:8,path:7\ncurid:7,path:\ncurdata:{'id': '10', 'sub': None}\ncurid:10,path:\ncurid:10,path:10\ndata:None\ncurid:10,path:1\n"
     ]
    },
    {
     "output_type": "execute_result",
     "data": {
      "text/plain": [
       "'1'"
      ]
     },
     "metadata": {},
     "execution_count": 299
    }
   ],
   "source": [
    "findPath2(data,'4','')"
   ]
  },
  {
   "cell_type": "code",
   "execution_count": 300,
   "metadata": {},
   "outputs": [
    {
     "output_type": "execute_result",
     "data": {
      "text/plain": [
       "['123', '125', '789', '10']"
      ]
     },
     "metadata": {},
     "execution_count": 300
    }
   ],
   "source": [
    "res2"
   ]
  },
  {
   "source": [
    "## leetcode 191.位1的个数"
   ],
   "cell_type": "markdown",
   "metadata": {}
  },
  {
   "cell_type": "code",
   "execution_count": 29,
   "metadata": {},
   "outputs": [],
   "source": [
    "def hemingWeight(n):\n",
    "    if not n:\n",
    "        return 0 \n",
    "    res = 0\n",
    "    while n:\n",
    "        res += n&1 \n",
    "        n >>= 1 \n",
    "    return res \n"
   ]
  },
  {
   "cell_type": "code",
   "execution_count": 34,
   "metadata": {},
   "outputs": [],
   "source": [
    "def hemingWeight2(n):\n",
    "    if not n:\n",
    "        return 0\n",
    "    res = 0  \n",
    "    for i in range(32):\n",
    "        res += (n >> i) & 1 \n",
    "\n",
    "    return res "
   ]
  },
  {
   "cell_type": "code",
   "execution_count": 36,
   "metadata": {},
   "outputs": [],
   "source": [
    "def hemingWeight3(n):\n",
    "    if not n:\n",
    "        return 0 \n",
    "    res = 0 \n",
    "    while n:\n",
    "        res += 1\n",
    "        n &= n-1 \n",
    "    return res\n",
    "        \n"
   ]
  },
  {
   "cell_type": "code",
   "execution_count": 37,
   "metadata": {},
   "outputs": [
    {
     "output_type": "execute_result",
     "data": {
      "text/plain": [
       "2"
      ]
     },
     "metadata": {},
     "execution_count": 37
    }
   ],
   "source": [
    "hemingWeight3(3)"
   ]
  },
  {
   "source": [
    "##  leetcode [773] 滑动谜题"
   ],
   "cell_type": "markdown",
   "metadata": {}
  },
  {
   "source": [
    "### [773] 滑动谜题\n",
    "\n",
    "### https://leetcode-cn.com/problems/sliding-puzzle/description/\n",
    "\n",
    "### algorithms\n",
    "### Hard (64.30%)\n",
    "### Likes:    183\n",
    "### Dislikes: 0\n",
    "### Total Accepted:    16K\n",
    "### Total Submissions: 23.1K\n",
    "### Testcase Example:  '[[1,2,3],[4,0,5]]'\n",
    "\n",
    "### 在一个 2 x 3 的板上（board）有 5 块砖瓦，用数字 1~5 来表示, 以及一块空缺用 0 来表示.\n",
    "\n",
    "### 一次移动定义为选择 0 与一个相邻的数字（上下左右）进行交换.\n",
    "\n",
    "### 最终当板 board 的结果是 [[1,2,3],[4,5,0]] 谜板被解开。\n",
    "\n",
    "### 给出一个谜板的初始状态，返回最少可以通过多少次移动解开谜板，如果不能解开谜板，则返回 -1 。\n",
    "\n",
    "### 示例：\n",
    "\n",
    "\n",
    "### 输入：board = [[1,2,3],[4,0,5]]\n",
    "### 输出：1\n",
    "### 解释：交换 0 和 5 ，1 步完成\n",
    "\n",
    "\n",
    "\n",
    "### 输入：board = [[1,2,3],[5,4,0]]\n",
    "### 输出：-1\n",
    "### 解释：没有办法完成谜板\n",
    "\n",
    "\n",
    "\n",
    "### 输入：board = [[4,1,2],[5,0,3]]\n",
    "### 输出：5\n",
    "### 解释：\n",
    "### 最少完成谜板的最少移动次数是 5 ，\n",
    "### 一种移动路径:\n",
    "### 尚未移动: [[4,1,2],[5,0,3]]\n",
    "### 移动 1 次: [[4,1,2],[0,5,3]]\n",
    "### 移动 2 次: [[0,1,2],[4,5,3]]\n",
    "### 移动 3 次: [[1,0,2],[4,5,3]]\n",
    "### 移动 4 次: [[1,2,0],[4,5,3]]\n",
    "### 移动 5 次: [[1,2,3],[4,5,0]]\n",
    "\n",
    "\n",
    "\n",
    "### 输入：board = [[3,2,4],[1,5,0]]\n",
    "### 输出：14\n",
    "\n",
    "\n",
    "### 提示：\n",
    "\n",
    "\n",
    "### board 是一个如上所述的 2 x 3 的数组.\n",
    "### board[i][j] 是一个 [0, 1, 2, 3, 4, 5] 的排列."
   ],
   "cell_type": "code",
   "metadata": {},
   "execution_count": 153,
   "outputs": []
  },
  {
   "cell_type": "code",
   "execution_count": 151,
   "metadata": {},
   "outputs": [],
   "source": [
    "def slidingPuzzle(board):\n",
    "    if not board:\n",
    "        return 0 \n",
    "    neighbors = {0:(1,3),1:{0,2,4},2:{1,5},3:{0,4},4:{1,3,5},5:{2,4}}\n",
    "\n",
    "    start = tuple(board[0]+board[1])\n",
    "    target = tuple([1,2,3,4,5,0])\n",
    "\n",
    "    visited = {start}\n",
    "\n",
    "    queue = [(start,0)]\n",
    "\n",
    "    while queue:\n",
    "        status,cost = queue.pop(0)\n",
    "\n",
    "        if status == target:\n",
    "            return cost \n",
    "\n",
    "        pos0 = status.index(0)\n",
    "        for i in neighbors[pos0]:\n",
    "            newboard = list(status)\n",
    "            newboard[pos0] = newboard[i] \n",
    "            newboard[i] = 0 \n",
    "            nb = tuple(newboard)\n",
    "            if nb not in visited:\n",
    "                visited.add(nb)\n",
    "                queue.append((nb,cost+1))\n",
    "\n",
    "    return -1 "
   ]
  },
  {
   "cell_type": "code",
   "execution_count": 154,
   "metadata": {},
   "outputs": [
    {
     "output_type": "execute_result",
     "data": {
      "text/plain": [
       "5"
      ]
     },
     "metadata": {},
     "execution_count": 154
    }
   ],
   "source": [
    "slidingPuzzle( [[4,1,2],[5,0,3]])"
   ]
  },
  {
   "source": [
    "## leetcode [815] 公交路线"
   ],
   "cell_type": "markdown",
   "metadata": {}
  },
  {
   "cell_type": "code",
   "execution_count": 185,
   "metadata": {},
   "outputs": [],
   "source": [
    "from collections import defaultdict\n",
    "def numBusesToDestination(routes, source, target):\n",
    "    if source == target:\n",
    "        return 0 \n",
    "    stations = defaultdict(set)\n",
    "    for i,stops in enumerate(routes):\n",
    "        for stop in stops:\n",
    "            stations[stop].add(i)\n",
    "    routes = [set(x) for x in routes]\n",
    "    visited = {source}\n",
    "    buses = set()\n",
    "    queue = [(source,0)]\n",
    "    stops = {source}\n",
    "\n",
    "    while queue:\n",
    "        curstation,cost = queue.pop(0)\n",
    "        if curstation == target:\n",
    "            return cost \n",
    "        \n",
    "        for bus in stations[curstation] - buses:\n",
    "            for stop in routes[bus] - stops:\n",
    "                stops.add(stop)\n",
    "                buses.add(bus)\n",
    "                queue.append((stop,cost+1))\n",
    "    \n",
    "    return -1\n"
   ]
  },
  {
   "cell_type": "code",
   "execution_count": 186,
   "metadata": {},
   "outputs": [],
   "source": [
    "def numBusesToDestination2(routes, source, target):\n",
    "    if source == target:\n",
    "        return 0 \n",
    "    \n",
    "    stations = defaultdict(set)\n",
    "    for i,stops in enumerate(routes):\n",
    "        for stop in stops:\n",
    "            stations[stop].add(i)\n",
    "    routes = [set(x) for x in routes]\n",
    "    front = {source}\n",
    "    back = {target}\n",
    "    cost = 0 \n",
    "    buses = set()\n",
    "    stops = {source}\n",
    "\n",
    "    while front and back:\n",
    "\n",
    "        nexStops = set()\n",
    "\n",
    "        for curstop in front:\n",
    "            for curbus in stations[curstop] - buses:\n",
    "                for targetstop in back:\n",
    "                    if curbus in stations[targetstop]:\n",
    "                        return cost + 1\n",
    "                buses.add(curbus)\n",
    "\n",
    "                for nextstop in routes[curbus] - stops:\n",
    "                    stops.add(nextstop)\n",
    "                    nexStops.add(nextstop)\n",
    "        cost += 1 \n",
    "        front = back \n",
    "        back = nexStops\n",
    "    return -1 \n",
    "\n",
    "        "
   ]
  },
  {
   "cell_type": "code",
   "execution_count": 187,
   "metadata": {},
   "outputs": [],
   "source": [
    "routes = [[1,2,7],[3,6,7]]\n",
    "source = 1\n",
    "target = 6"
   ]
  },
  {
   "cell_type": "code",
   "execution_count": 188,
   "metadata": {},
   "outputs": [
    {
     "output_type": "execute_result",
     "data": {
      "text/plain": [
       "2"
      ]
     },
     "metadata": {},
     "execution_count": 188
    }
   ],
   "source": [
    "numBusesToDestination(routes,source,target)"
   ]
  },
  {
   "cell_type": "code",
   "execution_count": 189,
   "metadata": {},
   "outputs": [
    {
     "output_type": "execute_result",
     "data": {
      "text/plain": [
       "2"
      ]
     },
     "metadata": {},
     "execution_count": 189
    }
   ],
   "source": [
    "numBusesToDestination2(routes,source,target)"
   ]
  },
  {
   "cell_type": "code",
   "execution_count": null,
   "metadata": {},
   "outputs": [],
   "source": [
    "num"
   ]
  },
  {
   "source": [
    "##  leetcode [767] 重构字符串"
   ],
   "cell_type": "markdown",
   "metadata": {}
  },
  {
   "cell_type": "code",
   "execution_count": 204,
   "metadata": {},
   "outputs": [],
   "source": [
    "import heapq \n",
    "from collections import Counter\n",
    "def reorganizeString(s):\n",
    "    if not s:\n",
    "        return True\n",
    "    n = len(s) \n",
    "    count = Counter(s)\n",
    "    maxCount = max(count.items(),key=lambda x:x[1])[1]\n",
    "    if maxCount > (n+1)//2:\n",
    "        return ''\n",
    "    queue = [(-x[1],x[0]) for x in count.items()]\n",
    "\n",
    "    heapq.heapify(queue)\n",
    "    ans = []\n",
    "\n",
    "    while len(queue) > 1:\n",
    "        letter1 = heapq.heappop(queue)[1]\n",
    "        letter2 = heapq.heappop(queue)[1]\n",
    "\n",
    "        ans.extend([letter1,letter2])\n",
    "\n",
    "        count[letter1] -= 1\n",
    "        count[letter2] -= 1 \n",
    "        if count[letter1] > 0:\n",
    "            heapq.heappush(queue,(-count[letter1],letter1))\n",
    "        if count[letter2] > 0:\n",
    "            heapq.heappush(queue,(-count[letter2],letter2))\n",
    "        \n",
    "    if queue:\n",
    "        ans.append(queue[0][1])\n",
    "\n",
    "    return \"\".join(ans)\n",
    "\n",
    "\n"
   ]
  },
  {
   "cell_type": "code",
   "execution_count": 205,
   "metadata": {},
   "outputs": [
    {
     "output_type": "execute_result",
     "data": {
      "text/plain": [
       "'ababcde'"
      ]
     },
     "metadata": {},
     "execution_count": 205
    }
   ],
   "source": [
    "reorganizeString(\"aabbced\")"
   ]
  },
  {
   "cell_type": "code",
   "execution_count": null,
   "metadata": {},
   "outputs": [],
   "source": []
  }
 ]
}