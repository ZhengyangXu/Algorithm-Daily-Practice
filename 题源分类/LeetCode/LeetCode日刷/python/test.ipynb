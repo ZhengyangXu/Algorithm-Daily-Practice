{
 "metadata": {
  "language_info": {
   "codemirror_mode": {
    "name": "ipython",
    "version": 3
   },
   "file_extension": ".py",
   "mimetype": "text/x-python",
   "name": "python",
   "nbconvert_exporter": "python",
   "pygments_lexer": "ipython3",
   "version": "3.7.7"
  },
  "orig_nbformat": 2,
  "kernelspec": {
   "name": "python37764bitmlcondab6a89081ae6a4bdba6e1c2e4438ccc90",
   "display_name": "Python 3.7.7 64-bit ('ML': conda)"
  },
  "metadata": {
   "interpreter": {
    "hash": "48c07bd38cf2d9a9de910d4b2d05fa3599e598780a3671a83bc7380a09869906"
   }
  }
 },
 "nbformat": 4,
 "nbformat_minor": 2,
 "cells": [
  {
   "cell_type": "code",
   "execution_count": 13,
   "metadata": {},
   "outputs": [],
   "source": [
    "def findRelativeRanks(score):\n",
    "    \n",
    "    n = len(score)\n",
    "    \n",
    "    for i in range(n):\n",
    "        count = 1\n",
    "        for j in range(n):\n",
    "            print(\"j:{},i:{}\".format(score[j],score[i]))\n",
    "            if score[j] > score[i]:\n",
    "                print(hello)\n",
    "                count += 1\n",
    "        score[i] = count\n",
    "    return score\n",
    "            "
   ]
  },
  {
   "cell_type": "code",
   "execution_count": 14,
   "metadata": {},
   "outputs": [],
   "source": [
    "score = [5,4,3,2,1]"
   ]
  },
  {
   "cell_type": "code",
   "execution_count": 15,
   "metadata": {},
   "outputs": [
    {
     "output_type": "stream",
     "name": "stdout",
     "text": [
      "j:5,i:5\nj:4,i:5\nj:3,i:5\nj:2,i:5\nj:1,i:5\nj:1,i:4\nj:4,i:4\nj:3,i:4\nj:2,i:4\nj:1,i:4\nj:1,i:3\nj:1,i:3\nj:3,i:3\nj:2,i:3\nj:1,i:3\nj:1,i:2\nj:1,i:2\nj:1,i:2\nj:2,i:2\nj:1,i:2\nj:1,i:1\nj:1,i:1\nj:1,i:1\nj:1,i:1\nj:1,i:1\n"
     ]
    },
    {
     "output_type": "execute_result",
     "data": {
      "text/plain": [
       "[1, 1, 1, 1, 1]"
      ]
     },
     "metadata": {},
     "execution_count": 15
    }
   ],
   "source": [
    "findRelativeRanks(score)"
   ]
  },
  {
   "cell_type": "code",
   "execution_count": 1,
   "metadata": {},
   "outputs": [],
   "source": [
    "matrix = [[1,2,3],[4,5,6],[7,8,9]]"
   ]
  },
  {
   "cell_type": "code",
   "execution_count": 11,
   "metadata": {},
   "outputs": [
    {
     "output_type": "execute_result",
     "data": {
      "text/plain": [
       "[(1, 4, 7), (2, 5, 8), (3, 6, 9)]"
      ]
     },
     "metadata": {},
     "execution_count": 11
    }
   ],
   "source": [
    "list(list(zip(*matrix)))"
   ]
  },
  {
   "cell_type": "code",
   "execution_count": 5,
   "metadata": {},
   "outputs": [
    {
     "output_type": "execute_result",
     "data": {
      "text/plain": [
       "[(1, 4, 7), (2, 5, 8), (3, 6, 9)]"
      ]
     },
     "metadata": {},
     "execution_count": 5
    }
   ],
   "source": [
    "list(zip([1,2,3],[4,5,6],[7,8,9]))"
   ]
  },
  {
   "cell_type": "code",
   "execution_count": 9,
   "metadata": {},
   "outputs": [
    {
     "output_type": "execute_result",
     "data": {
      "text/plain": [
       "[(1, 4), (2, 5), (3, 6)]"
      ]
     },
     "metadata": {},
     "execution_count": 9
    }
   ],
   "source": [
    "list(zip(*[[1,2,3],[4,5,6]]))"
   ]
  },
  {
   "cell_type": "code",
   "execution_count": 12,
   "metadata": {},
   "outputs": [
    {
     "output_type": "execute_result",
     "data": {
      "text/plain": [
       "[2, 4]"
      ]
     },
     "metadata": {},
     "execution_count": 12
    }
   ],
   "source": [
    "list((2,4))"
   ]
  },
  {
   "cell_type": "code",
   "execution_count": 25,
   "metadata": {},
   "outputs": [],
   "source": [
    "    def canPlaceFlowers(flowerbed,n):\n",
    "        \n",
    "        count = 0 \n",
    "        size = len(flowerbed)\n",
    "        for i in range(size):\n",
    "            if flowerbed[i] == 0:\n",
    "                if i == 0:\n",
    "                    if flowerbed[i+1] == 0:\n",
    "                        count += 1\n",
    "                        flowerbed[i] = 1\n",
    "                    print(count,1,flowerbed) \n",
    "                elif i == size - 1:\n",
    "                    if flowerbed[i-1] == 0:\n",
    "                        count += 1 \n",
    "                        flowerbed[i] = 1\n",
    "                    print(count,2,flowerbed) \n",
    "                \n",
    "                else:\n",
    "                    if flowerbed[i-1] == 0 and flowerbed[i+1] == 0:\n",
    "                        count += 1 \n",
    "                        flowerbed[i] = 1 \n",
    "                    print(count,3,flowerbed) \n",
    "      \n",
    "        return count >= n"
   ]
  },
  {
   "cell_type": "code",
   "execution_count": 27,
   "metadata": {},
   "outputs": [
    {
     "output_type": "stream",
     "name": "stdout",
     "text": [
      "0 3 [1, 0, 0, 0, 0, 1]\n1 3 [1, 0, 1, 0, 0, 1]\n1 3 [1, 0, 1, 0, 0, 1]\n1 3 [1, 0, 1, 0, 0, 1]\n"
     ]
    },
    {
     "output_type": "execute_result",
     "data": {
      "text/plain": [
       "False"
      ]
     },
     "metadata": {},
     "execution_count": 27
    }
   ],
   "source": [
    "canPlaceFlowers([1,0,0,0,0,1],2)"
   ]
  },
  {
   "source": [
    "### 2021/05/27"
   ],
   "cell_type": "markdown",
   "metadata": {}
  },
  {
   "cell_type": "code",
   "execution_count": 5,
   "metadata": {},
   "outputs": [],
   "source": [
    "def hammingDistance( x, y) :\n",
    "    count = 0\n",
    "    for i in range(32):\n",
    "        print(\"x&1:{},y&1:{}\".format(x&1,y&1))\n",
    "        if x & 1 == y & 1:\n",
    "            print('in')\n",
    "            count += 1 \n",
    "        x >>= 1 \n",
    "        y >>= 1 \n",
    "    return count "
   ]
  },
  {
   "cell_type": "code",
   "execution_count": 6,
   "metadata": {},
   "outputs": [
    {
     "output_type": "stream",
     "name": "stdout",
     "text": [
      "x&1:1,y&1:0\nx&1:0,y&1:0\nin\nx&1:0,y&1:1\nx&1:0,y&1:0\nin\nx&1:0,y&1:0\nin\nx&1:0,y&1:0\nin\nx&1:0,y&1:0\nin\nx&1:0,y&1:0\nin\nx&1:0,y&1:0\nin\nx&1:0,y&1:0\nin\nx&1:0,y&1:0\nin\nx&1:0,y&1:0\nin\nx&1:0,y&1:0\nin\nx&1:0,y&1:0\nin\nx&1:0,y&1:0\nin\nx&1:0,y&1:0\nin\nx&1:0,y&1:0\nin\nx&1:0,y&1:0\nin\nx&1:0,y&1:0\nin\nx&1:0,y&1:0\nin\nx&1:0,y&1:0\nin\nx&1:0,y&1:0\nin\nx&1:0,y&1:0\nin\nx&1:0,y&1:0\nin\nx&1:0,y&1:0\nin\nx&1:0,y&1:0\nin\nx&1:0,y&1:0\nin\nx&1:0,y&1:0\nin\nx&1:0,y&1:0\nin\nx&1:0,y&1:0\nin\nx&1:0,y&1:0\nin\nx&1:0,y&1:0\nin\n"
     ]
    },
    {
     "output_type": "execute_result",
     "data": {
      "text/plain": [
       "30"
      ]
     },
     "metadata": {},
     "execution_count": 6
    }
   ],
   "source": [
    "hammingDistance(1,4)"
   ]
  },
  {
   "cell_type": "code",
   "execution_count": 8,
   "metadata": {},
   "outputs": [],
   "source": [
    "def dfs(id, res):\n",
    "    if not id:\n",
    "        return\n",
    "    print(\"id:{},res:{}\".format(id,res))\n",
    "    res = workers[id].importance\n",
    "    for id in workers[id].subordinates:\n",
    "        res += dfs(id, res)\n",
    "\n",
    "    return res\n"
   ]
  },
  {
   "cell_type": "code",
   "execution_count": null,
   "metadata": {},
   "outputs": [],
   "source": [
    "[[1, 5, [2, 3]], [2, 3, []], [3, 3, []]], 1\n",
    "workers = {1:5,}"
   ]
  },
  {
   "cell_type": "code",
   "execution_count": 18,
   "metadata": {},
   "outputs": [],
   "source": [
    "nums = [23,2,6,4,7]\n",
    "presum = [nums[0]]\n",
    "n = len(nums)\n",
    "for i in range(1,n):\n",
    "    presum.append(presum[-1]+nums[i])"
   ]
  },
  {
   "cell_type": "code",
   "execution_count": 19,
   "metadata": {},
   "outputs": [
    {
     "output_type": "execute_result",
     "data": {
      "text/plain": [
       "[23, 25, 31, 35, 42]"
      ]
     },
     "metadata": {},
     "execution_count": 19
    }
   ],
   "source": [
    "presum"
   ]
  },
  {
   "cell_type": "code",
   "execution_count": 7,
   "metadata": {},
   "outputs": [],
   "source": [
    "import itertools"
   ]
  },
  {
   "cell_type": "code",
   "execution_count": 8,
   "metadata": {},
   "outputs": [],
   "source": [
    "c = itertools.accumulate(nums)"
   ]
  },
  {
   "cell_type": "code",
   "execution_count": 11,
   "metadata": {},
   "outputs": [
    {
     "output_type": "stream",
     "name": "stdout",
     "text": [
      "[23, 25, 31, 35, 42]\n"
     ]
    }
   ],
   "source": [
    "print(list(c))"
   ]
  },
  {
   "cell_type": "code",
   "execution_count": 25,
   "metadata": {},
   "outputs": [],
   "source": [
    "    def checkSubarraySum(nums, k) :\n",
    "        \n",
    "        presum = [nums[0]]\n",
    "        n = len(nums)\n",
    "        for i in range(1,n):\n",
    "            presum.append(presum[-1]+nums[i])\n",
    "            \n",
    "        ans = set()\n",
    "        print(presum)\n",
    "        for i in range(1,len(presum)):\n",
    "            ans.add(presum[i-1] % k)\n",
    "            print(ans)\n",
    "            if presum[i] % k in ans:\n",
    "                return True\n",
    "        return False  "
   ]
  },
  {
   "cell_type": "code",
   "execution_count": 26,
   "metadata": {},
   "outputs": [
    {
     "output_type": "stream",
     "name": "stdout",
     "text": [
      "[23, 25, 29, 35, 41]\n{2}\n{2, 4}\n{1, 2, 4}\n{0, 1, 2, 4}\n"
     ]
    },
    {
     "output_type": "execute_result",
     "data": {
      "text/plain": [
       "False"
      ]
     },
     "metadata": {},
     "execution_count": 26
    }
   ],
   "source": [
    "checkSubarraySum([23,2,4,6,6],7)\n"
   ]
  },
  {
   "cell_type": "code",
   "execution_count": 24,
   "metadata": {},
   "outputs": [
    {
     "output_type": "execute_result",
     "data": {
      "text/plain": [
       "[23, 25, 31, 35, 42]"
      ]
     },
     "metadata": {},
     "execution_count": 24
    }
   ],
   "source": [
    "presum"
   ]
  },
  {
   "cell_type": "code",
   "execution_count": 51,
   "metadata": {},
   "outputs": [],
   "source": [
    "nums = [0,1]"
   ]
  },
  {
   "cell_type": "code",
   "execution_count": 52,
   "metadata": {},
   "outputs": [
    {
     "output_type": "stream",
     "name": "stdout",
     "text": [
      "[0, -1, 0]\n"
     ]
    }
   ],
   "source": [
    "n = len(nums)\n",
    "presum = [0]\n",
    "for i in range(n):\n",
    "    presum.append(presum[-1] + (1 if nums[i] else -1) )\n",
    "print(presum)\n",
    "dic = {0:0}\n",
    "ans = 0\n",
    "for i in range(2,n):\n",
    "    if presum[i-2] not in dic:\n",
    "        print(\"not in \")\n",
    "        dic[presum[i-2]] = i- 2\n",
    "    if presum[i] in dic:\n",
    "        print(\"in\")\n",
    "        ans = max(ans,i-dic[presum[i]])"
   ]
  },
  {
   "cell_type": "code",
   "execution_count": 49,
   "metadata": {},
   "outputs": [
    {
     "output_type": "execute_result",
     "data": {
      "text/plain": [
       "0"
      ]
     },
     "metadata": {},
     "execution_count": 49
    }
   ],
   "source": [
    "ans"
   ]
  },
  {
   "cell_type": "code",
   "execution_count": 32,
   "metadata": {},
   "outputs": [
    {
     "output_type": "execute_result",
     "data": {
      "text/plain": [
       "[0, 1, 0, 1, 2, 3, 2, 1, 0]"
      ]
     },
     "metadata": {},
     "execution_count": 32
    }
   ],
   "source": [
    "presum"
   ]
  },
  {
   "cell_type": "code",
   "execution_count": null,
   "metadata": {},
   "outputs": [],
   "source": []
  }
 ]
}