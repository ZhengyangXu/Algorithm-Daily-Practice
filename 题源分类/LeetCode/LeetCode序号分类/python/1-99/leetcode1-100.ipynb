{
 "metadata": {
  "language_info": {
   "codemirror_mode": {
    "name": "ipython",
    "version": 3
   },
   "file_extension": ".py",
   "mimetype": "text/x-python",
   "name": "python",
   "nbconvert_exporter": "python",
   "pygments_lexer": "ipython3",
   "version": "3.7.7-final"
  },
  "orig_nbformat": 2,
  "kernelspec": {
   "name": "python3",
   "display_name": "Python 3",
   "language": "python"
  }
 },
 "nbformat": 4,
 "nbformat_minor": 2,
 "cells": [
  {
   "cell_type": "code",
   "execution_count": 5,
   "metadata": {},
   "outputs": [],
   "source": [
    "#\n",
    "# @lc app=leetcode.cn id=11 lang=python3\n",
    "#\n",
    "# [11] 盛最多水的容器\n",
    "#\n",
    "# https://leetcode-cn.com/problems/container-with-most-water/description/\n",
    "#\n",
    "# algorithms\n",
    "# Medium (63.93%)\n",
    "# Likes:    1777\n",
    "# Dislikes: 0\n",
    "# Total Accepted:    271.5K\n",
    "# Total Submissions: 423.9K\n",
    "# Testcase Example:  '[1,8,6,2,5,4,8,3,7]'\n",
    "#\n",
    "# 给你 n 个非负整数 a1，a2，...，an，每个数代表坐标中的一个点 (i, ai) 。在坐标内画 n 条垂直线，垂直线 i 的两个端点分别为 (i,\n",
    "# ai) 和 (i, 0)。找出其中的两条线，使得它们与 x 轴共同构成的容器可以容纳最多的水。\n",
    "# \n",
    "# 说明：你不能倾斜容器，且 n 的值至少为 2。\n",
    "# \n",
    "# \n",
    "# \n",
    "# \n",
    "# \n",
    "# 图中垂直线代表输入数组 [1,8,6,2,5,4,8,3,7]。在此情况下，容器能够容纳水（表示为蓝色部分）的最大值为 49。\n",
    "# \n",
    "# \n",
    "# \n",
    "# 示例：\n",
    "# \n",
    "# 输入：[1,8,6,2,5,4,8,3,7]\n",
    "# 输出：49\n",
    "# \n",
    "#\n",
    "# [11] 盛最多水的容器\n",
    "#\n",
    "# https://leetcode-cn.com/problems/container-with-most-water/description/\n",
    "#\n",
    "# algorithms\n",
    "# Medium (63.93%)\n",
    "# Likes:    1777\n",
    "# Dislikes: 0\n",
    "#\n",
    "# 给你 n 个非负整数 a1，a2，...，an，每个数代表坐标中的一个点 (i, ai) 。在坐标内画 n 条垂直线，垂直线 i 的两个端点分别为 (i,\n",
    "# ai) 和 (i, 0)。找出其中的两条线，使得它们与 x 轴共同构成的容器可以容纳最多的水。\n",
    "# @lc code=start\n",
    "def maxArea(height):\n",
    "    l,r = 0,len(height)-1\n",
    "    ans = 0\n",
    "    while l < r:\n",
    "        area = min(height[r],height[l])*(r-l)\n",
    "        ans = max(ans,area)\n",
    "        if height[r] < height[l]:\n",
    "            r -= 1 \n",
    "        else:\n",
    "            l += 1 \n",
    "    return ans "
   ]
  },
  {
   "cell_type": "code",
   "execution_count": 6,
   "metadata": {},
   "outputs": [
    {
     "output_type": "execute_result",
     "data": {
      "text/plain": [
       "49"
      ]
     },
     "metadata": {},
     "execution_count": 6
    }
   ],
   "source": [
    "maxArea([1,8,6,2,5,4,8,3,7])"
   ]
  },
  {
   "cell_type": "code",
   "execution_count": null,
   "metadata": {},
   "outputs": [],
   "source": [
    "#\n",
    "# @lc app=leetcode.cn id=23 lang=python3\n",
    "#\n",
    "# [23] 合并K个排序链表\n",
    "#\n",
    "# https://leetcode-cn.com/problems/merge-k-sorted-lists/description/\n",
    "#\n",
    "# algorithms\n",
    "# Hard (51.97%)\n",
    "# Likes:    725\n",
    "# Dislikes: 0\n",
    "# Total Accepted:    132.3K\n",
    "# Total Submissions: 254.7K\n",
    "# Testcase Example:  '[[1,4,5],[1,3,4],[2,6]]'\n",
    "#\n",
    "# 合并 k 个排序链表，返回合并后的排序链表。请分析和描述算法的复杂度。\n",
    "# \n",
    "# 示例:\n",
    "# \n",
    "# 输入:\n",
    "# [\n",
    "# 1->4->5,\n",
    "# 1->3->4,\n",
    "# 2->6\n",
    "# ]\n",
    "# 输出: 1->1->2->3->4->4->5->6\n",
    "# \n",
    "#\n",
    "\n",
    "# @lc code=start\n",
    "# Definition for singly-linked list.\n",
    "# class ListNode:\n",
    "#     def __init__(self, x):\n",
    "#         self.val = x\n",
    "#         self.next = None\n"
   ]
  },
  {
   "cell_type": "code",
   "execution_count": 19,
   "metadata": {},
   "outputs": [],
   "source": [
    "#\n",
    "# @lc app=leetcode.cn id=32 lang=python3\n",
    "#\n",
    "# [32] 最长有效括号\n",
    "#\n",
    "# https://leetcode-cn.com/problems/longest-valid-parentheses/description/\n",
    "#\n",
    "# algorithms\n",
    "# Hard (33.99%)\n",
    "# Likes:    1047\n",
    "# Dislikes: 0\n",
    "# Total Accepted:    109.3K\n",
    "# Total Submissions: 321.6K\n",
    "# Testcase Example:  '\"(()\"'\n",
    "#\n",
    "# 给定一个只包含 '(' 和 ')' 的字符串，找出最长的包含有效括号的子串的长度。\n",
    "# \n",
    "# 示例 1:\n",
    "# \n",
    "# 输入: \"(()\"\n",
    "# 输出: 2\n",
    "# 解释: 最长有效括号子串为 \"()\"\n",
    "# \n",
    "# \n",
    "# 示例 2:\n",
    "# \n",
    "# 输入: \")()())\"\n",
    "# 输出: 4\n",
    "# 解释: 最长有效括号子串为 \"()()\"\n",
    "# \n",
    "# \n",
    "#\n",
    "\n",
    "# @lc code=start\n",
    "\n",
    "def longestValidParentheses1(s):\n",
    "    if not s:\n",
    "        return 0 \n",
    "    \n",
    "    dp = [0]*len(s)\n",
    "    ans = 0\n",
    "    for i in range(len(s)):\n",
    "        if s[i] == \")\":\n",
    "            if s[i-1] == \"(\":\n",
    "                dp[i] = dp[i-2] + 2 if i >= 2 else 2 \n",
    "            else:\n",
    "                if i - dp[i-1] > 0 and s[i-dp[i-1]-1] == \"(\":\n",
    "                    dp[i] = dp[i-1] + dp[i-dp[i-1]-2] + 2 if i - dp[i-1] - 2 >= 0 else dp[i-1] + 2 \n",
    "        ans = max(ans,dp[i])\n",
    "    return ans \n",
    "\n",
    "def longestValidParentheses2(s):\n",
    "    if not s:\n",
    "        return 0 \n",
    "    stack = [-1]\n",
    "    ans = 0\n",
    "    for i in range(len(s)):\n",
    "        if s[i] == \"(\":\n",
    "            stack.append(i)\n",
    "        else:\n",
    "            stack.pop()\n",
    "            if stack:\n",
    "                ans = max(ans,i-stack[-1])\n",
    "            else:\n",
    "                stack.append(i)\n",
    "    return ans "
   ]
  },
  {
   "cell_type": "code",
   "execution_count": 20,
   "metadata": {},
   "outputs": [
    {
     "output_type": "execute_result",
     "data": {
      "text/plain": [
       "4"
      ]
     },
     "metadata": {},
     "execution_count": 20
    }
   ],
   "source": [
    "longestValidParentheses2(\")()())\")"
   ]
  },
  {
   "cell_type": "code",
   "execution_count": 23,
   "metadata": {},
   "outputs": [],
   "source": [
    "def longestValidParentheses3(s):\n",
    "    if not s:\n",
    "        return 0 \n",
    "    left = right = ans = 0 \n",
    "    for i in range(len(s)):\n",
    "        if s[i] == \"(\":\n",
    "            left += 1 \n",
    "        else:\n",
    "            right += 1 \n",
    "        if left == right:\n",
    "            ans = max(ans,left*2)\n",
    "        if right > left:\n",
    "            left = right = 0 \n",
    "    left=right=0 \n",
    "    for i in range(len(s)-1,-1,-1):\n",
    "        if s[i] == \"(\":\n",
    "            left += 1 \n",
    "        else:\n",
    "            right += 1 \n",
    "        if left == right:\n",
    "            ans = max(ans,2*left)\n",
    "        if left > right:\n",
    "            left=right=0\n",
    "    return ans "
   ]
  },
  {
   "cell_type": "code",
   "execution_count": 24,
   "metadata": {},
   "outputs": [
    {
     "output_type": "execute_result",
     "data": {
      "text/plain": [
       "4"
      ]
     },
     "metadata": {},
     "execution_count": 24
    }
   ],
   "source": [
    "longestValidParentheses3(\")()())\")"
   ]
  },
  {
   "cell_type": "code",
   "execution_count": 12,
   "metadata": {},
   "outputs": [],
   "source": [
    "#\n",
    "# @lc app=leetcode.cn id=34 lang=python3\n",
    "#\n",
    "# [34] 在排序数组中查找元素的第一个和最后一个位置\n",
    "#\n",
    "# https://leetcode-cn.com/problems/find-first-and-last-position-of-element-in-sorted-array/description/\n",
    "#\n",
    "# algorithms\n",
    "# Medium (39.96%)\n",
    "# Likes:    522\n",
    "# Dislikes: 0\n",
    "# Total Accepted:    114.4K\n",
    "# Total Submissions: 285.9K\n",
    "# Testcase Example:  '[5,7,7,8,8,10]\\n8'\n",
    "#\n",
    "# 给定一个按照升序排列的整数数组 nums，和一个目标值 target。找出给定目标值在数组中的开始位置和结束位置。\n",
    "# \n",
    "# 你的算法时间复杂度必须是 O(log n) 级别。\n",
    "# \n",
    "# 如果数组中不存在目标值，返回 [-1, -1]。\n",
    "# \n",
    "# 示例 1:\n",
    "# \n",
    "# 输入: nums = [5,7,7,8,8,10], target = 8\n",
    "# 输出: [3,4]\n",
    "# \n",
    "# 示例 2:\n",
    "# \n",
    "# 输入: nums = [5,7,7,8,8,10], target = 6\n",
    "# 输出: [-1,-1]\n",
    "# \n",
    "#\n",
    "def searchRange(nums, target):\n",
    "    def leftIndx(nums,target,left):\n",
    "        low,high = 0,len(nums)\n",
    "        while low < high:\n",
    "            mid = low + (high-low)//2 \n",
    "            if nums[mid] > target or (left and nums[mid] == target):\n",
    "                high = mid   \n",
    "            else:\n",
    "                low = mid + 1  \n",
    "        return low  \n",
    "    if not nums:\n",
    "        return [-1,-1]\n",
    "    left =  leftIndx(nums,target,True)\n",
    "\n",
    "    if left > len(nums) or nums[left] != target:\n",
    "        return [-1,-1]\n",
    "\n",
    "    right = leftIndx(nums,target,False) - 1\n",
    "    return [left,right]"
   ]
  },
  {
   "cell_type": "code",
   "execution_count": 13,
   "metadata": {},
   "outputs": [
    {
     "output_type": "execute_result",
     "data": {
      "text/plain": [
       "[3, 4]"
      ]
     },
     "metadata": {},
     "execution_count": 13
    }
   ],
   "source": [
    "searchRange([5,7,7,8,8,10],8)"
   ]
  },
  {
   "cell_type": "code",
   "execution_count": 27,
   "metadata": {},
   "outputs": [],
   "source": [
    "#\n",
    "# @lc app=leetcode.cn id=36 lang=python3\n",
    "#\n",
    "# [36] 有效的数独\n",
    "#\n",
    "# https://leetcode-cn.com/problems/valid-sudoku/description/\n",
    "#\n",
    "# algorithms\n",
    "# Medium (61.23%)\n",
    "# Likes:    444\n",
    "# Dislikes: 0\n",
    "# Total Accepted:    105K\n",
    "# Total Submissions: 171K\n",
    "# Testcase Example:  '[[\"5\",\"3\",\".\",\".\",\"7\",\".\",\".\",\".\",\".\"],[\"6\",\".\",\".\",\"1\",\"9\",\"5\",\".\",\".\",\".\"],[\".\",\"9\",\"8\",\".\",\".\",\".\",\".\",\"6\",\".\"],[\"8\",\".\",\".\",\".\",\"6\",\".\",\".\",\".\",\"3\"],[\"4\",\".\",\".\",\"8\",\".\",\"3\",\".\",\".\",\"1\"],[\"7\",\".\",\".\",\".\",\"2\",\".\",\".\",\".\",\"6\"],[\".\",\"6\",\".\",\".\",\".\",\".\",\"2\",\"8\",\".\"],[\".\",\".\",\".\",\"4\",\"1\",\"9\",\".\",\".\",\"5\"],[\".\",\".\",\".\",\".\",\"8\",\".\",\".\",\"7\",\"9\"]]'\n",
    "#\n",
    "# 判断一个 9x9 的数独是否有效。只需要根据以下规则，验证已经填入的数字是否有效即可。\n",
    "# \n",
    "# \n",
    "# 数字 1-9 在每一行只能出现一次。\n",
    "# 数字 1-9 在每一列只能出现一次。\n",
    "# 数字 1-9 在每一个以粗实线分隔的 3x3 宫内只能出现一次。\n",
    "# \n",
    "# \n",
    "# \n",
    "# \n",
    "# 上图是一个部分填充的有效的数独。\n",
    "# \n",
    "# 数独部分空格内已填入了数字，空白格用 '.' 表示。\n",
    "# \n",
    "# 示例 1:\n",
    "# \n",
    "# 输入:\n",
    "# [\n",
    "# ⁠ [\"5\",\"3\",\".\",\".\",\"7\",\".\",\".\",\".\",\".\"],\n",
    "# ⁠ [\"6\",\".\",\".\",\"1\",\"9\",\"5\",\".\",\".\",\".\"],\n",
    "# ⁠ [\".\",\"9\",\"8\",\".\",\".\",\".\",\".\",\"6\",\".\"],\n",
    "# ⁠ [\"8\",\".\",\".\",\".\",\"6\",\".\",\".\",\".\",\"3\"],\n",
    "# ⁠ [\"4\",\".\",\".\",\"8\",\".\",\"3\",\".\",\".\",\"1\"],\n",
    "# ⁠ [\"7\",\".\",\".\",\".\",\"2\",\".\",\".\",\".\",\"6\"],\n",
    "# ⁠ [\".\",\"6\",\".\",\".\",\".\",\".\",\"2\",\"8\",\".\"],\n",
    "# ⁠ [\".\",\".\",\".\",\"4\",\"1\",\"9\",\".\",\".\",\"5\"],\n",
    "# ⁠ [\".\",\".\",\".\",\".\",\"8\",\".\",\".\",\"7\",\"9\"]\n",
    "# ]\n",
    "# 输出: true\n",
    "# \n",
    "# \n",
    "# 示例 2:\n",
    "# \n",
    "# 输入:\n",
    "# [\n",
    "# [\"8\",\"3\",\".\",\".\",\"7\",\".\",\".\",\".\",\".\"],\n",
    "# [\"6\",\".\",\".\",\"1\",\"9\",\"5\",\".\",\".\",\".\"],\n",
    "# [\".\",\"9\",\"8\",\".\",\".\",\".\",\".\",\"6\",\".\"],\n",
    "# [\"8\",\".\",\".\",\".\",\"6\",\".\",\".\",\".\",\"3\"],\n",
    "# [\"4\",\".\",\".\",\"8\",\".\",\"3\",\".\",\".\",\"1\"],\n",
    "# [\"7\",\".\",\".\",\".\",\"2\",\".\",\".\",\".\",\"6\"],\n",
    "# [\".\",\"6\",\".\",\".\",\".\",\".\",\"2\",\"8\",\".\"],\n",
    "# [\".\",\".\",\".\",\"4\",\"1\",\"9\",\".\",\".\",\"5\"],\n",
    "# [\".\",\".\",\".\",\".\",\"8\",\".\",\".\",\"7\",\"9\"]\n",
    "# ]\n",
    "# 输出: false\n",
    "# 解释: 除了第一行的第一个数字从 5 改为 8 以外，空格内其他数字均与 示例1 相同。\n",
    "# ⁠    但由于位于左上角的 3x3 宫内有两个 8 存在, 因此这个数独是无效的。\n",
    "# \n",
    "# 说明:\n",
    "# \n",
    "# \n",
    "# 一个有效的数独（部分已被填充）不一定是可解的。\n",
    "# 只需要根据以上规则，验证已经填入的数字是否有效即可。\n",
    "# 给定数独序列只包含数字 1-9 和字符 '.' 。\n",
    "# 给定数独永远是 9x9 形式的。\n",
    "# \n",
    "# \n",
    "#\n",
    "\n",
    "# @lc code=start\n",
    "\n",
    "def isValidSudoku(board):\n",
    "    rows,columns,boxes = [[0 for j in range(9)] for i in range(9)],[[0 for j in range(9)] for i in range(9)],[[0 for j in range(9)] for i in range(9)]\n",
    "\n",
    "    for i in range(9):\n",
    "        for j in range(9):\n",
    "            num = board[i][j]\n",
    "            if num != \".\":\n",
    "                box = (i//3)*3 + j//3 \n",
    "                num = int(num) - 1 \n",
    "                # if rows[i][num] == 0 and columns[j][num] ==0 and boxes[box][num] ==0:\n",
    "                #     rows[i][num] = 1 \n",
    "                #     columns[j][num] = 1\n",
    "                #     boxes[box][num] = 1\n",
    "                # else:\n",
    "                #     return False\n",
    "                rows[i][num] += 1\n",
    "                columns[j][num] += 1 \n",
    "                boxes[box][num] += 1\n",
    "                if rows[i][num] > 1 or columns[j][num] > 1 or boxes[box][num] > 1:\n",
    "                    return False \n",
    "\n",
    "    return True \n",
    "   "
   ]
  },
  {
   "cell_type": "code",
   "execution_count": 49,
   "metadata": {},
   "outputs": [],
   "source": [
    "board =  [[\"5\",\"3\",\".\",\".\",\"7\",\".\",\".\",\".\",\".\"],[\"6\",\".\",\".\",\"1\",\"9\",\"5\",\".\",\".\",\".\"],[\".\",\"9\",\"8\",\".\",\".\",\".\",\".\",\"6\",\".\"],[\"8\",\".\",\".\",\".\",\"6\",\".\",\".\",\".\",\"3\"],[\"4\",\".\",\".\",\"8\",\".\",\"3\",\".\",\".\",\"1\"],[\"7\",\".\",\".\",\".\",\"2\",\".\",\".\",\".\",\"6\"],[\".\",\"6\",\".\",\".\",\".\",\".\",\"2\",\"8\",\".\"],[\".\",\".\",\".\",\"4\",\"1\",\"9\",\".\",\".\",\"5\"],[\".\",\".\",\".\",\".\",\"8\",\".\",\".\",\"7\",\"9\"]]\n"
   ]
  },
  {
   "cell_type": "code",
   "execution_count": 50,
   "metadata": {},
   "outputs": [],
   "source": [
    "def isValidSudoku3(board):\n",
    "    rows,cols,boxes = [0]*9,[0]*9,[0]*9\n",
    "    for i in range(9):\n",
    "        for j in range(9):\n",
    "            if board[i][j] != \".\":\n",
    "                num = int(board[i][j])  \n",
    "                box = (i//3) * 3 + j // 3 \n",
    "\n",
    "                row = rows[i] >> num & 1 \n",
    "                col = cols[j] >> num & 1 \n",
    "                box = boxes[box] >> num & 1 \n",
    "                if row == 1 or col == 1 or box == 1:\n",
    "                    return False \n",
    "                rows[i] = rows[i] | (1 << num) \n",
    "                cols[j] = cols[j] | (1 << num) \n",
    "                boxes[box] = boxes[box] | (1 << num)  \n",
    "    return True \n",
    "\n",
    "\n"
   ]
  },
  {
   "cell_type": "code",
   "execution_count": 51,
   "metadata": {},
   "outputs": [
    {
     "output_type": "execute_result",
     "data": {
      "text/plain": [
       "False"
      ]
     },
     "metadata": {},
     "execution_count": 51
    }
   ],
   "source": [
    "isValidSudoku3(board)"
   ]
  },
  {
   "cell_type": "code",
   "execution_count": 52,
   "metadata": {},
   "outputs": [
    {
     "output_type": "execute_result",
     "data": {
      "text/plain": [
       "[[0, 0, 0], [0, 0, 0], [0, 0, 0]]"
      ]
     },
     "metadata": {},
     "execution_count": 52
    }
   ],
   "source": [
    "[[0] *3  for i in range(3)]  "
   ]
  },
  {
   "cell_type": "code",
   "execution_count": 53,
   "metadata": {},
   "outputs": [
    {
     "output_type": "execute_result",
     "data": {
      "text/plain": [
       "[[[False, False, False, False, False, False, False, False, False],\n",
       "  [False, False, False, False, False, False, False, False, False],\n",
       "  [False, False, False, False, False, False, False, False, False]],\n",
       " [[False, False, False, False, False, False, False, False, False],\n",
       "  [False, False, False, False, False, False, False, False, False],\n",
       "  [False, False, False, False, False, False, False, False, False]],\n",
       " [[False, False, False, False, False, False, False, False, False],\n",
       "  [False, False, False, False, False, False, False, False, False],\n",
       "  [False, False, False, False, False, False, False, False, False]]]"
      ]
     },
     "metadata": {},
     "execution_count": 53
    }
   ],
   "source": [
    "[[[False] * 9 for _a in range(3)] for _b in range(3)]"
   ]
  },
  {
   "cell_type": "code",
   "execution_count": 4,
   "metadata": {},
   "outputs": [],
   "source": [
    "#\n",
    "# @lc app=leetcode.cn id=37 lang=python3\n",
    "#\n",
    "# [37] 解数独\n",
    "#\n",
    "# https://leetcode-cn.com/problems/sudoku-solver/description/\n",
    "#\n",
    "# algorithms\n",
    "# Hard (66.67%)\n",
    "# Likes:    691\n",
    "# Dislikes: 0\n",
    "# Total Accepted:    61.7K\n",
    "# Total Submissions: 92.6K\n",
    "# Testcase Example:  '[[\"5\",\"3\",\".\",\".\",\"7\",\".\",\".\",\".\",\".\"],[\"6\",\".\",\".\",\"1\",\"9\",\"5\",\".\",\".\",\".\"],[\".\",\"9\",\"8\",\".\",\".\",\".\",\".\",\"6\",\".\"],[\"8\",\".\",\".\",\".\",\"6\",\".\",\".\",\".\",\"3\"],[\"4\",\".\",\".\",\"8\",\".\",\"3\",\".\",\".\",\"1\"],[\"7\",\".\",\".\",\".\",\"2\",\".\",\".\",\".\",\"6\"],[\".\",\"6\",\".\",\".\",\".\",\".\",\"2\",\"8\",\".\"],[\".\",\".\",\".\",\"4\",\"1\",\"9\",\".\",\".\",\"5\"],[\".\",\".\",\".\",\".\",\"8\",\".\",\".\",\"7\",\"9\"]]'\n",
    "#\n",
    "# 编写一个程序，通过填充空格来解决数独问题。\n",
    "# \n",
    "# 一个数独的解法需遵循如下规则：\n",
    "# \n",
    "# \n",
    "# 数字 1-9 在每一行只能出现一次。\n",
    "# 数字 1-9 在每一列只能出现一次。\n",
    "# 数字 1-9 在每一个以粗实线分隔的 3x3 宫内只能出现一次。\n",
    "# \n",
    "# \n",
    "# 空白格用 '.' 表示。\n",
    "# \n",
    "# \n",
    "# \n",
    "# 一个数独。\n",
    "# \n",
    "# \n",
    "# \n",
    "# 答案被标成红色。\n",
    "# \n",
    "# 提示：\n",
    "# \n",
    "# \n",
    "# 给定的数独序列只包含数字 1-9 和字符 '.' 。\n",
    "# 你可以假设给定的数独只有唯一解。\n",
    "# 给定数独永远是 9x9 形式的。\n",
    "# \n",
    "# \n",
    "#\n",
    "def solveSudoku(board):\n",
    "\n",
    "    def isvalid(board,r,c,n):\n",
    "\n",
    "        for i in range(9):\n",
    "            if board[r][i] == n or board[i][c] == n or board[(r//3)*3+i//3][(c//3)*3+i%3] == n:\n",
    "                return False\n",
    "        return True\n",
    "    \n",
    "    def backtrack(board,r,c):\n",
    "\n",
    "        if c == 9:\n",
    "            return backtrack(board,r+1,0)\n",
    "\n",
    "        if r == 9:\n",
    "            return True  \n",
    "\n",
    "        \n",
    "        for i in range(r,9):\n",
    "            for j in range(c,9):\n",
    "\n",
    "                if board[i][j] != \".\":\n",
    "                    return backtrack(board,i,j+1)\n",
    "                \n",
    "                for num in range(1,10):\n",
    "                    if not isvalid(board,i,j,str(num)):\n",
    "                        continue \n",
    "                    board[i][j] = str(num)\n",
    "\n",
    "                    if backtrack(board,i,j+1):\n",
    "                        return True  \n",
    "                    board[i][j] = \".\"\n",
    "                \n",
    "                return False  \n",
    "    backtrack(board,0,0)\n",
    "    return board \n",
    "\n",
    "\n",
    "          \n"
   ]
  },
  {
   "cell_type": "code",
   "execution_count": 30,
   "metadata": {},
   "outputs": [],
   "source": [
    "board = [[\"5\",\"3\",\".\",\".\",\"7\",\".\",\".\",\".\",\".\"],[\"6\",\".\",\".\",\"1\",\"9\",\"5\",\".\",\".\",\".\"],[\".\",\"9\",\"8\",\".\",\".\",\".\",\".\",\"6\",\".\"],[\"8\",\".\",\".\",\".\",\"6\",\".\",\".\",\".\",\"3\"],[\"4\",\".\",\".\",\"8\",\".\",\"3\",\".\",\".\",\"1\"],[\"7\",\".\",\".\",\".\",\"2\",\".\",\".\",\".\",\"6\"],[\".\",\"6\",\".\",\".\",\".\",\".\",\"2\",\"8\",\".\"],[\".\",\".\",\".\",\"4\",\"1\",\"9\",\".\",\".\",\"5\"],[\".\",\".\",\".\",\".\",\"8\",\".\",\".\",\"7\",\"9\"]]"
   ]
  },
  {
   "cell_type": "code",
   "execution_count": 6,
   "metadata": {},
   "outputs": [
    {
     "output_type": "execute_result",
     "data": {
      "text/plain": [
       "[['5', '3', '4', '6', '7', '8', '9', '1', '2'],\n",
       " ['6', '7', '2', '1', '9', '5', '3', '4', '8'],\n",
       " ['1', '9', '8', '3', '4', '2', '5', '6', '7'],\n",
       " ['8', '5', '9', '7', '6', '1', '4', '2', '3'],\n",
       " ['4', '2', '6', '8', '5', '3', '7', '9', '1'],\n",
       " ['7', '1', '3', '9', '2', '4', '8', '5', '6'],\n",
       " ['9', '6', '1', '5', '3', '7', '2', '8', '4'],\n",
       " ['2', '8', '7', '4', '1', '9', '6', '3', '5'],\n",
       " ['3', '4', '5', '2', '8', '6', '1', '7', '9']]"
      ]
     },
     "metadata": {},
     "execution_count": 6
    }
   ],
   "source": [
    "solveSudoku(board)"
   ]
  },
  {
   "cell_type": "code",
   "execution_count": 35,
   "metadata": {},
   "outputs": [],
   "source": [
    "def solveSudoku2(board):\n",
    "    if not board:\n",
    "        return \n",
    "    rows = [[0]*9 for _ in range(9)]\n",
    "    cols = [[0]*9 for _ in range(9)]\n",
    "   # boxes = [[[0]*9 for _ in range(3)] for _ in range(3)]\n",
    "    boxes = [[0]*9 for _ in range(9)]\n",
    "    valid = False\n",
    "    tofill = []\n",
    "    for i in range(9):\n",
    "        for j in range(9):\n",
    "            if board[i][j] == \".\":\n",
    "                tofill.append((i,j))\n",
    "            else:\n",
    "                num = int(board[i][j]) - 1\n",
    "                rows[i][num] = cols[j][num] = boxes[(i//3)*3+j//3][num] = True \n",
    "\n",
    "    def backtrack(pos):\n",
    "        nonlocal valid   \n",
    "        if pos == len(tofill):\n",
    "            valid = True \n",
    "            return\n",
    "\n",
    "        row,col = tofill[pos]\n",
    "\n",
    "        for i in range(9):\n",
    "            if rows[row][i] == cols[col][i] == boxes[(row//3)*3+col//3][i] == False:\n",
    "                rows[row][i] = cols[col][i] = boxes[(row//3)*3+col//3][i] = True  \n",
    "                board[row][col] = str(i+1)  \n",
    "                backtrack(pos+1)\n",
    "                rows[row][i] = cols[col][i] = boxes[(row//3)*3+col//3][i] = False \n",
    "            if valid:\n",
    "                return \n",
    "    backtrack(0)\n",
    "    return board\n",
    "\n",
    "\n",
    "            \n"
   ]
  },
  {
   "cell_type": "code",
   "execution_count": 36,
   "metadata": {},
   "outputs": [
    {
     "output_type": "execute_result",
     "data": {
      "text/plain": [
       "[['5', '3', '4', '2', '7', '1', '9', '9', '8'],\n",
       " ['6', '7', '2', '1', '9', '5', '4', '3', '.'],\n",
       " ['.', '9', '8', '.', '.', '.', '.', '6', '.'],\n",
       " ['8', '.', '.', '.', '6', '.', '.', '.', '3'],\n",
       " ['4', '.', '.', '8', '.', '3', '.', '.', '1'],\n",
       " ['7', '.', '.', '.', '2', '.', '.', '.', '6'],\n",
       " ['.', '6', '.', '.', '.', '.', '2', '8', '.'],\n",
       " ['.', '.', '.', '4', '1', '9', '.', '.', '5'],\n",
       " ['.', '.', '.', '.', '8', '.', '.', '7', '9']]"
      ]
     },
     "metadata": {},
     "execution_count": 36
    }
   ],
   "source": [
    "solveSudoku2(board)"
   ]
  },
  {
   "cell_type": "code",
   "execution_count": 1,
   "metadata": {},
   "outputs": [],
   "source": [
    "#\n",
    "# @lc app=leetcode.cn id=41 lang=python3\n",
    "#\n",
    "# [41] 缺失的第一个正数\n",
    "#\n",
    "# https://leetcode-cn.com/problems/first-missing-positive/description/\n",
    "#\n",
    "# algorithms\n",
    "# Hard (40.32%)\n",
    "# Likes:    866\n",
    "# Dislikes: 0\n",
    "# Total Accepted:    99.3K\n",
    "# Total Submissions: 246.3K\n",
    "# Testcase Example:  '[1,2,0]'\n",
    "#\n",
    "# 给你一个未排序的整数数组，请你找出其中没有出现的最小的正整数。\n",
    "# \n",
    "# \n",
    "# \n",
    "# 示例 1:\n",
    "# \n",
    "# 输入: [1,2,0]\n",
    "# 输出: 3\n",
    "# \n",
    "# \n",
    "# 示例 2:\n",
    "# \n",
    "# 输入: [3,4,-1,1]\n",
    "# 输出: 2\n",
    "# \n",
    "# \n",
    "# 示例 3:\n",
    "# \n",
    "# 输入: [7,8,9,11,12]\n",
    "# 输出: 1\n",
    "# \n",
    "# \n",
    "# \n",
    "# \n",
    "# 提示：\n",
    "# \n",
    "# 你的算法的时间复杂度应为O(n)，并且只能使用常数级别的额外空间。\n",
    "# \n",
    "#\n",
    "\n",
    "# @lc code=start\n",
    "\n",
    "def firstMissingPositive(nums):\n",
    "\n",
    "    if not nums:\n",
    "        return 1  \n",
    "    size = len(nums)\n",
    "    for i in range(size):\n",
    "        while 1 <= nums[i] <= size and nums[i] != nums[nums[i] - 1]:\n",
    "            nums[nums[i]-1],nums[i] = nums[i], nums[nums[i]-1]\n",
    "    for i in range(size):\n",
    "        if nums[i] != i + 1:\n",
    "            return i + 1 \n",
    "    return size + 1"
   ]
  },
  {
   "cell_type": "code",
   "execution_count": 3,
   "metadata": {},
   "outputs": [
    {
     "output_type": "execute_result",
     "data": {
      "text/plain": [
       "1"
      ]
     },
     "metadata": {},
     "execution_count": 3
    }
   ],
   "source": [
    "firstMissingPositive([7,8,9,11,12])"
   ]
  },
  {
   "cell_type": "code",
   "execution_count": 1,
   "metadata": {},
   "outputs": [],
   "source": [
    "#\n",
    "# @lc app=leetcode.cn id=42 lang=python3\n",
    "#\n",
    "# [42] 接雨水\n",
    "#\n",
    "# https://leetcode-cn.com/problems/trapping-rain-water/description/\n",
    "#\n",
    "# algorithms\n",
    "# Hard (52.87%)\n",
    "# Likes:    1827\n",
    "# Dislikes: 0\n",
    "# Total Accepted:    167.9K\n",
    "# Total Submissions: 315.4K\n",
    "# Testcase Example:  '[0,1,0,2,1,0,1,3,2,1,2,1]'\n",
    "#\n",
    "# 给定 n 个非负整数表示每个宽度为 1 的柱子的高度图，计算按此排列的柱子，下雨之后能接多少雨水。\n",
    "# \n",
    "# \n",
    "# \n",
    "# 示例 1：\n",
    "# \n",
    "# \n",
    "# \n",
    "# \n",
    "# 输入：height = [0,1,0,2,1,0,1,3,2,1,2,1]\n",
    "# 输出：6\n",
    "# 解释：上面是由数组 [0,1,0,2,1,0,1,3,2,1,2,1] 表示的高度图，在这种情况下，可以接 6 个单位的雨水（蓝色部分表示雨水）。 \n",
    "# \n",
    "# \n",
    "# 示例 2：\n",
    "# \n",
    "# \n",
    "# 输入：height = [4,2,0,3,2,5]\n",
    "# 输出：9\n",
    "# \n",
    "# \n",
    "# \n",
    "# \n",
    "# 提示：\n",
    "# \n",
    "# \n",
    "# n == height.length\n",
    "# 0 \n",
    "# 0 \n",
    "# \n",
    "# \n",
    "#\n",
    "\n",
    "# @lc code=start\n",
    "\n",
    "def trap(height): ## 双指针\n",
    "\n",
    "    if not height:\n",
    "        return 0 \n",
    "    n = len(height)\n",
    "    left,right = 0,n-1\n",
    "    lmax = height[0]\n",
    "    rmax = height[n-1]\n",
    "    res = 0\n",
    "    while left <= right:\n",
    "        lmax = max(lmax,height[left])\n",
    "        rmax = max(rmax,height[right])\n",
    "\n",
    "        if lmax < rmax:\n",
    "            res += lmax - height[left]\n",
    "            left += 1 \n",
    "        else:\n",
    "            res += rmax - height[right]\n",
    "            right -= 1 \n",
    "    return res\n",
    "\n"
   ]
  },
  {
   "cell_type": "code",
   "execution_count": 2,
   "metadata": {},
   "outputs": [
    {
     "output_type": "execute_result",
     "data": {
      "text/plain": [
       "6"
      ]
     },
     "metadata": {},
     "execution_count": 2
    }
   ],
   "source": [
    "trap([0,1,0,2,1,0,1,3,2,1,2,1] )"
   ]
  },
  {
   "cell_type": "code",
   "execution_count": 10,
   "metadata": {},
   "outputs": [],
   "source": [
    "def trap2(height):\n",
    "    if not height:\n",
    "        return 0 \n",
    "    n = len(height)\n",
    "    lmax = [0] * n\n",
    "    rmax = [0] * n  \n",
    "\n",
    "    lmax[0] = height[0]\n",
    "    rmax[n-1] = height[n-1]\n",
    "    res = 0\n",
    "    for i in range(1,n):\n",
    "        lmax[i] = max(lmax[i-1],height[i])\n",
    "\n",
    "    for i in range(n-2,-1,-1):\n",
    "        rmax[i] = max(rmax[i+1],height[i])\n",
    "\n",
    "    for i in range(1,n):\n",
    "        res += min(lmax[i],rmax[i]) - height[i]\n",
    "\n",
    "    return res "
   ]
  },
  {
   "cell_type": "code",
   "execution_count": 11,
   "metadata": {},
   "outputs": [
    {
     "output_type": "execute_result",
     "data": {
      "text/plain": [
       "6"
      ]
     },
     "metadata": {},
     "execution_count": 11
    }
   ],
   "source": [
    "trap2([0,1,0,2,1,0,1,3,2,1,2,1])"
   ]
  },
  {
   "cell_type": "code",
   "execution_count": 14,
   "metadata": {},
   "outputs": [],
   "source": [
    "def trap3(height):### 暴力解法 超时\n",
    "\n",
    "    if not height:\n",
    "        return 0 \n",
    "    n = len(height)\n",
    "    res = 0\n",
    "    for i in range(1,n-1):\n",
    "        lmax,rmax = 0,0 \n",
    "        for j in range(i,-1,-1):\n",
    "            lmax = max(lmax,height[j])\n",
    "        for j in range(i,n):\n",
    "            rmax = max(rmax,height[j])\n",
    "\n",
    "        res += min(lmax,rmax) - height[i]\n",
    "    return res "
   ]
  },
  {
   "cell_type": "code",
   "execution_count": 15,
   "metadata": {},
   "outputs": [
    {
     "output_type": "execute_result",
     "data": {
      "text/plain": [
       "6"
      ]
     },
     "metadata": {},
     "execution_count": 15
    }
   ],
   "source": [
    "trap3([0,1,0,2,1,0,1,3,2,1,2,1])"
   ]
  },
  {
   "cell_type": "code",
   "execution_count": 1,
   "metadata": {},
   "outputs": [],
   "source": [
    "# [44] 通配符匹配\n",
    "#\n",
    "# https://leetcode-cn.com/problems/wildcard-matching/description/\n",
    "#\n",
    "# algorithms\n",
    "# Hard (31.54%)\n",
    "# Likes:    563\n",
    "# Dislikes: 0\n",
    "# Total Accepted:    57.7K\n",
    "# Total Submissions: 182.9K\n",
    "# Testcase Example:  '\"aa\"\\n\"a\"'\n",
    "#\n",
    "# 给定一个字符串 (s) 和一个字符模式 (p) ，实现一个支持 '?' 和 '*' 的通配符匹配。\n",
    "# \n",
    "# '?' 可以匹配任何单个字符。\n",
    "# '*' 可以匹配任意字符串（包括空字符串）。\n",
    "# \n",
    "# \n",
    "# 两个字符串完全匹配才算匹配成功。\n",
    "# \n",
    "# 说明:\n",
    "# \n",
    "# \n",
    "# s 可能为空，且只包含从 a-z 的小写字母。\n",
    "# p 可能为空，且只包含从 a-z 的小写字母，以及字符 ? 和 *。\n",
    "# \n",
    "# \n",
    "# 示例 1:\n",
    "# \n",
    "# 输入:\n",
    "# s = \"aa\"\n",
    "# p = \"a\"\n",
    "# 输出: false\n",
    "# 解释: \"a\" 无法匹配 \"aa\" 整个字符串。\n",
    "# \n",
    "# 示例 2:\n",
    "# \n",
    "# 输入:\n",
    "# s = \"aa\"\n",
    "# p = \"*\"\n",
    "# 输出: true\n",
    "# 解释: '*' 可以匹配任意字符串。\n",
    "# \n",
    "# \n",
    "# 示例 3:\n",
    "# \n",
    "# 输入:\n",
    "# s = \"cb\"\n",
    "# p = \"?a\"\n",
    "# 输出: false\n",
    "# 解释: '?' 可以匹配 'c', 但第二个 'a' 无法匹配 'b'。\n",
    "# \n",
    "# \n",
    "# 示例 4:\n",
    "# \n",
    "# 输入:\n",
    "# s = \"adceb\"\n",
    "# p = \"*a*b\"\n",
    "# 输出: true\n",
    "# 解释: 第一个 '*' 可以匹配空字符串, 第二个 '*' 可以匹配字符串 \"dce\".\n",
    "# \n",
    "# \n",
    "# 示例 5:\n",
    "# \n",
    "# 输入:\n",
    "# s = \"acdcb\"\n",
    "# p = \"a*c?b\"\n",
    "# 输出: false\n",
    "# \n",
    "#\n",
    "\n",
    "# @lc code=start\n",
    "\n",
    "def isMatch(s, p):\n",
    "    if not s:\n",
    "        return False \n",
    "    m,n = len(s),len(p)\n",
    "    dp = [[False]*(n+1) for _ in range(m+1)]\n",
    "    dp[0][0] = False \n",
    "    for i in range(1,n+1):\n",
    "        if p[i-1] == \"*\":\n",
    "            dp[0][i] = True \n",
    "        else:\n",
    "            break\n",
    "    \n",
    "    for i in range(1,m+1):\n",
    "        for j in range(1,n+1):\n",
    "            if s[i-1] == p[j-1] or p[j-1] == \"?\":\n",
    "                dp[i][j] = dp[i-1][j-1]\n",
    "\n",
    "            if p[j-1] == \"*\":\n",
    "                dp[i][j] = dp[i][j-1] or dp[i-1][j]\n",
    "    \n",
    "    return dp[m][n]\n",
    "\n",
    "\n",
    "\n",
    "    "
   ]
  },
  {
   "cell_type": "code",
   "execution_count": 3,
   "metadata": {},
   "outputs": [
    {
     "output_type": "execute_result",
     "data": {
      "text/plain": [
       "True"
      ]
     },
     "metadata": {},
     "execution_count": 3
    }
   ],
   "source": [
    "s = \"adceb\"\n",
    "p = \"*a*b\"\n",
    "\n",
    "isMatch(s,p)"
   ]
  },
  {
   "cell_type": "code",
   "execution_count": 32,
   "metadata": {},
   "outputs": [],
   "source": [
    "#\n",
    "# @lc app=leetcode.cn id=51 lang=python3\n",
    "#\n",
    "# [51] N 皇后\n",
    "#\n",
    "# https://leetcode-cn.com/problems/n-queens/description/\n",
    "#\n",
    "# algorithms\n",
    "# Hard (73.36%)\n",
    "# Likes:    676\n",
    "# Dislikes: 0\n",
    "# Total Accepted:    89.5K\n",
    "# Total Submissions: 122K\n",
    "# Testcase Example:  '4'\n",
    "#\n",
    "# n 皇后问题研究的是如何将 n 个皇后放置在 n×n 的棋盘上，并且使皇后彼此之间不能相互攻击。\n",
    "# \n",
    "# \n",
    "# \n",
    "# 上图为 8 皇后问题的一种解法。\n",
    "# \n",
    "# 给定一个整数 n，返回所有不同的 n 皇后问题的解决方案。\n",
    "# \n",
    "# 每一种解法包含一个明确的 n 皇后问题的棋子放置方案，该方案中 'Q' 和 '.' 分别代表了皇后和空位。\n",
    "# \n",
    "# \n",
    "# \n",
    "# 示例：\n",
    "# \n",
    "# 输入：4\n",
    "# 输出：[\n",
    "# ⁠[\".Q..\",  // 解法 1\n",
    "# ⁠ \"...Q\",\n",
    "# ⁠ \"Q...\",\n",
    "# ⁠ \"..Q.\"],\n",
    "# \n",
    "# ⁠[\"..Q.\",  // 解法 2\n",
    "# ⁠ \"Q...\",\n",
    "# ⁠ \"...Q\",\n",
    "# ⁠ \".Q..\"]\n",
    "# ]\n",
    "# 解释: 4 皇后问题存在两个不同的解法。\n",
    "# \n",
    "# \n",
    "# \n",
    "# \n",
    "# 提示：\n",
    "# \n",
    "# \n",
    "# 皇后彼此不能相互攻击，也就是说：任何两个皇后都不能处于同一条横行、纵行或斜线上。\n",
    "# \n",
    "# \n",
    "#\n",
    "def solveNQueens(n):\n",
    "\n",
    "    def isValid(row,col):\n",
    "\n",
    "        for i in range(row):\n",
    "            if board[i][col] == 'Q':\n",
    "                return False  \n",
    "        i,j = row-1,col-1 \n",
    "        while i >= 0 and j >= 0:\n",
    "            if board[i][j] == 'Q':\n",
    "                return False\n",
    "            i -= 1\n",
    "            j -= 1\n",
    "        i,j = row-1,col+1\n",
    "        while i >= 0 and j < n:\n",
    "            if board[i][j] == 'Q':\n",
    "                return False  \n",
    "            i -= 1\n",
    "            j += 1\n",
    "        return True\n",
    "\n",
    "    def dfs(row):\n",
    "        if row == n:\n",
    "            res.append([\"\".join(board[i]) for _ in range(row)])\n",
    "            return  \n",
    "\n",
    "        for col in range(n):\n",
    "            if not isValid(row,col):\n",
    "                continue \n",
    "            board[row][col] = 'Q'\n",
    "            dfs(row+1)\n",
    "            board[row][col] = '.'\n",
    "    res = []\n",
    "    board = [[\".\" for _ in range(n)] for _ in range(n)]\n",
    "    dfs(0)\n",
    "    return res"
   ]
  },
  {
   "cell_type": "code",
   "execution_count": 33,
   "metadata": {},
   "outputs": [
    {
     "output_type": "execute_result",
     "data": {
      "text/plain": [
       "[['.Q..', '.Q..', '.Q..', '.Q..'], ['..Q.', '..Q.', '..Q.', '..Q.']]"
      ]
     },
     "metadata": {},
     "execution_count": 33
    }
   ],
   "source": [
    "solveNQueens(4)"
   ]
  },
  {
   "cell_type": "code",
   "execution_count": 1,
   "metadata": {},
   "outputs": [
    {
     "output_type": "error",
     "ename": "SyntaxError",
     "evalue": "unexpected EOF while parsing (<ipython-input-1-cd7754c013a7>, line 52)",
     "traceback": [
      "\u001b[1;36m  File \u001b[1;32m\"<ipython-input-1-cd7754c013a7>\"\u001b[1;36m, line \u001b[1;32m52\u001b[0m\n\u001b[1;33m    def totalNQueens(self, n: int) -> int:\u001b[0m\n\u001b[1;37m                                          ^\u001b[0m\n\u001b[1;31mSyntaxError\u001b[0m\u001b[1;31m:\u001b[0m unexpected EOF while parsing\n"
     ]
    }
   ],
   "source": [
    "# [52] N皇后 II\n",
    "#\n",
    "# https://leetcode-cn.com/problems/n-queens-ii/description/\n",
    "#\n",
    "# algorithms\n",
    "# Hard (82.18%)\n",
    "# Likes:    213\n",
    "# Dislikes: 0\n",
    "# Total Accepted:    51.5K\n",
    "# Total Submissions: 62.7K\n",
    "# Testcase Example:  '4'\n",
    "#\n",
    "# n 皇后问题研究的是如何将 n 个皇后放置在 n×n 的棋盘上，并且使皇后彼此之间不能相互攻击。\n",
    "# \n",
    "# \n",
    "# \n",
    "# 上图为 8 皇后问题的一种解法。\n",
    "# \n",
    "# 给定一个整数 n，返回 n 皇后不同的解决方案的数量。\n",
    "# \n",
    "# 示例:\n",
    "# \n",
    "# 输入: 4\n",
    "# 输出: 2\n",
    "# 解释: 4 皇后问题存在如下两个不同的解法。\n",
    "# [\n",
    "# [\".Q..\",  // 解法 1\n",
    "# \"...Q\",\n",
    "# \"Q...\",\n",
    "# \"..Q.\"],\n",
    "# \n",
    "# [\"..Q.\",  // 解法 2\n",
    "# \"Q...\",\n",
    "# \"...Q\",\n",
    "# \".Q..\"]\n",
    "# ]\n",
    "# \n",
    "# \n",
    "# \n",
    "# \n",
    "# 提示：\n",
    "# \n",
    "# \n",
    "# 皇后，是国际象棋中的棋子，意味着国王的妻子。皇后只做一件事，那就是“吃子”。当她遇见可以吃的棋子时，就迅速冲上去吃掉棋子。当然，她横、竖、斜都可走一或\n",
    "# N-1 步，可进可退。（引用自 百度百科 - 皇后 ）\n",
    "# \n",
    "# \n",
    "#\n",
    "\n",
    "# @lc code=start\n",
    "class Solution:\n",
    "    def totalNQueens(self, n: int) -> int:"
   ]
  },
  {
   "cell_type": "code",
   "execution_count": 37,
   "metadata": {},
   "outputs": [],
   "source": [
    "# [54] 螺旋矩阵\n",
    "#\n",
    "# https://leetcode-cn.com/problems/spiral-matrix/description/\n",
    "#\n",
    "# algorithms\n",
    "# Medium (41.60%)\n",
    "# Likes:    559\n",
    "# Dislikes: 0\n",
    "# Total Accepted:    93K\n",
    "# Total Submissions: 223K\n",
    "# Testcase Example:  '[[1,2,3],[4,5,6],[7,8,9]]'\n",
    "#\n",
    "# 给定一个包含 m x n 个元素的矩阵（m 行, n 列），请按照顺时针螺旋顺序，返回矩阵中的所有元素。\n",
    "# \n",
    "# 示例 1:\n",
    "# \n",
    "# 输入:\n",
    "# [\n",
    "# ⁠[ 1, 2, 3 ],\n",
    "# ⁠[ 4, 5, 6 ],\n",
    "# ⁠[ 7, 8, 9 ]\n",
    "# ]\n",
    "# 输出: [1,2,3,6,9,8,7,4,5]\n",
    "# \n",
    "# \n",
    "# 示例 2:\n",
    "# \n",
    "# 输入:\n",
    "# [\n",
    "# ⁠ [1, 2, 3, 4],\n",
    "# ⁠ [5, 6, 7, 8],\n",
    "# ⁠ [9,10,11,12]\n",
    "# ]\n",
    "# 输出: [1,2,3,4,8,12,11,10,9,5,6,7]\n",
    "# \n",
    "# \n",
    "#\n",
    "\n",
    "# @lc code=start\n",
    "\n",
    "def spiralOrder(matrix):\n",
    "    if not matrix:\n",
    "        return []\n",
    "    rstart,rend,cstart,cend = 0,len(matrix),0,len(matrix[0])\n",
    "    res = []\n",
    "    i,j = 0,0\n",
    "    while rstart <= i < rend and cstart <= j < cend:\n",
    "        while i == rstart and j < cend :\n",
    "            print(\"1,matrix:{},i:{},j:{},rstart:{},rend:{},cstart:{},cend:{}\".format(matrix[i][j],i,j,rstart,rend,cstart,cend))    \n",
    "            res.append(matrix[i][j])\n",
    "            j += 1 \n",
    "        rstart += 1   \n",
    "        i += 1\n",
    "        j -= 1\n",
    "        \n",
    "        while j == cend-1 and i < rend:\n",
    "            print(\"2,matrix:{},i:{},j:{},rstart:{},rend:{},cstart:{},cend:{}\".format(matrix[i][j],i,j,rstart,rend,cstart,cend))  \n",
    "            res.append(matrix[i][j]) \n",
    "            i += 1\n",
    "        cend -= 1 \n",
    "        j -= 1\n",
    "        i -= 1\n",
    "  \n",
    "        while i == rend - 1 and j >= cstart:\n",
    "            print(\"3,matrix:{},i:{},j:{},rstart:{},rend:{},cstart:{},cend:{}\".format(matrix[i][j],i,j,rstart,rend,cstart,cend))  \n",
    "            res.append(matrix[i][j])\n",
    "            j -= 1 \n",
    "        rend -= 1 \n",
    "        i -= 1\n",
    "        j += 1\n",
    "\n",
    "        while j == cstart and i >= rstart:\n",
    "            print(\"4,matrix:{},i:{},j:{},rstart:{},rend:{},cstart:{},cend:{}\".format(matrix[i][j],i,j,rstart,rend,cstart,cend))  \n",
    "            res.append(matrix[i][j])\n",
    "            i -= 1 \n",
    "        cstart += 1 \n",
    "        j += 1\n",
    "        i += 1\n",
    "\n",
    "    return res  "
   ]
  },
  {
   "cell_type": "code",
   "execution_count": 38,
   "metadata": {},
   "outputs": [],
   "source": [
    "matrix =  [[1,2,3,4],[5,6,7,8],[9,10,11,12]]"
   ]
  },
  {
   "cell_type": "code",
   "execution_count": 39,
   "metadata": {},
   "outputs": [
    {
     "output_type": "stream",
     "name": "stdout",
     "text": [
      "1,matrix:1,i:0,j:0,rstart:0,rend:3,cstart:0,cend:4\n1,matrix:2,i:0,j:1,rstart:0,rend:3,cstart:0,cend:4\n1,matrix:3,i:0,j:2,rstart:0,rend:3,cstart:0,cend:4\n1,matrix:4,i:0,j:3,rstart:0,rend:3,cstart:0,cend:4\n2,matrix:8,i:1,j:3,rstart:1,rend:3,cstart:0,cend:4\n2,matrix:12,i:2,j:3,rstart:1,rend:3,cstart:0,cend:4\n3,matrix:11,i:2,j:2,rstart:1,rend:3,cstart:0,cend:3\n3,matrix:10,i:2,j:1,rstart:1,rend:3,cstart:0,cend:3\n3,matrix:9,i:2,j:0,rstart:1,rend:3,cstart:0,cend:3\n4,matrix:5,i:1,j:0,rstart:1,rend:2,cstart:0,cend:3\n1,matrix:6,i:1,j:1,rstart:1,rend:2,cstart:1,cend:3\n1,matrix:7,i:1,j:2,rstart:1,rend:2,cstart:1,cend:3\n3,matrix:6,i:1,j:1,rstart:2,rend:2,cstart:1,cend:2\n"
     ]
    },
    {
     "output_type": "execute_result",
     "data": {
      "text/plain": [
       "[1, 2, 3, 4, 8, 12, 11, 10, 9, 5, 6, 7, 6]"
      ]
     },
     "metadata": {},
     "execution_count": 39
    }
   ],
   "source": [
    "spiralOrder(matrix)"
   ]
  },
  {
   "cell_type": "code",
   "execution_count": 21,
   "metadata": {},
   "outputs": [],
   "source": [
    "a = 6 \n",
    "\n",
    "def out():\n",
    "    print(\"外层%i\"%a)\n",
    "    b = 5 \n",
    "    def inside():\n",
    "        print(\"内层%i\"%a)\n",
    "        print(\"内层%i\"%b) \n",
    "        b += 1 \n",
    "    # return inside()\n",
    "    inside()"
   ]
  },
  {
   "cell_type": "code",
   "execution_count": 50,
   "metadata": {},
   "outputs": [],
   "source": [
    "x = 5\n",
    "def out():\n",
    "\n",
    "    x = 5\n",
    "    def inside():\n",
    "        x += 1 \n",
    "        return x \n",
    "    return inside()"
   ]
  },
  {
   "cell_type": "code",
   "execution_count": 51,
   "metadata": {},
   "outputs": [
    {
     "output_type": "error",
     "ename": "UnboundLocalError",
     "evalue": "local variable 'x' referenced before assignment",
     "traceback": [
      "\u001b[1;31m---------------------------------------------------------------------------\u001b[0m",
      "\u001b[1;31mUnboundLocalError\u001b[0m                         Traceback (most recent call last)",
      "\u001b[1;32m<ipython-input-51-2e2436c87a95>\u001b[0m in \u001b[0;36m<module>\u001b[1;34m\u001b[0m\n\u001b[1;32m----> 1\u001b[1;33m \u001b[0mout\u001b[0m\u001b[1;33m(\u001b[0m\u001b[1;33m)\u001b[0m\u001b[1;33m\u001b[0m\u001b[1;33m\u001b[0m\u001b[0m\n\u001b[0m",
      "\u001b[1;32m<ipython-input-50-0eb44c5c0a9e>\u001b[0m in \u001b[0;36mout\u001b[1;34m()\u001b[0m\n\u001b[0;32m      6\u001b[0m         \u001b[0mx\u001b[0m \u001b[1;33m+=\u001b[0m \u001b[1;36m1\u001b[0m\u001b[1;33m\u001b[0m\u001b[1;33m\u001b[0m\u001b[0m\n\u001b[0;32m      7\u001b[0m         \u001b[1;32mreturn\u001b[0m \u001b[0mx\u001b[0m\u001b[1;33m\u001b[0m\u001b[1;33m\u001b[0m\u001b[0m\n\u001b[1;32m----> 8\u001b[1;33m     \u001b[1;32mreturn\u001b[0m \u001b[0minside\u001b[0m\u001b[1;33m(\u001b[0m\u001b[1;33m)\u001b[0m\u001b[1;33m\u001b[0m\u001b[1;33m\u001b[0m\u001b[0m\n\u001b[0m",
      "\u001b[1;32m<ipython-input-50-0eb44c5c0a9e>\u001b[0m in \u001b[0;36minside\u001b[1;34m()\u001b[0m\n\u001b[0;32m      4\u001b[0m     \u001b[0mx\u001b[0m \u001b[1;33m=\u001b[0m \u001b[1;36m5\u001b[0m\u001b[1;33m\u001b[0m\u001b[1;33m\u001b[0m\u001b[0m\n\u001b[0;32m      5\u001b[0m     \u001b[1;32mdef\u001b[0m \u001b[0minside\u001b[0m\u001b[1;33m(\u001b[0m\u001b[1;33m)\u001b[0m\u001b[1;33m:\u001b[0m\u001b[1;33m\u001b[0m\u001b[1;33m\u001b[0m\u001b[0m\n\u001b[1;32m----> 6\u001b[1;33m         \u001b[0mx\u001b[0m \u001b[1;33m+=\u001b[0m \u001b[1;36m1\u001b[0m\u001b[1;33m\u001b[0m\u001b[1;33m\u001b[0m\u001b[0m\n\u001b[0m\u001b[0;32m      7\u001b[0m         \u001b[1;32mreturn\u001b[0m \u001b[0mx\u001b[0m\u001b[1;33m\u001b[0m\u001b[1;33m\u001b[0m\u001b[0m\n\u001b[0;32m      8\u001b[0m     \u001b[1;32mreturn\u001b[0m \u001b[0minside\u001b[0m\u001b[1;33m(\u001b[0m\u001b[1;33m)\u001b[0m\u001b[1;33m\u001b[0m\u001b[1;33m\u001b[0m\u001b[0m\n",
      "\u001b[1;31mUnboundLocalError\u001b[0m: local variable 'x' referenced before assignment"
     ]
    }
   ],
   "source": [
    "out()"
   ]
  },
  {
   "cell_type": "code",
   "execution_count": null,
   "metadata": {},
   "outputs": [],
   "source": []
  }
 ]
}