{
 "metadata": {
  "language_info": {
   "codemirror_mode": {
    "name": "ipython",
    "version": 3
   },
   "file_extension": ".py",
   "mimetype": "text/x-python",
   "name": "python",
   "nbconvert_exporter": "python",
   "pygments_lexer": "ipython3",
   "version": "3.7.7-final"
  },
  "orig_nbformat": 2,
  "kernelspec": {
   "name": "python3",
   "display_name": "Python 3"
  }
 },
 "nbformat": 4,
 "nbformat_minor": 2,
 "cells": [
  {
   "cell_type": "code",
   "execution_count": 10,
   "metadata": {},
   "outputs": [],
   "source": [
    "import timeit"
   ]
  },
  {
   "source": [
    "## 二叉树的遍历"
   ],
   "cell_type": "markdown",
   "metadata": {}
  },
  {
   "source": [
    "### test case"
   ],
   "cell_type": "markdown",
   "metadata": {}
  },
  {
   "cell_type": "code",
   "execution_count": 2,
   "metadata": {},
   "outputs": [],
   "source": [
    "class TreeNode:\n",
    "    def __init__(self,val):\n",
    "        self.val = val  \n",
    "        self.left = None  \n",
    "        self.right = None \n",
    "node0 = TreeNode(0)\n",
    "node1 = TreeNode(1)\n",
    "node2 = TreeNode(2)\n",
    "node3 = TreeNode(3)\n",
    "node4 = TreeNode(4)\n",
    "node5 = TreeNode(5)\n",
    "node6 = TreeNode(6)\n",
    "node0.left = node1  \n",
    "node0.right = node2  \n",
    "node1.left = node3 \n",
    "node1.right = node4  \n",
    "node2.left = node5 \n",
    "node2.right = node6 "
   ]
  },
  {
   "source": [
    "#### 前序遍历 "
   ],
   "cell_type": "markdown",
   "metadata": {}
  },
  {
   "cell_type": "code",
   "execution_count": 15,
   "metadata": {},
   "outputs": [],
   "source": [
    "## 递归 \n",
    "res = []\n",
    "def preorder(root):\n",
    "    if not root:\n",
    "        return   \n",
    "    res.append(root.val)\n",
    "    preorder(root.left)\n",
    "    preorder(root.right) "
   ]
  },
  {
   "cell_type": "code",
   "execution_count": 17,
   "metadata": {},
   "outputs": [],
   "source": [
    "preorder(node0)"
   ]
  },
  {
   "cell_type": "code",
   "execution_count": 18,
   "metadata": {},
   "outputs": [
    {
     "output_type": "execute_result",
     "data": {
      "text/plain": [
       "[0, 1, 3, 4, 2, 5, 6]"
      ]
     },
     "metadata": {},
     "execution_count": 18
    }
   ],
   "source": [
    "res "
   ]
  },
  {
   "cell_type": "code",
   "execution_count": 20,
   "metadata": {},
   "outputs": [],
   "source": [
    "## 迭代\n",
    "def preorder1(root):\n",
    "    if not root:\n",
    "        return  \n",
    "    stack = [root]\n",
    "    res = []\n",
    "    while stack:\n",
    "        node = stack.pop()\n",
    "        res.append(node.val)\n",
    "        if node.right:\n",
    "            stack.append(node.right)\n",
    "        if node.left:\n",
    "            stack.append(node.left)\n",
    "    return res "
   ]
  },
  {
   "cell_type": "code",
   "execution_count": 21,
   "metadata": {},
   "outputs": [
    {
     "output_type": "execute_result",
     "data": {
      "text/plain": [
       "[0, 1, 3, 4, 2, 5, 6]"
      ]
     },
     "metadata": {},
     "execution_count": 21
    }
   ],
   "source": [
    "preorder1(node0)"
   ]
  },
  {
   "cell_type": "code",
   "execution_count": 23,
   "metadata": {},
   "outputs": [],
   "source": [
    "## 迭代2 \n",
    "def preorder2(root):\n",
    "    if not root:\n",
    "        return \n",
    "    node = root  \n",
    "    stack = []\n",
    "    res = []\n",
    "    while node or stack:\n",
    "        if node:\n",
    "            stack.append(node)\n",
    "            res.append(node.val)\n",
    "            node = node.left  \n",
    "        else:\n",
    "            node = stack.pop()\n",
    "            node = node.right  \n",
    "    return res"
   ]
  },
  {
   "cell_type": "code",
   "execution_count": 24,
   "metadata": {},
   "outputs": [
    {
     "output_type": "execute_result",
     "data": {
      "text/plain": [
       "[0, 1, 3, 4, 2, 5, 6]"
      ]
     },
     "metadata": {},
     "execution_count": 24
    }
   ],
   "source": [
    "preorder2(node0)"
   ]
  },
  {
   "cell_type": "code",
   "execution_count": 1,
   "metadata": {},
   "outputs": [],
   "source": [
    "def preorder(root,res):\n",
    "    if not root:\n",
    "        return  \n",
    "    stack = []\n",
    "    node = root  \n",
    "    while stack or node:\n",
    "        while node:\n",
    "            stack.append(node)\n",
    "            res.append(node.val)\n",
    "            node = node.left \n",
    "        node = stack.pop()\n",
    "        node = node.right \n",
    "    return res "
   ]
  },
  {
   "cell_type": "code",
   "execution_count": 3,
   "metadata": {},
   "outputs": [
    {
     "output_type": "execute_result",
     "data": {
      "text/plain": [
       "[0, 1, 3, 4, 2, 5, 6]"
      ]
     },
     "metadata": {},
     "execution_count": 3
    }
   ],
   "source": [
    "preorder(node0,[])"
   ]
  },
  {
   "source": [
    "### 中序遍历"
   ],
   "cell_type": "markdown",
   "metadata": {}
  },
  {
   "cell_type": "code",
   "execution_count": 25,
   "metadata": {},
   "outputs": [],
   "source": [
    "def inorder(root,res):\n",
    "    if not root:\n",
    "        return\n",
    "    \n",
    "    inorder(root.left,res)\n",
    "    res.append(root.val)\n",
    "    inorder(root.right,res)\n",
    "\n",
    "    return res  \n",
    "    "
   ]
  },
  {
   "cell_type": "code",
   "execution_count": 28,
   "metadata": {},
   "outputs": [
    {
     "output_type": "execute_result",
     "data": {
      "text/plain": [
       "[3, 1, 4, 0, 5, 2, 6]"
      ]
     },
     "metadata": {},
     "execution_count": 28
    }
   ],
   "source": [
    "inorder(node0,[])"
   ]
  },
  {
   "cell_type": "code",
   "execution_count": 29,
   "metadata": {},
   "outputs": [],
   "source": [
    "def inorder(root,res):\n",
    "    if not root:\n",
    "        return res  \n",
    "    node = root  \n",
    "    stack = []\n",
    "\n",
    "    while node or stack:\n",
    "        while node:\n",
    "            stack.append(node)\n",
    "            node = node.left \n",
    "        node = stack.pop()\n",
    "        res.append(node.val)\n",
    "        node = node.right \n",
    "    return res "
   ]
  },
  {
   "cell_type": "code",
   "execution_count": 30,
   "metadata": {},
   "outputs": [
    {
     "output_type": "execute_result",
     "data": {
      "text/plain": [
       "[3, 1, 4, 0, 5, 2, 6]"
      ]
     },
     "metadata": {},
     "execution_count": 30
    }
   ],
   "source": [
    "inorder(node0,[])"
   ]
  },
  {
   "cell_type": "code",
   "execution_count": 31,
   "metadata": {},
   "outputs": [],
   "source": [
    "def inorder(root,res):\n",
    "    if not root:\n",
    "        return res  \n",
    "    \n",
    "    node = root  \n",
    "    stack = []\n",
    "\n",
    "    while node or stack:\n",
    "        if node:\n",
    "            stack.append(node)\n",
    "            node = node.left \n",
    "        else:\n",
    "            node = stack.pop()\n",
    "            res.append(node.val)\n",
    "            node = node.right \n",
    "    return res "
   ]
  },
  {
   "cell_type": "code",
   "execution_count": 33,
   "metadata": {},
   "outputs": [
    {
     "output_type": "execute_result",
     "data": {
      "text/plain": [
       "[3, 1, 4, 0, 5, 2, 6]"
      ]
     },
     "metadata": {},
     "execution_count": 33
    }
   ],
   "source": [
    "inorder(node0,[])"
   ]
  },
  {
   "cell_type": "code",
   "execution_count": 50,
   "metadata": {},
   "outputs": [],
   "source": [
    "def inorder(root,res):\n",
    "    if not root:\n",
    "        return  \n",
    "    prev = None \n",
    "    while root:\n",
    "        if root.left:\n",
    "            prev = root.left \n",
    "            while prev.right:\n",
    "                prev = prev.right  \n",
    "\n",
    "            prev.right = root  \n",
    "            tmp = root  \n",
    "            root = root.left  \n",
    "            tmp.left = None\n",
    "        else:\n",
    "            res.append(root.val)\n",
    "            root = root.right\n",
    "        \n",
    "    return res  "
   ]
  },
  {
   "cell_type": "code",
   "execution_count": 51,
   "metadata": {},
   "outputs": [
    {
     "output_type": "stream",
     "name": "stderr",
     "text": [
      "\nKeyboardInterrupt\n\n"
     ]
    }
   ],
   "source": [
    "inorder(node0,[])"
   ]
  },
  {
   "source": [
    "### 后序遍历\n"
   ],
   "cell_type": "markdown",
   "metadata": {}
  },
  {
   "cell_type": "code",
   "execution_count": 35,
   "metadata": {},
   "outputs": [],
   "source": [
    "def postorder(root,res):\n",
    "    if not root:\n",
    "        return \n",
    "    \n",
    "    postorder(root.left,res)\n",
    "    postorder(root.right,res)\n",
    "    res.append(root.val)\n",
    "    return res  "
   ]
  },
  {
   "cell_type": "code",
   "execution_count": 36,
   "metadata": {},
   "outputs": [
    {
     "output_type": "execute_result",
     "data": {
      "text/plain": [
       "[3, 4, 1, 5, 6, 2, 0]"
      ]
     },
     "metadata": {},
     "execution_count": 36
    }
   ],
   "source": [
    "postorder(node0,[])"
   ]
  },
  {
   "cell_type": "code",
   "execution_count": 37,
   "metadata": {},
   "outputs": [],
   "source": [
    "def postorder(root,res):\n",
    "    if not root:\n",
    "        return  \n",
    "    \n",
    "    stack1 = [root] \n",
    "    stack2 = [] \n",
    "\n",
    "    while stack1:\n",
    "        node = stack1.pop()\n",
    "        if node.left:\n",
    "            stack1.append(node.left)\n",
    "        if node.right:\n",
    "            stack1.append(node.right)\n",
    "        stack2.append(node)\n",
    "    while stack2:\n",
    "        res.append(stack2.pop().val)\n",
    "    return res \n"
   ]
  },
  {
   "cell_type": "code",
   "execution_count": 38,
   "metadata": {},
   "outputs": [
    {
     "output_type": "execute_result",
     "data": {
      "text/plain": [
       "[3, 4, 1, 5, 6, 2, 0]"
      ]
     },
     "metadata": {},
     "execution_count": 38
    }
   ],
   "source": [
    "postorder(node0,[])"
   ]
  },
  {
   "source": [
    "## 排序算法"
   ],
   "cell_type": "markdown",
   "metadata": {}
  },
  {
   "cell_type": "code",
   "execution_count": 1,
   "metadata": {},
   "outputs": [],
   "source": [
    "## 普通排序\n",
    "def Sort(nums):\n",
    "    n = len(nums)\n",
    "    for i in range(n):\n",
    "        for j in range(i+1,n):\n",
    "            if nums[i] > nums[j]:\n",
    "                nums[i],nums[j] = nums[j],nums[i]\n",
    "    return nums"
   ]
  },
  {
   "cell_type": "code",
   "execution_count": 2,
   "metadata": {},
   "outputs": [
    {
     "output_type": "execute_result",
     "data": {
      "text/plain": [
       "[1, 2, 3, 4, 5, 6, 34]"
      ]
     },
     "metadata": {},
     "execution_count": 2
    }
   ],
   "source": [
    "Sort([1,4,2,3,5,34,6])"
   ]
  },
  {
   "cell_type": "code",
   "execution_count": 3,
   "metadata": {},
   "outputs": [],
   "source": [
    "def bubbleSort(nums):\n",
    "    n = len(nums)\n",
    "    for i in range(n):\n",
    "        for j in range(n-1,i,-1):\n",
    "            if nums[j] < nums[j-1]:\n",
    "                nums[j-1],nums[j] = nums[j],nums[j-1]\n",
    "    return nums "
   ]
  },
  {
   "cell_type": "code",
   "execution_count": 4,
   "metadata": {},
   "outputs": [
    {
     "output_type": "execute_result",
     "data": {
      "text/plain": [
       "[1, 2, 3, 5, 6, 24]"
      ]
     },
     "metadata": {},
     "execution_count": 4
    }
   ],
   "source": [
    "bubbleSort([1,2,5,3,24,6])"
   ]
  },
  {
   "cell_type": "code",
   "execution_count": 37,
   "metadata": {},
   "outputs": [],
   "source": [
    "def bubbleSort(nums):\n",
    "    for i in range(len(nums)-1):\n",
    "        for j in range(len(nums)-1-i):\n",
    "            if nums[j] > nums[j+1]:\n",
    "                nums[j],nums[j+1] = nums[j+1],nums[j]\n",
    "    return nums "
   ]
  },
  {
   "cell_type": "code",
   "execution_count": 38,
   "metadata": {},
   "outputs": [
    {
     "output_type": "execute_result",
     "data": {
      "text/plain": [
       "[1, 2, 3, 3, 5, 6]"
      ]
     },
     "metadata": {},
     "execution_count": 38
    }
   ],
   "source": [
    "bubbleSort([1,3,6,5,3,2])"
   ]
  },
  {
   "cell_type": "code",
   "execution_count": 23,
   "metadata": {},
   "outputs": [],
   "source": [
    "## 优化 设置标志位 已排好顺序的数据不用再排序\n",
    "def bubbleSort2(nums):\n",
    "    for i in range(len(nums)-1):\n",
    "        flag = False \n",
    "        for j in range(len(nums)-1-i):\n",
    "            if nums[j] > nums[j+1]:\n",
    "                nums[j],nums[j+1] = nums[j+1],nums[j]\n",
    "                flag = True \n",
    "        if not flag:\n",
    "            break  \n",
    "    return nums"
   ]
  },
  {
   "cell_type": "code",
   "execution_count": 35,
   "metadata": {},
   "outputs": [
    {
     "output_type": "execute_result",
     "data": {
      "text/plain": [
       "0.00010010000005422626"
      ]
     },
     "metadata": {},
     "execution_count": 35
    }
   ],
   "source": [
    "timeit.timeit(\"bubbleSort2([1,2,3,4,5,6])\",\"from __main__ import bubbleSort2\",number=100)"
   ]
  },
  {
   "cell_type": "code",
   "execution_count": 39,
   "metadata": {},
   "outputs": [
    {
     "output_type": "execute_result",
     "data": {
      "text/plain": [
       "0.00026800000000548607"
      ]
     },
     "metadata": {},
     "execution_count": 39
    }
   ],
   "source": [
    "timeit.timeit(\"bubbleSort([1,2,3,4,5,6])\",\"from __main__ import bubbleSort\",number=100)"
   ]
  },
  {
   "cell_type": "code",
   "execution_count": 42,
   "metadata": {},
   "outputs": [
    {
     "output_type": "stream",
     "name": "stdout",
     "text": [
      "1.01 µs ± 11.5 ns per loop (mean ± std. dev. of 7 runs, 1000000 loops each)\n"
     ]
    }
   ],
   "source": [
    "%timeit bubbleSort2([1,2,3,4,5,6])"
   ]
  },
  {
   "cell_type": "code",
   "execution_count": 43,
   "metadata": {},
   "outputs": [
    {
     "output_type": "stream",
     "name": "stdout",
     "text": [
      "2.84 µs ± 17.7 ns per loop (mean ± std. dev. of 7 runs, 100000 loops each)\n"
     ]
    }
   ],
   "source": [
    "%timeit bubbleSort([1,2,3,4,5,6])"
   ]
  },
  {
   "cell_type": "code",
   "execution_count": 48,
   "metadata": {},
   "outputs": [],
   "source": [
    "## 选择排序\n",
    "def selectSort(nums):\n",
    "    for i in range(len(nums)-1):\n",
    "        minindex = i  \n",
    "        for j in range(i+1,len(nums)):\n",
    "            if nums[minindex] > nums[j]:\n",
    "                minindex = j \n",
    "        if minindex != i:\n",
    "            nums[i],nums[minindex] = nums[minindex],nums[i]\n",
    "    return nums "
   ]
  },
  {
   "cell_type": "code",
   "execution_count": 47,
   "metadata": {},
   "outputs": [
    {
     "output_type": "execute_result",
     "data": {
      "text/plain": [
       "[1, 2, 3, 4, 5]"
      ]
     },
     "metadata": {},
     "execution_count": 47
    }
   ],
   "source": [
    "selectSort([1,5,3,2,4])"
   ]
  },
  {
   "cell_type": "code",
   "execution_count": 53,
   "metadata": {},
   "outputs": [],
   "source": [
    "## 插入排序\n",
    "def insertSort(nums):\n",
    "    for i in range(len(nums)):\n",
    "        num = nums[i]\n",
    "        while i - 1 >= 0 and num < nums[i-1]:\n",
    "            nums[i] = nums[i-1]\n",
    "            i -= 1 \n",
    "        nums[i] = num\n",
    "    return nums "
   ]
  },
  {
   "cell_type": "code",
   "execution_count": 68,
   "metadata": {},
   "outputs": [],
   "source": [
    "def insergSort(nums):\n",
    "    for i in range(len(nums)):\n",
    "        num = nums[i]\n",
    "        while i - 1 >= 0 and num < nums[i-1]:\n",
    "            nums[i-1],nums[i] = nums[i],nums[i-1]\n",
    "            i -= 1 \n",
    "    return nums "
   ]
  },
  {
   "cell_type": "code",
   "execution_count": 69,
   "metadata": {},
   "outputs": [
    {
     "output_type": "execute_result",
     "data": {
      "text/plain": [
       "[1, 2, 3, 4, 5]"
      ]
     },
     "metadata": {},
     "execution_count": 69
    }
   ],
   "source": [
    "insertSort([1,3,5,2,4])"
   ]
  },
  {
   "cell_type": "code",
   "execution_count": 63,
   "metadata": {},
   "outputs": [],
   "source": [
    "def insertSort(nums):\n",
    "    for i in range(len(nums)-1):\n",
    "        for j in range(i+1,0,-1):\n",
    "            if nums[j] < nums[j-1]:\n",
    "                nums[j-1],nums[j] = nums[j],nums[j-1]\n",
    "    return nums  "
   ]
  },
  {
   "cell_type": "code",
   "execution_count": 65,
   "metadata": {},
   "outputs": [
    {
     "output_type": "execute_result",
     "data": {
      "text/plain": [
       "[1, 2, 2, 3, 3, 5, 6]"
      ]
     },
     "metadata": {},
     "execution_count": 65
    }
   ],
   "source": [
    "insertSort([1,2,5,3,2,6,3])"
   ]
  },
  {
   "cell_type": "code",
   "execution_count": 72,
   "metadata": {},
   "outputs": [],
   "source": [
    "## 希尔排序\n",
    "def shellSort(nums,gap):\n",
    "    while ga\n",
    "        for i in range(gap,len(nums)):\n",
    "            num = nums[i]\n",
    "            while i - gap >= 0 and num < nums[i-gap]:\n",
    "                nums[i],nums[i-gap] = nums[i-gap],nums[i]\n",
    "                i -= gap\n",
    "        gap //= 2  \n",
    "    return nums  "
   ]
  },
  {
   "cell_type": "code",
   "execution_count": 75,
   "metadata": {},
   "outputs": [
    {
     "output_type": "execute_result",
     "data": {
      "text/plain": [
       "[1, 2, 3, 5, 5, 6]"
      ]
     },
     "metadata": {},
     "execution_count": 75
    }
   ],
   "source": [
    "shellSort([1,5,3,2,5,6],100000)"
   ]
  },
  {
   "cell_type": "code",
   "execution_count": 82,
   "metadata": {},
   "outputs": [],
   "source": [
    "def shellSort(nums,gap):\n",
    "    while True:\n",
    "        gap //= 2\n",
    "        for i in range(gap):\n",
    "            for j in range(i+gap,len(nums),gap):\n",
    "                for k in (j,i,-gap):\n",
    "                    if nums[k] < nums[k-gap]:\n",
    "                        nums[k-gap],nums[k] = nums[k],nums[k-gap]\n",
    "                    else:\n",
    "                        break  \n",
    "        if gap == 1:\n",
    "            break \n",
    "    return nums\n",
    "                \n",
    "\n",
    "\n"
   ]
  },
  {
   "cell_type": "code",
   "execution_count": 83,
   "metadata": {},
   "outputs": [
    {
     "output_type": "execute_result",
     "data": {
      "text/plain": [
       "[6, 4, 2, 1, 3, 6]"
      ]
     },
     "metadata": {},
     "execution_count": 83
    }
   ],
   "source": [
    "shellSort([1,6,4,2,3,6],2)"
   ]
  },
  {
   "cell_type": "code",
   "execution_count": null,
   "metadata": {},
   "outputs": [],
   "source": []
  }
 ]
}