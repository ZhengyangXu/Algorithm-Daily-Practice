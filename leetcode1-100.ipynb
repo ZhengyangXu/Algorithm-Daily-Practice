{
 "metadata": {
  "language_info": {
   "codemirror_mode": {
    "name": "ipython",
    "version": 3
   },
   "file_extension": ".py",
   "mimetype": "text/x-python",
   "name": "python",
   "nbconvert_exporter": "python",
   "pygments_lexer": "ipython3",
   "version": "3.7.6-final"
  },
  "orig_nbformat": 2,
  "kernelspec": {
   "name": "python3",
   "display_name": "Python 3"
  }
 },
 "nbformat": 4,
 "nbformat_minor": 2,
 "cells": [
  {
   "cell_type": "code",
   "execution_count": 19,
   "metadata": {},
   "outputs": [],
   "source": [
    "#\n",
    "# @lc app=leetcode.cn id=32 lang=python3\n",
    "#\n",
    "# [32] 最长有效括号\n",
    "#\n",
    "# https://leetcode-cn.com/problems/longest-valid-parentheses/description/\n",
    "#\n",
    "# algorithms\n",
    "# Hard (33.99%)\n",
    "# Likes:    1047\n",
    "# Dislikes: 0\n",
    "# Total Accepted:    109.3K\n",
    "# Total Submissions: 321.6K\n",
    "# Testcase Example:  '\"(()\"'\n",
    "#\n",
    "# 给定一个只包含 '(' 和 ')' 的字符串，找出最长的包含有效括号的子串的长度。\n",
    "# \n",
    "# 示例 1:\n",
    "# \n",
    "# 输入: \"(()\"\n",
    "# 输出: 2\n",
    "# 解释: 最长有效括号子串为 \"()\"\n",
    "# \n",
    "# \n",
    "# 示例 2:\n",
    "# \n",
    "# 输入: \")()())\"\n",
    "# 输出: 4\n",
    "# 解释: 最长有效括号子串为 \"()()\"\n",
    "# \n",
    "# \n",
    "#\n",
    "\n",
    "# @lc code=start\n",
    "\n",
    "def longestValidParentheses1(s):\n",
    "    if not s:\n",
    "        return 0 \n",
    "    \n",
    "    dp = [0]*len(s)\n",
    "    ans = 0\n",
    "    for i in range(len(s)):\n",
    "        if s[i] == \")\":\n",
    "            if s[i-1] == \"(\":\n",
    "                dp[i] = dp[i-2] + 2 if i >= 2 else 2 \n",
    "            else:\n",
    "                if i - dp[i-1] > 0 and s[i-dp[i-1]-1] == \"(\":\n",
    "                    dp[i] = dp[i-1] + dp[i-dp[i-1]-2] + 2 if i - dp[i-1] - 2 >= 0 else dp[i-1] + 2 \n",
    "        ans = max(ans,dp[i])\n",
    "    return ans \n",
    "\n",
    "def longestValidParentheses2(s):\n",
    "    if not s:\n",
    "        return 0 \n",
    "    stack = [-1]\n",
    "    ans = 0\n",
    "    for i in range(len(s)):\n",
    "        if s[i] == \"(\":\n",
    "            stack.append(i)\n",
    "        else:\n",
    "            stack.pop()\n",
    "            if stack:\n",
    "                ans = max(ans,i-stack[-1])\n",
    "            else:\n",
    "                stack.append(i)\n",
    "    return ans "
   ]
  },
  {
   "cell_type": "code",
   "execution_count": 20,
   "metadata": {},
   "outputs": [
    {
     "output_type": "execute_result",
     "data": {
      "text/plain": [
       "4"
      ]
     },
     "metadata": {},
     "execution_count": 20
    }
   ],
   "source": [
    "longestValidParentheses2(\")()())\")"
   ]
  },
  {
   "cell_type": "code",
   "execution_count": 23,
   "metadata": {},
   "outputs": [],
   "source": [
    "def longestValidParentheses3(s):\n",
    "    if not s:\n",
    "        return 0 \n",
    "    left = right = ans = 0 \n",
    "    for i in range(len(s)):\n",
    "        if s[i] == \"(\":\n",
    "            left += 1 \n",
    "        else:\n",
    "            right += 1 \n",
    "        if left == right:\n",
    "            ans = max(ans,left*2)\n",
    "        if right > left:\n",
    "            left = right = 0 \n",
    "    left=right=0 \n",
    "    for i in range(len(s)-1,-1,-1):\n",
    "        if s[i] == \"(\":\n",
    "            left += 1 \n",
    "        else:\n",
    "            right += 1 \n",
    "        if left == right:\n",
    "            ans = max(ans,2*left)\n",
    "        if left > right:\n",
    "            left=right=0\n",
    "    return ans "
   ]
  },
  {
   "cell_type": "code",
   "execution_count": 24,
   "metadata": {},
   "outputs": [
    {
     "output_type": "execute_result",
     "data": {
      "text/plain": [
       "4"
      ]
     },
     "metadata": {},
     "execution_count": 24
    }
   ],
   "source": [
    "longestValidParentheses3(\")()())\")"
   ]
  },
  {
   "cell_type": "code",
   "execution_count": 12,
   "metadata": {},
   "outputs": [],
   "source": [
    "#\n",
    "# @lc app=leetcode.cn id=34 lang=python3\n",
    "#\n",
    "# [34] 在排序数组中查找元素的第一个和最后一个位置\n",
    "#\n",
    "# https://leetcode-cn.com/problems/find-first-and-last-position-of-element-in-sorted-array/description/\n",
    "#\n",
    "# algorithms\n",
    "# Medium (39.96%)\n",
    "# Likes:    522\n",
    "# Dislikes: 0\n",
    "# Total Accepted:    114.4K\n",
    "# Total Submissions: 285.9K\n",
    "# Testcase Example:  '[5,7,7,8,8,10]\\n8'\n",
    "#\n",
    "# 给定一个按照升序排列的整数数组 nums，和一个目标值 target。找出给定目标值在数组中的开始位置和结束位置。\n",
    "# \n",
    "# 你的算法时间复杂度必须是 O(log n) 级别。\n",
    "# \n",
    "# 如果数组中不存在目标值，返回 [-1, -1]。\n",
    "# \n",
    "# 示例 1:\n",
    "# \n",
    "# 输入: nums = [5,7,7,8,8,10], target = 8\n",
    "# 输出: [3,4]\n",
    "# \n",
    "# 示例 2:\n",
    "# \n",
    "# 输入: nums = [5,7,7,8,8,10], target = 6\n",
    "# 输出: [-1,-1]\n",
    "# \n",
    "#\n",
    "def searchRange(nums, target):\n",
    "    def leftIndx(nums,target,left):\n",
    "        low,high = 0,len(nums)\n",
    "        while low < high:\n",
    "            mid = low + (high-low)//2 \n",
    "            if nums[mid] > target or (left and nums[mid] == target):\n",
    "                high = mid   \n",
    "            else:\n",
    "                low = mid + 1  \n",
    "        return low  \n",
    "    if not nums:\n",
    "        return [-1,-1]\n",
    "    left =  leftIndx(nums,target,True)\n",
    "\n",
    "    if left > len(nums) or nums[left] != target:\n",
    "        return [-1,-1]\n",
    "\n",
    "    right = leftIndx(nums,target,False) - 1\n",
    "    return [left,right]"
   ]
  },
  {
   "cell_type": "code",
   "execution_count": 13,
   "metadata": {},
   "outputs": [
    {
     "output_type": "execute_result",
     "data": {
      "text/plain": [
       "[3, 4]"
      ]
     },
     "metadata": {},
     "execution_count": 13
    }
   ],
   "source": [
    "searchRange([5,7,7,8,8,10],8)"
   ]
  },
  {
   "cell_type": "code",
   "execution_count": 27,
   "metadata": {},
   "outputs": [],
   "source": [
    "#\n",
    "# @lc app=leetcode.cn id=36 lang=python3\n",
    "#\n",
    "# [36] 有效的数独\n",
    "#\n",
    "# https://leetcode-cn.com/problems/valid-sudoku/description/\n",
    "#\n",
    "# algorithms\n",
    "# Medium (61.23%)\n",
    "# Likes:    444\n",
    "# Dislikes: 0\n",
    "# Total Accepted:    105K\n",
    "# Total Submissions: 171K\n",
    "# Testcase Example:  '[[\"5\",\"3\",\".\",\".\",\"7\",\".\",\".\",\".\",\".\"],[\"6\",\".\",\".\",\"1\",\"9\",\"5\",\".\",\".\",\".\"],[\".\",\"9\",\"8\",\".\",\".\",\".\",\".\",\"6\",\".\"],[\"8\",\".\",\".\",\".\",\"6\",\".\",\".\",\".\",\"3\"],[\"4\",\".\",\".\",\"8\",\".\",\"3\",\".\",\".\",\"1\"],[\"7\",\".\",\".\",\".\",\"2\",\".\",\".\",\".\",\"6\"],[\".\",\"6\",\".\",\".\",\".\",\".\",\"2\",\"8\",\".\"],[\".\",\".\",\".\",\"4\",\"1\",\"9\",\".\",\".\",\"5\"],[\".\",\".\",\".\",\".\",\"8\",\".\",\".\",\"7\",\"9\"]]'\n",
    "#\n",
    "# 判断一个 9x9 的数独是否有效。只需要根据以下规则，验证已经填入的数字是否有效即可。\n",
    "# \n",
    "# \n",
    "# 数字 1-9 在每一行只能出现一次。\n",
    "# 数字 1-9 在每一列只能出现一次。\n",
    "# 数字 1-9 在每一个以粗实线分隔的 3x3 宫内只能出现一次。\n",
    "# \n",
    "# \n",
    "# \n",
    "# \n",
    "# 上图是一个部分填充的有效的数独。\n",
    "# \n",
    "# 数独部分空格内已填入了数字，空白格用 '.' 表示。\n",
    "# \n",
    "# 示例 1:\n",
    "# \n",
    "# 输入:\n",
    "# [\n",
    "# ⁠ [\"5\",\"3\",\".\",\".\",\"7\",\".\",\".\",\".\",\".\"],\n",
    "# ⁠ [\"6\",\".\",\".\",\"1\",\"9\",\"5\",\".\",\".\",\".\"],\n",
    "# ⁠ [\".\",\"9\",\"8\",\".\",\".\",\".\",\".\",\"6\",\".\"],\n",
    "# ⁠ [\"8\",\".\",\".\",\".\",\"6\",\".\",\".\",\".\",\"3\"],\n",
    "# ⁠ [\"4\",\".\",\".\",\"8\",\".\",\"3\",\".\",\".\",\"1\"],\n",
    "# ⁠ [\"7\",\".\",\".\",\".\",\"2\",\".\",\".\",\".\",\"6\"],\n",
    "# ⁠ [\".\",\"6\",\".\",\".\",\".\",\".\",\"2\",\"8\",\".\"],\n",
    "# ⁠ [\".\",\".\",\".\",\"4\",\"1\",\"9\",\".\",\".\",\"5\"],\n",
    "# ⁠ [\".\",\".\",\".\",\".\",\"8\",\".\",\".\",\"7\",\"9\"]\n",
    "# ]\n",
    "# 输出: true\n",
    "# \n",
    "# \n",
    "# 示例 2:\n",
    "# \n",
    "# 输入:\n",
    "# [\n",
    "# [\"8\",\"3\",\".\",\".\",\"7\",\".\",\".\",\".\",\".\"],\n",
    "# [\"6\",\".\",\".\",\"1\",\"9\",\"5\",\".\",\".\",\".\"],\n",
    "# [\".\",\"9\",\"8\",\".\",\".\",\".\",\".\",\"6\",\".\"],\n",
    "# [\"8\",\".\",\".\",\".\",\"6\",\".\",\".\",\".\",\"3\"],\n",
    "# [\"4\",\".\",\".\",\"8\",\".\",\"3\",\".\",\".\",\"1\"],\n",
    "# [\"7\",\".\",\".\",\".\",\"2\",\".\",\".\",\".\",\"6\"],\n",
    "# [\".\",\"6\",\".\",\".\",\".\",\".\",\"2\",\"8\",\".\"],\n",
    "# [\".\",\".\",\".\",\"4\",\"1\",\"9\",\".\",\".\",\"5\"],\n",
    "# [\".\",\".\",\".\",\".\",\"8\",\".\",\".\",\"7\",\"9\"]\n",
    "# ]\n",
    "# 输出: false\n",
    "# 解释: 除了第一行的第一个数字从 5 改为 8 以外，空格内其他数字均与 示例1 相同。\n",
    "# ⁠    但由于位于左上角的 3x3 宫内有两个 8 存在, 因此这个数独是无效的。\n",
    "# \n",
    "# 说明:\n",
    "# \n",
    "# \n",
    "# 一个有效的数独（部分已被填充）不一定是可解的。\n",
    "# 只需要根据以上规则，验证已经填入的数字是否有效即可。\n",
    "# 给定数独序列只包含数字 1-9 和字符 '.' 。\n",
    "# 给定数独永远是 9x9 形式的。\n",
    "# \n",
    "# \n",
    "#\n",
    "\n",
    "# @lc code=start\n",
    "\n",
    "def isValidSudoku(board):\n",
    "    rows,columns,boxes = [[0 for j in range(9)] for i in range(9)],[[0 for j in range(9)] for i in range(9)],[[0 for j in range(9)] for i in range(9)]\n",
    "\n",
    "    for i in range(9):\n",
    "        for j in range(9):\n",
    "            num = board[i][j]\n",
    "            if num != \".\":\n",
    "                box = (i//3)*3 + j//3 \n",
    "                num = int(num) - 1 \n",
    "                # if rows[i][num] == 0 and columns[j][num] ==0 and boxes[box][num] ==0:\n",
    "                #     rows[i][num] = 1 \n",
    "                #     columns[j][num] = 1\n",
    "                #     boxes[box][num] = 1\n",
    "                # else:\n",
    "                #     return False\n",
    "                rows[i][num] += 1\n",
    "                columns[j][num] += 1 \n",
    "                boxes[box][num] += 1\n",
    "                if rows[i][num] > 1 or columns[j][num] > 1 or boxes[box][num] > 1:\n",
    "                    return False \n",
    "\n",
    "    return True \n",
    "   "
   ]
  },
  {
   "cell_type": "code",
   "execution_count": 49,
   "metadata": {},
   "outputs": [],
   "source": [
    "board =  [[\"5\",\"3\",\".\",\".\",\"7\",\".\",\".\",\".\",\".\"],[\"6\",\".\",\".\",\"1\",\"9\",\"5\",\".\",\".\",\".\"],[\".\",\"9\",\"8\",\".\",\".\",\".\",\".\",\"6\",\".\"],[\"8\",\".\",\".\",\".\",\"6\",\".\",\".\",\".\",\"3\"],[\"4\",\".\",\".\",\"8\",\".\",\"3\",\".\",\".\",\"1\"],[\"7\",\".\",\".\",\".\",\"2\",\".\",\".\",\".\",\"6\"],[\".\",\"6\",\".\",\".\",\".\",\".\",\"2\",\"8\",\".\"],[\".\",\".\",\".\",\"4\",\"1\",\"9\",\".\",\".\",\"5\"],[\".\",\".\",\".\",\".\",\"8\",\".\",\".\",\"7\",\"9\"]]\n"
   ]
  },
  {
   "cell_type": "code",
   "execution_count": 50,
   "metadata": {},
   "outputs": [],
   "source": [
    "def isValidSudoku3(board):\n",
    "    rows,cols,boxes = [0]*9,[0]*9,[0]*9\n",
    "    for i in range(9):\n",
    "        for j in range(9):\n",
    "            if board[i][j] != \".\":\n",
    "                num = int(board[i][j])  \n",
    "                box = (i//3) * 3 + j // 3 \n",
    "\n",
    "                row = rows[i] >> num & 1 \n",
    "                col = cols[j] >> num & 1 \n",
    "                box = boxes[box] >> num & 1 \n",
    "                if row == 1 or col == 1 or box == 1:\n",
    "                    return False \n",
    "                rows[i] = rows[i] | (1 << num) \n",
    "                cols[j] = cols[j] | (1 << num) \n",
    "                boxes[box] = boxes[box] | (1 << num)  \n",
    "    return True \n",
    "\n",
    "\n"
   ]
  },
  {
   "cell_type": "code",
   "execution_count": 51,
   "metadata": {},
   "outputs": [
    {
     "output_type": "execute_result",
     "data": {
      "text/plain": [
       "False"
      ]
     },
     "metadata": {},
     "execution_count": 51
    }
   ],
   "source": [
    "isValidSudoku3(board)"
   ]
  },
  {
   "cell_type": "code",
   "execution_count": 52,
   "metadata": {},
   "outputs": [
    {
     "output_type": "execute_result",
     "data": {
      "text/plain": [
       "[[0, 0, 0], [0, 0, 0], [0, 0, 0]]"
      ]
     },
     "metadata": {},
     "execution_count": 52
    }
   ],
   "source": [
    "[[0] *3  for i in range(3)]  "
   ]
  },
  {
   "cell_type": "code",
   "execution_count": 53,
   "metadata": {},
   "outputs": [
    {
     "output_type": "execute_result",
     "data": {
      "text/plain": [
       "[[[False, False, False, False, False, False, False, False, False],\n",
       "  [False, False, False, False, False, False, False, False, False],\n",
       "  [False, False, False, False, False, False, False, False, False]],\n",
       " [[False, False, False, False, False, False, False, False, False],\n",
       "  [False, False, False, False, False, False, False, False, False],\n",
       "  [False, False, False, False, False, False, False, False, False]],\n",
       " [[False, False, False, False, False, False, False, False, False],\n",
       "  [False, False, False, False, False, False, False, False, False],\n",
       "  [False, False, False, False, False, False, False, False, False]]]"
      ]
     },
     "metadata": {},
     "execution_count": 53
    }
   ],
   "source": [
    "[[[False] * 9 for _a in range(3)] for _b in range(3)]"
   ]
  },
  {
   "cell_type": "code",
   "execution_count": 4,
   "metadata": {},
   "outputs": [],
   "source": [
    "#\n",
    "# @lc app=leetcode.cn id=37 lang=python3\n",
    "#\n",
    "# [37] 解数独\n",
    "#\n",
    "# https://leetcode-cn.com/problems/sudoku-solver/description/\n",
    "#\n",
    "# algorithms\n",
    "# Hard (66.67%)\n",
    "# Likes:    691\n",
    "# Dislikes: 0\n",
    "# Total Accepted:    61.7K\n",
    "# Total Submissions: 92.6K\n",
    "# Testcase Example:  '[[\"5\",\"3\",\".\",\".\",\"7\",\".\",\".\",\".\",\".\"],[\"6\",\".\",\".\",\"1\",\"9\",\"5\",\".\",\".\",\".\"],[\".\",\"9\",\"8\",\".\",\".\",\".\",\".\",\"6\",\".\"],[\"8\",\".\",\".\",\".\",\"6\",\".\",\".\",\".\",\"3\"],[\"4\",\".\",\".\",\"8\",\".\",\"3\",\".\",\".\",\"1\"],[\"7\",\".\",\".\",\".\",\"2\",\".\",\".\",\".\",\"6\"],[\".\",\"6\",\".\",\".\",\".\",\".\",\"2\",\"8\",\".\"],[\".\",\".\",\".\",\"4\",\"1\",\"9\",\".\",\".\",\"5\"],[\".\",\".\",\".\",\".\",\"8\",\".\",\".\",\"7\",\"9\"]]'\n",
    "#\n",
    "# 编写一个程序，通过填充空格来解决数独问题。\n",
    "# \n",
    "# 一个数独的解法需遵循如下规则：\n",
    "# \n",
    "# \n",
    "# 数字 1-9 在每一行只能出现一次。\n",
    "# 数字 1-9 在每一列只能出现一次。\n",
    "# 数字 1-9 在每一个以粗实线分隔的 3x3 宫内只能出现一次。\n",
    "# \n",
    "# \n",
    "# 空白格用 '.' 表示。\n",
    "# \n",
    "# \n",
    "# \n",
    "# 一个数独。\n",
    "# \n",
    "# \n",
    "# \n",
    "# 答案被标成红色。\n",
    "# \n",
    "# 提示：\n",
    "# \n",
    "# \n",
    "# 给定的数独序列只包含数字 1-9 和字符 '.' 。\n",
    "# 你可以假设给定的数独只有唯一解。\n",
    "# 给定数独永远是 9x9 形式的。\n",
    "# \n",
    "# \n",
    "#\n",
    "def solveSudoku(board):\n",
    "\n",
    "    def isvalid(board,r,c,n):\n",
    "\n",
    "        for i in range(9):\n",
    "            if board[r][i] == n or board[i][c] == n or board[(r//3)*3+i//3][(c//3)*3+i%3] == n:\n",
    "                return False\n",
    "        return True\n",
    "    \n",
    "    def backtrack(board,r,c):\n",
    "\n",
    "        if c == 9:\n",
    "            return backtrack(board,r+1,0)\n",
    "\n",
    "        if r == 9:\n",
    "            return True  \n",
    "\n",
    "        \n",
    "        for i in range(r,9):\n",
    "            for j in range(c,9):\n",
    "\n",
    "                if board[i][j] != \".\":\n",
    "                    return backtrack(board,i,j+1)\n",
    "                \n",
    "                for num in range(1,10):\n",
    "                    if not isvalid(board,i,j,str(num)):\n",
    "                        continue \n",
    "                    board[i][j] = str(num)\n",
    "\n",
    "                    if backtrack(board,i,j+1):\n",
    "                        return True  \n",
    "                    board[i][j] = \".\"\n",
    "                \n",
    "                return False  \n",
    "    backtrack(board,0,0)\n",
    "    return board \n",
    "\n",
    "\n",
    "          \n"
   ]
  },
  {
   "cell_type": "code",
   "execution_count": 30,
   "metadata": {},
   "outputs": [],
   "source": [
    "board = [[\"5\",\"3\",\".\",\".\",\"7\",\".\",\".\",\".\",\".\"],[\"6\",\".\",\".\",\"1\",\"9\",\"5\",\".\",\".\",\".\"],[\".\",\"9\",\"8\",\".\",\".\",\".\",\".\",\"6\",\".\"],[\"8\",\".\",\".\",\".\",\"6\",\".\",\".\",\".\",\"3\"],[\"4\",\".\",\".\",\"8\",\".\",\"3\",\".\",\".\",\"1\"],[\"7\",\".\",\".\",\".\",\"2\",\".\",\".\",\".\",\"6\"],[\".\",\"6\",\".\",\".\",\".\",\".\",\"2\",\"8\",\".\"],[\".\",\".\",\".\",\"4\",\"1\",\"9\",\".\",\".\",\"5\"],[\".\",\".\",\".\",\".\",\"8\",\".\",\".\",\"7\",\"9\"]]"
   ]
  },
  {
   "cell_type": "code",
   "execution_count": 6,
   "metadata": {},
   "outputs": [
    {
     "output_type": "execute_result",
     "data": {
      "text/plain": [
       "[['5', '3', '4', '6', '7', '8', '9', '1', '2'],\n",
       " ['6', '7', '2', '1', '9', '5', '3', '4', '8'],\n",
       " ['1', '9', '8', '3', '4', '2', '5', '6', '7'],\n",
       " ['8', '5', '9', '7', '6', '1', '4', '2', '3'],\n",
       " ['4', '2', '6', '8', '5', '3', '7', '9', '1'],\n",
       " ['7', '1', '3', '9', '2', '4', '8', '5', '6'],\n",
       " ['9', '6', '1', '5', '3', '7', '2', '8', '4'],\n",
       " ['2', '8', '7', '4', '1', '9', '6', '3', '5'],\n",
       " ['3', '4', '5', '2', '8', '6', '1', '7', '9']]"
      ]
     },
     "metadata": {},
     "execution_count": 6
    }
   ],
   "source": [
    "solveSudoku(board)"
   ]
  },
  {
   "cell_type": "code",
   "execution_count": 35,
   "metadata": {},
   "outputs": [],
   "source": [
    "def solveSudoku2(board):\n",
    "    if not board:\n",
    "        return \n",
    "    rows = [[0]*9 for _ in range(9)]\n",
    "    cols = [[0]*9 for _ in range(9)]\n",
    "   # boxes = [[[0]*9 for _ in range(3)] for _ in range(3)]\n",
    "    boxes = [[0]*9 for _ in range(9)]\n",
    "    valid = False\n",
    "    tofill = []\n",
    "    for i in range(9):\n",
    "        for j in range(9):\n",
    "            if board[i][j] == \".\":\n",
    "                tofill.append((i,j))\n",
    "            else:\n",
    "                num = int(board[i][j]) - 1\n",
    "                rows[i][num] = cols[j][num] = boxes[(i//3)*3+j//3][num] = True \n",
    "\n",
    "    def backtrack(pos):\n",
    "        nonlocal valid   \n",
    "        if pos == len(tofill):\n",
    "            valid = True \n",
    "            return\n",
    "\n",
    "        row,col = tofill[pos]\n",
    "\n",
    "        for i in range(9):\n",
    "            if rows[row][i] == cols[col][i] == boxes[(row//3)*3+col//3][i] == False:\n",
    "                rows[row][i] = cols[col][i] = boxes[(row//3)*3+col//3][i] = True  \n",
    "                board[row][col] = str(i+1)  \n",
    "                backtrack(pos+1)\n",
    "                rows[row][i] = cols[col][i] = boxes[(row//3)*3+col//3][i] = False \n",
    "            if valid:\n",
    "                return \n",
    "    backtrack(0)\n",
    "    return board\n",
    "\n",
    "\n",
    "            \n"
   ]
  },
  {
   "cell_type": "code",
   "execution_count": 36,
   "metadata": {},
   "outputs": [
    {
     "output_type": "execute_result",
     "data": {
      "text/plain": [
       "[['5', '3', '4', '2', '7', '1', '9', '9', '8'],\n",
       " ['6', '7', '2', '1', '9', '5', '4', '3', '.'],\n",
       " ['.', '9', '8', '.', '.', '.', '.', '6', '.'],\n",
       " ['8', '.', '.', '.', '6', '.', '.', '.', '3'],\n",
       " ['4', '.', '.', '8', '.', '3', '.', '.', '1'],\n",
       " ['7', '.', '.', '.', '2', '.', '.', '.', '6'],\n",
       " ['.', '6', '.', '.', '.', '.', '2', '8', '.'],\n",
       " ['.', '.', '.', '4', '1', '9', '.', '.', '5'],\n",
       " ['.', '.', '.', '.', '8', '.', '.', '7', '9']]"
      ]
     },
     "metadata": {},
     "execution_count": 36
    }
   ],
   "source": [
    "solveSudoku2(board)"
   ]
  },
  {
   "cell_type": "code",
   "execution_count": 1,
   "metadata": {},
   "outputs": [],
   "source": [
    "#\n",
    "# @lc app=leetcode.cn id=41 lang=python3\n",
    "#\n",
    "# [41] 缺失的第一个正数\n",
    "#\n",
    "# https://leetcode-cn.com/problems/first-missing-positive/description/\n",
    "#\n",
    "# algorithms\n",
    "# Hard (40.32%)\n",
    "# Likes:    866\n",
    "# Dislikes: 0\n",
    "# Total Accepted:    99.3K\n",
    "# Total Submissions: 246.3K\n",
    "# Testcase Example:  '[1,2,0]'\n",
    "#\n",
    "# 给你一个未排序的整数数组，请你找出其中没有出现的最小的正整数。\n",
    "# \n",
    "# \n",
    "# \n",
    "# 示例 1:\n",
    "# \n",
    "# 输入: [1,2,0]\n",
    "# 输出: 3\n",
    "# \n",
    "# \n",
    "# 示例 2:\n",
    "# \n",
    "# 输入: [3,4,-1,1]\n",
    "# 输出: 2\n",
    "# \n",
    "# \n",
    "# 示例 3:\n",
    "# \n",
    "# 输入: [7,8,9,11,12]\n",
    "# 输出: 1\n",
    "# \n",
    "# \n",
    "# \n",
    "# \n",
    "# 提示：\n",
    "# \n",
    "# 你的算法的时间复杂度应为O(n)，并且只能使用常数级别的额外空间。\n",
    "# \n",
    "#\n",
    "\n",
    "# @lc code=start\n",
    "\n",
    "def firstMissingPositive(nums):\n",
    "\n",
    "    if not nums:\n",
    "        return 1  \n",
    "    size = len(nums)\n",
    "    for i in range(size):\n",
    "        while 1 <= nums[i] <= size and nums[i] != nums[nums[i] - 1]:\n",
    "            nums[nums[i]-1],nums[i] = nums[i], nums[nums[i]-1]\n",
    "    for i in range(size):\n",
    "        if nums[i] != i + 1:\n",
    "            return i + 1 \n",
    "    return size + 1"
   ]
  },
  {
   "cell_type": "code",
   "execution_count": 3,
   "metadata": {},
   "outputs": [
    {
     "output_type": "execute_result",
     "data": {
      "text/plain": [
       "1"
      ]
     },
     "metadata": {},
     "execution_count": 3
    }
   ],
   "source": [
    "firstMissingPositive([7,8,9,11,12])"
   ]
  },
  {
   "cell_type": "code",
   "execution_count": 32,
   "metadata": {},
   "outputs": [],
   "source": [
    "#\n",
    "# @lc app=leetcode.cn id=51 lang=python3\n",
    "#\n",
    "# [51] N 皇后\n",
    "#\n",
    "# https://leetcode-cn.com/problems/n-queens/description/\n",
    "#\n",
    "# algorithms\n",
    "# Hard (73.36%)\n",
    "# Likes:    676\n",
    "# Dislikes: 0\n",
    "# Total Accepted:    89.5K\n",
    "# Total Submissions: 122K\n",
    "# Testcase Example:  '4'\n",
    "#\n",
    "# n 皇后问题研究的是如何将 n 个皇后放置在 n×n 的棋盘上，并且使皇后彼此之间不能相互攻击。\n",
    "# \n",
    "# \n",
    "# \n",
    "# 上图为 8 皇后问题的一种解法。\n",
    "# \n",
    "# 给定一个整数 n，返回所有不同的 n 皇后问题的解决方案。\n",
    "# \n",
    "# 每一种解法包含一个明确的 n 皇后问题的棋子放置方案，该方案中 'Q' 和 '.' 分别代表了皇后和空位。\n",
    "# \n",
    "# \n",
    "# \n",
    "# 示例：\n",
    "# \n",
    "# 输入：4\n",
    "# 输出：[\n",
    "# ⁠[\".Q..\",  // 解法 1\n",
    "# ⁠ \"...Q\",\n",
    "# ⁠ \"Q...\",\n",
    "# ⁠ \"..Q.\"],\n",
    "# \n",
    "# ⁠[\"..Q.\",  // 解法 2\n",
    "# ⁠ \"Q...\",\n",
    "# ⁠ \"...Q\",\n",
    "# ⁠ \".Q..\"]\n",
    "# ]\n",
    "# 解释: 4 皇后问题存在两个不同的解法。\n",
    "# \n",
    "# \n",
    "# \n",
    "# \n",
    "# 提示：\n",
    "# \n",
    "# \n",
    "# 皇后彼此不能相互攻击，也就是说：任何两个皇后都不能处于同一条横行、纵行或斜线上。\n",
    "# \n",
    "# \n",
    "#\n",
    "def solveNQueens(n):\n",
    "\n",
    "    def isValid(row,col):\n",
    "\n",
    "        for i in range(row):\n",
    "            if board[i][col] == 'Q':\n",
    "                return False  \n",
    "        i,j = row-1,col-1 \n",
    "        while i >= 0 and j >= 0:\n",
    "            if board[i][j] == 'Q':\n",
    "                return False\n",
    "            i -= 1\n",
    "            j -= 1\n",
    "        i,j = row-1,col+1\n",
    "        while i >= 0 and j < n:\n",
    "            if board[i][j] == 'Q':\n",
    "                return False  \n",
    "            i -= 1\n",
    "            j += 1\n",
    "        return True\n",
    "\n",
    "    def dfs(row):\n",
    "        if row == n:\n",
    "            res.append([\"\".join(board[i]) for _ in range(row)])\n",
    "            return  \n",
    "\n",
    "        for col in range(n):\n",
    "            if not isValid(row,col):\n",
    "                continue \n",
    "            board[row][col] = 'Q'\n",
    "            dfs(row+1)\n",
    "            board[row][col] = '.'\n",
    "    res = []\n",
    "    board = [[\".\" for _ in range(n)] for _ in range(n)]\n",
    "    dfs(0)\n",
    "    return res"
   ]
  },
  {
   "cell_type": "code",
   "execution_count": 33,
   "metadata": {},
   "outputs": [
    {
     "output_type": "execute_result",
     "data": {
      "text/plain": [
       "[['.Q..', '.Q..', '.Q..', '.Q..'], ['..Q.', '..Q.', '..Q.', '..Q.']]"
      ]
     },
     "metadata": {},
     "execution_count": 33
    }
   ],
   "source": [
    "solveNQueens(4)"
   ]
  },
  {
   "cell_type": "code",
   "execution_count": null,
   "metadata": {},
   "outputs": [],
   "source": []
  }
 ]
}