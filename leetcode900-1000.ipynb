{
 "metadata": {
  "language_info": {
   "codemirror_mode": {
    "name": "ipython",
    "version": 3
   },
   "file_extension": ".py",
   "mimetype": "text/x-python",
   "name": "python",
   "nbconvert_exporter": "python",
   "pygments_lexer": "ipython3",
   "version": "3.7.7-final"
  },
  "orig_nbformat": 2,
  "kernelspec": {
   "name": "python3",
   "display_name": "Python 3"
  }
 },
 "nbformat": 4,
 "nbformat_minor": 2,
 "cells": [
  {
   "cell_type": "code",
   "execution_count": 13,
   "metadata": {},
   "outputs": [],
   "source": [
    "#\n",
    "# @lc app=leetcode.cn id=993 lang=python3\n",
    "#\n",
    "# [993] 二叉树的堂兄弟节点\n",
    "#\n",
    "# https://leetcode-cn.com/problems/cousins-in-binary-tree/description/\n",
    "#\n",
    "# algorithms\n",
    "# Easy (51.99%)\n",
    "# Likes:    108\n",
    "# Dislikes: 0\n",
    "# Total Accepted:    14.3K\n",
    "# Total Submissions: 27.6K\n",
    "# Testcase Example:  '[1,2,3,4]\\n4\\n3'\n",
    "#\n",
    "# 在二叉树中，根节点位于深度 0 处，每个深度为 k 的节点的子节点位于深度 k+1 处。\n",
    "# \n",
    "# 如果二叉树的两个节点深度相同，但父节点不同，则它们是一对堂兄弟节点。\n",
    "# \n",
    "# 我们给出了具有唯一值的二叉树的根节点 root，以及树中两个不同节点的值 x 和 y。\n",
    "# \n",
    "# 只有与值 x 和 y 对应的节点是堂兄弟节点时，才返回 true。否则，返回 false。\n",
    "# \n",
    "# \n",
    "# \n",
    "# 示例 1：\n",
    "# \n",
    "# \n",
    "# 输入：root = [1,2,3,4], x = 4, y = 3\n",
    "# 输出：false\n",
    "# \n",
    "# \n",
    "# 示例 2：\n",
    "# \n",
    "# \n",
    "# 输入：root = [1,2,3,null,4,null,5], x = 5, y = 4\n",
    "# 输出：true\n",
    "# \n",
    "# \n",
    "# 示例 3：\n",
    "# \n",
    "# \n",
    "# \n",
    "# 输入：root = [1,2,3,null,4], x = 2, y = 3\n",
    "# 输出：false\n",
    "# \n",
    "# \n",
    "# \n",
    "# 提示：\n",
    "# \n",
    "# \n",
    "# 二叉树的节点数介于 2 到 100 之间。\n",
    "# 每个节点的值都是唯一的、范围为 1 到 100 的整数。\n",
    "# \n",
    "# \n",
    "# \n",
    "# \n",
    "#\n",
    "\n",
    "# @lc code=start\n",
    "# Definition for a binary tree node.\n",
    "class TreeNode:\n",
    "    def __init__(self, val=0, left=None, right=None):\n",
    "        self.val = val\n",
    "        self.left = left\n",
    "        self.right = right\n",
    "\n",
    "def isCousins(root, x, y):\n",
    "    if not root:\n",
    "        return False\n",
    "\n",
    "    cur = [(root,-1)]\n",
    "\n",
    "    while cur:\n",
    "\n",
    "        temp = {}\n",
    "        next = []\n",
    "        for node in cur:\n",
    "            cur_node,parent = node\n",
    "            if cur_node.left:\n",
    "                next.append((cur_node.left,cur_node.val))\n",
    "            if cur_node.right:\n",
    "                next.append((cur_node.right,cur_node.val))\n",
    "            temp[cur_node.val] = parent \n",
    "        \n",
    "        if x in temp and y in temp and temp[x] != temp[y]:\n",
    "            return True \n",
    "\n",
    "        cur = next \n",
    "    return False \n",
    "                \n",
    "\n",
    "                "
   ]
  },
  {
   "cell_type": "code",
   "execution_count": 1,
   "metadata": {},
   "outputs": [],
   "source": [
    "def isCousins(root, x, y):\n",
    "    parent = {}\n",
    "    depth = {}\n",
    "\n",
    "    def dfs(node,par):\n",
    "        if node:\n",
    "            depth[node.val] = 1 + depth[node.par] if par else 0\n",
    "            parent[node.val] = par \n",
    "            dfs(node.left,node)\n",
    "            dfs(node.right,node)\n",
    "    dfs(root,None)\n",
    "    return depth[x] == depth[y] and parent[x] != parent[y]\n"
   ]
  },
  {
   "cell_type": "code",
   "execution_count": 14,
   "metadata": {},
   "outputs": [],
   "source": [
    "node1 = TreeNode(1)\n",
    "node2 = TreeNode(2)\n",
    "node3 = TreeNode(3)\n",
    "node4 = TreeNode(4)\n",
    "node5 = TreeNode(5)\n",
    "node1.left = node2 \n",
    "node1.right = node3 \n",
    "node2.right = node4 \n",
    "node3.right = node5 "
   ]
  },
  {
   "cell_type": "code",
   "execution_count": 15,
   "metadata": {},
   "outputs": [
    {
     "output_type": "execute_result",
     "data": {
      "text/plain": [
       "True"
      ]
     },
     "metadata": {},
     "execution_count": 15
    }
   ],
   "source": [
    "isCousins(node1,5,4)"
   ]
  }
 ]
}